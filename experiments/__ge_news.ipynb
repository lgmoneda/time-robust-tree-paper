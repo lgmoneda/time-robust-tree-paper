{
 "cells": [
  {
   "cell_type": "markdown",
   "metadata": {
    "toc": true
   },
   "source": [
    "<h1>Index<span class=\"tocSkip\"></span></h1>\n",
    "<div class=\"toc\"><ul class=\"toc-item\"><li><span><a href=\"#Optimization-params\" data-toc-modified-id=\"Optimization-params-1\"><span class=\"toc-item-num\">1&nbsp;&nbsp;</span>Optimization params</a></span></li><li><span><a href=\"#Benchmark\" data-toc-modified-id=\"Benchmark-2\"><span class=\"toc-item-num\">2&nbsp;&nbsp;</span>Benchmark</a></span></li><li><span><a href=\"#Time-Forest\" data-toc-modified-id=\"Time-Forest-3\"><span class=\"toc-item-num\">3&nbsp;&nbsp;</span>Time Forest</a></span></li><li><span><a href=\"#Simplified-benchmark\" data-toc-modified-id=\"Simplified-benchmark-4\"><span class=\"toc-item-num\">4&nbsp;&nbsp;</span>Simplified benchmark</a></span></li><li><span><a href=\"#Plots\" data-toc-modified-id=\"Plots-5\"><span class=\"toc-item-num\">5&nbsp;&nbsp;</span>Plots</a></span></li></ul></div>"
   ]
  },
  {
   "cell_type": "markdown",
   "metadata": {},
   "source": [
    "# GE News - Time Forest Vs Random Forest"
   ]
  },
  {
   "cell_type": "code",
   "execution_count": 1,
   "metadata": {
    "ExecuteTime": {
     "end_time": "2022-01-12T11:50:47.400081Z",
     "start_time": "2022-01-12T11:50:47.393542Z"
    }
   },
   "outputs": [
    {
     "name": "stderr",
     "output_type": "stream",
     "text": [
      "/home/jovyan/.conda/envs/msc-2/lib/python3.6/site-packages/sklearn/utils/deprecation.py:143: FutureWarning: The sklearn.feature_extraction.stop_words module is  deprecated in version 0.22 and will be removed in version 0.24. The corresponding classes / functions should instead be imported from sklearn.feature_extraction.text. Anything that cannot be imported from sklearn.feature_extraction.text is now part of the private API.\n",
      "  warnings.warn(message, FutureWarning)\n"
     ]
    }
   ],
   "source": [
    "import pandas as pd\n",
    "import numpy as np\n",
    "import math\n",
    "import matplotlib.pyplot as plt\n",
    "import pdb\n",
    "import warnings\n",
    "import seaborn as sns\n",
    "\n",
    "from sklearn import metrics\n",
    "from time import time\n",
    "from sklearn.ensemble import RandomForestClassifier\n",
    "from sklearn.preprocessing import MinMaxScaler\n",
    "from sklearn.model_selection import StratifiedKFold\n",
    "from sklearn.model_selection import train_test_split\n",
    "from sklearn.metrics import mean_squared_error, mean_absolute_error\n",
    "from sklearn.linear_model import LogisticRegression, LinearRegression\n",
    "from sklearn.metrics import roc_auc_score\n",
    "from sklearn.metrics import log_loss, f1_score, accuracy_score\n",
    "from sklearn.naive_bayes import MultinomialNB\n",
    "from sklearn.model_selection import train_test_split\n",
    "from sklearn import metrics\n",
    "from sklearn.feature_extraction import stop_words\n",
    "from sklearn.feature_extraction.text import TfidfVectorizer\n",
    "from time_robust_forest.models import TimeForestClassifier\n",
    "from time_robust_forest.functions import check_categoricals_match, check_numerical_match\n",
    "from time_robust_forest.hyper_opt import env_wise_hyper_opt\n",
    "from aux_functions import *\n",
    "\n",
    "warnings.filterwarnings('ignore')"
   ]
  },
  {
   "cell_type": "code",
   "execution_count": 2,
   "metadata": {
    "ExecuteTime": {
     "end_time": "2022-01-12T11:50:47.576732Z",
     "start_time": "2022-01-12T11:50:47.573529Z"
    }
   },
   "outputs": [],
   "source": [
    "def set_style():\n",
    "    plt.style.use(['seaborn-white', 'seaborn-paper'])\n",
    "    plt.rcParams['figure.figsize'] = (12, 4)"
   ]
  },
  {
   "cell_type": "code",
   "execution_count": 3,
   "metadata": {
    "ExecuteTime": {
     "end_time": "2022-01-12T11:50:47.777061Z",
     "start_time": "2022-01-12T11:50:47.773903Z"
    }
   },
   "outputs": [],
   "source": [
    "set_style()"
   ]
  },
  {
   "cell_type": "code",
   "execution_count": 129,
   "metadata": {},
   "outputs": [],
   "source": [
    "PREFIX = \"ge_news\""
   ]
  },
  {
   "cell_type": "code",
   "execution_count": 4,
   "metadata": {
    "ExecuteTime": {
     "end_time": "2022-01-12T11:50:47.988220Z",
     "start_time": "2022-01-12T11:50:47.977313Z"
    }
   },
   "outputs": [],
   "source": [
    "STOP_WORDS = ['de', 'a', 'o', 'que', 'e', 'do', 'da', 'em', 'um', 'para', 'é', 'com', 'não', 'uma', 'os', 'no', 'se', 'na', 'por', 'mais', 'as', 'dos', 'como', 'mas', 'foi', 'ao', 'ele', 'das', 'tem', 'à', 'seu', 'sua', 'ou', 'ser', 'quando', 'muito', 'há', 'nos', 'já', 'está', 'eu', 'também', 'só', 'pelo', 'pela', 'até', 'isso', 'ela', 'entre', 'era', 'depois', 'sem', 'mesmo', 'aos', 'ter', 'seus', 'quem', 'nas', 'me', 'esse', 'eles', 'estão', 'você', 'tinha', 'foram', 'essa', 'num', 'nem', 'suas', 'meu', 'às', 'minha', 'têm', 'numa', 'pelos', 'elas', 'havia', 'seja', 'qual', 'será', 'nós', 'tenho', 'lhe', 'deles', 'essas', 'esses', 'pelas', 'este', 'fosse', 'dele', 'tu', 'te', 'vocês', 'vos', 'lhes', 'meus', 'minhas', 'teu', 'tua', 'teus', 'tuas', 'nosso', 'nossa', 'nossos', 'nossas', 'dela', 'delas', 'esta', 'estes', 'estas', 'aquele', 'aquela', 'aqueles', 'aquelas', 'isto', 'aquilo', 'estou', 'está', 'estamos', 'estão', 'estive', 'esteve', 'estivemos', 'estiveram', 'estava', 'estávamos', 'estavam', 'estivera', 'estivéramos', 'esteja', 'estejamos', 'estejam', 'estivesse', 'estivéssemos', 'estivessem', 'estiver', 'estivermos', 'estiverem', 'hei', 'há', 'havemos', 'hão', 'houve', 'houvemos', 'houveram', 'houvera', 'houvéramos', 'haja', 'hajamos', 'hajam', 'houvesse', 'houvéssemos', 'houvessem', 'houver', 'houvermos', 'houverem', 'houverei', 'houverá', 'houveremos', 'houverão', 'houveria', 'houveríamos', 'houveriam', 'sou', 'somos', 'são', 'era', 'éramos', 'eram', 'fui', 'foi', 'fomos', 'foram', 'fora', 'fôramos', 'seja', 'sejamos', 'sejam', 'fosse', 'fôssemos', 'fossem', 'for', 'formos', 'forem', 'serei', 'será', 'seremos', 'serão', 'seria', 'seríamos', 'seriam', 'tenho', 'tem', 'temos', 'tém', 'tinha', 'tínhamos', 'tinham', 'tive', 'teve', 'tivemos', 'tiveram', 'tivera', 'tivéramos', 'tenha', 'tenhamos', 'tenham', 'tivesse', 'tivéssemos', 'tivessem', 'tiver', 'tivermos', 'tiverem', 'terei', 'terá', 'teremos', 'terão', 'teria', 'teríamos', 'teriam']\n",
    "CLUB_WORDS = [\"verdão\", \"tricolor\", \"fla\", \"timão\", \"rubro\", \n",
    "              \"negro\", \"flamengo\", \"paulo\", \"palmeirense\", \"paulista\", \n",
    "              \"inter\", \"colorado\", \"internacional\", \"colorados\", \"colorada\"]\n",
    "STOP_WORDS += CLUB_WORDS\n",
    "MAX_VOCABULARY = 300\n",
    "positive_case = \"flamengo\""
   ]
  },
  {
   "cell_type": "code",
   "execution_count": 5,
   "metadata": {
    "ExecuteTime": {
     "end_time": "2022-01-12T11:50:51.803347Z",
     "start_time": "2022-01-12T11:50:48.183078Z"
    }
   },
   "outputs": [],
   "source": [
    "data = pd.read_csv(\"~/Documents/datasets/ge_news/data/ge_news.csv\", index_col=False)"
   ]
  },
  {
   "cell_type": "code",
   "execution_count": 6,
   "metadata": {
    "ExecuteTime": {
     "end_time": "2022-01-12T11:50:51.810370Z",
     "start_time": "2022-01-12T11:50:51.805866Z"
    }
   },
   "outputs": [
    {
     "data": {
      "text/plain": [
       "(158507, 6)"
      ]
     },
     "execution_count": 6,
     "metadata": {},
     "output_type": "execute_result"
    }
   ],
   "source": [
    "data.shape"
   ]
  },
  {
   "cell_type": "code",
   "execution_count": 7,
   "metadata": {},
   "outputs": [],
   "source": [
    "data = data.sample(frac=0.5)"
   ]
  },
  {
   "cell_type": "code",
   "execution_count": 8,
   "metadata": {},
   "outputs": [
    {
     "data": {
      "text/html": [
       "<div>\n",
       "<style scoped>\n",
       "    .dataframe tbody tr th:only-of-type {\n",
       "        vertical-align: middle;\n",
       "    }\n",
       "\n",
       "    .dataframe tbody tr th {\n",
       "        vertical-align: top;\n",
       "    }\n",
       "\n",
       "    .dataframe thead th {\n",
       "        text-align: right;\n",
       "    }\n",
       "</style>\n",
       "<table border=\"1\" class=\"dataframe\">\n",
       "  <thead>\n",
       "    <tr style=\"text-align: right;\">\n",
       "      <th></th>\n",
       "      <th>date</th>\n",
       "      <th>time</th>\n",
       "      <th>title</th>\n",
       "      <th>text</th>\n",
       "      <th>link</th>\n",
       "      <th>club</th>\n",
       "    </tr>\n",
       "  </thead>\n",
       "  <tbody>\n",
       "    <tr>\n",
       "      <th>123752</th>\n",
       "      <td>14/05/2017</td>\n",
       "      <td>08h24</td>\n",
       "      <td>Santos recebe Taubaté e mira assumir liderança...</td>\n",
       "      <td>+ Fique por dentro do esporte no Vale do Para...</td>\n",
       "      <td>https://globoesporte.globo.com/sp/vale-do-para...</td>\n",
       "      <td>santos</td>\n",
       "    </tr>\n",
       "    <tr>\n",
       "      <th>28391</th>\n",
       "      <td>28/06/2021</td>\n",
       "      <td>13h58</td>\n",
       "      <td>Bragantino oficializa contratação em definitiv...</td>\n",
       "      <td>O Red Bull Bragantino oficializou na tarde de...</td>\n",
       "      <td>https://ge.globo.com/sp/vale-do-paraiba-regiao...</td>\n",
       "      <td>bragantino</td>\n",
       "    </tr>\n",
       "    <tr>\n",
       "      <th>132211</th>\n",
       "      <td>14/05/2020</td>\n",
       "      <td>06h00</td>\n",
       "      <td>Eleição de vitalícios, mudanças no estatuto e ...</td>\n",
       "      <td>A eleição para a presidência do São Paulo em ...</td>\n",
       "      <td>https://globoesporte.globo.com/futebol/times/s...</td>\n",
       "      <td>sao-paulo</td>\n",
       "    </tr>\n",
       "    <tr>\n",
       "      <th>142027</th>\n",
       "      <td>14/09/2020</td>\n",
       "      <td>17h40</td>\n",
       "      <td>Com histórico de problemas fora de campo, Juni...</td>\n",
       "      <td>Aos 21 anos, ele teve a rescisão de contrato ...</td>\n",
       "      <td>https://globoesporte.globo.com/pe/futebol/noti...</td>\n",
       "      <td>sport</td>\n",
       "    </tr>\n",
       "    <tr>\n",
       "      <th>74632</th>\n",
       "      <td>05/12/2018</td>\n",
       "      <td>14h52</td>\n",
       "      <td>CBF divulga ranking: Palmeiras lidera, e Cruze...</td>\n",
       "      <td>O ranking atribui pontos aos times dependendo...</td>\n",
       "      <td>https://globoesporte.globo.com/sp/futebol/noti...</td>\n",
       "      <td>fluminense</td>\n",
       "    </tr>\n",
       "  </tbody>\n",
       "</table>\n",
       "</div>"
      ],
      "text/plain": [
       "              date   time                                              title  \\\n",
       "123752  14/05/2017  08h24  Santos recebe Taubaté e mira assumir liderança...   \n",
       "28391   28/06/2021  13h58  Bragantino oficializa contratação em definitiv...   \n",
       "132211  14/05/2020  06h00  Eleição de vitalícios, mudanças no estatuto e ...   \n",
       "142027  14/09/2020  17h40  Com histórico de problemas fora de campo, Juni...   \n",
       "74632   05/12/2018  14h52  CBF divulga ranking: Palmeiras lidera, e Cruze...   \n",
       "\n",
       "                                                     text  \\\n",
       "123752   + Fique por dentro do esporte no Vale do Para...   \n",
       "28391    O Red Bull Bragantino oficializou na tarde de...   \n",
       "132211   A eleição para a presidência do São Paulo em ...   \n",
       "142027   Aos 21 anos, ele teve a rescisão de contrato ...   \n",
       "74632    O ranking atribui pontos aos times dependendo...   \n",
       "\n",
       "                                                     link        club  \n",
       "123752  https://globoesporte.globo.com/sp/vale-do-para...      santos  \n",
       "28391   https://ge.globo.com/sp/vale-do-paraiba-regiao...  bragantino  \n",
       "132211  https://globoesporte.globo.com/futebol/times/s...   sao-paulo  \n",
       "142027  https://globoesporte.globo.com/pe/futebol/noti...       sport  \n",
       "74632   https://globoesporte.globo.com/sp/futebol/noti...  fluminense  "
      ]
     },
     "execution_count": 8,
     "metadata": {},
     "output_type": "execute_result"
    }
   ],
   "source": [
    "data.tail()"
   ]
  },
  {
   "cell_type": "code",
   "execution_count": 9,
   "metadata": {},
   "outputs": [
    {
     "data": {
      "text/plain": [
       "date     0\n",
       "time     0\n",
       "title    0\n",
       "text     0\n",
       "link     0\n",
       "club     0\n",
       "dtype: int64"
      ]
     },
     "execution_count": 9,
     "metadata": {},
     "output_type": "execute_result"
    }
   ],
   "source": [
    "data.isna().sum()"
   ]
  },
  {
   "cell_type": "code",
   "execution_count": 10,
   "metadata": {
    "ExecuteTime": {
     "end_time": "2022-01-12T11:50:51.929116Z",
     "start_time": "2022-01-12T11:50:51.813172Z"
    }
   },
   "outputs": [],
   "source": [
    "#data = data.sample(frac=0.2)\n",
    "data.reset_index(drop=True, inplace=True)"
   ]
  },
  {
   "cell_type": "code",
   "execution_count": 11,
   "metadata": {
    "ExecuteTime": {
     "end_time": "2022-01-12T11:50:51.941104Z",
     "start_time": "2022-01-12T11:50:51.931839Z"
    }
   },
   "outputs": [],
   "source": [
    "def create_different_time_slices(data, time_col=\"date\", aggregation=\"weekly\", n_months=None):\n",
    "    if aggregation == \"daily\": return data[time_col].dt.date\n",
    "    if aggregation == \"weekly\": return data[time_col].dt.week\n",
    "    if aggregation == \"monthly\": return data[time_col].apply(lambda x: x.strftime(\"%Y-%m\"))\n",
    "    if aggregation == \"semester\": return False\n",
    "\n",
    "\n",
    "def exclude_periods_without_positive_case(data, positive_case, period_column, threshold=20):\n",
    "    df = data.groupby(period_column)[\"club\"].apply(lambda x: np.sum(x == positive_case))\n",
    "    df = df[df > threshold]\n",
    "    return data[data[period_column].isin(df.index)]\n",
    "    \n",
    "def clean_club_name_from_article(data):\n",
    "    data[\"text\"] = data.apply(lambda x: x[\"text\"].lower().replace(x[\"club\"].replace(\"-\", \" \"), \"\"), axis=1)\n",
    "    return data\n",
    "\n",
    "def exclude_numbers(data):\n",
    "    data[\"text\"] = data[\"text\"].apply(lambda x: ''.join([i for i in x.lower() if not i.isdigit()]))\n",
    "    return data\n",
    "\n",
    "def drop_multiple_teams_news(data):\n",
    "    multiple_team_news = data.groupby(\"link\", as_index=False)[\"club\"].count()\n",
    "    multiple_team_news = multiple_team_news[multiple_team_news[\"club\"] > 1][\"link\"]\n",
    "    return data[~data[\"link\"].isin(multiple_team_news)]\n"
   ]
  },
  {
   "cell_type": "code",
   "execution_count": 12,
   "metadata": {
    "ExecuteTime": {
     "end_time": "2022-01-12T11:50:58.008776Z",
     "start_time": "2022-01-12T11:50:51.943282Z"
    }
   },
   "outputs": [],
   "source": [
    "data = clean_club_name_from_article(data)\n",
    "data = exclude_numbers(data)\n",
    "data = drop_multiple_teams_news(data)"
   ]
  },
  {
   "cell_type": "code",
   "execution_count": 13,
   "metadata": {
    "ExecuteTime": {
     "end_time": "2022-01-12T11:50:58.117686Z",
     "start_time": "2022-01-12T11:50:58.010665Z"
    }
   },
   "outputs": [],
   "source": [
    "data.loc[:, \"year\"] = data[\"date\"].apply(lambda x: x.split(\"/\")[-1])\n",
    "data.loc[:, \"month\"] = data[\"date\"].apply(lambda x: x.split(\"/\")[1])\n",
    "data.loc[:, \"date\"] = pd.to_datetime(data[\"date\"])"
   ]
  },
  {
   "cell_type": "code",
   "execution_count": 14,
   "metadata": {
    "ExecuteTime": {
     "end_time": "2022-01-12T11:50:58.166159Z",
     "start_time": "2022-01-12T11:50:58.120146Z"
    }
   },
   "outputs": [],
   "source": [
    "### Monthly context\n",
    "data[\"year-month\"] = data[\"year\"] + \"-\" + data[\"month\"]\n",
    "\n",
    "### Weekly context\n",
    "data[\"year-week\"] = create_different_time_slices(data)\n",
    "data[\"year-week\"] = data[\"year\"] + \"-\" + data[\"year-week\"].astype(str)"
   ]
  },
  {
   "cell_type": "code",
   "execution_count": 15,
   "metadata": {
    "ExecuteTime": {
     "end_time": "2022-01-12T11:50:58.183140Z",
     "start_time": "2022-01-12T11:50:58.170151Z"
    }
   },
   "outputs": [
    {
     "name": "stdout",
     "output_type": "stream",
     "text": [
      "The fraction of positive cases is 0.09\n"
     ]
    }
   ],
   "source": [
    "data[\"target\"] = data[\"club\"].apply(lambda x: 1 if x == positive_case else 0)\n",
    "\n",
    "print(\"The fraction of positive cases is {:.2f}\".format(data[\"target\"].mean()))"
   ]
  },
  {
   "cell_type": "code",
   "execution_count": 16,
   "metadata": {
    "ExecuteTime": {
     "end_time": "2022-01-12T11:50:58.241704Z",
     "start_time": "2022-01-12T11:50:58.185834Z"
    }
   },
   "outputs": [],
   "source": [
    "data = exclude_periods_without_positive_case(data, positive_case, \"year-month\")"
   ]
  },
  {
   "cell_type": "code",
   "execution_count": 17,
   "metadata": {
    "ExecuteTime": {
     "end_time": "2022-01-12T11:50:58.247049Z",
     "start_time": "2022-01-12T11:50:58.243991Z"
    }
   },
   "outputs": [],
   "source": [
    "train_end_date = \"2019-01\"\n",
    "holdout_end_date = \"2021-12\"\n",
    "train_end_year = int(train_end_date.split(\"-\")[0])"
   ]
  },
  {
   "cell_type": "code",
   "execution_count": 18,
   "metadata": {
    "ExecuteTime": {
     "end_time": "2022-01-12T11:50:58.275873Z",
     "start_time": "2022-01-12T11:50:58.249006Z"
    }
   },
   "outputs": [],
   "source": [
    "in_time = data[data[\"year-month\"] < train_end_date]\n",
    "\n",
    "train, test = train_test_split(in_time, \n",
    "                               test_size=0.2, \n",
    "                               random_state=42)\n",
    "\n",
    "out_of_time = data[(data[\"year-month\"] >= train_end_date) & (data[\"year-month\"] <= holdout_end_date)]"
   ]
  },
  {
   "cell_type": "code",
   "execution_count": 19,
   "metadata": {
    "ExecuteTime": {
     "end_time": "2022-01-12T11:50:58.280809Z",
     "start_time": "2022-01-12T11:50:58.277818Z"
    }
   },
   "outputs": [],
   "source": [
    "target = \"target\"\n",
    "time_column = \"year-month\"\n",
    "time_column = \"year\"\n",
    "dummy_time_column = \"dummy_date\""
   ]
  },
  {
   "cell_type": "code",
   "execution_count": 20,
   "metadata": {
    "ExecuteTime": {
     "end_time": "2022-01-12T11:50:58.287749Z",
     "start_time": "2022-01-12T11:50:58.283470Z"
    }
   },
   "outputs": [
    {
     "name": "stdout",
     "output_type": "stream",
     "text": [
      "Dataset shapes:\n",
      "Train: (17523, 11)\n",
      "Test: (4381, 11)\n",
      "Out of time: (40754, 11)\n"
     ]
    }
   ],
   "source": [
    "print(\"Dataset shapes:\")\n",
    "print(\"Train: {}\".format(train.shape))\n",
    "print(\"Test: {}\".format(test.shape))\n",
    "print(\"Out of time: {}\".format(out_of_time.shape))"
   ]
  },
  {
   "cell_type": "code",
   "execution_count": 21,
   "metadata": {
    "ExecuteTime": {
     "end_time": "2022-01-12T11:51:03.078427Z",
     "start_time": "2022-01-12T11:50:58.290743Z"
    }
   },
   "outputs": [],
   "source": [
    "vectorizer = TfidfVectorizer(max_features=MAX_VOCABULARY,\n",
    "                             stop_words=STOP_WORDS,\n",
    "                             binary=False,\n",
    "                             use_idf=True,\n",
    "                             norm=False)\n",
    "\n",
    "train_vectors = pd.DataFrame(vectorizer.fit_transform(train[\"text\"]).toarray(), columns=vectorizer.vocabulary_)\n",
    "test_vectors = pd.DataFrame(vectorizer.transform(test[\"text\"]).toarray(), columns=vectorizer.vocabulary_)\n",
    "oot_vectors = pd.DataFrame(vectorizer.transform(out_of_time[\"text\"]).toarray(), columns=vectorizer.vocabulary_)"
   ]
  },
  {
   "cell_type": "code",
   "execution_count": 22,
   "metadata": {
    "ExecuteTime": {
     "end_time": "2022-01-12T11:51:03.082762Z",
     "start_time": "2022-01-12T11:51:03.080471Z"
    }
   },
   "outputs": [],
   "source": [
    "features = list(vectorizer.vocabulary_.keys())"
   ]
  },
  {
   "cell_type": "code",
   "execution_count": 23,
   "metadata": {
    "ExecuteTime": {
     "end_time": "2022-01-12T11:51:03.091767Z",
     "start_time": "2022-01-12T11:51:03.085263Z"
    }
   },
   "outputs": [],
   "source": [
    "train_vectors[time_column] = train[time_column].values\n",
    "test_vectors[time_column] = test[time_column].values\n",
    "oot_vectors[time_column] = out_of_time[time_column].values"
   ]
  },
  {
   "cell_type": "code",
   "execution_count": 24,
   "metadata": {
    "ExecuteTime": {
     "end_time": "2022-01-12T11:51:03.097313Z",
     "start_time": "2022-01-12T11:51:03.094168Z"
    }
   },
   "outputs": [],
   "source": [
    "train_vectors[dummy_time_column] = 1"
   ]
  },
  {
   "cell_type": "code",
   "execution_count": 25,
   "metadata": {},
   "outputs": [],
   "source": [
    "train_vectors.reset_index(drop=True, inplace=True)\n",
    "test_vectors.reset_index(drop=True, inplace=True)\n",
    "oot_vectors.reset_index(drop=True, inplace=True)"
   ]
  },
  {
   "cell_type": "code",
   "execution_count": 63,
   "metadata": {
    "ExecuteTime": {
     "end_time": "2022-01-12T11:51:03.102546Z",
     "start_time": "2022-01-12T11:51:03.099692Z"
    }
   },
   "outputs": [],
   "source": [
    "model = RandomForestClassifier(max_depth=15, n_estimators=120)"
   ]
  },
  {
   "cell_type": "code",
   "execution_count": 64,
   "metadata": {
    "ExecuteTime": {
     "end_time": "2022-01-12T11:51:03.340453Z",
     "start_time": "2022-01-12T11:51:03.104936Z"
    }
   },
   "outputs": [
    {
     "data": {
      "text/plain": [
       "RandomForestClassifier(max_depth=15, n_estimators=120)"
      ]
     },
     "execution_count": 64,
     "metadata": {},
     "output_type": "execute_result"
    }
   ],
   "source": [
    "model.fit(train_vectors.drop(columns=[time_column, dummy_time_column]), train[\"target\"].values)"
   ]
  },
  {
   "cell_type": "code",
   "execution_count": 65,
   "metadata": {
    "ExecuteTime": {
     "end_time": "2022-01-12T11:51:03.379121Z",
     "start_time": "2022-01-12T11:51:03.342157Z"
    }
   },
   "outputs": [
    {
     "data": {
      "text/plain": [
       "0.9792794131962441"
      ]
     },
     "execution_count": 65,
     "metadata": {},
     "output_type": "execute_result"
    }
   ],
   "source": [
    "train[\"prediction\"] = model.predict_proba(train_vectors.drop(columns=[time_column, dummy_time_column]))[:, 1]\n",
    "roc_auc_score(train[target], train[\"prediction\"])"
   ]
  },
  {
   "cell_type": "code",
   "execution_count": 66,
   "metadata": {
    "ExecuteTime": {
     "end_time": "2022-01-12T11:51:03.403687Z",
     "start_time": "2022-01-12T11:51:03.381158Z"
    }
   },
   "outputs": [
    {
     "data": {
      "text/plain": [
       "0.875512286904079"
      ]
     },
     "execution_count": 66,
     "metadata": {},
     "output_type": "execute_result"
    }
   ],
   "source": [
    "test[\"prediction\"] = model.predict_proba(test_vectors.drop(columns=[time_column]))[:, 1]\n",
    "roc_auc_score(test[target], test[\"prediction\"])"
   ]
  },
  {
   "cell_type": "code",
   "execution_count": 67,
   "metadata": {
    "ExecuteTime": {
     "end_time": "2022-01-12T11:51:03.514734Z",
     "start_time": "2022-01-12T11:51:03.405617Z"
    }
   },
   "outputs": [
    {
     "data": {
      "text/plain": [
       "0.7914893549302473"
      ]
     },
     "execution_count": 67,
     "metadata": {},
     "output_type": "execute_result"
    }
   ],
   "source": [
    "out_of_time[\"prediction\"] = model.predict_proba(oot_vectors.drop(columns=[time_column]))[:, 1]\n",
    "roc_auc_score(out_of_time[target], out_of_time[\"prediction\"])"
   ]
  },
  {
   "cell_type": "markdown",
   "metadata": {},
   "source": [
    "## Optimization params"
   ]
  },
  {
   "cell_type": "code",
   "execution_count": 31,
   "metadata": {
    "ExecuteTime": {
     "end_time": "2022-01-12T12:16:37.972020Z",
     "start_time": "2022-01-12T12:16:37.966830Z"
    }
   },
   "outputs": [
    {
     "data": {
      "text/plain": [
       "['max', 'avg']"
      ]
     },
     "execution_count": 31,
     "metadata": {},
     "output_type": "execute_result"
    }
   ],
   "source": [
    "# params_grid = {\"n_estimators\": [30], \n",
    "#               \"max_depth\": [5, 10, 15],\n",
    "#               \"min_impurity_decrease\": [1e-3, 0],\n",
    "#               \"min_sample_periods\": [1, 5, 10],\n",
    "#               \"period_criterion\": [\"max\", \"avg\"]}\n",
    "\n",
    "params_grid = {\"n_estimators\": [120], \n",
    "              \"max_depth\": [10, 15],\n",
    "              \"min_impurity_decrease\": [0, 0.0001],\n",
    "              \"min_sample_periods\": [1, 5, 10],\n",
    "              \"period_criterion\": [\"max\", \"avg\"]}\n",
    "\n",
    "params_grid_benchmark = params_grid.copy()\n",
    "params_grid_benchmark.pop(\"period_criterion\")"
   ]
  },
  {
   "cell_type": "markdown",
   "metadata": {},
   "source": [
    "## Benchmark"
   ]
  },
  {
   "cell_type": "code",
   "execution_count": null,
   "metadata": {
    "ExecuteTime": {
     "end_time": "2022-01-12T12:26:10.592459Z",
     "start_time": "2022-01-12T12:16:38.911197Z"
    }
   },
   "outputs": [],
   "source": [
    "model = TimeForestClassifier(time_column=dummy_time_column,\n",
    "                                        multi=True)\n",
    "\n",
    "benchmark_opt_param = env_wise_hyper_opt(train_vectors[features + [dummy_time_column]], \n",
    "                                         train[target].values, \n",
    "                                         model, \n",
    "                                         dummy_time_column, \n",
    "                                         params_grid_benchmark, \n",
    "                                         cv=5,\n",
    "                                         scorer=make_scorer(roc_auc_score,\n",
    "                                                  needs_proba=True))\n",
    "\n",
    "benchmark_model = TimeForestClassifier(time_column=dummy_time_column,\n",
    "                                       multi=True, \n",
    "                                       **benchmark_opt_param)\n",
    "\n",
    "benchmark_model.fit(train_vectors[features + [dummy_time_column]], train[target])"
   ]
  },
  {
   "cell_type": "code",
   "execution_count": 39,
   "metadata": {
    "ExecuteTime": {
     "end_time": "2022-01-12T12:26:10.600093Z",
     "start_time": "2022-01-12T12:26:10.595645Z"
    }
   },
   "outputs": [
    {
     "data": {
      "text/plain": [
       "{'max_depth': 15,\n",
       " 'min_impurity_decrease': 0.0001,\n",
       " 'min_sample_periods': 10,\n",
       " 'n_estimators': 120}"
      ]
     },
     "execution_count": 39,
     "metadata": {},
     "output_type": "execute_result"
    }
   ],
   "source": [
    "benchmark_opt_param"
   ]
  },
  {
   "cell_type": "code",
   "execution_count": 104,
   "metadata": {
    "ExecuteTime": {
     "end_time": "2022-01-12T12:26:10.661014Z",
     "start_time": "2022-01-12T12:26:10.603899Z"
    }
   },
   "outputs": [
    {
     "data": {
      "text/html": [
       "<div>\n",
       "<style scoped>\n",
       "    .dataframe tbody tr th:only-of-type {\n",
       "        vertical-align: middle;\n",
       "    }\n",
       "\n",
       "    .dataframe tbody tr th {\n",
       "        vertical-align: top;\n",
       "    }\n",
       "\n",
       "    .dataframe thead th {\n",
       "        text-align: right;\n",
       "    }\n",
       "</style>\n",
       "<table border=\"1\" class=\"dataframe\">\n",
       "  <thead>\n",
       "    <tr style=\"text-align: right;\">\n",
       "      <th></th>\n",
       "      <th>Random Forest</th>\n",
       "    </tr>\n",
       "    <tr>\n",
       "      <th>Feature</th>\n",
       "      <th></th>\n",
       "    </tr>\n",
       "  </thead>\n",
       "  <tbody>\n",
       "    <tr>\n",
       "      <th>passou</th>\n",
       "      <td>0.624549</td>\n",
       "    </tr>\n",
       "    <tr>\n",
       "      <th>outro</th>\n",
       "      <td>0.527765</td>\n",
       "    </tr>\n",
       "    <tr>\n",
       "      <th>atleta</th>\n",
       "      <td>0.314020</td>\n",
       "    </tr>\n",
       "    <tr>\n",
       "      <th>elenco</th>\n",
       "      <td>0.304335</td>\n",
       "    </tr>\n",
       "    <tr>\n",
       "      <th>bastante</th>\n",
       "      <td>0.291996</td>\n",
       "    </tr>\n",
       "    <tr>\n",
       "      <th>santos</th>\n",
       "      <td>0.223510</td>\n",
       "    </tr>\n",
       "    <tr>\n",
       "      <th>futebol</th>\n",
       "      <td>0.177096</td>\n",
       "    </tr>\n",
       "    <tr>\n",
       "      <th>ficar</th>\n",
       "      <td>0.126689</td>\n",
       "    </tr>\n",
       "    <tr>\n",
       "      <th>feira</th>\n",
       "      <td>0.120198</td>\n",
       "    </tr>\n",
       "    <tr>\n",
       "      <th>botafogo</th>\n",
       "      <td>0.120128</td>\n",
       "    </tr>\n",
       "    <tr>\n",
       "      <th>anos</th>\n",
       "      <td>0.114192</td>\n",
       "    </tr>\n",
       "    <tr>\n",
       "      <th>libertadores</th>\n",
       "      <td>0.112960</td>\n",
       "    </tr>\n",
       "    <tr>\n",
       "      <th>competição</th>\n",
       "      <td>0.103792</td>\n",
       "    </tr>\n",
       "    <tr>\n",
       "      <th>afirmou</th>\n",
       "      <td>0.083809</td>\n",
       "    </tr>\n",
       "    <tr>\n",
       "      <th>mg</th>\n",
       "      <td>0.053434</td>\n",
       "    </tr>\n",
       "    <tr>\n",
       "      <th>precisa</th>\n",
       "      <td>0.050987</td>\n",
       "    </tr>\n",
       "    <tr>\n",
       "      <th>infelizmente</th>\n",
       "      <td>0.049578</td>\n",
       "    </tr>\n",
       "    <tr>\n",
       "      <th>disse</th>\n",
       "      <td>0.047650</td>\n",
       "    </tr>\n",
       "    <tr>\n",
       "      <th>globoesporte</th>\n",
       "      <td>0.046351</td>\n",
       "    </tr>\n",
       "    <tr>\n",
       "      <th>vai</th>\n",
       "      <td>0.045198</td>\n",
       "    </tr>\n",
       "  </tbody>\n",
       "</table>\n",
       "</div>"
      ],
      "text/plain": [
       "              Random Forest\n",
       "Feature                    \n",
       "passou             0.624549\n",
       "outro              0.527765\n",
       "atleta             0.314020\n",
       "elenco             0.304335\n",
       "bastante           0.291996\n",
       "santos             0.223510\n",
       "futebol            0.177096\n",
       "ficar              0.126689\n",
       "feira              0.120198\n",
       "botafogo           0.120128\n",
       "anos               0.114192\n",
       "libertadores       0.112960\n",
       "competição         0.103792\n",
       "afirmou            0.083809\n",
       "mg                 0.053434\n",
       "precisa            0.050987\n",
       "infelizmente       0.049578\n",
       "disse              0.047650\n",
       "globoesporte       0.046351\n",
       "vai                0.045198"
      ]
     },
     "execution_count": 104,
     "metadata": {},
     "output_type": "execute_result"
    }
   ],
   "source": [
    "importance = benchmark_model.feature_importance(impurity_decrease=True)\n",
    "importance.rename(columns={\"Importance\": \"Random Forest\"}, inplace=True)\n",
    "importance.head(20)"
   ]
  },
  {
   "cell_type": "code",
   "execution_count": null,
   "metadata": {
    "ExecuteTime": {
     "end_time": "2022-01-12T12:26:18.605779Z",
     "start_time": "2022-01-12T12:26:10.666463Z"
    }
   },
   "outputs": [],
   "source": [
    "train[\"benchmark_prediction\"] = benchmark_model.predict_proba(train_vectors[features])[:, 1]\n",
    "test[\"benchmark_prediction\"] = benchmark_model.predict_proba(test_vectors[features])[:, 1]\n",
    "out_of_time[\"benchmark_prediction\"] = benchmark_model.predict_proba(oot_vectors[features])[:, 1]"
   ]
  },
  {
   "cell_type": "code",
   "execution_count": 41,
   "metadata": {},
   "outputs": [
    {
     "name": "stdout",
     "output_type": "stream",
     "text": [
      "0.9271456542760106\n",
      "0.8793298952066655\n",
      "0.805530723450598\n"
     ]
    }
   ],
   "source": [
    "print(roc_auc_score(train[target], train[\"benchmark_prediction\"]))\n",
    "print(roc_auc_score(test[target], test[\"benchmark_prediction\"]))\n",
    "print(roc_auc_score(out_of_time[target], out_of_time[\"benchmark_prediction\"]))"
   ]
  },
  {
   "cell_type": "markdown",
   "metadata": {},
   "source": [
    "## Time Forest"
   ]
  },
  {
   "cell_type": "code",
   "execution_count": null,
   "metadata": {
    "ExecuteTime": {
     "end_time": "2022-01-12T13:15:33.334674Z",
     "start_time": "2022-01-12T12:26:18.608142Z"
    }
   },
   "outputs": [],
   "source": [
    "model = TimeForestClassifier(time_column=time_column,\n",
    "                                        multi=True)\n",
    "\n",
    "challenger_opt_param = env_wise_hyper_opt(train_vectors[features + [time_column]], \n",
    "                                         train[target].values, \n",
    "                                         model, \n",
    "                                         time_column, \n",
    "                                         params_grid, \n",
    "                                         cv=5,\n",
    "                                         scorer=make_scorer(roc_auc_score,\n",
    "                                                  needs_proba=True))\n",
    "\n",
    "challenger_model = TimeForestClassifier(time_column=time_column,\n",
    "                                       multi=True, \n",
    "                                       **challenger_opt_param)\n",
    "\n",
    "challenger_model.fit(train_vectors[features + [time_column]], train[target])"
   ]
  },
  {
   "cell_type": "code",
   "execution_count": 91,
   "metadata": {
    "ExecuteTime": {
     "end_time": "2022-01-12T13:15:33.345547Z",
     "start_time": "2022-01-12T13:15:33.337739Z"
    }
   },
   "outputs": [
    {
     "data": {
      "text/plain": [
       "{'max_depth': 10,\n",
       " 'min_impurity_decrease': 0.0001,\n",
       " 'min_sample_periods': 1,\n",
       " 'n_estimators': 120,\n",
       " 'period_criterion': 'max'}"
      ]
     },
     "execution_count": 91,
     "metadata": {},
     "output_type": "execute_result"
    }
   ],
   "source": [
    "challenger_opt_param"
   ]
  },
  {
   "cell_type": "code",
   "execution_count": 102,
   "metadata": {
    "ExecuteTime": {
     "end_time": "2022-01-12T13:15:33.382365Z",
     "start_time": "2022-01-12T13:15:33.350132Z"
    }
   },
   "outputs": [
    {
     "data": {
      "text/html": [
       "<div>\n",
       "<style scoped>\n",
       "    .dataframe tbody tr th:only-of-type {\n",
       "        vertical-align: middle;\n",
       "    }\n",
       "\n",
       "    .dataframe tbody tr th {\n",
       "        vertical-align: top;\n",
       "    }\n",
       "\n",
       "    .dataframe thead th {\n",
       "        text-align: right;\n",
       "    }\n",
       "</style>\n",
       "<table border=\"1\" class=\"dataframe\">\n",
       "  <thead>\n",
       "    <tr style=\"text-align: right;\">\n",
       "      <th></th>\n",
       "      <th>Importance</th>\n",
       "    </tr>\n",
       "    <tr>\n",
       "      <th>Feature</th>\n",
       "      <th></th>\n",
       "    </tr>\n",
       "  </thead>\n",
       "  <tbody>\n",
       "    <tr>\n",
       "      <th>passou</th>\n",
       "      <td>0.268158</td>\n",
       "    </tr>\n",
       "    <tr>\n",
       "      <th>elenco</th>\n",
       "      <td>0.106211</td>\n",
       "    </tr>\n",
       "    <tr>\n",
       "      <th>atleta</th>\n",
       "      <td>0.075270</td>\n",
       "    </tr>\n",
       "    <tr>\n",
       "      <th>bastante</th>\n",
       "      <td>0.060752</td>\n",
       "    </tr>\n",
       "    <tr>\n",
       "      <th>ficar</th>\n",
       "      <td>0.039413</td>\n",
       "    </tr>\n",
       "    <tr>\n",
       "      <th>competição</th>\n",
       "      <td>0.028519</td>\n",
       "    </tr>\n",
       "    <tr>\n",
       "      <th>afirmou</th>\n",
       "      <td>0.025432</td>\n",
       "    </tr>\n",
       "    <tr>\n",
       "      <th>anos</th>\n",
       "      <td>0.016717</td>\n",
       "    </tr>\n",
       "    <tr>\n",
       "      <th>libertadores</th>\n",
       "      <td>0.016335</td>\n",
       "    </tr>\n",
       "    <tr>\n",
       "      <th>vai</th>\n",
       "      <td>0.015617</td>\n",
       "    </tr>\n",
       "    <tr>\n",
       "      <th>botafogo</th>\n",
       "      <td>0.013463</td>\n",
       "    </tr>\n",
       "    <tr>\n",
       "      <th>área</th>\n",
       "      <td>0.010494</td>\n",
       "    </tr>\n",
       "    <tr>\n",
       "      <th>disse</th>\n",
       "      <td>0.009243</td>\n",
       "    </tr>\n",
       "    <tr>\n",
       "      <th>globoesporte</th>\n",
       "      <td>0.008499</td>\n",
       "    </tr>\n",
       "    <tr>\n",
       "      <th>enquanto</th>\n",
       "      <td>0.008213</td>\n",
       "    </tr>\n",
       "    <tr>\n",
       "      <th>frente</th>\n",
       "      <td>0.007897</td>\n",
       "    </tr>\n",
       "    <tr>\n",
       "      <th>outro</th>\n",
       "      <td>0.007590</td>\n",
       "    </tr>\n",
       "    <tr>\n",
       "      <th>brasileiro</th>\n",
       "      <td>0.007137</td>\n",
       "    </tr>\n",
       "    <tr>\n",
       "      <th>vice</th>\n",
       "      <td>0.006130</td>\n",
       "    </tr>\n",
       "    <tr>\n",
       "      <th>marcou</th>\n",
       "      <td>0.005951</td>\n",
       "    </tr>\n",
       "  </tbody>\n",
       "</table>\n",
       "</div>"
      ],
      "text/plain": [
       "              Importance\n",
       "Feature                 \n",
       "passou          0.268158\n",
       "elenco          0.106211\n",
       "atleta          0.075270\n",
       "bastante        0.060752\n",
       "ficar           0.039413\n",
       "competição      0.028519\n",
       "afirmou         0.025432\n",
       "anos            0.016717\n",
       "libertadores    0.016335\n",
       "vai             0.015617\n",
       "botafogo        0.013463\n",
       "área            0.010494\n",
       "disse           0.009243\n",
       "globoesporte    0.008499\n",
       "enquanto        0.008213\n",
       "frente          0.007897\n",
       "outro           0.007590\n",
       "brasileiro      0.007137\n",
       "vice            0.006130\n",
       "marcou          0.005951"
      ]
     },
     "execution_count": 102,
     "metadata": {},
     "output_type": "execute_result"
    }
   ],
   "source": [
    "challenger_model.feature_importance(impurity_decrease=True).head(20)"
   ]
  },
  {
   "cell_type": "code",
   "execution_count": 121,
   "metadata": {
    "ExecuteTime": {
     "end_time": "2022-01-12T13:15:33.417044Z",
     "start_time": "2022-01-12T13:15:33.386557Z"
    }
   },
   "outputs": [
    {
     "data": {
      "text/html": [
       "<div>\n",
       "<style scoped>\n",
       "    .dataframe tbody tr th:only-of-type {\n",
       "        vertical-align: middle;\n",
       "    }\n",
       "\n",
       "    .dataframe tbody tr th {\n",
       "        vertical-align: top;\n",
       "    }\n",
       "\n",
       "    .dataframe thead th {\n",
       "        text-align: right;\n",
       "    }\n",
       "</style>\n",
       "<table border=\"1\" class=\"dataframe\">\n",
       "  <thead>\n",
       "    <tr style=\"text-align: right;\">\n",
       "      <th></th>\n",
       "      <th>Random Forest</th>\n",
       "      <th>Time Robust Forest</th>\n",
       "    </tr>\n",
       "    <tr>\n",
       "      <th>Feature</th>\n",
       "      <th></th>\n",
       "      <th></th>\n",
       "    </tr>\n",
       "  </thead>\n",
       "  <tbody>\n",
       "    <tr>\n",
       "      <th>passou</th>\n",
       "      <td>0.624549</td>\n",
       "      <td>0.268158</td>\n",
       "    </tr>\n",
       "    <tr>\n",
       "      <th>outro</th>\n",
       "      <td>0.527765</td>\n",
       "      <td>0.007590</td>\n",
       "    </tr>\n",
       "    <tr>\n",
       "      <th>atleta</th>\n",
       "      <td>0.314020</td>\n",
       "      <td>0.075270</td>\n",
       "    </tr>\n",
       "    <tr>\n",
       "      <th>elenco</th>\n",
       "      <td>0.304335</td>\n",
       "      <td>0.106211</td>\n",
       "    </tr>\n",
       "    <tr>\n",
       "      <th>bastante</th>\n",
       "      <td>0.291996</td>\n",
       "      <td>0.060752</td>\n",
       "    </tr>\n",
       "    <tr>\n",
       "      <th>santos</th>\n",
       "      <td>0.223510</td>\n",
       "      <td>0.002033</td>\n",
       "    </tr>\n",
       "    <tr>\n",
       "      <th>futebol</th>\n",
       "      <td>0.177096</td>\n",
       "      <td>0.002953</td>\n",
       "    </tr>\n",
       "    <tr>\n",
       "      <th>ficar</th>\n",
       "      <td>0.126689</td>\n",
       "      <td>0.039413</td>\n",
       "    </tr>\n",
       "    <tr>\n",
       "      <th>feira</th>\n",
       "      <td>0.120198</td>\n",
       "      <td>0.003841</td>\n",
       "    </tr>\n",
       "    <tr>\n",
       "      <th>botafogo</th>\n",
       "      <td>0.120128</td>\n",
       "      <td>0.013463</td>\n",
       "    </tr>\n",
       "    <tr>\n",
       "      <th>anos</th>\n",
       "      <td>0.114192</td>\n",
       "      <td>0.016717</td>\n",
       "    </tr>\n",
       "    <tr>\n",
       "      <th>libertadores</th>\n",
       "      <td>0.112960</td>\n",
       "      <td>0.016335</td>\n",
       "    </tr>\n",
       "    <tr>\n",
       "      <th>competição</th>\n",
       "      <td>0.103792</td>\n",
       "      <td>0.028519</td>\n",
       "    </tr>\n",
       "    <tr>\n",
       "      <th>afirmou</th>\n",
       "      <td>0.083809</td>\n",
       "      <td>0.025432</td>\n",
       "    </tr>\n",
       "    <tr>\n",
       "      <th>mg</th>\n",
       "      <td>0.053434</td>\n",
       "      <td>0.003678</td>\n",
       "    </tr>\n",
       "    <tr>\n",
       "      <th>precisa</th>\n",
       "      <td>0.050987</td>\n",
       "      <td>0.003997</td>\n",
       "    </tr>\n",
       "    <tr>\n",
       "      <th>infelizmente</th>\n",
       "      <td>0.049578</td>\n",
       "      <td>0.003125</td>\n",
       "    </tr>\n",
       "    <tr>\n",
       "      <th>disse</th>\n",
       "      <td>0.047650</td>\n",
       "      <td>0.009243</td>\n",
       "    </tr>\n",
       "    <tr>\n",
       "      <th>globoesporte</th>\n",
       "      <td>0.046351</td>\n",
       "      <td>0.008499</td>\n",
       "    </tr>\n",
       "    <tr>\n",
       "      <th>vai</th>\n",
       "      <td>0.045198</td>\n",
       "      <td>0.015617</td>\n",
       "    </tr>\n",
       "    <tr>\n",
       "      <th>marcou</th>\n",
       "      <td>0.038115</td>\n",
       "      <td>0.005951</td>\n",
       "    </tr>\n",
       "    <tr>\n",
       "      <th>sete</th>\n",
       "      <td>0.035426</td>\n",
       "      <td>0.003088</td>\n",
       "    </tr>\n",
       "    <tr>\n",
       "      <th>frente</th>\n",
       "      <td>0.034084</td>\n",
       "      <td>0.007897</td>\n",
       "    </tr>\n",
       "    <tr>\n",
       "      <th>fluminense</th>\n",
       "      <td>0.031271</td>\n",
       "      <td>0.005149</td>\n",
       "    </tr>\n",
       "    <tr>\n",
       "      <th>torcedor</th>\n",
       "      <td>0.031011</td>\n",
       "      <td>0.002865</td>\n",
       "    </tr>\n",
       "    <tr>\n",
       "      <th>área</th>\n",
       "      <td>0.030494</td>\n",
       "      <td>0.010494</td>\n",
       "    </tr>\n",
       "    <tr>\n",
       "      <th>copa</th>\n",
       "      <td>0.030104</td>\n",
       "      <td>0.003721</td>\n",
       "    </tr>\n",
       "    <tr>\n",
       "      <th>conta</th>\n",
       "      <td>0.029943</td>\n",
       "      <td>0.005423</td>\n",
       "    </tr>\n",
       "    <tr>\n",
       "      <th>carioca</th>\n",
       "      <td>0.029476</td>\n",
       "      <td>0.005300</td>\n",
       "    </tr>\n",
       "    <tr>\n",
       "      <th>chance</th>\n",
       "      <td>0.026704</td>\n",
       "      <td>0.003223</td>\n",
       "    </tr>\n",
       "  </tbody>\n",
       "</table>\n",
       "</div>"
      ],
      "text/plain": [
       "              Random Forest  Time Robust Forest\n",
       "Feature                                        \n",
       "passou             0.624549            0.268158\n",
       "outro              0.527765            0.007590\n",
       "atleta             0.314020            0.075270\n",
       "elenco             0.304335            0.106211\n",
       "bastante           0.291996            0.060752\n",
       "santos             0.223510            0.002033\n",
       "futebol            0.177096            0.002953\n",
       "ficar              0.126689            0.039413\n",
       "feira              0.120198            0.003841\n",
       "botafogo           0.120128            0.013463\n",
       "anos               0.114192            0.016717\n",
       "libertadores       0.112960            0.016335\n",
       "competição         0.103792            0.028519\n",
       "afirmou            0.083809            0.025432\n",
       "mg                 0.053434            0.003678\n",
       "precisa            0.050987            0.003997\n",
       "infelizmente       0.049578            0.003125\n",
       "disse              0.047650            0.009243\n",
       "globoesporte       0.046351            0.008499\n",
       "vai                0.045198            0.015617\n",
       "marcou             0.038115            0.005951\n",
       "sete               0.035426            0.003088\n",
       "frente             0.034084            0.007897\n",
       "fluminense         0.031271            0.005149\n",
       "torcedor           0.031011            0.002865\n",
       "área               0.030494            0.010494\n",
       "copa               0.030104            0.003721\n",
       "conta              0.029943            0.005423\n",
       "carioca            0.029476            0.005300\n",
       "chance             0.026704            0.003223"
      ]
     },
     "execution_count": 121,
     "metadata": {},
     "output_type": "execute_result"
    }
   ],
   "source": [
    "challenger_importances = challenger_model.feature_importance(impurity_decrease=True).rename(columns={\"Importance\": \"Time Robust Forest\"})\n",
    "all_importances = importance.merge(challenger_importances, left_index=True, right_index=True)\n",
    "\n",
    "all_importances.head(30)"
   ]
  },
  {
   "cell_type": "code",
   "execution_count": 112,
   "metadata": {
    "ExecuteTime": {
     "end_time": "2022-01-12T13:15:33.837352Z",
     "start_time": "2022-01-12T13:15:33.419694Z"
    }
   },
   "outputs": [
    {
     "data": {
      "image/png": "[encoded data removed]",
      "text/plain": [
       "<Figure size 576x396 with 1 Axes>"
      ]
     },
     "metadata": {},
     "output_type": "display_data"
    },
    {
     "data": {
      "image/png": "[encoded data removed]",
      "text/plain": [
       "<Figure size 576x396 with 1 Axes>"
      ]
     },
     "metadata": {},
     "output_type": "display_data"
    }
   ],
   "source": [
    "bins = np.linspace(0, 0.65)\n",
    "plt.hist(challenger_model.feature_importance(impurity_decrease=True)[\"Importance\"], bins=bins)\n",
    "plt.xlim([-0.001, 0.70])\n",
    "plt.show()\n",
    "plt.hist(benchmark_model.feature_importance(impurity_decrease=True)[\"Importance\"], bins=bins)\n",
    "plt.xlim([-0.001, 0.70])\n",
    "plt.show()"
   ]
  },
  {
   "cell_type": "code",
   "execution_count": 122,
   "metadata": {},
   "outputs": [
    {
     "data": {
      "text/html": [
       "<div>\n",
       "<style scoped>\n",
       "    .dataframe tbody tr th:only-of-type {\n",
       "        vertical-align: middle;\n",
       "    }\n",
       "\n",
       "    .dataframe tbody tr th {\n",
       "        vertical-align: top;\n",
       "    }\n",
       "\n",
       "    .dataframe thead th {\n",
       "        text-align: right;\n",
       "    }\n",
       "</style>\n",
       "<table border=\"1\" class=\"dataframe\">\n",
       "  <thead>\n",
       "    <tr style=\"text-align: right;\">\n",
       "      <th></th>\n",
       "      <th>Random Forest</th>\n",
       "      <th>Time Robust Forest</th>\n",
       "    </tr>\n",
       "  </thead>\n",
       "  <tbody>\n",
       "    <tr>\n",
       "      <th>Random Forest</th>\n",
       "      <td>1.000000</td>\n",
       "      <td>0.791173</td>\n",
       "    </tr>\n",
       "    <tr>\n",
       "      <th>Time Robust Forest</th>\n",
       "      <td>0.791173</td>\n",
       "      <td>1.000000</td>\n",
       "    </tr>\n",
       "  </tbody>\n",
       "</table>\n",
       "</div>"
      ],
      "text/plain": [
       "                    Random Forest  Time Robust Forest\n",
       "Random Forest            1.000000            0.791173\n",
       "Time Robust Forest       0.791173            1.000000"
      ]
     },
     "execution_count": 122,
     "metadata": {},
     "output_type": "execute_result"
    }
   ],
   "source": [
    "all_importances.corr()"
   ]
  },
  {
   "cell_type": "code",
   "execution_count": 123,
   "metadata": {},
   "outputs": [
    {
     "data": {
      "text/plain": [
       "<matplotlib.collections.PathCollection at 0x7f9adcca4eb8>"
      ]
     },
     "execution_count": 123,
     "metadata": {},
     "output_type": "execute_result"
    },
    {
     "data": {
      "image/png": "[encoded data removed]",
      "text/plain": [
       "<Figure size 576x396 with 1 Axes>"
      ]
     },
     "metadata": {},
     "output_type": "display_data"
    }
   ],
   "source": [
    "plt.scatter(all_importances[\"Random Forest\"], all_importances[\"Time Robust Forest\"])"
   ]
  },
  {
   "cell_type": "code",
   "execution_count": null,
   "metadata": {
    "ExecuteTime": {
     "end_time": "2022-01-12T13:15:39.214169Z",
     "start_time": "2022-01-12T13:15:33.839828Z"
    }
   },
   "outputs": [],
   "source": [
    "train[\"challenger_prediction\"] = challenger_model.predict_proba(train_vectors[features])[:, 1]\n",
    "test[\"challenger_prediction\"] = challenger_model.predict_proba(test_vectors[features])[:, 1]\n",
    "out_of_time[\"challenger_prediction\"] = challenger_model.predict_proba(oot_vectors[features])[:, 1]"
   ]
  },
  {
   "cell_type": "code",
   "execution_count": 62,
   "metadata": {},
   "outputs": [
    {
     "name": "stdout",
     "output_type": "stream",
     "text": [
      "0.865667776557637\n",
      "0.8393441131304016\n",
      "0.8211305746650408\n"
     ]
    }
   ],
   "source": [
    "print(roc_auc_score(train[target], train[\"challenger_prediction\"]))\n",
    "print(roc_auc_score(test[target], test[\"challenger_prediction\"]))\n",
    "print(roc_auc_score(out_of_time[target], out_of_time[\"challenger_prediction\"]))"
   ]
  },
  {
   "cell_type": "code",
   "execution_count": 86,
   "metadata": {
    "ExecuteTime": {
     "end_time": "2022-01-12T13:15:39.539760Z",
     "start_time": "2022-01-12T13:15:39.216380Z"
    }
   },
   "outputs": [
    {
     "data": {
      "image/png": "[encoded data removed]",
      "text/plain": [
       "<Figure size 864x288 with 1 Axes>"
      ]
     },
     "metadata": {},
     "output_type": "display_data"
    }
   ],
   "source": [
    "pd.concat([test, out_of_time]).groupby(time_column).apply(lambda x: roc_auc_score(x[target], x[\"benchmark_prediction\"])).plot(label=\"Random Forest\")\n",
    "pd.concat([test, out_of_time]).groupby(time_column).apply(lambda x: roc_auc_score(x[target], x[\"challenger_prediction\"])).plot(label=\"Time Robust Forest\")\n",
    "# pd.concat([test, out_of_time]).groupby(time_column).apply(lambda x: roc_auc_score(x[target], x[\"prediction_lgbm\"])).plot(label=\"LGBM\")\n",
    "\n",
    "xmin, xmax, ymin, ymax = plt.axis()\n",
    "plt.vlines(4, ymin, ymax, linestyle=\"dotted\", color=\"red\", label=\"Out of time split\")\n",
    "\n",
    "\n",
    "plt.legend(bbox_to_anchor=(1.00, 1.0))\n",
    "plt.title(\"AUC by year for Time Robust Forest and Random Forest on the GE Club News dataset\")\n",
    "plt.ylabel(\"AUC\")\n",
    "plt.xlabel(\"Year\")\n",
    "plt.show()"
   ]
  },
  {
   "cell_type": "code",
   "execution_count": 83,
   "metadata": {
    "ExecuteTime": {
     "end_time": "2022-01-12T13:15:39.964046Z",
     "start_time": "2022-01-12T13:15:39.542315Z"
    }
   },
   "outputs": [
    {
     "data": {
      "image/png": "[encoded data removed]",
      "text/plain": [
       "<Figure size 864x288 with 1 Axes>"
      ]
     },
     "metadata": {},
     "output_type": "display_data"
    }
   ],
   "source": [
    "pd.concat([test, out_of_time]).groupby(\"year-month\").apply(lambda x: roc_auc_score(x[target], x[\"benchmark_prediction\"])).plot(label=\"Random Forest\")\n",
    "pd.concat([test, out_of_time]).groupby(\"year-month\").apply(lambda x: roc_auc_score(x[target], x[\"challenger_prediction\"])).plot(label=\"Time Robust Forest\")\n",
    "# pd.concat([test, out_of_time]).groupby(time_column).apply(lambda x: roc_auc_score(x[target], x[\"prediction_lgbm\"])).plot(label=\"LGBM\")\n",
    "\n",
    "xmin, xmax, ymin, ymax = plt.axis()\n",
    "#plt.vlines(3, ymin, ymax, linestyle=\"dotted\", color=\"red\", label=\"Out of time split\")\n",
    "\n",
    "plt.legend(bbox_to_anchor=(1.00, 1.0))\n",
    "plt.title(\"AUC by year for Time Robust Forest and Random Forest on the GE Club News dataset\")\n",
    "plt.ylabel(\"AUC\")\n",
    "plt.xlabel(\"Year\")\n",
    "plt.show()"
   ]
  },
  {
   "cell_type": "code",
   "execution_count": 84,
   "metadata": {},
   "outputs": [
    {
     "data": {
      "image/png": "[encoded data removed]",
      "text/plain": [
       "<Figure size 864x288 with 1 Axes>"
      ]
     },
     "metadata": {},
     "output_type": "display_data"
    }
   ],
   "source": [
    "pd.concat([test, out_of_time]).groupby(\"year-month\").apply(lambda x: roc_auc_score(x[target], x[\"benchmark_prediction\"])).rolling(6).mean().plot(label=\"Random Forest\")\n",
    "pd.concat([test, out_of_time]).groupby(\"year-month\").apply(lambda x: roc_auc_score(x[target], x[\"challenger_prediction\"])).rolling(6).mean().plot(label=\"Time Robust Forest\")\n",
    "# pd.concat([test, out_of_time]).groupby(time_column).apply(lambda x: roc_auc_score(x[target], x[\"prediction_lgbm\"])).plot(label=\"LGBM\")\n",
    "\n",
    "xmin, xmax, ymin, ymax = plt.axis()\n",
    "plt.vlines(35, ymin, ymax, linestyle=\"dotted\", color=\"red\", label=\"Out of time split\")\n",
    "\n",
    "plt.legend(bbox_to_anchor=(1.00, 1.0))\n",
    "plt.title(\"AUC by year for Time Robust Forest and Random Forest on the GE Club News dataset\")\n",
    "plt.ylabel(\"AUC\")\n",
    "plt.xlabel(\"Year\")\n",
    "plt.show()"
   ]
  },
  {
   "cell_type": "code",
   "execution_count": 87,
   "metadata": {
    "ExecuteTime": {
     "end_time": "2022-01-12T13:15:40.293592Z",
     "start_time": "2022-01-12T13:15:39.966412Z"
    }
   },
   "outputs": [
    {
     "data": {
      "image/png": "[encoded data removed]",
      "text/plain": [
       "<Figure size 864x288 with 1 Axes>"
      ]
     },
     "metadata": {},
     "output_type": "display_data"
    }
   ],
   "source": [
    "pd.concat([test, out_of_time]).groupby(time_column).apply(lambda x: roc_auc_score(x[target], x[\"benchmark_prediction\"])).plot(label=\"Random Forest\")\n",
    "pd.concat([test, out_of_time]).groupby(time_column).apply(lambda x: roc_auc_score(x[target], x[\"challenger_prediction\"])).plot(label=\"Time Robust Forest\")\n",
    "pd.concat([test, out_of_time]).groupby(time_column).apply(lambda x: roc_auc_score(x[target], x[\"prediction\"])).plot(label=\"Sklearn\")\n",
    "\n",
    "xmin, xmax, ymin, ymax = plt.axis()\n",
    "plt.vlines(4, ymin, ymax, linestyle=\"dotted\", color=\"red\", label=\"Out of time split\")\n",
    "plt.legend(bbox_to_anchor=(1.05, 1.0))\n",
    "\n",
    "plt.legend(bbox_to_anchor=(1.00, 1.0))\n",
    "plt.title(\"AUC by year for Time Robust Forest and Random Forest on the GE Club News dataset\")\n",
    "plt.ylabel(\"AUC\")\n",
    "plt.xlabel(\"Year\")\n",
    "plt.show()"
   ]
  },
  {
   "cell_type": "markdown",
   "metadata": {},
   "source": [
    "## Simplified benchmark\n",
    "\n",
    "Use similar paramters to what the challenger picked in the optimization."
   ]
  },
  {
   "cell_type": "code",
   "execution_count": null,
   "metadata": {
    "ExecuteTime": {
     "end_time": "2022-01-12T13:20:17.199074Z",
     "start_time": "2022-01-12T13:19:54.585177Z"
    }
   },
   "outputs": [],
   "source": [
    "params_simple_benchmark = challenger_opt_param.copy()\n",
    "params_simple_benchmark.pop(\"min_sample_periods\")\n",
    "\n",
    "params_simple_benchmark[\"min_sample_periods\"] = train[time_column].nunique() * challenger_opt_param[\"min_sample_periods\"]\n",
    "\n",
    "simple_benchmark_model = TimeForestClassifier(time_column=dummy_time_column,\n",
    "                                       multi=True, \n",
    "                                       **params_simple_benchmark)\n",
    "\n",
    "simple_benchmark_model.fit(train_vectors[features + [dummy_time_column]], train[target])"
   ]
  },
  {
   "cell_type": "code",
   "execution_count": 61,
   "metadata": {},
   "outputs": [
    {
     "data": {
      "text/plain": [
       "{'max_depth': 10,\n",
       " 'min_impurity_decrease': 0.0001,\n",
       " 'n_estimators': 120,\n",
       " 'period_criterion': 'max',\n",
       " 'min_sample_periods': 4}"
      ]
     },
     "execution_count": 61,
     "metadata": {},
     "output_type": "execute_result"
    }
   ],
   "source": [
    "params_simple_benchmark"
   ]
  },
  {
   "cell_type": "code",
   "execution_count": null,
   "metadata": {
    "ExecuteTime": {
     "end_time": "2022-01-12T13:20:23.505989Z",
     "start_time": "2022-01-12T13:20:17.202060Z"
    }
   },
   "outputs": [],
   "source": [
    "train[\"benchmark_simple_prediction\"] = simple_benchmark_model.predict_proba(train_vectors[features])[:, 1]\n",
    "test[\"benchmark_simple_prediction\"] = simple_benchmark_model.predict_proba(test_vectors[features])[:, 1]\n",
    "out_of_time[\"benchmark_simple_prediction\"] = simple_benchmark_model.predict_proba(oot_vectors[features])[:, 1]"
   ]
  },
  {
   "cell_type": "code",
   "execution_count": 93,
   "metadata": {},
   "outputs": [
    {
     "name": "stdout",
     "output_type": "stream",
     "text": [
      "0.9158773273267589\n",
      "0.868405187413732\n",
      "0.8022512098413209\n"
     ]
    }
   ],
   "source": [
    "print(roc_auc_score(train[target], train[\"benchmark_simple_prediction\"]))\n",
    "print(roc_auc_score(test[target], test[\"benchmark_simple_prediction\"]))\n",
    "print(roc_auc_score(out_of_time[target], out_of_time[\"benchmark_simple_prediction\"]))"
   ]
  },
  {
   "cell_type": "code",
   "execution_count": 90,
   "metadata": {
    "ExecuteTime": {
     "end_time": "2022-01-12T13:20:23.843205Z",
     "start_time": "2022-01-12T13:20:23.508521Z"
    }
   },
   "outputs": [
    {
     "data": {
      "image/png": "[encoded data removed]",
      "text/plain": [
       "<Figure size 864x288 with 1 Axes>"
      ]
     },
     "metadata": {},
     "output_type": "display_data"
    }
   ],
   "source": [
    "pd.concat([test, out_of_time]).groupby(time_column).apply(lambda x: roc_auc_score(x[target], x[\"benchmark_prediction\"])).plot(label=\"Random Forest\")\n",
    "pd.concat([test, out_of_time]).groupby(time_column).apply(lambda x: roc_auc_score(x[target], x[\"challenger_prediction\"])).plot(label=\"Time Robust Forest\")\n",
    "pd.concat([test, out_of_time]).groupby(time_column).apply(lambda x: roc_auc_score(x[target], x[\"benchmark_simple_prediction\"])).plot(label=\"RF Simple\")\n",
    "\n",
    "xmin, xmax, ymin, ymax = plt.axis()\n",
    "plt.vlines(4, ymin, ymax, linestyle=\"dotted\", color=\"red\", label=\"Out of time split\")\n",
    "\n",
    "plt.legend(bbox_to_anchor=(1.00, 1.0))\n",
    "plt.title(\"AUC by year for TimeTree and DecisionTree on the GE Club News dataset\")\n",
    "plt.ylabel(\"AUC\")\n",
    "plt.xlabel(\"Year\")\n",
    "plt.show()"
   ]
  },
  {
   "cell_type": "markdown",
   "metadata": {},
   "source": [
    "## Plots"
   ]
  },
  {
   "cell_type": "code",
   "execution_count": 68,
   "metadata": {
    "ExecuteTime": {
     "end_time": "2022-01-12T13:23:14.342870Z",
     "start_time": "2022-01-12T13:23:14.161235Z"
    }
   },
   "outputs": [
    {
     "data": {
      "image/png": "[encoded data removed]",
      "text/plain": [
       "<Figure size 864x288 with 1 Axes>"
      ]
     },
     "metadata": {},
     "output_type": "display_data"
    }
   ],
   "source": [
    "out_of_time.groupby(time_column).apply(lambda x: roc_auc_score(x[target], x[\"challenger_prediction\"])).plot(label=\"Time Robust Forest\")\n",
    "out_of_time.groupby(time_column).apply(lambda x: roc_auc_score(x[target], x[\"benchmark_prediction\"])).plot(label=\"Random Forest\")\n",
    "\n",
    "plt.legend()\n",
    "plt.title(\"AUC by year for TimeTree and DecisionTree on the GE Club News dataset\")\n",
    "plt.ylabel(\"AUC\")\n",
    "plt.xlabel(\"Year\")\n",
    "plt.show()"
   ]
  },
  {
   "cell_type": "code",
   "execution_count": 89,
   "metadata": {
    "ExecuteTime": {
     "end_time": "2022-01-12T13:23:42.133883Z",
     "start_time": "2022-01-12T13:23:41.927127Z"
    }
   },
   "outputs": [
    {
     "data": {
      "image/png": "[encoded data removed]",
      "text/plain": [
       "<Figure size 864x288 with 1 Axes>"
      ]
     },
     "metadata": {},
     "output_type": "display_data"
    }
   ],
   "source": [
    "pd.concat([test, out_of_time]).groupby(time_column).apply(lambda x: roc_auc_score(x[target], x[\"benchmark_prediction\"])).plot(label=\"Random Forest\")\n",
    "pd.concat([test, out_of_time]).groupby(time_column).apply(lambda x: roc_auc_score(x[target], x[\"challenger_prediction\"])).plot(label=\"Time Robust Forest\")\n",
    "\n",
    "xmin, xmax, ymin, ymax = plt.axis()\n",
    "plt.vlines(4, ymin, ymax, linestyle=\"dotted\", color=\"red\", label=\"Out of time split\")\n",
    "\n",
    "plt.legend(bbox_to_anchor=(1.00, 1.0))\n",
    "plt.title(\"AUC by year for TimeTree and DecisionTree on the GE Club News dataset\")\n",
    "plt.ylabel(\"AUC\")\n",
    "plt.xlabel(\"Year\")\n",
    "plt.show()"
   ]
  },
  {
   "cell_type": "code",
   "execution_count": 92,
   "metadata": {
    "ExecuteTime": {
     "end_time": "2022-01-12T13:31:52.914080Z",
     "start_time": "2022-01-12T13:31:52.642490Z"
    }
   },
   "outputs": [
    {
     "data": {
      "image/png": "[encoded data removed]",
      "text/plain": [
       "<Figure size 864x288 with 1 Axes>"
      ]
     },
     "metadata": {},
     "output_type": "display_data"
    }
   ],
   "source": [
    "fig, ax = plt.subplots()\n",
    "\n",
    "pd.concat([test, out_of_time]).groupby(time_column).apply(lambda x: roc_auc_score(x[target], x[\"challenger_prediction\"])).plot(label=\"Time Robust Forest\",\n",
    "                                                                                                                        color=\"green\", linestyle=\"dashed\")\n",
    "pd.concat([test, out_of_time]).groupby(time_column).apply(lambda x: roc_auc_score(x[target], x[\"benchmark_prediction\"])).plot(label=\"Random Forest\", \n",
    "                                                                                                                       linestyle=\"-.\")\n",
    "# pd.concat([test, out_of_time]).groupby(time_column).apply(lambda x: roc_auc_score(x[target], x[\"prediction_lgbm\"])).plot(label=\"LGBM\", color=\"orange\")\n",
    "\n",
    "ax.xaxis.set_tick_params(labelsize=12)\n",
    "ax.yaxis.set_tick_params(labelsize=12)\n",
    "\n",
    "xmin, xmax, ymin, ymax = plt.axis()\n",
    "plt.ylim([ymin, ymax])\n",
    "plt.vlines(4, ymin, ymax, linestyle=\"dotted\", color=\"red\", label=\"Holdout start\")\n",
    "#plt.legend(bbox_to_anchor=(1.05, 1.0))\n",
    "plt.legend(fontsize=15, bbox_to_anchor=(1.0, 1.0))\n",
    "\n",
    "#plt.legend(bbox_to_anchor=(1.05, 1.0))\n",
    "#plt.title(\"AUC by year for TimeTree and DecisionTree on the GE Club News dataset\")\n",
    "\n",
    "plt.ylabel(\"AUC\", fontsize=15)\n",
    "plt.xlabel(\"Year\", fontsize=15)\n",
    "#plt.savefig(\"images/ge_sklearn.eps\", format=\"eps\", bbox_inches=\"tight\")\n",
    "plt.savefig(\"../images/genews_performance_overtime.eps\", format=\"eps\")\n",
    "plt.show()"
   ]
  },
  {
   "cell_type": "markdown",
   "metadata": {},
   "source": [
    "### Domain Classifier"
   ]
  },
  {
   "cell_type": "code",
   "execution_count": 124,
   "metadata": {},
   "outputs": [],
   "source": [
    "train_vectors[\"domain\"] = 1\n",
    "test_vectors[\"domain\"] = 1\n",
    "oot_vectors[\"domain\"] = 0"
   ]
  },
  {
   "cell_type": "code",
   "execution_count": 125,
   "metadata": {},
   "outputs": [],
   "source": [
    "domain_data = pd.concat([train_vectors, test_vectors, oot_vectors])"
   ]
  },
  {
   "cell_type": "code",
   "execution_count": 126,
   "metadata": {},
   "outputs": [],
   "source": [
    "train_domain, test_domain = train_test_split(domain_data, \n",
    "                               test_size=0.2,\n",
    "                               random_state=42)\n",
    "\n"
   ]
  },
  {
   "cell_type": "code",
   "execution_count": 127,
   "metadata": {},
   "outputs": [],
   "source": [
    "from pycaret.classification import *"
   ]
  },
  {
   "cell_type": "code",
   "execution_count": 130,
   "metadata": {},
   "outputs": [
    {
     "data": {
      "text/html": [
       "<style  type=\"text/css\" >\n",
       "#T_212b699e_9edd_11ec_9b97_d2c22758d0e3row5_col0,#T_212b699e_9edd_11ec_9b97_d2c22758d0e3row5_col1,#T_212b699e_9edd_11ec_9b97_d2c22758d0e3row5_col2,#T_212b699e_9edd_11ec_9b97_d2c22758d0e3row5_col3,#T_212b699e_9edd_11ec_9b97_d2c22758d0e3row5_col4,#T_212b699e_9edd_11ec_9b97_d2c22758d0e3row5_col5,#T_212b699e_9edd_11ec_9b97_d2c22758d0e3row5_col6{\n",
       "            background:  yellow;\n",
       "        }</style><table id=\"T_212b699e_9edd_11ec_9b97_d2c22758d0e3\" ><thead>    <tr>        <th class=\"blank level0\" ></th>        <th class=\"col_heading level0 col0\" >Accuracy</th>        <th class=\"col_heading level0 col1\" >AUC</th>        <th class=\"col_heading level0 col2\" >Recall</th>        <th class=\"col_heading level0 col3\" >Prec.</th>        <th class=\"col_heading level0 col4\" >F1</th>        <th class=\"col_heading level0 col5\" >Kappa</th>        <th class=\"col_heading level0 col6\" >MCC</th>    </tr></thead><tbody>\n",
       "                <tr>\n",
       "                        <th id=\"T_212b699e_9edd_11ec_9b97_d2c22758d0e3level0_row0\" class=\"row_heading level0 row0\" >0</th>\n",
       "                        <td id=\"T_212b699e_9edd_11ec_9b97_d2c22758d0e3row0_col0\" class=\"data row0 col0\" >0.7566</td>\n",
       "                        <td id=\"T_212b699e_9edd_11ec_9b97_d2c22758d0e3row0_col1\" class=\"data row0 col1\" >0.8993</td>\n",
       "                        <td id=\"T_212b699e_9edd_11ec_9b97_d2c22758d0e3row0_col2\" class=\"data row0 col2\" >0.9529</td>\n",
       "                        <td id=\"T_212b699e_9edd_11ec_9b97_d2c22758d0e3row0_col3\" class=\"data row0 col3\" >0.5959</td>\n",
       "                        <td id=\"T_212b699e_9edd_11ec_9b97_d2c22758d0e3row0_col4\" class=\"data row0 col4\" >0.7333</td>\n",
       "                        <td id=\"T_212b699e_9edd_11ec_9b97_d2c22758d0e3row0_col5\" class=\"data row0 col5\" >0.5304</td>\n",
       "                        <td id=\"T_212b699e_9edd_11ec_9b97_d2c22758d0e3row0_col6\" class=\"data row0 col6\" >0.5804</td>\n",
       "            </tr>\n",
       "            <tr>\n",
       "                        <th id=\"T_212b699e_9edd_11ec_9b97_d2c22758d0e3level0_row1\" class=\"row_heading level0 row1\" >1</th>\n",
       "                        <td id=\"T_212b699e_9edd_11ec_9b97_d2c22758d0e3row1_col0\" class=\"data row1 col0\" >0.7566</td>\n",
       "                        <td id=\"T_212b699e_9edd_11ec_9b97_d2c22758d0e3row1_col1\" class=\"data row1 col1\" >0.8963</td>\n",
       "                        <td id=\"T_212b699e_9edd_11ec_9b97_d2c22758d0e3row1_col2\" class=\"data row1 col2\" >0.9525</td>\n",
       "                        <td id=\"T_212b699e_9edd_11ec_9b97_d2c22758d0e3row1_col3\" class=\"data row1 col3\" >0.5960</td>\n",
       "                        <td id=\"T_212b699e_9edd_11ec_9b97_d2c22758d0e3row1_col4\" class=\"data row1 col4\" >0.7332</td>\n",
       "                        <td id=\"T_212b699e_9edd_11ec_9b97_d2c22758d0e3row1_col5\" class=\"data row1 col5\" >0.5304</td>\n",
       "                        <td id=\"T_212b699e_9edd_11ec_9b97_d2c22758d0e3row1_col6\" class=\"data row1 col6\" >0.5801</td>\n",
       "            </tr>\n",
       "            <tr>\n",
       "                        <th id=\"T_212b699e_9edd_11ec_9b97_d2c22758d0e3level0_row2\" class=\"row_heading level0 row2\" >2</th>\n",
       "                        <td id=\"T_212b699e_9edd_11ec_9b97_d2c22758d0e3row2_col0\" class=\"data row2 col0\" >0.7586</td>\n",
       "                        <td id=\"T_212b699e_9edd_11ec_9b97_d2c22758d0e3row2_col1\" class=\"data row2 col1\" >0.8997</td>\n",
       "                        <td id=\"T_212b699e_9edd_11ec_9b97_d2c22758d0e3row2_col2\" class=\"data row2 col2\" >0.9570</td>\n",
       "                        <td id=\"T_212b699e_9edd_11ec_9b97_d2c22758d0e3row2_col3\" class=\"data row2 col3\" >0.5976</td>\n",
       "                        <td id=\"T_212b699e_9edd_11ec_9b97_d2c22758d0e3row2_col4\" class=\"data row2 col4\" >0.7357</td>\n",
       "                        <td id=\"T_212b699e_9edd_11ec_9b97_d2c22758d0e3row2_col5\" class=\"data row2 col5\" >0.5345</td>\n",
       "                        <td id=\"T_212b699e_9edd_11ec_9b97_d2c22758d0e3row2_col6\" class=\"data row2 col6\" >0.5852</td>\n",
       "            </tr>\n",
       "            <tr>\n",
       "                        <th id=\"T_212b699e_9edd_11ec_9b97_d2c22758d0e3level0_row3\" class=\"row_heading level0 row3\" >3</th>\n",
       "                        <td id=\"T_212b699e_9edd_11ec_9b97_d2c22758d0e3row3_col0\" class=\"data row3 col0\" >0.7599</td>\n",
       "                        <td id=\"T_212b699e_9edd_11ec_9b97_d2c22758d0e3row3_col1\" class=\"data row3 col1\" >0.9029</td>\n",
       "                        <td id=\"T_212b699e_9edd_11ec_9b97_d2c22758d0e3row3_col2\" class=\"data row3 col2\" >0.9541</td>\n",
       "                        <td id=\"T_212b699e_9edd_11ec_9b97_d2c22758d0e3row3_col3\" class=\"data row3 col3\" >0.5992</td>\n",
       "                        <td id=\"T_212b699e_9edd_11ec_9b97_d2c22758d0e3row3_col4\" class=\"data row3 col4\" >0.7361</td>\n",
       "                        <td id=\"T_212b699e_9edd_11ec_9b97_d2c22758d0e3row3_col5\" class=\"data row3 col5\" >0.5360</td>\n",
       "                        <td id=\"T_212b699e_9edd_11ec_9b97_d2c22758d0e3row3_col6\" class=\"data row3 col6\" >0.5853</td>\n",
       "            </tr>\n",
       "            <tr>\n",
       "                        <th id=\"T_212b699e_9edd_11ec_9b97_d2c22758d0e3level0_row4\" class=\"row_heading level0 row4\" >4</th>\n",
       "                        <td id=\"T_212b699e_9edd_11ec_9b97_d2c22758d0e3row4_col0\" class=\"data row4 col0\" >0.7453</td>\n",
       "                        <td id=\"T_212b699e_9edd_11ec_9b97_d2c22758d0e3row4_col1\" class=\"data row4 col1\" >0.8916</td>\n",
       "                        <td id=\"T_212b699e_9edd_11ec_9b97_d2c22758d0e3row4_col2\" class=\"data row4 col2\" >0.9562</td>\n",
       "                        <td id=\"T_212b699e_9edd_11ec_9b97_d2c22758d0e3row4_col3\" class=\"data row4 col3\" >0.5838</td>\n",
       "                        <td id=\"T_212b699e_9edd_11ec_9b97_d2c22758d0e3row4_col4\" class=\"data row4 col4\" >0.7249</td>\n",
       "                        <td id=\"T_212b699e_9edd_11ec_9b97_d2c22758d0e3row4_col5\" class=\"data row4 col5\" >0.5124</td>\n",
       "                        <td id=\"T_212b699e_9edd_11ec_9b97_d2c22758d0e3row4_col6\" class=\"data row4 col6\" >0.5672</td>\n",
       "            </tr>\n",
       "            <tr>\n",
       "                        <th id=\"T_212b699e_9edd_11ec_9b97_d2c22758d0e3level0_row5\" class=\"row_heading level0 row5\" >Mean</th>\n",
       "                        <td id=\"T_212b699e_9edd_11ec_9b97_d2c22758d0e3row5_col0\" class=\"data row5 col0\" >0.7554</td>\n",
       "                        <td id=\"T_212b699e_9edd_11ec_9b97_d2c22758d0e3row5_col1\" class=\"data row5 col1\" >0.8980</td>\n",
       "                        <td id=\"T_212b699e_9edd_11ec_9b97_d2c22758d0e3row5_col2\" class=\"data row5 col2\" >0.9545</td>\n",
       "                        <td id=\"T_212b699e_9edd_11ec_9b97_d2c22758d0e3row5_col3\" class=\"data row5 col3\" >0.5945</td>\n",
       "                        <td id=\"T_212b699e_9edd_11ec_9b97_d2c22758d0e3row5_col4\" class=\"data row5 col4\" >0.7327</td>\n",
       "                        <td id=\"T_212b699e_9edd_11ec_9b97_d2c22758d0e3row5_col5\" class=\"data row5 col5\" >0.5287</td>\n",
       "                        <td id=\"T_212b699e_9edd_11ec_9b97_d2c22758d0e3row5_col6\" class=\"data row5 col6\" >0.5796</td>\n",
       "            </tr>\n",
       "            <tr>\n",
       "                        <th id=\"T_212b699e_9edd_11ec_9b97_d2c22758d0e3level0_row6\" class=\"row_heading level0 row6\" >SD</th>\n",
       "                        <td id=\"T_212b699e_9edd_11ec_9b97_d2c22758d0e3row6_col0\" class=\"data row6 col0\" >0.0052</td>\n",
       "                        <td id=\"T_212b699e_9edd_11ec_9b97_d2c22758d0e3row6_col1\" class=\"data row6 col1\" >0.0038</td>\n",
       "                        <td id=\"T_212b699e_9edd_11ec_9b97_d2c22758d0e3row6_col2\" class=\"data row6 col2\" >0.0018</td>\n",
       "                        <td id=\"T_212b699e_9edd_11ec_9b97_d2c22758d0e3row6_col3\" class=\"data row6 col3\" >0.0055</td>\n",
       "                        <td id=\"T_212b699e_9edd_11ec_9b97_d2c22758d0e3row6_col4\" class=\"data row6 col4\" >0.0040</td>\n",
       "                        <td id=\"T_212b699e_9edd_11ec_9b97_d2c22758d0e3row6_col5\" class=\"data row6 col5\" >0.0085</td>\n",
       "                        <td id=\"T_212b699e_9edd_11ec_9b97_d2c22758d0e3row6_col6\" class=\"data row6 col6\" >0.0066</td>\n",
       "            </tr>\n",
       "    </tbody></table>"
      ],
      "text/plain": [
       "<pandas.io.formats.style.Styler at 0x7f98da8733c8>"
      ]
     },
     "metadata": {},
     "output_type": "display_data"
    }
   ],
   "source": [
    "clf2 = setup(train_domain[features + [\"domain\"]], target=\"domain\",\n",
    "             session_id=124, \n",
    "             log_experiment=False, \n",
    "             experiment_name=\"{}_domain\".format(PREFIX),\n",
    "             silent=True)\n",
    "\n",
    "rf = create_model('rf')\n",
    "tuned_domain_rf = tune_model(rf,\n",
    "                             optimize=\"AUC\",\n",
    "                             fold=5,\n",
    "                             n_iter=50)"
   ]
  },
  {
   "cell_type": "code",
   "execution_count": 131,
   "metadata": {},
   "outputs": [],
   "source": [
    "domain_model = tuned_domain_rf"
   ]
  },
  {
   "cell_type": "code",
   "execution_count": 132,
   "metadata": {},
   "outputs": [
    {
     "data": {
      "text/plain": [
       "RandomForestClassifier(bootstrap=True, ccp_alpha=0.0, class_weight='balanced',\n",
       "                       criterion='entropy', max_depth=11, max_features=1.0,\n",
       "                       max_leaf_nodes=None, max_samples=None,\n",
       "                       min_impurity_decrease=0.0005, min_impurity_split=None,\n",
       "                       min_samples_leaf=3, min_samples_split=2,\n",
       "                       min_weight_fraction_leaf=0.0, n_estimators=120,\n",
       "                       n_jobs=-1, oob_score=False, random_state=124, verbose=0,\n",
       "                       warm_start=False)"
      ]
     },
     "execution_count": 132,
     "metadata": {},
     "output_type": "execute_result"
    }
   ],
   "source": [
    "domain_model.fit(train_domain[features], train_domain[\"domain\"])"
   ]
  },
  {
   "cell_type": "code",
   "execution_count": 133,
   "metadata": {},
   "outputs": [],
   "source": [
    "test_domain[\"pred_domain\"] = domain_model.predict_proba(test_domain[features])[:, 1]"
   ]
  },
  {
   "cell_type": "code",
   "execution_count": 134,
   "metadata": {},
   "outputs": [
    {
     "data": {
      "text/plain": [
       "0.8918694275010572"
      ]
     },
     "execution_count": 134,
     "metadata": {},
     "output_type": "execute_result"
    }
   ],
   "source": [
    "roc_auc_score(test_domain[\"domain\"], test_domain[\"pred_domain\"])"
   ]
  },
  {
   "cell_type": "code",
   "execution_count": null,
   "metadata": {},
   "outputs": [],
   "source": []
  }
 ],
 "metadata": {
  "hide_input": false,
  "kernelspec": {
   "display_name": "msc-2",
   "language": "python",
   "name": "python3"
  },
  "language_info": {
   "codemirror_mode": {
    "name": "ipython",
    "version": 3
   },
   "file_extension": ".py",
   "mimetype": "text/x-python",
   "name": "python",
   "nbconvert_exporter": "python",
   "pygments_lexer": "ipython3",
   "version": "3.6.15"
  },
  "toc": {
   "base_numbering": 1,
   "nav_menu": {},
   "number_sections": true,
   "sideBar": true,
   "skip_h1_title": true,
   "title_cell": "Index",
   "title_sidebar": "Contents",
   "toc_cell": true,
   "toc_position": {},
   "toc_section_display": true,
   "toc_window_display": false
  }
 },
 "nbformat": 4,
 "nbformat_minor": 4
}
