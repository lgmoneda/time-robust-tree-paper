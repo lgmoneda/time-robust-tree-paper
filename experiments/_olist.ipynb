{
 "cells": [
  {
   "cell_type": "markdown",
   "id": "a72e1623",
   "metadata": {},
   "source": [
    "# Example - Olist"
   ]
  },
  {
   "cell_type": "markdown",
   "id": "20a245f5",
   "metadata": {
    "toc": true
   },
   "source": [
    "<h1>Index<span class=\"tocSkip\"></span></h1>\n",
    "<div class=\"toc\"><ul class=\"toc-item\"><li><span><a href=\"#Modeling\" data-toc-modified-id=\"Modeling-1\"><span class=\"toc-item-num\">1&nbsp;&nbsp;</span>Modeling</a></span><ul class=\"toc-item\"><li><span><a href=\"#Data\" data-toc-modified-id=\"Data-1.1\"><span class=\"toc-item-num\">1.1&nbsp;&nbsp;</span>Data</a></span></li></ul></li><li><span><a href=\"#Checking-the-support-in-the-different-environments\" data-toc-modified-id=\"Checking-the-support-in-the-different-environments-2\"><span class=\"toc-item-num\">2&nbsp;&nbsp;</span>Checking the support in the different environments</a></span><ul class=\"toc-item\"><li><span><a href=\"#Benchmark\" data-toc-modified-id=\"Benchmark-2.1\"><span class=\"toc-item-num\">2.1&nbsp;&nbsp;</span>Benchmark</a></span></li></ul></li><li><span><a href=\"#Challenger-model\" data-toc-modified-id=\"Challenger-model-3\"><span class=\"toc-item-num\">3&nbsp;&nbsp;</span>Challenger model</a></span></li><li><span><a href=\"#Feature-Importance-migration\" data-toc-modified-id=\"Feature-Importance-migration-4\"><span class=\"toc-item-num\">4&nbsp;&nbsp;</span>Feature Importance migration</a></span></li><li><span><a href=\"#Reverse-Learning-Curve\" data-toc-modified-id=\"Reverse-Learning-Curve-5\"><span class=\"toc-item-num\">5&nbsp;&nbsp;</span>Reverse Learning Curve</a></span></li><li><span><a href=\"#Performance-comparison\" data-toc-modified-id=\"Performance-comparison-6\"><span class=\"toc-item-num\">6&nbsp;&nbsp;</span>Performance comparison</a></span></li><li><span><a href=\"#TRF-as-feature-selection\" data-toc-modified-id=\"TRF-as-feature-selection-7\"><span class=\"toc-item-num\">7&nbsp;&nbsp;</span>TRF as feature selection</a></span></li><li><span><a href=\"#Feature-Impact\" data-toc-modified-id=\"Feature-Impact-8\"><span class=\"toc-item-num\">8&nbsp;&nbsp;</span>Feature Impact</a></span></li><li><span><a href=\"#Minimum-samples-by-period-effect\" data-toc-modified-id=\"Minimum-samples-by-period-effect-9\"><span class=\"toc-item-num\">9&nbsp;&nbsp;</span>Minimum samples by period effect</a></span></li><li><span><a href=\"#Domain-classifier\" data-toc-modified-id=\"Domain-classifier-10\"><span class=\"toc-item-num\">10&nbsp;&nbsp;</span>Domain classifier</a></span></li><li><span><a href=\"#Other-optimization-design-for-the-RF\" data-toc-modified-id=\"Other-optimization-design-for-the-RF-11\"><span class=\"toc-item-num\">11&nbsp;&nbsp;</span>Other optimization design for the RF</a></span></li></ul></div>"
   ]
  },
  {
   "cell_type": "code",
   "execution_count": 6,
   "id": "2d8511e5",
   "metadata": {
    "ExecuteTime": {
     "end_time": "2021-12-12T18:53:53.288267Z",
     "start_time": "2021-12-12T18:53:49.007138Z"
    }
   },
   "outputs": [],
   "source": [
    "import pandas as pd\n",
    "import matplotlib.pyplot as plt\n",
    "import numpy as np\n",
    "import seaborn as sns\n",
    "\n",
    "from sklearn.preprocessing import LabelEncoder\n",
    "from sklearn.tree import DecisionTreeClassifier\n",
    "from sklearn.ensemble import RandomForestClassifier\n",
    "from sklearn.model_selection import train_test_split\n",
    "from sklearn.metrics import roc_auc_score\n",
    "from sklearn import metrics\n",
    "from time_robust_forest.models import TimeForestClassifier\n",
    "from time_robust_forest.functions import check_categoricals_match, check_numerical_match\n",
    "from time_robust_forest.hyper_opt import env_wise_hyper_opt\n",
    "from aux_functions import *\n",
    "\n",
    "np.random.seed(42)"
   ]
  },
  {
   "cell_type": "code",
   "execution_count": 7,
   "id": "fafe4eb1",
   "metadata": {
    "ExecuteTime": {
     "end_time": "2021-12-12T18:53:53.293926Z",
     "start_time": "2021-12-12T18:53:53.290620Z"
    }
   },
   "outputs": [],
   "source": [
    "def set_style():\n",
    "    plt.style.use(['seaborn-white', 'seaborn-paper'])\n",
    "    plt.rcParams['figure.figsize'] = (12, 4)"
   ]
  },
  {
   "cell_type": "code",
   "execution_count": 8,
   "id": "74197d44",
   "metadata": {
    "ExecuteTime": {
     "end_time": "2021-12-12T18:53:53.300518Z",
     "start_time": "2021-12-12T18:53:53.297346Z"
    }
   },
   "outputs": [],
   "source": [
    "set_style()"
   ]
  },
  {
   "cell_type": "code",
   "execution_count": 9,
   "id": "e337e204",
   "metadata": {
    "ExecuteTime": {
     "end_time": "2021-12-12T18:53:53.307271Z",
     "start_time": "2021-12-12T18:53:53.304042Z"
    }
   },
   "outputs": [],
   "source": [
    "DATASETS_PATH = \"~/Documents/datasets/olist/\"\n",
    "PREFIX = \"olist\"\n",
    "N_BOOTSTRAP = 10"
   ]
  },
  {
   "cell_type": "code",
   "execution_count": 10,
   "id": "af1610df",
   "metadata": {
    "ExecuteTime": {
     "end_time": "2021-12-12T18:53:57.060098Z",
     "start_time": "2021-12-12T18:53:53.310265Z"
    }
   },
   "outputs": [],
   "source": [
    "orders = pd.read_csv(DATASETS_PATH + \"olist_orders_dataset.csv\", engine=\"python\")\n",
    "customers = pd.read_csv(DATASETS_PATH + \"olist_customers_dataset.csv\", engine=\"python\")\n",
    "reviews = pd.read_csv(DATASETS_PATH + \"olist_order_reviews_dataset.csv\", engine=\"python\")\n",
    "payments = pd.read_csv(DATASETS_PATH + \"olist_order_payments_dataset.csv\", engine=\"python\")\n",
    "products = pd.read_csv(DATASETS_PATH + \"olist_products_dataset.csv\", engine=\"python\")\n",
    "category = pd.read_csv(DATASETS_PATH + \"product_category_name_translation.csv\", engine=\"python\")\n",
    "items = pd.read_csv(DATASETS_PATH + \"olist_order_items_dataset.csv\", engine=\"python\")"
   ]
  },
  {
   "cell_type": "code",
   "execution_count": 11,
   "id": "572cf7bc",
   "metadata": {
    "ExecuteTime": {
     "end_time": "2021-12-12T18:53:57.345632Z",
     "start_time": "2021-12-12T18:53:57.062361Z"
    }
   },
   "outputs": [],
   "source": [
    "orders['order_purchase_timestamp'] = pd.to_datetime(orders.order_purchase_timestamp)\n",
    "orders['order_approved_at'] = pd.to_datetime(orders.order_approved_at).dt.date  \n",
    "orders['order_estimated_delivery_date'] = pd.to_datetime(orders.order_estimated_delivery_date).dt.date  \n",
    "orders['order_delivered_customer_date'] = pd.to_datetime(orders.order_delivered_customer_date).dt.date  \n",
    "items['shipping_limit_date'] = pd.to_datetime(items.shipping_limit_date).dt.date  "
   ]
  },
  {
   "cell_type": "code",
   "execution_count": 12,
   "id": "5034c7b3",
   "metadata": {
    "ExecuteTime": {
     "end_time": "2021-12-12T18:53:57.878537Z",
     "start_time": "2021-12-12T18:53:57.347884Z"
    }
   },
   "outputs": [],
   "source": [
    "data = orders.merge(reviews, on=\"order_id\", how=\"left\")\n",
    "data = data.merge(items, on=\"order_id\", how=\"left\")\n",
    "data = data.merge(products, on=\"product_id\", how=\"left\")"
   ]
  },
  {
   "cell_type": "code",
   "execution_count": 13,
   "id": "38e6debe",
   "metadata": {
    "ExecuteTime": {
     "end_time": "2021-12-12T18:53:59.993154Z",
     "start_time": "2021-12-12T18:53:57.882464Z"
    }
   },
   "outputs": [],
   "source": [
    "data[\"Year\"] = data[\"order_purchase_timestamp\"].apply(lambda x: int(x.year))\n",
    "data[\"Year-month\"] = data[\"order_purchase_timestamp\"].apply(lambda x: str(x.year) + \"-\" + str(x.month).zfill(2))\n",
    "data[\"Year-quadri\"] = data[\"order_purchase_timestamp\"].apply(lambda x: str(x.year) + \"-\" + str(int(x.month / 3)).zfill(2))\n",
    "data[\"Year-tri\"] = data[\"order_purchase_timestamp\"].apply(lambda x: str(x.year) + \"-\" + str(int(x.month / 4)).zfill(2))"
   ]
  },
  {
   "cell_type": "code",
   "execution_count": 14,
   "id": "8daa8000",
   "metadata": {
    "ExecuteTime": {
     "end_time": "2021-12-12T18:55:10.090976Z",
     "start_time": "2021-12-12T18:55:09.643929Z"
    }
   },
   "outputs": [],
   "source": [
    "data[\"difference_estimated_delivered\"] = (data['order_estimated_delivery_date'] - data['order_delivered_customer_date']).dt.days\n",
    "data[\"difference_limit_delivered\"] = (data['shipping_limit_date'] - data['order_delivered_customer_date']).dt.days"
   ]
  },
  {
   "cell_type": "code",
   "execution_count": 15,
   "id": "b8b9476b",
   "metadata": {
    "ExecuteTime": {
     "end_time": "2021-12-12T18:54:04.516815Z",
     "start_time": "2021-12-12T18:54:04.509813Z"
    }
   },
   "outputs": [
    {
     "data": {
      "text/plain": [
       "(114100, 34)"
      ]
     },
     "execution_count": 15,
     "metadata": {},
     "output_type": "execute_result"
    }
   ],
   "source": [
    "data.shape"
   ]
  },
  {
   "cell_type": "code",
   "execution_count": 16,
   "id": "4a0d06b5",
   "metadata": {
    "ExecuteTime": {
     "end_time": "2021-12-12T18:54:11.039655Z",
     "start_time": "2021-12-12T18:54:11.011510Z"
    }
   },
   "outputs": [
    {
     "data": {
      "text/plain": [
       "0.5582646801051709"
      ]
     },
     "execution_count": 16,
     "metadata": {},
     "output_type": "execute_result"
    }
   ],
   "source": [
    "data[\"target\"] = (data[\"review_score\"] == 5).astype(int)\n",
    "data[\"target\"].mean()"
   ]
  },
  {
   "cell_type": "markdown",
   "id": "69fb0eb3",
   "metadata": {},
   "source": [
    "## Modeling"
   ]
  },
  {
   "cell_type": "markdown",
   "id": "33141dde",
   "metadata": {},
   "source": [
    "### Data"
   ]
  },
  {
   "cell_type": "code",
   "execution_count": 17,
   "id": "e4fb40bf",
   "metadata": {
    "ExecuteTime": {
     "end_time": "2021-12-12T18:55:21.013232Z",
     "start_time": "2021-12-12T18:55:21.010594Z"
    }
   },
   "outputs": [],
   "source": [
    "TIME_COLUMN = \"Year-month\"\n",
    "ALTERNATIVE_TIME_COLUMN = \"Year-quadri\"\n",
    "ALTERNATIVE_TIME_COLUMN_2 = \"Year-tri\"\n",
    "TIME_COLUMN = ALTERNATIVE_TIME_COLUMN_2\n",
    "TARGET = \"target\""
   ]
  },
  {
   "cell_type": "code",
   "execution_count": 18,
   "id": "685b05c1",
   "metadata": {
    "ExecuteTime": {
     "end_time": "2021-12-12T18:55:21.346467Z",
     "start_time": "2021-12-12T18:55:21.344163Z"
    }
   },
   "outputs": [],
   "source": [
    "columns_to_label_encode = [\"seller_id\",\n",
    "                           \"product_category_name\"]"
   ]
  },
  {
   "cell_type": "code",
   "execution_count": 19,
   "id": "b13cae19",
   "metadata": {
    "ExecuteTime": {
     "end_time": "2021-11-28T22:54:25.770310Z",
     "start_time": "2021-11-28T22:54:25.654668Z"
    }
   },
   "outputs": [
    {
     "name": "stdout",
     "output_type": "stream",
     "text": [
      "seller_id\n",
      "product_category_name\n"
     ]
    },
    {
     "name": "stderr",
     "output_type": "stream",
     "text": [
      "/home/jovyan/.conda/envs/ml/lib/python3.9/site-packages/sklearn/utils/validation.py:72: DataConversionWarning: A column-vector y was passed when a 1d array was expected. Please change the shape of y to (n_samples, ), for example using ravel().\n",
      "  return f(**kwargs)\n"
     ]
    }
   ],
   "source": [
    "encoder_mappings = {}\n",
    "le = LabelEncoder()\n",
    "for column in columns_to_label_encode:\n",
    "    print(column)\n",
    "    data[column].fillna(\"None\", inplace=True)\n",
    "    data[column] = le.fit_transform(data[[column]])\n",
    "    encoder_mappings[column] = {i: le.__dict__[\"classes_\"][i] for i in range(len(le.__dict__[\"classes_\"]))}"
   ]
  },
  {
   "cell_type": "code",
   "execution_count": 20,
   "id": "43876933",
   "metadata": {
    "ExecuteTime": {
     "end_time": "2021-12-12T18:55:34.825493Z",
     "start_time": "2021-12-12T18:55:34.822638Z"
    }
   },
   "outputs": [],
   "source": [
    "numerical_features = [\"price\",\n",
    "                      \"freight_value\",\n",
    "                      \"product_name_lenght\",\n",
    "                      \"product_description_lenght\", \n",
    "                      \"product_photos_qty\", \n",
    "                      \"product_weight_g\",\n",
    "                      \"product_length_cm\",\n",
    "                      \"product_height_cm\", \n",
    "                      \"product_width_cm\",\n",
    "                      \"difference_estimated_delivered\",\n",
    "                      \"difference_limit_delivered\"]"
   ]
  },
  {
   "cell_type": "code",
   "execution_count": 21,
   "id": "485af659",
   "metadata": {
    "ExecuteTime": {
     "end_time": "2021-12-12T18:55:40.610521Z",
     "start_time": "2021-12-12T18:55:40.607897Z"
    }
   },
   "outputs": [],
   "source": [
    "features = columns_to_label_encode + numerical_features\n",
    "features = list(set(features))"
   ]
  },
  {
   "cell_type": "code",
   "execution_count": 22,
   "id": "adc1fc4d",
   "metadata": {
    "ExecuteTime": {
     "end_time": "2021-12-12T18:56:39.205233Z",
     "start_time": "2021-12-12T18:56:39.199412Z"
    }
   },
   "outputs": [
    {
     "data": {
      "text/plain": [
       "2018    61912\n",
       "2017    51796\n",
       "2016      392\n",
       "Name: Year, dtype: int64"
      ]
     },
     "execution_count": 22,
     "metadata": {},
     "output_type": "execute_result"
    }
   ],
   "source": [
    "data[\"Year\"].value_counts()"
   ]
  },
  {
   "cell_type": "code",
   "execution_count": 23,
   "id": "86be341b",
   "metadata": {
    "ExecuteTime": {
     "end_time": "2021-12-12T18:56:45.089588Z",
     "start_time": "2021-12-12T18:56:44.939327Z"
    }
   },
   "outputs": [],
   "source": [
    "data = data[~data[\"Year\"].isin([2016])]"
   ]
  },
  {
   "cell_type": "code",
   "execution_count": 24,
   "id": "915247c7",
   "metadata": {
    "ExecuteTime": {
     "end_time": "2021-12-12T18:56:55.763755Z",
     "start_time": "2021-12-12T18:56:55.760957Z"
    }
   },
   "outputs": [],
   "source": [
    "training_start_year = 2017\n",
    "training_end_year = 2017\n",
    "holdout_end_year = 2018"
   ]
  },
  {
   "cell_type": "code",
   "execution_count": 25,
   "id": "e11111f6",
   "metadata": {
    "ExecuteTime": {
     "end_time": "2021-12-12T18:57:01.152870Z",
     "start_time": "2021-12-12T18:57:01.070862Z"
    }
   },
   "outputs": [],
   "source": [
    "in_time = data[data[\"Year\"] <= training_end_year]\n",
    "in_time = in_time[in_time[\"Year\"] >= training_start_year]\n",
    "out_of_time = data[data[\"Year\"] > training_end_year]"
   ]
  },
  {
   "cell_type": "code",
   "execution_count": 26,
   "id": "e0701895",
   "metadata": {
    "ExecuteTime": {
     "end_time": "2021-12-12T18:57:07.703473Z",
     "start_time": "2021-12-12T18:57:07.662954Z"
    }
   },
   "outputs": [],
   "source": [
    "out_of_time = out_of_time[~out_of_time[TIME_COLUMN].isin([\"2018-10\", \"2018-09\"])]"
   ]
  },
  {
   "cell_type": "code",
   "execution_count": 27,
   "id": "ff046a1f",
   "metadata": {
    "ExecuteTime": {
     "end_time": "2021-12-12T18:57:14.174818Z",
     "start_time": "2021-12-12T18:57:14.141420Z"
    }
   },
   "outputs": [],
   "source": [
    "train, test = train_test_split(in_time, \n",
    "                               test_size=0.2,\n",
    "                               random_state=42)"
   ]
  },
  {
   "cell_type": "code",
   "execution_count": 28,
   "id": "cf3b43aa",
   "metadata": {
    "ExecuteTime": {
     "end_time": "2021-12-12T18:57:14.416594Z",
     "start_time": "2021-12-12T18:57:14.413118Z"
    }
   },
   "outputs": [
    {
     "data": {
      "text/plain": [
       "(41436, 35)"
      ]
     },
     "execution_count": 28,
     "metadata": {},
     "output_type": "execute_result"
    }
   ],
   "source": [
    "train.shape"
   ]
  },
  {
   "cell_type": "code",
   "execution_count": 29,
   "id": "9e2b2b06",
   "metadata": {
    "ExecuteTime": {
     "end_time": "2021-12-12T18:57:15.991100Z",
     "start_time": "2021-12-12T18:57:15.987731Z"
    }
   },
   "outputs": [
    {
     "data": {
      "text/plain": [
       "(10360, 35)"
      ]
     },
     "execution_count": 29,
     "metadata": {},
     "output_type": "execute_result"
    }
   ],
   "source": [
    "test.shape"
   ]
  },
  {
   "cell_type": "code",
   "execution_count": 30,
   "id": "12509f2f",
   "metadata": {
    "ExecuteTime": {
     "end_time": "2021-12-12T18:57:16.217484Z",
     "start_time": "2021-12-12T18:57:16.213333Z"
    }
   },
   "outputs": [
    {
     "data": {
      "text/plain": [
       "(61912, 35)"
      ]
     },
     "execution_count": 30,
     "metadata": {},
     "output_type": "execute_result"
    }
   ],
   "source": [
    "out_of_time.shape"
   ]
  },
  {
   "cell_type": "code",
   "execution_count": 31,
   "id": "1bd5948c",
   "metadata": {
    "ExecuteTime": {
     "end_time": "2021-12-12T18:57:18.452214Z",
     "start_time": "2021-12-12T18:57:18.327671Z"
    }
   },
   "outputs": [
    {
     "name": "stderr",
     "output_type": "stream",
     "text": [
      "/tmp/ipykernel_96/1872798990.py:1: FutureWarning: DataFrame.mean and DataFrame.median with numeric_only=None will include datetime64 and datetime64tz columns in a future version.\n",
      "  median_input = train.median()\n",
      "/home/jovyan/.conda/envs/ml/lib/python3.9/site-packages/pandas/core/series.py:4517: SettingWithCopyWarning: \n",
      "A value is trying to be set on a copy of a slice from a DataFrame\n",
      "\n",
      "See the caveats in the documentation: https://pandas.pydata.org/pandas-docs/stable/user_guide/indexing.html#returning-a-view-versus-a-copy\n",
      "  return super().fillna(\n"
     ]
    }
   ],
   "source": [
    "median_input = train.median()\n",
    "train.fillna(median_input, inplace=True)\n",
    "test.fillna(median_input, inplace=True)\n",
    "out_of_time.fillna(median_input, inplace=True)"
   ]
  },
  {
   "cell_type": "markdown",
   "id": "14e5dc30",
   "metadata": {},
   "source": [
    "## Checking the support in the different environments"
   ]
  },
  {
   "cell_type": "code",
   "execution_count": 32,
   "id": "66e13f3f",
   "metadata": {
    "ExecuteTime": {
     "end_time": "2021-11-28T22:54:25.980010Z",
     "start_time": "2021-11-28T22:54:25.957735Z"
    }
   },
   "outputs": [
    {
     "name": "stdout",
     "output_type": "stream",
     "text": [
      "Year-tri\n",
      "2017-00    0.357558\n",
      "2017-01    0.523837\n",
      "2017-02    0.739535\n",
      "2017-03    0.472093\n",
      "Name: seller_id, dtype: float64\n",
      "Year-tri\n",
      "2017-00    0.821918\n",
      "2017-01    0.931507\n",
      "2017-02    0.958904\n",
      "2017-03    0.863014\n",
      "Name: product_category_name, dtype: float64\n"
     ]
    },
    {
     "data": {
      "text/plain": [
       "0.7085457151959222"
      ]
     },
     "execution_count": 32,
     "metadata": {},
     "output_type": "execute_result"
    }
   ],
   "source": [
    "check_categoricals_match(train, columns_to_label_encode, TIME_COLUMN)"
   ]
  },
  {
   "cell_type": "code",
   "execution_count": 33,
   "id": "487eb1cb",
   "metadata": {
    "ExecuteTime": {
     "end_time": "2021-11-28T22:54:26.003426Z",
     "start_time": "2021-11-28T22:54:25.982066Z"
    }
   },
   "outputs": [
    {
     "name": "stderr",
     "output_type": "stream",
     "text": [
      "/home/jovyan/.conda/envs/ml/lib/python3.9/site-packages/time_robust_forest/functions.py:240: SettingWithCopyWarning: \n",
      "A value is trying to be set on a copy of a slice from a DataFrame.\n",
      "Try using .loc[row_indexer,col_indexer] = value instead\n",
      "\n",
      "See the caveats in the documentation: https://pandas.pydata.org/pandas-docs/stable/user_guide/indexing.html#returning-a-view-versus-a-copy\n",
      "  data[numerical_feature + \"_quant\"] = pd.cut(\n"
     ]
    },
    {
     "name": "stdout",
     "output_type": "stream",
     "text": [
      "Year-tri\n",
      "2017-00    0.777778\n",
      "2017-01    0.888889\n",
      "2017-02    0.555556\n",
      "2017-03    0.555556\n",
      "Name: price_quant, dtype: float64\n",
      "Year-tri\n",
      "2017-00    0.7\n",
      "2017-01    1.0\n",
      "2017-02    0.9\n",
      "2017-03    0.6\n",
      "Name: freight_value_quant, dtype: float64\n",
      "Year-tri\n",
      "2017-00    0.9\n",
      "2017-01    1.0\n",
      "2017-02    1.0\n",
      "2017-03    1.0\n",
      "Name: product_name_lenght_quant, dtype: float64\n",
      "Year-tri\n",
      "2017-00    1.0\n",
      "2017-01    1.0\n",
      "2017-02    1.0\n",
      "2017-03    1.0\n",
      "Name: product_description_lenght_quant, dtype: float64\n",
      "Year-tri\n",
      "2017-00    0.9\n",
      "2017-01    1.0\n",
      "2017-02    1.0\n",
      "2017-03    1.0\n",
      "Name: product_photos_qty_quant, dtype: float64\n",
      "Year-tri\n",
      "2017-00    0.888889\n",
      "2017-01    0.888889\n",
      "2017-02    1.000000\n",
      "2017-03    1.000000\n",
      "Name: product_weight_g_quant, dtype: float64\n",
      "Year-tri\n",
      "2017-00    1.0\n",
      "2017-01    1.0\n",
      "2017-02    1.0\n",
      "2017-03    1.0\n",
      "Name: product_length_cm_quant, dtype: float64\n",
      "Year-tri\n",
      "2017-00    1.0\n",
      "2017-01    1.0\n",
      "2017-02    1.0\n",
      "2017-03    1.0\n",
      "Name: product_height_cm_quant, dtype: float64\n",
      "Year-tri\n",
      "2017-00    1.0\n",
      "2017-01    1.0\n",
      "2017-02    0.9\n",
      "2017-03    1.0\n",
      "Name: product_width_cm_quant, dtype: float64\n",
      "Year-tri\n",
      "2017-00    0.9\n",
      "2017-01    0.9\n",
      "2017-02    1.0\n",
      "2017-03    0.7\n",
      "Name: difference_estimated_delivered_quant, dtype: float64\n",
      "Year-tri\n",
      "2017-00    0.75\n",
      "2017-01    0.75\n",
      "2017-02    0.75\n",
      "2017-03    0.50\n",
      "Name: difference_limit_delivered_quant, dtype: float64\n"
     ]
    },
    {
     "data": {
      "text/plain": [
       "0.9023989898989899"
      ]
     },
     "execution_count": 33,
     "metadata": {},
     "output_type": "execute_result"
    }
   ],
   "source": [
    "check_numerical_match(train, numerical_features, TIME_COLUMN, verbose=True, n_q=10)"
   ]
  },
  {
   "cell_type": "markdown",
   "id": "d66068f7",
   "metadata": {},
   "source": [
    "### Benchmark"
   ]
  },
  {
   "cell_type": "code",
   "execution_count": 34,
   "id": "c2b091cf",
   "metadata": {
    "ExecuteTime": {
     "end_time": "2021-11-28T22:54:26.008117Z",
     "start_time": "2021-11-28T22:54:26.005522Z"
    }
   },
   "outputs": [],
   "source": [
    "from pycaret.classification import *"
   ]
  },
  {
   "cell_type": "code",
   "execution_count": 35,
   "id": "497a734d",
   "metadata": {
    "ExecuteTime": {
     "end_time": "2021-11-28T22:54:26.014481Z",
     "start_time": "2021-11-28T22:54:26.010479Z"
    }
   },
   "outputs": [
    {
     "data": {
      "text/plain": [
       "'target'"
      ]
     },
     "execution_count": 35,
     "metadata": {},
     "output_type": "execute_result"
    }
   ],
   "source": [
    "TARGET"
   ]
  },
  {
   "cell_type": "code",
   "execution_count": 36,
   "id": "6051086b",
   "metadata": {
    "ExecuteTime": {
     "end_time": "2021-11-28T22:55:14.708511Z",
     "start_time": "2021-11-28T22:54:26.016846Z"
    }
   },
   "outputs": [
    {
     "data": {
      "text/html": [
       "<style  type=\"text/css\" >\n",
       "#T_037462c0_0067_11ed_80e1_62dc5c26477crow5_col0,#T_037462c0_0067_11ed_80e1_62dc5c26477crow5_col1,#T_037462c0_0067_11ed_80e1_62dc5c26477crow5_col2,#T_037462c0_0067_11ed_80e1_62dc5c26477crow5_col3,#T_037462c0_0067_11ed_80e1_62dc5c26477crow5_col4,#T_037462c0_0067_11ed_80e1_62dc5c26477crow5_col5,#T_037462c0_0067_11ed_80e1_62dc5c26477crow5_col6{\n",
       "            background:  yellow;\n",
       "        }</style><table id=\"T_037462c0_0067_11ed_80e1_62dc5c26477c\" ><thead>    <tr>        <th class=\"blank level0\" ></th>        <th class=\"col_heading level0 col0\" >Accuracy</th>        <th class=\"col_heading level0 col1\" >AUC</th>        <th class=\"col_heading level0 col2\" >Recall</th>        <th class=\"col_heading level0 col3\" >Prec.</th>        <th class=\"col_heading level0 col4\" >F1</th>        <th class=\"col_heading level0 col5\" >Kappa</th>        <th class=\"col_heading level0 col6\" >MCC</th>    </tr>    <tr>        <th class=\"index_name level0\" >Fold</th>        <th class=\"blank\" ></th>        <th class=\"blank\" ></th>        <th class=\"blank\" ></th>        <th class=\"blank\" ></th>        <th class=\"blank\" ></th>        <th class=\"blank\" ></th>        <th class=\"blank\" ></th>    </tr></thead><tbody>\n",
       "                <tr>\n",
       "                        <th id=\"T_037462c0_0067_11ed_80e1_62dc5c26477clevel0_row0\" class=\"row_heading level0 row0\" >0</th>\n",
       "                        <td id=\"T_037462c0_0067_11ed_80e1_62dc5c26477crow0_col0\" class=\"data row0 col0\" >0.6221</td>\n",
       "                        <td id=\"T_037462c0_0067_11ed_80e1_62dc5c26477crow0_col1\" class=\"data row0 col1\" >0.6536</td>\n",
       "                        <td id=\"T_037462c0_0067_11ed_80e1_62dc5c26477crow0_col2\" class=\"data row0 col2\" >0.7359</td>\n",
       "                        <td id=\"T_037462c0_0067_11ed_80e1_62dc5c26477crow0_col3\" class=\"data row0 col3\" >0.6384</td>\n",
       "                        <td id=\"T_037462c0_0067_11ed_80e1_62dc5c26477crow0_col4\" class=\"data row0 col4\" >0.6837</td>\n",
       "                        <td id=\"T_037462c0_0067_11ed_80e1_62dc5c26477crow0_col5\" class=\"data row0 col5\" >0.2203</td>\n",
       "                        <td id=\"T_037462c0_0067_11ed_80e1_62dc5c26477crow0_col6\" class=\"data row0 col6\" >0.2238</td>\n",
       "            </tr>\n",
       "            <tr>\n",
       "                        <th id=\"T_037462c0_0067_11ed_80e1_62dc5c26477clevel0_row1\" class=\"row_heading level0 row1\" >1</th>\n",
       "                        <td id=\"T_037462c0_0067_11ed_80e1_62dc5c26477crow1_col0\" class=\"data row1 col0\" >0.6244</td>\n",
       "                        <td id=\"T_037462c0_0067_11ed_80e1_62dc5c26477crow1_col1\" class=\"data row1 col1\" >0.6633</td>\n",
       "                        <td id=\"T_037462c0_0067_11ed_80e1_62dc5c26477crow1_col2\" class=\"data row1 col2\" >0.7459</td>\n",
       "                        <td id=\"T_037462c0_0067_11ed_80e1_62dc5c26477crow1_col3\" class=\"data row1 col3\" >0.6382</td>\n",
       "                        <td id=\"T_037462c0_0067_11ed_80e1_62dc5c26477crow1_col4\" class=\"data row1 col4\" >0.6879</td>\n",
       "                        <td id=\"T_037462c0_0067_11ed_80e1_62dc5c26477crow1_col5\" class=\"data row1 col5\" >0.2234</td>\n",
       "                        <td id=\"T_037462c0_0067_11ed_80e1_62dc5c26477crow1_col6\" class=\"data row1 col6\" >0.2277</td>\n",
       "            </tr>\n",
       "            <tr>\n",
       "                        <th id=\"T_037462c0_0067_11ed_80e1_62dc5c26477clevel0_row2\" class=\"row_heading level0 row2\" >2</th>\n",
       "                        <td id=\"T_037462c0_0067_11ed_80e1_62dc5c26477crow2_col0\" class=\"data row2 col0\" >0.6178</td>\n",
       "                        <td id=\"T_037462c0_0067_11ed_80e1_62dc5c26477crow2_col1\" class=\"data row2 col1\" >0.6550</td>\n",
       "                        <td id=\"T_037462c0_0067_11ed_80e1_62dc5c26477crow2_col2\" class=\"data row2 col2\" >0.7285</td>\n",
       "                        <td id=\"T_037462c0_0067_11ed_80e1_62dc5c26477crow2_col3\" class=\"data row2 col3\" >0.6358</td>\n",
       "                        <td id=\"T_037462c0_0067_11ed_80e1_62dc5c26477crow2_col4\" class=\"data row2 col4\" >0.6790</td>\n",
       "                        <td id=\"T_037462c0_0067_11ed_80e1_62dc5c26477crow2_col5\" class=\"data row2 col5\" >0.2122</td>\n",
       "                        <td id=\"T_037462c0_0067_11ed_80e1_62dc5c26477crow2_col6\" class=\"data row2 col6\" >0.2152</td>\n",
       "            </tr>\n",
       "            <tr>\n",
       "                        <th id=\"T_037462c0_0067_11ed_80e1_62dc5c26477clevel0_row3\" class=\"row_heading level0 row3\" >3</th>\n",
       "                        <td id=\"T_037462c0_0067_11ed_80e1_62dc5c26477crow3_col0\" class=\"data row3 col0\" >0.6239</td>\n",
       "                        <td id=\"T_037462c0_0067_11ed_80e1_62dc5c26477crow3_col1\" class=\"data row3 col1\" >0.6654</td>\n",
       "                        <td id=\"T_037462c0_0067_11ed_80e1_62dc5c26477crow3_col2\" class=\"data row3 col2\" >0.7307</td>\n",
       "                        <td id=\"T_037462c0_0067_11ed_80e1_62dc5c26477crow3_col3\" class=\"data row3 col3\" >0.6414</td>\n",
       "                        <td id=\"T_037462c0_0067_11ed_80e1_62dc5c26477crow3_col4\" class=\"data row3 col4\" >0.6831</td>\n",
       "                        <td id=\"T_037462c0_0067_11ed_80e1_62dc5c26477crow3_col5\" class=\"data row3 col5\" >0.2252</td>\n",
       "                        <td id=\"T_037462c0_0067_11ed_80e1_62dc5c26477crow3_col6\" class=\"data row3 col6\" >0.2281</td>\n",
       "            </tr>\n",
       "            <tr>\n",
       "                        <th id=\"T_037462c0_0067_11ed_80e1_62dc5c26477clevel0_row4\" class=\"row_heading level0 row4\" >4</th>\n",
       "                        <td id=\"T_037462c0_0067_11ed_80e1_62dc5c26477crow4_col0\" class=\"data row4 col0\" >0.6282</td>\n",
       "                        <td id=\"T_037462c0_0067_11ed_80e1_62dc5c26477crow4_col1\" class=\"data row4 col1\" >0.6635</td>\n",
       "                        <td id=\"T_037462c0_0067_11ed_80e1_62dc5c26477crow4_col2\" class=\"data row4 col2\" >0.7493</td>\n",
       "                        <td id=\"T_037462c0_0067_11ed_80e1_62dc5c26477crow4_col3\" class=\"data row4 col3\" >0.6411</td>\n",
       "                        <td id=\"T_037462c0_0067_11ed_80e1_62dc5c26477crow4_col4\" class=\"data row4 col4\" >0.6910</td>\n",
       "                        <td id=\"T_037462c0_0067_11ed_80e1_62dc5c26477crow4_col5\" class=\"data row4 col5\" >0.2313</td>\n",
       "                        <td id=\"T_037462c0_0067_11ed_80e1_62dc5c26477crow4_col6\" class=\"data row4 col6\" >0.2357</td>\n",
       "            </tr>\n",
       "            <tr>\n",
       "                        <th id=\"T_037462c0_0067_11ed_80e1_62dc5c26477clevel0_row5\" class=\"row_heading level0 row5\" >Mean</th>\n",
       "                        <td id=\"T_037462c0_0067_11ed_80e1_62dc5c26477crow5_col0\" class=\"data row5 col0\" >0.6233</td>\n",
       "                        <td id=\"T_037462c0_0067_11ed_80e1_62dc5c26477crow5_col1\" class=\"data row5 col1\" >0.6602</td>\n",
       "                        <td id=\"T_037462c0_0067_11ed_80e1_62dc5c26477crow5_col2\" class=\"data row5 col2\" >0.7381</td>\n",
       "                        <td id=\"T_037462c0_0067_11ed_80e1_62dc5c26477crow5_col3\" class=\"data row5 col3\" >0.6390</td>\n",
       "                        <td id=\"T_037462c0_0067_11ed_80e1_62dc5c26477crow5_col4\" class=\"data row5 col4\" >0.6849</td>\n",
       "                        <td id=\"T_037462c0_0067_11ed_80e1_62dc5c26477crow5_col5\" class=\"data row5 col5\" >0.2225</td>\n",
       "                        <td id=\"T_037462c0_0067_11ed_80e1_62dc5c26477crow5_col6\" class=\"data row5 col6\" >0.2261</td>\n",
       "            </tr>\n",
       "            <tr>\n",
       "                        <th id=\"T_037462c0_0067_11ed_80e1_62dc5c26477clevel0_row6\" class=\"row_heading level0 row6\" >Std</th>\n",
       "                        <td id=\"T_037462c0_0067_11ed_80e1_62dc5c26477crow6_col0\" class=\"data row6 col0\" >0.0034</td>\n",
       "                        <td id=\"T_037462c0_0067_11ed_80e1_62dc5c26477crow6_col1\" class=\"data row6 col1\" >0.0048</td>\n",
       "                        <td id=\"T_037462c0_0067_11ed_80e1_62dc5c26477crow6_col2\" class=\"data row6 col2\" >0.0082</td>\n",
       "                        <td id=\"T_037462c0_0067_11ed_80e1_62dc5c26477crow6_col3\" class=\"data row6 col3\" >0.0021</td>\n",
       "                        <td id=\"T_037462c0_0067_11ed_80e1_62dc5c26477crow6_col4\" class=\"data row6 col4\" >0.0041</td>\n",
       "                        <td id=\"T_037462c0_0067_11ed_80e1_62dc5c26477crow6_col5\" class=\"data row6 col5\" >0.0063</td>\n",
       "                        <td id=\"T_037462c0_0067_11ed_80e1_62dc5c26477crow6_col6\" class=\"data row6 col6\" >0.0067</td>\n",
       "            </tr>\n",
       "    </tbody></table>"
      ],
      "text/plain": [
       "<pandas.io.formats.style.Styler at 0x7fbf2f41fe20>"
      ]
     },
     "metadata": {},
     "output_type": "display_data"
    }
   ],
   "source": [
    "clf1 = setup(train[features + [TARGET]], \n",
    "             target=TARGET,\n",
    "             session_id=2, \n",
    "             log_experiment=False, \n",
    "             experiment_name=\"{}\".format(PREFIX),\n",
    "             silent=True)\n",
    "\n",
    "rf = create_model('rf')\n",
    "tuned_rf = tune_model(rf,\n",
    "                     optimize=\"AUC\",\n",
    "                     fold=5,\n",
    "                     n_iter=50)"
   ]
  },
  {
   "cell_type": "code",
   "execution_count": 37,
   "id": "746d4d93",
   "metadata": {
    "ExecuteTime": {
     "end_time": "2021-11-28T22:55:14.716962Z",
     "start_time": "2021-11-28T22:55:14.711692Z"
    }
   },
   "outputs": [
    {
     "data": {
      "text/plain": [
       "RandomForestClassifier(bootstrap=False, ccp_alpha=0.0,\n",
       "                       class_weight='balanced_subsample', criterion='entropy',\n",
       "                       max_depth=11, max_features='sqrt', max_leaf_nodes=None,\n",
       "                       max_samples=None, min_impurity_decrease=0.0001,\n",
       "                       min_impurity_split=None, min_samples_leaf=6,\n",
       "                       min_samples_split=7, min_weight_fraction_leaf=0.0,\n",
       "                       n_estimators=250, n_jobs=-1, oob_score=False,\n",
       "                       random_state=2, verbose=0, warm_start=False)"
      ]
     },
     "execution_count": 37,
     "metadata": {},
     "output_type": "execute_result"
    }
   ],
   "source": [
    "tuned_rf"
   ]
  },
  {
   "cell_type": "code",
   "execution_count": 38,
   "id": "1cffc9d9",
   "metadata": {
    "ExecuteTime": {
     "end_time": "2021-11-28T22:55:15.318919Z",
     "start_time": "2021-11-28T22:55:14.721692Z"
    }
   },
   "outputs": [],
   "source": [
    "benchmark_model = tuned_rf\n",
    "benchmark_model.fit(train[features], train[TARGET])\n",
    "\n",
    "train[\"benchmark_prediction_sklearn\"] = benchmark_model.predict_proba(train[features])[:, 1]\n",
    "test[\"benchmark_prediction_sklearn\"] = benchmark_model.predict_proba(test[features])[:, 1]\n",
    "out_of_time[\"benchmark_prediction_sklearn\"] = benchmark_model.predict_proba(out_of_time[features])[:, 1]"
   ]
  },
  {
   "cell_type": "code",
   "execution_count": 39,
   "id": "ccefa24c",
   "metadata": {
    "ExecuteTime": {
     "end_time": "2021-11-28T22:55:15.361796Z",
     "start_time": "2021-11-28T22:55:15.322711Z"
    }
   },
   "outputs": [
    {
     "name": "stdout",
     "output_type": "stream",
     "text": [
      "0.7203083665768092\n",
      "0.6496785374572761\n",
      "0.6372817498802512\n"
     ]
    }
   ],
   "source": [
    "print(roc_auc_score(train[TARGET], train[\"benchmark_prediction_sklearn\"]))\n",
    "print(roc_auc_score(test[TARGET], test[\"benchmark_prediction_sklearn\"]))\n",
    "print(roc_auc_score(out_of_time[TARGET], out_of_time[\"benchmark_prediction_sklearn\"]))"
   ]
  },
  {
   "cell_type": "code",
   "execution_count": 40,
   "id": "ba4ce618",
   "metadata": {
    "ExecuteTime": {
     "end_time": "2021-11-28T22:55:15.370357Z",
     "start_time": "2021-11-28T22:55:15.364182Z"
    }
   },
   "outputs": [
    {
     "data": {
      "text/plain": [
       "['max', 'avg']"
      ]
     },
     "execution_count": 40,
     "metadata": {},
     "output_type": "execute_result"
    }
   ],
   "source": [
    "params_grid = {\"n_estimators\": [140], \n",
    "              \"max_depth\": [5, 12],\n",
    "              \"min_impurity_decrease\": [1e-3, 0],\n",
    "              \"min_sample_periods\": [5, 10],\n",
    "              \"period_criterion\": [\"max\", \"avg\"]}\n",
    "\n",
    "params_grid_benchmark = params_grid.copy()\n",
    "params_grid_benchmark.pop(\"period_criterion\")\n",
    "# params_grid = {\"n_estimators\": [5], \n",
    "#               \"max_depth\": [5],\n",
    "#               \"min_impurity_decrease\": [0.001],\n",
    "#               \"min_sample_periods\": [5]}"
   ]
  },
  {
   "cell_type": "code",
   "execution_count": 41,
   "id": "13efb5e2",
   "metadata": {
    "ExecuteTime": {
     "end_time": "2021-11-28T22:55:15.378048Z",
     "start_time": "2021-11-28T22:55:15.373070Z"
    }
   },
   "outputs": [
    {
     "data": {
      "text/plain": [
       "{'n_estimators': [140],\n",
       " 'max_depth': [5, 12],\n",
       " 'min_impurity_decrease': [0.001, 0],\n",
       " 'min_sample_periods': [5, 10],\n",
       " 'period_criterion': ['max', 'avg']}"
      ]
     },
     "execution_count": 41,
     "metadata": {},
     "output_type": "execute_result"
    }
   ],
   "source": [
    "params_grid"
   ]
  },
  {
   "cell_type": "code",
   "execution_count": 42,
   "id": "973e419e",
   "metadata": {
    "ExecuteTime": {
     "end_time": "2021-11-28T22:55:15.385423Z",
     "start_time": "2021-11-28T22:55:15.380797Z"
    }
   },
   "outputs": [
    {
     "data": {
      "text/plain": [
       "{'n_estimators': [140],\n",
       " 'max_depth': [5, 12],\n",
       " 'min_impurity_decrease': [0.001, 0],\n",
       " 'min_sample_periods': [5, 10]}"
      ]
     },
     "execution_count": 42,
     "metadata": {},
     "output_type": "execute_result"
    }
   ],
   "source": [
    "params_grid_benchmark"
   ]
  },
  {
   "cell_type": "code",
   "execution_count": 43,
   "id": "60a2a88f",
   "metadata": {
    "ExecuteTime": {
     "end_time": "2021-11-28T22:55:15.391515Z",
     "start_time": "2021-11-28T22:55:15.387554Z"
    }
   },
   "outputs": [],
   "source": [
    "DUMMY_TIME_COLUMN = \"dummy_time_column\"\n",
    "train[DUMMY_TIME_COLUMN] = 1"
   ]
  },
  {
   "cell_type": "code",
   "execution_count": 44,
   "id": "f91a142e",
   "metadata": {
    "ExecuteTime": {
     "end_time": "2021-11-28T23:21:07.187427Z",
     "start_time": "2021-11-28T22:55:15.393732Z"
    }
   },
   "outputs": [],
   "source": [
    "# model = TimeForestClassifier(time_column=DUMMY_TIME_COLUMN,\n",
    "#                                         multi=True)\n",
    "\n",
    "# benchmark_opt_param = env_wise_hyper_opt(train[features + [DUMMY_TIME_COLUMN]], train[TARGET], \n",
    "#                                          model, \n",
    "#                                          DUMMY_TIME_COLUMN, \n",
    "#                                          params_grid_benchmark, \n",
    "#                                          cv=5,\n",
    "#                                          scorer=make_scorer(roc_auc_score,\n",
    "#                                                              needs_proba=True))\n"
   ]
  },
  {
   "cell_type": "code",
   "execution_count": 45,
   "id": "2a41e4d5",
   "metadata": {},
   "outputs": [],
   "source": [
    "benchmark_opt_param = {'max_depth': 12,\n",
    " 'min_impurity_decrease': 0,\n",
    " 'min_sample_periods': 5,\n",
    " 'n_estimators': 240}"
   ]
  },
  {
   "cell_type": "code",
   "execution_count": 46,
   "id": "c96f6fc8-6f2f-40d7-bd35-39290c165664",
   "metadata": {},
   "outputs": [],
   "source": [
    "bootstrap_dict = {}"
   ]
  },
  {
   "cell_type": "code",
   "execution_count": 48,
   "id": "134b312a-f001-415f-acd3-95945c214fd2",
   "metadata": {},
   "outputs": [
    {
     "name": "stdout",
     "output_type": "stream",
     "text": [
      "0.7721168466730101\n",
      "0.6576869981851222\n",
      "0.6309601565669282\n",
      "******\n",
      "0.7733025356060709\n",
      "0.6558836445845487\n",
      "0.6328179593007042\n",
      "******\n",
      "0.7705018462809174\n",
      "0.6511114428126439\n",
      "0.630845698755178\n",
      "******\n",
      "0.7683565007434092\n",
      "0.6544104710654666\n",
      "0.6324651429940411\n",
      "******\n",
      "0.7729966263841059\n",
      "0.6530302632508098\n",
      "0.6368762598165245\n",
      "******\n",
      "0.7695502885124174\n",
      "0.656342795955726\n",
      "0.6334579366580637\n",
      "******\n",
      "0.7768467544704294\n",
      "0.6583829489921\n",
      "0.6301663929584376\n",
      "******\n",
      "0.7789992207065016\n",
      "0.6560144642489623\n",
      "0.6325762655355227\n",
      "******\n",
      "0.7809035810383624\n",
      "0.6592221865624213\n",
      "0.6315163338024572\n",
      "******\n"
     ]
    }
   ],
   "source": [
    "bootstrap_dict[\"benchmark\"] = {\"train\": [], \"test\": [], \"holdout\": []}\n",
    "\n",
    "\n",
    "for n in range(N_BOOTSTRAP):\n",
    "    resampled_train = train.sample(frac=1, replace=True)\n",
    "    benchmark_model = TimeForestClassifier(time_column=DUMMY_TIME_COLUMN,\n",
    "                                       multi=True, \n",
    "                                       **benchmark_opt_param)\n",
    "    benchmark_model.fit(resampled_train[features + [DUMMY_TIME_COLUMN]], resampled_train[TARGET].values)\n",
    "    train[\"benchmark_prediction\"] = benchmark_model.predict_proba(train[features])[:, 1]\n",
    "    test[\"benchmark_prediction\"] = benchmark_model.predict_proba(test[features])[:, 1]\n",
    "    out_of_time[\"benchmark_prediction\"] = benchmark_model.predict_proba(out_of_time[features])[:, 1]\n",
    "    train_perf = roc_auc_score(train[TARGET], train[\"benchmark_prediction\"])\n",
    "    test_perf = roc_auc_score(test[TARGET], test[\"benchmark_prediction\"])\n",
    "    holdout_perf = roc_auc_score(out_of_time[TARGET], out_of_time[\"benchmark_prediction\"])\n",
    "    print(train_perf)\n",
    "    print(test_perf)\n",
    "    print(holdout_perf)\n",
    "    \n",
    "    print(\"******\")\n",
    "    \n",
    "    bootstrap_dict[\"benchmark\"][\"train\"].append(train_perf)\n",
    "    bootstrap_dict[\"benchmark\"][\"test\"].append(test_perf)\n",
    "    bootstrap_dict[\"benchmark\"][\"holdout\"].append(holdout_perf)"
   ]
  },
  {
   "cell_type": "code",
   "execution_count": 49,
   "id": "42da352c",
   "metadata": {
    "ExecuteTime": {
     "end_time": "2021-11-28T23:21:07.212811Z",
     "start_time": "2021-11-28T22:54:36.693Z"
    }
   },
   "outputs": [],
   "source": [
    "# results = reverse_learning_curve(train, \n",
    "#                                  out_of_time, \n",
    "#                                  benchmark_model, \n",
    "#                                  features, \n",
    "#                                  TARGET,\n",
    "#                                  TIME_COLUMN, \n",
    "#                                  roc_auc_score, \n",
    "#                                  n_rounds=5,\n",
    "#                                  dummy_time_column=DUMMY_TIME_COLUMN)"
   ]
  },
  {
   "cell_type": "code",
   "execution_count": 50,
   "id": "5d1df472",
   "metadata": {
    "ExecuteTime": {
     "end_time": "2021-11-28T23:21:07.216238Z",
     "start_time": "2021-11-28T22:54:38.819Z"
    }
   },
   "outputs": [],
   "source": [
    "# benchmark_importances = results[\"feature_importance\"][-1].copy(deep=True)\n",
    "# benchmark_importances.rename(\"RF\", inplace=True)"
   ]
  },
  {
   "cell_type": "code",
   "execution_count": 51,
   "id": "b1fc0532",
   "metadata": {
    "ExecuteTime": {
     "end_time": "2021-11-28T23:21:07.219477Z",
     "start_time": "2021-11-28T22:54:39.469Z"
    }
   },
   "outputs": [],
   "source": [
    "# importance_by_reverse_segment_benchmark = plot_feature_migration_from_learning_curve_results(results, \n",
    "#                                                                                              features, \n",
    "#                                                                                              save_as=\"../images/{}_benchmark_importance_migration_learning_curve.eps\".format(PREFIX))"
   ]
  },
  {
   "cell_type": "code",
   "execution_count": 52,
   "id": "1f52519c",
   "metadata": {
    "ExecuteTime": {
     "end_time": "2021-11-28T23:21:07.223087Z",
     "start_time": "2021-11-28T22:54:40.026Z"
    }
   },
   "outputs": [],
   "source": [
    "# fig, ax = plt.subplots()\n",
    "\n",
    "# blues = plt.get_cmap(\"Blues\")\n",
    "# gradient = np.linspace(.2, 0.8, len(results[\"holdout_performance\"]))\n",
    "\n",
    "# for i, r in enumerate(results[\"holdout_performance_by_period\"]):\n",
    "#     r.plot(label=results[\"last_period_included\"][i], color=blues(gradient[i]))\n",
    "\n",
    "# ax.xaxis.set_tick_params(labelsize=12)\n",
    "# ax.yaxis.set_tick_params(labelsize=12)\n",
    "# plt.legend(bbox_to_anchor=(1.05, 1.0), fontsize=12, title=\"Oldest time period included in train\")\n",
    "# plt.ylabel(\"AUC\", fontsize=15)\n",
    "# plt.xlabel(\"Year\", fontsize=15)\n",
    "\n",
    "# plt.savefig(\"../images/{}_perf_by_period_reverse_learning_curve_benchmark.eps\".format(PREFIX), format=\"eps\", bbox_inches = \"tight\")\n",
    "# plt.show()"
   ]
  },
  {
   "cell_type": "code",
   "execution_count": 53,
   "id": "5b227237",
   "metadata": {
    "ExecuteTime": {
     "end_time": "2021-11-28T23:21:07.226054Z",
     "start_time": "2021-11-28T22:54:40.782Z"
    }
   },
   "outputs": [],
   "source": [
    "# results"
   ]
  },
  {
   "cell_type": "markdown",
   "id": "cc2d7c6b",
   "metadata": {},
   "source": [
    "## Challenger model"
   ]
  },
  {
   "cell_type": "code",
   "execution_count": 54,
   "id": "dfbd1c87",
   "metadata": {
    "ExecuteTime": {
     "end_time": "2021-11-28T20:37:57.289297Z",
     "start_time": "2021-11-28T20:37:57.286212Z"
    }
   },
   "outputs": [],
   "source": [
    "train.reset_index(drop=True, inplace=True)"
   ]
  },
  {
   "cell_type": "code",
   "execution_count": 55,
   "id": "3d2a953b",
   "metadata": {
    "ExecuteTime": {
     "end_time": "2021-11-28T20:37:57.304584Z",
     "start_time": "2021-11-28T20:37:57.291568Z"
    }
   },
   "outputs": [
    {
     "data": {
      "text/html": [
       "<div>\n",
       "<style scoped>\n",
       "    .dataframe tbody tr th:only-of-type {\n",
       "        vertical-align: middle;\n",
       "    }\n",
       "\n",
       "    .dataframe tbody tr th {\n",
       "        vertical-align: top;\n",
       "    }\n",
       "\n",
       "    .dataframe thead th {\n",
       "        text-align: right;\n",
       "    }\n",
       "</style>\n",
       "<table border=\"1\" class=\"dataframe\">\n",
       "  <thead>\n",
       "    <tr style=\"text-align: right;\">\n",
       "      <th></th>\n",
       "      <th>product_weight_g</th>\n",
       "      <th>product_height_cm</th>\n",
       "      <th>product_name_lenght</th>\n",
       "      <th>product_photos_qty</th>\n",
       "      <th>product_description_lenght</th>\n",
       "      <th>product_width_cm</th>\n",
       "      <th>seller_id</th>\n",
       "      <th>difference_limit_delivered</th>\n",
       "      <th>product_length_cm</th>\n",
       "      <th>difference_estimated_delivered</th>\n",
       "      <th>price</th>\n",
       "      <th>product_category_name</th>\n",
       "      <th>freight_value</th>\n",
       "      <th>Year-tri</th>\n",
       "    </tr>\n",
       "  </thead>\n",
       "  <tbody>\n",
       "    <tr>\n",
       "      <th>0</th>\n",
       "      <td>350.0</td>\n",
       "      <td>5.0</td>\n",
       "      <td>51.0</td>\n",
       "      <td>2.0</td>\n",
       "      <td>2025.0</td>\n",
       "      <td>20.0</td>\n",
       "      <td>510</td>\n",
       "      <td>5.0</td>\n",
       "      <td>20.0</td>\n",
       "      <td>24.0</td>\n",
       "      <td>267.99</td>\n",
       "      <td>45</td>\n",
       "      <td>15.63</td>\n",
       "      <td>2017-02</td>\n",
       "    </tr>\n",
       "    <tr>\n",
       "      <th>1</th>\n",
       "      <td>756.0</td>\n",
       "      <td>21.0</td>\n",
       "      <td>44.0</td>\n",
       "      <td>3.0</td>\n",
       "      <td>368.0</td>\n",
       "      <td>24.0</td>\n",
       "      <td>1330</td>\n",
       "      <td>-6.0</td>\n",
       "      <td>32.0</td>\n",
       "      <td>19.0</td>\n",
       "      <td>49.90</td>\n",
       "      <td>13</td>\n",
       "      <td>15.70</td>\n",
       "      <td>2017-00</td>\n",
       "    </tr>\n",
       "    <tr>\n",
       "      <th>2</th>\n",
       "      <td>1000.0</td>\n",
       "      <td>30.0</td>\n",
       "      <td>53.0</td>\n",
       "      <td>3.0</td>\n",
       "      <td>220.0</td>\n",
       "      <td>20.0</td>\n",
       "      <td>1113</td>\n",
       "      <td>1.0</td>\n",
       "      <td>20.0</td>\n",
       "      <td>9.0</td>\n",
       "      <td>129.90</td>\n",
       "      <td>54</td>\n",
       "      <td>9.72</td>\n",
       "      <td>2017-02</td>\n",
       "    </tr>\n",
       "    <tr>\n",
       "      <th>3</th>\n",
       "      <td>350.0</td>\n",
       "      <td>4.0</td>\n",
       "      <td>56.0</td>\n",
       "      <td>1.0</td>\n",
       "      <td>351.0</td>\n",
       "      <td>11.0</td>\n",
       "      <td>1798</td>\n",
       "      <td>-10.0</td>\n",
       "      <td>19.0</td>\n",
       "      <td>8.0</td>\n",
       "      <td>14.50</td>\n",
       "      <td>71</td>\n",
       "      <td>15.10</td>\n",
       "      <td>2017-01</td>\n",
       "    </tr>\n",
       "    <tr>\n",
       "      <th>4</th>\n",
       "      <td>3800.0</td>\n",
       "      <td>15.0</td>\n",
       "      <td>59.0</td>\n",
       "      <td>2.0</td>\n",
       "      <td>302.0</td>\n",
       "      <td>35.0</td>\n",
       "      <td>881</td>\n",
       "      <td>-6.0</td>\n",
       "      <td>45.0</td>\n",
       "      <td>15.0</td>\n",
       "      <td>199.90</td>\n",
       "      <td>15</td>\n",
       "      <td>26.24</td>\n",
       "      <td>2017-02</td>\n",
       "    </tr>\n",
       "    <tr>\n",
       "      <th>...</th>\n",
       "      <td>...</td>\n",
       "      <td>...</td>\n",
       "      <td>...</td>\n",
       "      <td>...</td>\n",
       "      <td>...</td>\n",
       "      <td>...</td>\n",
       "      <td>...</td>\n",
       "      <td>...</td>\n",
       "      <td>...</td>\n",
       "      <td>...</td>\n",
       "      <td>...</td>\n",
       "      <td>...</td>\n",
       "      <td>...</td>\n",
       "      <td>...</td>\n",
       "    </tr>\n",
       "    <tr>\n",
       "      <th>41431</th>\n",
       "      <td>100.0</td>\n",
       "      <td>2.0</td>\n",
       "      <td>35.0</td>\n",
       "      <td>7.0</td>\n",
       "      <td>920.0</td>\n",
       "      <td>25.0</td>\n",
       "      <td>604</td>\n",
       "      <td>7.0</td>\n",
       "      <td>20.0</td>\n",
       "      <td>27.0</td>\n",
       "      <td>89.00</td>\n",
       "      <td>34</td>\n",
       "      <td>17.90</td>\n",
       "      <td>2017-03</td>\n",
       "    </tr>\n",
       "    <tr>\n",
       "      <th>41432</th>\n",
       "      <td>200.0</td>\n",
       "      <td>8.0</td>\n",
       "      <td>30.0</td>\n",
       "      <td>2.0</td>\n",
       "      <td>227.0</td>\n",
       "      <td>11.0</td>\n",
       "      <td>468</td>\n",
       "      <td>3.0</td>\n",
       "      <td>16.0</td>\n",
       "      <td>11.0</td>\n",
       "      <td>40.00</td>\n",
       "      <td>34</td>\n",
       "      <td>7.78</td>\n",
       "      <td>2017-01</td>\n",
       "    </tr>\n",
       "    <tr>\n",
       "      <th>41433</th>\n",
       "      <td>1000.0</td>\n",
       "      <td>10.0</td>\n",
       "      <td>28.0</td>\n",
       "      <td>2.0</td>\n",
       "      <td>855.0</td>\n",
       "      <td>25.0</td>\n",
       "      <td>961</td>\n",
       "      <td>-4.0</td>\n",
       "      <td>30.0</td>\n",
       "      <td>15.0</td>\n",
       "      <td>213.00</td>\n",
       "      <td>10</td>\n",
       "      <td>18.74</td>\n",
       "      <td>2017-01</td>\n",
       "    </tr>\n",
       "    <tr>\n",
       "      <th>41434</th>\n",
       "      <td>250.0</td>\n",
       "      <td>8.0</td>\n",
       "      <td>54.0</td>\n",
       "      <td>2.0</td>\n",
       "      <td>1536.0</td>\n",
       "      <td>21.0</td>\n",
       "      <td>2482</td>\n",
       "      <td>-1.0</td>\n",
       "      <td>20.0</td>\n",
       "      <td>24.0</td>\n",
       "      <td>56.99</td>\n",
       "      <td>63</td>\n",
       "      <td>14.15</td>\n",
       "      <td>2017-02</td>\n",
       "    </tr>\n",
       "    <tr>\n",
       "      <th>41435</th>\n",
       "      <td>800.0</td>\n",
       "      <td>4.0</td>\n",
       "      <td>63.0</td>\n",
       "      <td>1.0</td>\n",
       "      <td>785.0</td>\n",
       "      <td>19.0</td>\n",
       "      <td>1333</td>\n",
       "      <td>-4.0</td>\n",
       "      <td>38.0</td>\n",
       "      <td>17.0</td>\n",
       "      <td>59.90</td>\n",
       "      <td>64</td>\n",
       "      <td>11.81</td>\n",
       "      <td>2017-00</td>\n",
       "    </tr>\n",
       "  </tbody>\n",
       "</table>\n",
       "<p>41436 rows × 14 columns</p>\n",
       "</div>"
      ],
      "text/plain": [
       "       product_weight_g  product_height_cm  product_name_lenght  \\\n",
       "0                 350.0                5.0                 51.0   \n",
       "1                 756.0               21.0                 44.0   \n",
       "2                1000.0               30.0                 53.0   \n",
       "3                 350.0                4.0                 56.0   \n",
       "4                3800.0               15.0                 59.0   \n",
       "...                 ...                ...                  ...   \n",
       "41431             100.0                2.0                 35.0   \n",
       "41432             200.0                8.0                 30.0   \n",
       "41433            1000.0               10.0                 28.0   \n",
       "41434             250.0                8.0                 54.0   \n",
       "41435             800.0                4.0                 63.0   \n",
       "\n",
       "       product_photos_qty  product_description_lenght  product_width_cm  \\\n",
       "0                     2.0                      2025.0              20.0   \n",
       "1                     3.0                       368.0              24.0   \n",
       "2                     3.0                       220.0              20.0   \n",
       "3                     1.0                       351.0              11.0   \n",
       "4                     2.0                       302.0              35.0   \n",
       "...                   ...                         ...               ...   \n",
       "41431                 7.0                       920.0              25.0   \n",
       "41432                 2.0                       227.0              11.0   \n",
       "41433                 2.0                       855.0              25.0   \n",
       "41434                 2.0                      1536.0              21.0   \n",
       "41435                 1.0                       785.0              19.0   \n",
       "\n",
       "       seller_id  difference_limit_delivered  product_length_cm  \\\n",
       "0            510                         5.0               20.0   \n",
       "1           1330                        -6.0               32.0   \n",
       "2           1113                         1.0               20.0   \n",
       "3           1798                       -10.0               19.0   \n",
       "4            881                        -6.0               45.0   \n",
       "...          ...                         ...                ...   \n",
       "41431        604                         7.0               20.0   \n",
       "41432        468                         3.0               16.0   \n",
       "41433        961                        -4.0               30.0   \n",
       "41434       2482                        -1.0               20.0   \n",
       "41435       1333                        -4.0               38.0   \n",
       "\n",
       "       difference_estimated_delivered   price  product_category_name  \\\n",
       "0                                24.0  267.99                     45   \n",
       "1                                19.0   49.90                     13   \n",
       "2                                 9.0  129.90                     54   \n",
       "3                                 8.0   14.50                     71   \n",
       "4                                15.0  199.90                     15   \n",
       "...                               ...     ...                    ...   \n",
       "41431                            27.0   89.00                     34   \n",
       "41432                            11.0   40.00                     34   \n",
       "41433                            15.0  213.00                     10   \n",
       "41434                            24.0   56.99                     63   \n",
       "41435                            17.0   59.90                     64   \n",
       "\n",
       "       freight_value Year-tri  \n",
       "0              15.63  2017-02  \n",
       "1              15.70  2017-00  \n",
       "2               9.72  2017-02  \n",
       "3              15.10  2017-01  \n",
       "4              26.24  2017-02  \n",
       "...              ...      ...  \n",
       "41431          17.90  2017-03  \n",
       "41432           7.78  2017-01  \n",
       "41433          18.74  2017-01  \n",
       "41434          14.15  2017-02  \n",
       "41435          11.81  2017-00  \n",
       "\n",
       "[41436 rows x 14 columns]"
      ]
     },
     "execution_count": 55,
     "metadata": {},
     "output_type": "execute_result"
    }
   ],
   "source": [
    "train[features + [TIME_COLUMN]]"
   ]
  },
  {
   "cell_type": "code",
   "execution_count": 56,
   "id": "6ec3a19d",
   "metadata": {
    "ExecuteTime": {
     "end_time": "2021-11-28T20:37:57.313172Z",
     "start_time": "2021-11-28T20:37:57.306931Z"
    }
   },
   "outputs": [
    {
     "data": {
      "text/plain": [
       "2017    41436\n",
       "Name: Year, dtype: int64"
      ]
     },
     "execution_count": 56,
     "metadata": {},
     "output_type": "execute_result"
    }
   ],
   "source": [
    "train[\"Year\"].value_counts()"
   ]
  },
  {
   "cell_type": "code",
   "execution_count": 57,
   "id": "4853caa8",
   "metadata": {
    "ExecuteTime": {
     "end_time": "2021-11-28T20:39:04.023667Z",
     "start_time": "2021-11-28T20:37:57.315398Z"
    }
   },
   "outputs": [],
   "source": [
    "# model = TimeForestClassifier(time_column=TIME_COLUMN,\n",
    "#                                         multi=True)\n",
    "\n",
    "# challenger_opt_param = env_wise_hyper_opt(train[features + [TIME_COLUMN]], \n",
    "#                                           train[TARGET], \n",
    "#                                           model, \n",
    "#                                           TIME_COLUMN,\n",
    "#                                           params_grid,\n",
    "#                                           cv=5,\n",
    "#                                           scorer=make_scorer(roc_auc_score,\n",
    "#                                                              needs_proba=True))\n",
    "\n"
   ]
  },
  {
   "cell_type": "code",
   "execution_count": 58,
   "id": "a5ea3a4d",
   "metadata": {},
   "outputs": [],
   "source": [
    "challenger_opt_param = {'max_depth': 12,\n",
    " 'min_impurity_decrease': 0,\n",
    " 'min_sample_periods': 5,\n",
    " 'n_estimators': 240,\n",
    " 'period_criterion': 'avg'}"
   ]
  },
  {
   "cell_type": "code",
   "execution_count": null,
   "id": "87b77539-d638-4258-bed7-4eceb708d12d",
   "metadata": {},
   "outputs": [
    {
     "name": "stdout",
     "output_type": "stream",
     "text": [
      "0.6878524113067556\n",
      "0.63496975606282\n",
      "0.6329084548531483\n",
      "******\n",
      "0.69024360323932\n",
      "0.6361048090334676\n",
      "0.6333671392472435\n",
      "******\n",
      "0.6944560692814639\n",
      "0.6384764812799626\n",
      "0.6321684628129736\n",
      "******\n"
     ]
    }
   ],
   "source": [
    "bootstrap_dict[\"challenger\"] = {\"train\": [], \"test\": [], \"holdout\": []}\n",
    "\n",
    "for n in range(N_BOOTSTRAP):\n",
    "    resampled_train = train.sample(frac=1, replace=True)\n",
    "    challenger_model = TimeForestClassifier(time_column=TIME_COLUMN,\n",
    "                                        multi=True,\n",
    "                                        **challenger_opt_param)\n",
    "\n",
    "    challenger_model.fit(resampled_train[features + [TIME_COLUMN]], \n",
    "                         resampled_train[TARGET].values)\n",
    "\n",
    "    train[\"challenger_prediction\"] = challenger_model.predict_proba(train[features])[:, 1]\n",
    "    test[\"challenger_prediction\"] = challenger_model.predict_proba(test[features])[:, 1]\n",
    "    out_of_time[\"challenger_prediction\"] = challenger_model.predict_proba(out_of_time[features])[:, 1]\n",
    "    \n",
    "    train_perf = roc_auc_score(train[TARGET], train[\"challenger_prediction\"])\n",
    "    test_perf = roc_auc_score(test[TARGET], test[\"challenger_prediction\"])\n",
    "    holdout_perf = roc_auc_score(out_of_time[TARGET], out_of_time[\"challenger_prediction\"])\n",
    "    print(train_perf)\n",
    "    print(test_perf)\n",
    "    print(holdout_perf)\n",
    "    \n",
    "    print(\"******\")\n",
    "    \n",
    "    bootstrap_dict[\"challenger\"][\"train\"].append(train_perf)\n",
    "    bootstrap_dict[\"challenger\"][\"test\"].append(test_perf)\n",
    "    bootstrap_dict[\"challenger\"][\"holdout\"].append(holdout_perf)    "
   ]
  },
  {
   "cell_type": "code",
   "execution_count": 60,
   "id": "b63c4121",
   "metadata": {},
   "outputs": [
    {
     "data": {
      "text/plain": [
       "{'max_depth': 12,\n",
       " 'min_impurity_decrease': 0,\n",
       " 'min_sample_periods': 5,\n",
       " 'n_estimators': 240,\n",
       " 'period_criterion': 'avg'}"
      ]
     },
     "execution_count": 60,
     "metadata": {},
     "output_type": "execute_result"
    }
   ],
   "source": [
    "challenger_opt_param"
   ]
  },
  {
   "cell_type": "markdown",
   "id": "159ffac2-3ada-4dfb-9e8d-54c13b123647",
   "metadata": {},
   "source": [
    "### Ensemble"
   ]
  },
  {
   "cell_type": "code",
   "execution_count": 61,
   "id": "87877cdf-4d93-407b-90e7-c65bdbcd6611",
   "metadata": {},
   "outputs": [
    {
     "name": "stdout",
     "output_type": "stream",
     "text": [
      "0.7776136696344126\n",
      "0.65273452329435\n",
      "0.6308173701409396\n",
      "******\n",
      "0.7786408826128407\n",
      "0.6613613973954363\n",
      "0.6329747222990849\n",
      "******\n",
      "0.7802148437112384\n",
      "0.6595020267240281\n",
      "0.6339192927635761\n",
      "******\n",
      "0.7701573873549793\n",
      "0.6568823704885323\n",
      "0.6307789515132961\n",
      "******\n",
      "0.7760378761507838\n",
      "0.6582487154927299\n",
      "0.6315386840321193\n",
      "******\n",
      "0.7839104237311676\n",
      "0.6569333894032149\n",
      "0.6308910039904068\n",
      "******\n",
      "0.7750079057452564\n",
      "0.6610938357230933\n",
      "0.6315523783404511\n",
      "******\n",
      "0.777542096879668\n",
      "0.6586048294033114\n",
      "0.6349354868066643\n",
      "******\n",
      "0.7783610680668389\n",
      "0.6584583174146774\n",
      "0.6336524171253335\n",
      "******\n",
      "0.7764833074082877\n",
      "0.6537423590452065\n",
      "0.633198391412177\n",
      "******\n"
     ]
    }
   ],
   "source": [
    "bootstrap_dict[\"ensemble\"] = {\"train\": [], \"test\": [], \"holdout\": []}\n",
    "\n",
    "\n",
    "for n in range(N_BOOTSTRAP):\n",
    "    resampled_train = train.sample(frac=1, replace=True)\n",
    "    model = TimeForestClassifier(time_column=DUMMY_TIME_COLUMN,\n",
    "                                       multi=True, \n",
    "                                       **benchmark_opt_param)\n",
    "    model.fit(resampled_train[features + [DUMMY_TIME_COLUMN]], resampled_train[TARGET].values)\n",
    "    train[\"ensemble_prediction\"] = model.predict_proba(train[features])[:, 1]\n",
    "    test[\"ensemble_prediction\"] = model.predict_proba(test[features])[:, 1]\n",
    "    out_of_time[\"ensemble_prediction\"] = model.predict_proba(out_of_time[features])[:, 1]\n",
    "    train_perf = roc_auc_score(train[TARGET], train[\"ensemble_prediction\"])\n",
    "    test_perf = roc_auc_score(test[TARGET], test[\"ensemble_prediction\"])\n",
    "    holdout_perf = roc_auc_score(out_of_time[TARGET], out_of_time[\"ensemble_prediction\"])\n",
    "    print(train_perf)\n",
    "    print(test_perf)\n",
    "    print(holdout_perf)\n",
    "    \n",
    "    print(\"******\")\n",
    "    \n",
    "    bootstrap_dict[\"ensemble\"][\"train\"].append(train_perf)\n",
    "    bootstrap_dict[\"ensemble\"][\"test\"].append(test_perf)\n",
    "    bootstrap_dict[\"ensemble\"][\"holdout\"].append(holdout_perf)"
   ]
  },
  {
   "cell_type": "markdown",
   "id": "1bb7797e-7817-4957-ade8-681e0ad4c7ae",
   "metadata": {},
   "source": [
    "### Few engineered "
   ]
  },
  {
   "cell_type": "code",
   "execution_count": 62,
   "id": "d651b47b-fee0-4bcc-b7c9-fabbd8b3d0d3",
   "metadata": {},
   "outputs": [
    {
     "data": {
      "text/plain": [
       "'Year-tri'"
      ]
     },
     "execution_count": 62,
     "metadata": {},
     "output_type": "execute_result"
    }
   ],
   "source": [
    "TIME_COLUMN"
   ]
  },
  {
   "cell_type": "code",
   "execution_count": 63,
   "id": "a79ef37a-04fa-4a23-8bfb-be85998a541b",
   "metadata": {},
   "outputs": [],
   "source": [
    "time_columns = [DUMMY_TIME_COLUMN, \"Year-tri\", \"Year-quadri\", \"Year-month\"]"
   ]
  },
  {
   "cell_type": "code",
   "execution_count": 65,
   "id": "9e76c5a3-1461-48cf-ad56-b222f5dd1a99",
   "metadata": {},
   "outputs": [
    {
     "name": "stdout",
     "output_type": "stream",
     "text": [
      "0.7086721988433753\n",
      "0.6405684265306505\n",
      "0.6314604105664531\n",
      "******\n",
      "0.7112068961550335\n",
      "0.641037159272866\n",
      "0.6296265986890924\n",
      "******\n",
      "0.7078495392877352\n",
      "0.643468319008052\n",
      "0.6302341670483745\n",
      "******\n",
      "0.709447899545305\n",
      "0.6426088624815238\n",
      "0.6326940617949979\n",
      "******\n",
      "0.7067295708037229\n",
      "0.6432431945105836\n",
      "0.6320477914848595\n",
      "******\n",
      "0.7081649455275527\n",
      "0.639548123680864\n",
      "0.6330571963623646\n",
      "******\n",
      "0.7110635099458744\n",
      "0.64059113513445\n",
      "0.6336017674081186\n",
      "******\n",
      "0.7051850611977613\n",
      "0.6403247617030035\n",
      "0.632959183477202\n",
      "******\n",
      "0.7083351426121827\n",
      "0.6411722603767003\n",
      "0.6321830695809232\n",
      "******\n"
     ]
    }
   ],
   "source": [
    "bootstrap_dict[\"engineered\"] = {\"train\": [], \"test\": [], \"holdout\": []}\n",
    "\n",
    "\n",
    "for n in range(N_BOOTSTRAP):\n",
    "    resampled_train = train.sample(frac=1, replace=True)\n",
    "    model = TimeForestClassifier(time_column=TIME_COLUMN,\n",
    "                                       multi=True, \n",
    "                                       random_segments=time_columns,\n",
    "                                       **challenger_opt_param)\n",
    "    model.fit(resampled_train[features + time_columns], resampled_train[TARGET].values)\n",
    "    train[\"eng_prediction\"] = model.predict_proba(train[features])[:, 1]\n",
    "    test[\"eng_prediction\"] = model.predict_proba(test[features])[:, 1]\n",
    "    out_of_time[\"eng_prediction\"] = model.predict_proba(out_of_time[features])[:, 1]\n",
    "    train_perf = roc_auc_score(train[TARGET], train[\"eng_prediction\"])\n",
    "    test_perf = roc_auc_score(test[TARGET], test[\"eng_prediction\"])\n",
    "    holdout_perf = roc_auc_score(out_of_time[TARGET], out_of_time[\"eng_prediction\"])\n",
    "    print(train_perf)\n",
    "    print(test_perf)\n",
    "    print(holdout_perf)\n",
    "    \n",
    "    print(\"******\")\n",
    "    \n",
    "    bootstrap_dict[\"engineered\"][\"train\"].append(train_perf)\n",
    "    bootstrap_dict[\"engineered\"][\"test\"].append(test_perf)\n",
    "    bootstrap_dict[\"engineered\"][\"holdout\"].append(holdout_perf)"
   ]
  },
  {
   "cell_type": "markdown",
   "id": "b92a958e-5086-42de-ad0f-af725ba95dda",
   "metadata": {},
   "source": [
    "### Few segments"
   ]
  },
  {
   "cell_type": "code",
   "execution_count": 66,
   "id": "fd28851a-c6a0-4d9a-8d8d-9c454c8ee6d9",
   "metadata": {},
   "outputs": [
    {
     "name": "stdout",
     "output_type": "stream",
     "text": [
      "0.7522369488704086\n",
      "0.6521808784804519\n",
      "0.6336425897816733\n",
      "******\n",
      "0.7442258137355564\n",
      "0.6525767135867162\n",
      "0.6363297780602071\n",
      "******\n",
      "0.746661385259684\n",
      "0.6517728026068572\n",
      "0.6343771552555664\n",
      "******\n",
      "0.7416766331472003\n",
      "0.6490210064392848\n",
      "0.6331286367076316\n",
      "******\n",
      "0.7459074348406585\n",
      "0.6480897084909355\n",
      "0.6337782184571141\n",
      "******\n",
      "0.7455344058078395\n",
      "0.6529598364014845\n",
      "0.6326583556561309\n",
      "******\n",
      "0.7414744123873886\n",
      "0.652920247232568\n",
      "0.6329251650973611\n",
      "******\n",
      "0.7484410973797168\n",
      "0.6522006447734601\n",
      "0.6336055665870494\n",
      "******\n",
      "0.742987669972992\n",
      "0.651878593768578\n",
      "0.63320357755091\n",
      "******\n",
      "0.7470400235387286\n",
      "0.6525519868594891\n",
      "0.6331086467986407\n",
      "******\n"
     ]
    }
   ],
   "source": [
    "bootstrap_dict[\"few\"] = {\"train\": [], \"test\": [], \"holdout\": []}\n",
    "\n",
    "for n in range(N_BOOTSTRAP):\n",
    "    resampled_train = train.sample(frac=1, replace=True)\n",
    "    model = TimeForestClassifier(time_column=\"order_purchase_timestamp\",\n",
    "                                       multi=True, \n",
    "                                       random_segments=3,\n",
    "                                       **challenger_opt_param)\n",
    "    model.fit(resampled_train[features + [\"order_purchase_timestamp\"]], resampled_train[TARGET].values)\n",
    "    train[\"few_prediction\"] = model.predict_proba(train[features])[:, 1]\n",
    "    test[\"few_prediction\"] = model.predict_proba(test[features])[:, 1]\n",
    "    out_of_time[\"few_prediction\"] = model.predict_proba(out_of_time[features])[:, 1]\n",
    "    train_perf = roc_auc_score(train[TARGET], train[\"few_prediction\"])\n",
    "    test_perf = roc_auc_score(test[TARGET], test[\"few_prediction\"])\n",
    "    holdout_perf = roc_auc_score(out_of_time[TARGET], out_of_time[\"few_prediction\"])\n",
    "    print(train_perf)\n",
    "    print(test_perf)\n",
    "    print(holdout_perf)\n",
    "    \n",
    "    print(\"******\")\n",
    "    \n",
    "    bootstrap_dict[\"few\"][\"train\"].append(train_perf)\n",
    "    bootstrap_dict[\"few\"][\"test\"].append(test_perf)\n",
    "    bootstrap_dict[\"few\"][\"holdout\"].append(holdout_perf)"
   ]
  },
  {
   "cell_type": "markdown",
   "id": "387f42df-d357-43e1-b992-99adeaa4f9da",
   "metadata": {},
   "source": [
    "### Many segments"
   ]
  },
  {
   "cell_type": "code",
   "execution_count": 67,
   "id": "a344371a-8098-4323-a631-5045e087c864",
   "metadata": {},
   "outputs": [
    {
     "name": "stdout",
     "output_type": "stream",
     "text": [
      "0.6827574376239254\n",
      "0.6392050049762774\n",
      "0.6336127825909678\n",
      "******\n",
      "0.6849516687924027\n",
      "0.6374696262993697\n",
      "0.6312983592211525\n",
      "******\n",
      "0.6839202541888568\n",
      "0.6380281938255533\n",
      "0.632998088255704\n",
      "******\n",
      "0.6836855023967163\n",
      "0.6370526480495347\n",
      "0.6334608821603238\n",
      "******\n",
      "0.6811542680925617\n",
      "0.6341623180822049\n",
      "0.6338361620259342\n",
      "******\n",
      "0.681890508207454\n",
      "0.6338935115860654\n",
      "0.6331668969920217\n",
      "******\n",
      "0.6847837477355323\n",
      "0.6381243847552691\n",
      "0.6323135804329478\n",
      "******\n",
      "0.6783654285065428\n",
      "0.6338374945152309\n",
      "0.6330172679132642\n",
      "******\n",
      "0.6787839049407343\n",
      "0.6379582385003933\n",
      "0.6360132366571405\n",
      "******\n",
      "0.6821488426677298\n",
      "0.6362667304318225\n",
      "0.6324360306071768\n",
      "******\n"
     ]
    }
   ],
   "source": [
    "bootstrap_dict[\"many\"] = {\"train\": [], \"test\": [], \"holdout\": []}\n",
    "\n",
    "for n in range(N_BOOTSTRAP):\n",
    "    resampled_train = train.sample(frac=1, replace=True)\n",
    "    model = TimeForestClassifier(time_column=\"order_purchase_timestamp\",\n",
    "                                       multi=True, \n",
    "                                       random_segments=20,\n",
    "                                       **challenger_opt_param)\n",
    "    model.fit(resampled_train[features + [\"order_purchase_timestamp\"]], resampled_train[TARGET].values)\n",
    "    train[\"many_prediction\"] = model.predict_proba(train[features])[:, 1]\n",
    "    test[\"many_prediction\"] = model.predict_proba(test[features])[:, 1]\n",
    "    out_of_time[\"many_prediction\"] = model.predict_proba(out_of_time[features])[:, 1]\n",
    "    train_perf = roc_auc_score(train[TARGET], train[\"many_prediction\"])\n",
    "    test_perf = roc_auc_score(test[TARGET], test[\"many_prediction\"])\n",
    "    holdout_perf = roc_auc_score(out_of_time[TARGET], out_of_time[\"many_prediction\"])\n",
    "    print(train_perf)\n",
    "    print(test_perf)\n",
    "    print(holdout_perf)\n",
    "    \n",
    "    print(\"******\")\n",
    "    \n",
    "    bootstrap_dict[\"many\"][\"train\"].append(train_perf)\n",
    "    bootstrap_dict[\"many\"][\"test\"].append(test_perf)\n",
    "    bootstrap_dict[\"many\"][\"holdout\"].append(holdout_perf)"
   ]
  },
  {
   "cell_type": "code",
   "execution_count": 68,
   "id": "27127615-d553-4092-a0cd-3a7b2225d6a7",
   "metadata": {},
   "outputs": [
    {
     "data": {
      "image/png": "[encoded data removed]",
      "text/plain": [
       "<Figure size 432x288 with 1 Axes>"
      ]
     },
     "metadata": {
      "needs_background": "light"
     },
     "output_type": "display_data"
    }
   ],
   "source": [
    "time_column = \"Year-month\"\n",
    "fig, ax = plt.subplots()\n",
    "pd.concat([test, out_of_time]).groupby(time_column).apply(lambda x: roc_auc_score(x[TARGET], x[\"benchmark_prediction\"])).plot(label=\"Random Forest\", \n",
    "                                                                                                                              linestyle=\"dashed\")\n",
    "pd.concat([test, out_of_time]).groupby(time_column).apply(lambda x: roc_auc_score(x[TARGET], x[\"challenger_prediction\"])).plot(label=\"Time Robust Forest\", \n",
    "                                                                                                                       linestyle=\"-.\")\n",
    "pd.concat([test, out_of_time]).groupby(time_column).apply(lambda x: roc_auc_score(x[TARGET], x[\"few_prediction\"])).plot(label=\"Random TRF (few)\")\n",
    "pd.concat([test, out_of_time]).groupby(time_column).apply(lambda x: roc_auc_score(x[TARGET], x[\"many_prediction\"])).plot(label=\"Random TRF (many)\")\n",
    "pd.concat([test, out_of_time]).groupby(time_column).apply(lambda x: roc_auc_score(x[TARGET], x[\"eng_prediction\"])).plot(label=\"Random TRF (eng)\")\n",
    "pd.concat([test, out_of_time]).groupby(time_column).apply(lambda x: roc_auc_score(x[TARGET], x[\"ensemble_prediction\"])).plot(label=\"TRF + RF\")\n",
    "\n",
    "\n",
    "# pd.concat([test, out_of_time]).groupby(time_column).apply(lambda x: roc_auc_score(x[target], x[\"challenger_prediction\"])).plot(label=\"Time Robust Forest\",\n",
    "#                                                                                                                         color=\"green\", linestyle=\"dashed\")\n",
    "# pd.concat([test, out_of_time]).groupby(time_column).apply(lambda x: roc_auc_score(x[target], x[\"benchmark_prediction\"])).plot(label=\"Random Forest\", \n",
    "#                                                                                                                        linestyle=\"-.\")\n",
    "# pd.concat([test, out_of_time]).groupby(time_column).apply(lambda x: roc_auc_score(x[target], x[\"prediction_lgbm\"])).plot(label=\"LGBM\", color=\"orange\")\n",
    "\n",
    "ax.xaxis.set_tick_params(labelsize=12)\n",
    "ax.yaxis.set_tick_params(labelsize=12)\n",
    "\n",
    "xmin, xmax, ymin, ymax = plt.axis()\n",
    "plt.ylim([ymin, ymax])\n",
    "plt.vlines(4, ymin, ymax, linestyle=\"dotted\", color=\"red\", label=\"Holdout start\")\n",
    "#plt.legend(bbox_to_anchor=(1.05, 1.0))\n",
    "plt.legend(fontsize=15, bbox_to_anchor=(1.0, 1.0))\n",
    "\n",
    "#plt.legend(bbox_to_anchor=(1.05, 1.0))\n",
    "#plt.title(\"AUC by year for TimeTree and DecisionTree on the GE Club News dataset\")\n",
    "\n",
    "plt.ylabel(\"AUC\", fontsize=15)\n",
    "plt.xlabel(\"Year\", fontsize=15)\n",
    "#plt.savefig(\"images/ge_sklearn.eps\", format=\"eps\", bbox_inches=\"tight\")\n",
    "plt.savefig(\"olist_overtime_all.eps\", format=\"eps\")\n",
    "plt.show()"
   ]
  },
  {
   "cell_type": "code",
   "execution_count": 102,
   "id": "e76d188e-36be-4f56-b37c-64b11e1fa227",
   "metadata": {},
   "outputs": [],
   "source": [
    "xp_df = pd.DataFrame.from_dict(bootstrap_dict)"
   ]
  },
  {
   "cell_type": "code",
   "execution_count": 105,
   "id": "2ad69dae-a5d8-405f-a8df-73730c93090d",
   "metadata": {},
   "outputs": [
    {
     "data": {
      "text/html": [
       "<div>\n",
       "<style scoped>\n",
       "    .dataframe tbody tr th:only-of-type {\n",
       "        vertical-align: middle;\n",
       "    }\n",
       "\n",
       "    .dataframe tbody tr th {\n",
       "        vertical-align: top;\n",
       "    }\n",
       "\n",
       "    .dataframe thead th {\n",
       "        text-align: right;\n",
       "    }\n",
       "</style>\n",
       "<table border=\"1\" class=\"dataframe\">\n",
       "  <thead>\n",
       "    <tr style=\"text-align: right;\">\n",
       "      <th></th>\n",
       "      <th>variable</th>\n",
       "      <th>value</th>\n",
       "    </tr>\n",
       "  </thead>\n",
       "  <tbody>\n",
       "    <tr>\n",
       "      <th>0</th>\n",
       "      <td>benchmark</td>\n",
       "      <td>[0.7713785393727186, 0.7721168466730101, 0.773...</td>\n",
       "    </tr>\n",
       "    <tr>\n",
       "      <th>1</th>\n",
       "      <td>benchmark</td>\n",
       "      <td>[0.6533698360936735, 0.6576869981851222, 0.655...</td>\n",
       "    </tr>\n",
       "    <tr>\n",
       "      <th>2</th>\n",
       "      <td>benchmark</td>\n",
       "      <td>[0.6336123970595682, 0.6309601565669282, 0.632...</td>\n",
       "    </tr>\n",
       "    <tr>\n",
       "      <th>3</th>\n",
       "      <td>challenger</td>\n",
       "      <td>[0.6878524113067556, 0.69024360323932, 0.69445...</td>\n",
       "    </tr>\n",
       "    <tr>\n",
       "      <th>4</th>\n",
       "      <td>challenger</td>\n",
       "      <td>[0.63496975606282, 0.6361048090334676, 0.63847...</td>\n",
       "    </tr>\n",
       "    <tr>\n",
       "      <th>5</th>\n",
       "      <td>challenger</td>\n",
       "      <td>[0.6329084548531483, 0.6333671392472435, 0.632...</td>\n",
       "    </tr>\n",
       "    <tr>\n",
       "      <th>6</th>\n",
       "      <td>ensemble</td>\n",
       "      <td>[0.7776136696344126, 0.7786408826128407, 0.780...</td>\n",
       "    </tr>\n",
       "    <tr>\n",
       "      <th>7</th>\n",
       "      <td>ensemble</td>\n",
       "      <td>[0.65273452329435, 0.6613613973954363, 0.65950...</td>\n",
       "    </tr>\n",
       "    <tr>\n",
       "      <th>8</th>\n",
       "      <td>ensemble</td>\n",
       "      <td>[0.6308173701409396, 0.6329747222990849, 0.633...</td>\n",
       "    </tr>\n",
       "    <tr>\n",
       "      <th>9</th>\n",
       "      <td>engineered</td>\n",
       "      <td>[0.7086721988433753, 0.7112068961550335, 0.707...</td>\n",
       "    </tr>\n",
       "    <tr>\n",
       "      <th>10</th>\n",
       "      <td>engineered</td>\n",
       "      <td>[0.6405684265306505, 0.641037159272866, 0.6434...</td>\n",
       "    </tr>\n",
       "    <tr>\n",
       "      <th>11</th>\n",
       "      <td>engineered</td>\n",
       "      <td>[0.6314604105664531, 0.6296265986890924, 0.630...</td>\n",
       "    </tr>\n",
       "    <tr>\n",
       "      <th>12</th>\n",
       "      <td>few</td>\n",
       "      <td>[0.7522369488704086, 0.7442258137355564, 0.746...</td>\n",
       "    </tr>\n",
       "    <tr>\n",
       "      <th>13</th>\n",
       "      <td>few</td>\n",
       "      <td>[0.6521808784804519, 0.6525767135867162, 0.651...</td>\n",
       "    </tr>\n",
       "    <tr>\n",
       "      <th>14</th>\n",
       "      <td>few</td>\n",
       "      <td>[0.6336425897816733, 0.6363297780602071, 0.634...</td>\n",
       "    </tr>\n",
       "    <tr>\n",
       "      <th>15</th>\n",
       "      <td>many</td>\n",
       "      <td>[0.6827574376239254, 0.6849516687924027, 0.683...</td>\n",
       "    </tr>\n",
       "    <tr>\n",
       "      <th>16</th>\n",
       "      <td>many</td>\n",
       "      <td>[0.6392050049762774, 0.6374696262993697, 0.638...</td>\n",
       "    </tr>\n",
       "    <tr>\n",
       "      <th>17</th>\n",
       "      <td>many</td>\n",
       "      <td>[0.6336127825909678, 0.6312983592211525, 0.632...</td>\n",
       "    </tr>\n",
       "  </tbody>\n",
       "</table>\n",
       "</div>"
      ],
      "text/plain": [
       "      variable                                              value\n",
       "0    benchmark  [0.7713785393727186, 0.7721168466730101, 0.773...\n",
       "1    benchmark  [0.6533698360936735, 0.6576869981851222, 0.655...\n",
       "2    benchmark  [0.6336123970595682, 0.6309601565669282, 0.632...\n",
       "3   challenger  [0.6878524113067556, 0.69024360323932, 0.69445...\n",
       "4   challenger  [0.63496975606282, 0.6361048090334676, 0.63847...\n",
       "5   challenger  [0.6329084548531483, 0.6333671392472435, 0.632...\n",
       "6     ensemble  [0.7776136696344126, 0.7786408826128407, 0.780...\n",
       "7     ensemble  [0.65273452329435, 0.6613613973954363, 0.65950...\n",
       "8     ensemble  [0.6308173701409396, 0.6329747222990849, 0.633...\n",
       "9   engineered  [0.7086721988433753, 0.7112068961550335, 0.707...\n",
       "10  engineered  [0.6405684265306505, 0.641037159272866, 0.6434...\n",
       "11  engineered  [0.6314604105664531, 0.6296265986890924, 0.630...\n",
       "12         few  [0.7522369488704086, 0.7442258137355564, 0.746...\n",
       "13         few  [0.6521808784804519, 0.6525767135867162, 0.651...\n",
       "14         few  [0.6336425897816733, 0.6363297780602071, 0.634...\n",
       "15        many  [0.6827574376239254, 0.6849516687924027, 0.683...\n",
       "16        many  [0.6392050049762774, 0.6374696262993697, 0.638...\n",
       "17        many  [0.6336127825909678, 0.6312983592211525, 0.632..."
      ]
     },
     "execution_count": 105,
     "metadata": {},
     "output_type": "execute_result"
    }
   ],
   "source": [
    "xp_df = pd.melt(xp_df)\n",
    "xp_df"
   ]
  },
  {
   "cell_type": "code",
   "execution_count": 106,
   "id": "47d878d1-90c0-4c57-b149-077d58b4ebe8",
   "metadata": {},
   "outputs": [
    {
     "data": {
      "text/html": [
       "<div>\n",
       "<style scoped>\n",
       "    .dataframe tbody tr th:only-of-type {\n",
       "        vertical-align: middle;\n",
       "    }\n",
       "\n",
       "    .dataframe tbody tr th {\n",
       "        vertical-align: top;\n",
       "    }\n",
       "\n",
       "    .dataframe thead th {\n",
       "        text-align: right;\n",
       "    }\n",
       "</style>\n",
       "<table border=\"1\" class=\"dataframe\">\n",
       "  <thead>\n",
       "    <tr style=\"text-align: right;\">\n",
       "      <th></th>\n",
       "      <th>variable</th>\n",
       "      <th>value</th>\n",
       "      <th>set</th>\n",
       "    </tr>\n",
       "  </thead>\n",
       "  <tbody>\n",
       "    <tr>\n",
       "      <th>0</th>\n",
       "      <td>benchmark</td>\n",
       "      <td>[0.7713785393727186, 0.7721168466730101, 0.773...</td>\n",
       "      <td>train</td>\n",
       "    </tr>\n",
       "    <tr>\n",
       "      <th>1</th>\n",
       "      <td>benchmark</td>\n",
       "      <td>[0.6533698360936735, 0.6576869981851222, 0.655...</td>\n",
       "      <td>test</td>\n",
       "    </tr>\n",
       "    <tr>\n",
       "      <th>2</th>\n",
       "      <td>benchmark</td>\n",
       "      <td>[0.6336123970595682, 0.6309601565669282, 0.632...</td>\n",
       "      <td>holdout</td>\n",
       "    </tr>\n",
       "    <tr>\n",
       "      <th>3</th>\n",
       "      <td>challenger</td>\n",
       "      <td>[0.6878524113067556, 0.69024360323932, 0.69445...</td>\n",
       "      <td>train</td>\n",
       "    </tr>\n",
       "    <tr>\n",
       "      <th>4</th>\n",
       "      <td>challenger</td>\n",
       "      <td>[0.63496975606282, 0.6361048090334676, 0.63847...</td>\n",
       "      <td>test</td>\n",
       "    </tr>\n",
       "    <tr>\n",
       "      <th>5</th>\n",
       "      <td>challenger</td>\n",
       "      <td>[0.6329084548531483, 0.6333671392472435, 0.632...</td>\n",
       "      <td>holdout</td>\n",
       "    </tr>\n",
       "    <tr>\n",
       "      <th>6</th>\n",
       "      <td>ensemble</td>\n",
       "      <td>[0.7776136696344126, 0.7786408826128407, 0.780...</td>\n",
       "      <td>train</td>\n",
       "    </tr>\n",
       "    <tr>\n",
       "      <th>7</th>\n",
       "      <td>ensemble</td>\n",
       "      <td>[0.65273452329435, 0.6613613973954363, 0.65950...</td>\n",
       "      <td>test</td>\n",
       "    </tr>\n",
       "    <tr>\n",
       "      <th>8</th>\n",
       "      <td>ensemble</td>\n",
       "      <td>[0.6308173701409396, 0.6329747222990849, 0.633...</td>\n",
       "      <td>holdout</td>\n",
       "    </tr>\n",
       "    <tr>\n",
       "      <th>9</th>\n",
       "      <td>engineered</td>\n",
       "      <td>[0.7086721988433753, 0.7112068961550335, 0.707...</td>\n",
       "      <td>train</td>\n",
       "    </tr>\n",
       "    <tr>\n",
       "      <th>10</th>\n",
       "      <td>engineered</td>\n",
       "      <td>[0.6405684265306505, 0.641037159272866, 0.6434...</td>\n",
       "      <td>test</td>\n",
       "    </tr>\n",
       "    <tr>\n",
       "      <th>11</th>\n",
       "      <td>engineered</td>\n",
       "      <td>[0.6314604105664531, 0.6296265986890924, 0.630...</td>\n",
       "      <td>holdout</td>\n",
       "    </tr>\n",
       "    <tr>\n",
       "      <th>12</th>\n",
       "      <td>few</td>\n",
       "      <td>[0.7522369488704086, 0.7442258137355564, 0.746...</td>\n",
       "      <td>train</td>\n",
       "    </tr>\n",
       "    <tr>\n",
       "      <th>13</th>\n",
       "      <td>few</td>\n",
       "      <td>[0.6521808784804519, 0.6525767135867162, 0.651...</td>\n",
       "      <td>test</td>\n",
       "    </tr>\n",
       "    <tr>\n",
       "      <th>14</th>\n",
       "      <td>few</td>\n",
       "      <td>[0.6336425897816733, 0.6363297780602071, 0.634...</td>\n",
       "      <td>holdout</td>\n",
       "    </tr>\n",
       "    <tr>\n",
       "      <th>15</th>\n",
       "      <td>many</td>\n",
       "      <td>[0.6827574376239254, 0.6849516687924027, 0.683...</td>\n",
       "      <td>train</td>\n",
       "    </tr>\n",
       "    <tr>\n",
       "      <th>16</th>\n",
       "      <td>many</td>\n",
       "      <td>[0.6392050049762774, 0.6374696262993697, 0.638...</td>\n",
       "      <td>test</td>\n",
       "    </tr>\n",
       "    <tr>\n",
       "      <th>17</th>\n",
       "      <td>many</td>\n",
       "      <td>[0.6336127825909678, 0.6312983592211525, 0.632...</td>\n",
       "      <td>holdout</td>\n",
       "    </tr>\n",
       "  </tbody>\n",
       "</table>\n",
       "</div>"
      ],
      "text/plain": [
       "      variable                                              value      set\n",
       "0    benchmark  [0.7713785393727186, 0.7721168466730101, 0.773...    train\n",
       "1    benchmark  [0.6533698360936735, 0.6576869981851222, 0.655...     test\n",
       "2    benchmark  [0.6336123970595682, 0.6309601565669282, 0.632...  holdout\n",
       "3   challenger  [0.6878524113067556, 0.69024360323932, 0.69445...    train\n",
       "4   challenger  [0.63496975606282, 0.6361048090334676, 0.63847...     test\n",
       "5   challenger  [0.6329084548531483, 0.6333671392472435, 0.632...  holdout\n",
       "6     ensemble  [0.7776136696344126, 0.7786408826128407, 0.780...    train\n",
       "7     ensemble  [0.65273452329435, 0.6613613973954363, 0.65950...     test\n",
       "8     ensemble  [0.6308173701409396, 0.6329747222990849, 0.633...  holdout\n",
       "9   engineered  [0.7086721988433753, 0.7112068961550335, 0.707...    train\n",
       "10  engineered  [0.6405684265306505, 0.641037159272866, 0.6434...     test\n",
       "11  engineered  [0.6314604105664531, 0.6296265986890924, 0.630...  holdout\n",
       "12         few  [0.7522369488704086, 0.7442258137355564, 0.746...    train\n",
       "13         few  [0.6521808784804519, 0.6525767135867162, 0.651...     test\n",
       "14         few  [0.6336425897816733, 0.6363297780602071, 0.634...  holdout\n",
       "15        many  [0.6827574376239254, 0.6849516687924027, 0.683...    train\n",
       "16        many  [0.6392050049762774, 0.6374696262993697, 0.638...     test\n",
       "17        many  [0.6336127825909678, 0.6312983592211525, 0.632...  holdout"
      ]
     },
     "execution_count": 106,
     "metadata": {},
     "output_type": "execute_result"
    }
   ],
   "source": [
    "xp_df[\"set\"] = 6 * [\"train\", \"test\", \"holdout\"]\n",
    "xp_df"
   ]
  },
  {
   "cell_type": "code",
   "execution_count": 107,
   "id": "27ad257f-5d7d-4669-842f-ee8c6114af15",
   "metadata": {},
   "outputs": [
    {
     "data": {
      "text/html": [
       "<div>\n",
       "<style scoped>\n",
       "    .dataframe tbody tr th:only-of-type {\n",
       "        vertical-align: middle;\n",
       "    }\n",
       "\n",
       "    .dataframe tbody tr th {\n",
       "        vertical-align: top;\n",
       "    }\n",
       "\n",
       "    .dataframe thead th {\n",
       "        text-align: right;\n",
       "    }\n",
       "</style>\n",
       "<table border=\"1\" class=\"dataframe\">\n",
       "  <thead>\n",
       "    <tr style=\"text-align: right;\">\n",
       "      <th></th>\n",
       "      <th>variable</th>\n",
       "      <th>value</th>\n",
       "      <th>set</th>\n",
       "    </tr>\n",
       "  </thead>\n",
       "  <tbody>\n",
       "    <tr>\n",
       "      <th>0</th>\n",
       "      <td>benchmark</td>\n",
       "      <td>0.771379</td>\n",
       "      <td>train</td>\n",
       "    </tr>\n",
       "    <tr>\n",
       "      <th>0</th>\n",
       "      <td>benchmark</td>\n",
       "      <td>0.772117</td>\n",
       "      <td>train</td>\n",
       "    </tr>\n",
       "    <tr>\n",
       "      <th>0</th>\n",
       "      <td>benchmark</td>\n",
       "      <td>0.773303</td>\n",
       "      <td>train</td>\n",
       "    </tr>\n",
       "    <tr>\n",
       "      <th>0</th>\n",
       "      <td>benchmark</td>\n",
       "      <td>0.770502</td>\n",
       "      <td>train</td>\n",
       "    </tr>\n",
       "    <tr>\n",
       "      <th>0</th>\n",
       "      <td>benchmark</td>\n",
       "      <td>0.768357</td>\n",
       "      <td>train</td>\n",
       "    </tr>\n",
       "    <tr>\n",
       "      <th>...</th>\n",
       "      <td>...</td>\n",
       "      <td>...</td>\n",
       "      <td>...</td>\n",
       "    </tr>\n",
       "    <tr>\n",
       "      <th>17</th>\n",
       "      <td>many</td>\n",
       "      <td>0.633167</td>\n",
       "      <td>holdout</td>\n",
       "    </tr>\n",
       "    <tr>\n",
       "      <th>17</th>\n",
       "      <td>many</td>\n",
       "      <td>0.632314</td>\n",
       "      <td>holdout</td>\n",
       "    </tr>\n",
       "    <tr>\n",
       "      <th>17</th>\n",
       "      <td>many</td>\n",
       "      <td>0.633017</td>\n",
       "      <td>holdout</td>\n",
       "    </tr>\n",
       "    <tr>\n",
       "      <th>17</th>\n",
       "      <td>many</td>\n",
       "      <td>0.636013</td>\n",
       "      <td>holdout</td>\n",
       "    </tr>\n",
       "    <tr>\n",
       "      <th>17</th>\n",
       "      <td>many</td>\n",
       "      <td>0.632436</td>\n",
       "      <td>holdout</td>\n",
       "    </tr>\n",
       "  </tbody>\n",
       "</table>\n",
       "<p>180 rows × 3 columns</p>\n",
       "</div>"
      ],
      "text/plain": [
       "     variable     value      set\n",
       "0   benchmark  0.771379    train\n",
       "0   benchmark  0.772117    train\n",
       "0   benchmark  0.773303    train\n",
       "0   benchmark  0.770502    train\n",
       "0   benchmark  0.768357    train\n",
       "..        ...       ...      ...\n",
       "17       many  0.633167  holdout\n",
       "17       many  0.632314  holdout\n",
       "17       many  0.633017  holdout\n",
       "17       many  0.636013  holdout\n",
       "17       many  0.632436  holdout\n",
       "\n",
       "[180 rows x 3 columns]"
      ]
     },
     "execution_count": 107,
     "metadata": {},
     "output_type": "execute_result"
    }
   ],
   "source": [
    "xp_df = xp_df.explode(column=\"value\")\n",
    "xp_df"
   ]
  },
  {
   "cell_type": "code",
   "execution_count": 108,
   "id": "ab1d05e7-2a5a-43a5-8064-dd13b7b720c4",
   "metadata": {},
   "outputs": [],
   "source": [
    "xp_df[\"value\"] = xp_df[\"value\"].astype(float)"
   ]
  },
  {
   "cell_type": "code",
   "execution_count": 109,
   "id": "9f77bafd-fe93-4046-9729-b363269e3c34",
   "metadata": {},
   "outputs": [
    {
     "data": {
      "text/plain": [
       "1"
      ]
     },
     "execution_count": 109,
     "metadata": {},
     "output_type": "execute_result"
    }
   ],
   "source": [
    "1"
   ]
  },
  {
   "cell_type": "code",
   "execution_count": 123,
   "id": "4219b7aa-e217-4632-9359-80728d789311",
   "metadata": {},
   "outputs": [
    {
     "data": {
      "text/html": [
       "<div>\n",
       "<style scoped>\n",
       "    .dataframe tbody tr th:only-of-type {\n",
       "        vertical-align: middle;\n",
       "    }\n",
       "\n",
       "    .dataframe tbody tr th {\n",
       "        vertical-align: top;\n",
       "    }\n",
       "\n",
       "    .dataframe thead th {\n",
       "        text-align: right;\n",
       "    }\n",
       "</style>\n",
       "<table border=\"1\" class=\"dataframe\">\n",
       "  <thead>\n",
       "    <tr style=\"text-align: right;\">\n",
       "      <th></th>\n",
       "      <th></th>\n",
       "      <th>value</th>\n",
       "    </tr>\n",
       "    <tr>\n",
       "      <th>variable</th>\n",
       "      <th>set</th>\n",
       "      <th></th>\n",
       "    </tr>\n",
       "  </thead>\n",
       "  <tbody>\n",
       "    <tr>\n",
       "      <th rowspan=\"3\" valign=\"top\">benchmark</th>\n",
       "      <th>holdout</th>\n",
       "      <td>0.632529</td>\n",
       "    </tr>\n",
       "    <tr>\n",
       "      <th>test</th>\n",
       "      <td>0.655546</td>\n",
       "    </tr>\n",
       "    <tr>\n",
       "      <th>train</th>\n",
       "      <td>0.773495</td>\n",
       "    </tr>\n",
       "    <tr>\n",
       "      <th rowspan=\"3\" valign=\"top\">challenger</th>\n",
       "      <th>holdout</th>\n",
       "      <td>0.632854</td>\n",
       "    </tr>\n",
       "    <tr>\n",
       "      <th>test</th>\n",
       "      <td>0.637022</td>\n",
       "    </tr>\n",
       "    <tr>\n",
       "      <th>train</th>\n",
       "      <td>0.691028</td>\n",
       "    </tr>\n",
       "    <tr>\n",
       "      <th rowspan=\"3\" valign=\"top\">engineered</th>\n",
       "      <th>holdout</th>\n",
       "      <td>0.631991</td>\n",
       "    </tr>\n",
       "    <tr>\n",
       "      <th>test</th>\n",
       "      <td>0.641514</td>\n",
       "    </tr>\n",
       "    <tr>\n",
       "      <th>train</th>\n",
       "      <td>0.708898</td>\n",
       "    </tr>\n",
       "    <tr>\n",
       "      <th rowspan=\"3\" valign=\"top\">ensemble</th>\n",
       "      <th>holdout</th>\n",
       "      <td>0.632426</td>\n",
       "    </tr>\n",
       "    <tr>\n",
       "      <th>test</th>\n",
       "      <td>0.657756</td>\n",
       "    </tr>\n",
       "    <tr>\n",
       "      <th>train</th>\n",
       "      <td>0.777397</td>\n",
       "    </tr>\n",
       "    <tr>\n",
       "      <th rowspan=\"3\" valign=\"top\">few</th>\n",
       "      <th>holdout</th>\n",
       "      <td>0.633676</td>\n",
       "    </tr>\n",
       "    <tr>\n",
       "      <th>test</th>\n",
       "      <td>0.651615</td>\n",
       "    </tr>\n",
       "    <tr>\n",
       "      <th>train</th>\n",
       "      <td>0.745619</td>\n",
       "    </tr>\n",
       "    <tr>\n",
       "      <th rowspan=\"3\" valign=\"top\">many</th>\n",
       "      <th>holdout</th>\n",
       "      <td>0.633215</td>\n",
       "    </tr>\n",
       "    <tr>\n",
       "      <th>test</th>\n",
       "      <td>0.636600</td>\n",
       "    </tr>\n",
       "    <tr>\n",
       "      <th>train</th>\n",
       "      <td>0.682244</td>\n",
       "    </tr>\n",
       "  </tbody>\n",
       "</table>\n",
       "</div>"
      ],
      "text/plain": [
       "                       value\n",
       "variable   set              \n",
       "benchmark  holdout  0.632529\n",
       "           test     0.655546\n",
       "           train    0.773495\n",
       "challenger holdout  0.632854\n",
       "           test     0.637022\n",
       "           train    0.691028\n",
       "engineered holdout  0.631991\n",
       "           test     0.641514\n",
       "           train    0.708898\n",
       "ensemble   holdout  0.632426\n",
       "           test     0.657756\n",
       "           train    0.777397\n",
       "few        holdout  0.633676\n",
       "           test     0.651615\n",
       "           train    0.745619\n",
       "many       holdout  0.633215\n",
       "           test     0.636600\n",
       "           train    0.682244"
      ]
     },
     "execution_count": 123,
     "metadata": {},
     "output_type": "execute_result"
    }
   ],
   "source": [
    "xp_df.groupby([\"variable\", \"set\"]).mean()"
   ]
  },
  {
   "cell_type": "code",
   "execution_count": 124,
   "id": "fe64eb2c-e6fc-4f6d-9d76-5fc249c7a30e",
   "metadata": {},
   "outputs": [
    {
     "data": {
      "text/html": [
       "<div>\n",
       "<style scoped>\n",
       "    .dataframe tbody tr th:only-of-type {\n",
       "        vertical-align: middle;\n",
       "    }\n",
       "\n",
       "    .dataframe tbody tr th {\n",
       "        vertical-align: top;\n",
       "    }\n",
       "\n",
       "    .dataframe thead th {\n",
       "        text-align: right;\n",
       "    }\n",
       "</style>\n",
       "<table border=\"1\" class=\"dataframe\">\n",
       "  <thead>\n",
       "    <tr style=\"text-align: right;\">\n",
       "      <th></th>\n",
       "      <th></th>\n",
       "      <th>value</th>\n",
       "    </tr>\n",
       "    <tr>\n",
       "      <th>variable</th>\n",
       "      <th>set</th>\n",
       "      <th></th>\n",
       "    </tr>\n",
       "  </thead>\n",
       "  <tbody>\n",
       "    <tr>\n",
       "      <th rowspan=\"3\" valign=\"top\">benchmark</th>\n",
       "      <th>holdout</th>\n",
       "      <td>0.001913</td>\n",
       "    </tr>\n",
       "    <tr>\n",
       "      <th>test</th>\n",
       "      <td>0.002563</td>\n",
       "    </tr>\n",
       "    <tr>\n",
       "      <th>train</th>\n",
       "      <td>0.004137</td>\n",
       "    </tr>\n",
       "    <tr>\n",
       "      <th rowspan=\"3\" valign=\"top\">challenger</th>\n",
       "      <th>holdout</th>\n",
       "      <td>0.001107</td>\n",
       "    </tr>\n",
       "    <tr>\n",
       "      <th>test</th>\n",
       "      <td>0.001273</td>\n",
       "    </tr>\n",
       "    <tr>\n",
       "      <th>train</th>\n",
       "      <td>0.002959</td>\n",
       "    </tr>\n",
       "    <tr>\n",
       "      <th rowspan=\"3\" valign=\"top\">engineered</th>\n",
       "      <th>holdout</th>\n",
       "      <td>0.001255</td>\n",
       "    </tr>\n",
       "    <tr>\n",
       "      <th>test</th>\n",
       "      <td>0.001355</td>\n",
       "    </tr>\n",
       "    <tr>\n",
       "      <th>train</th>\n",
       "      <td>0.002174</td>\n",
       "    </tr>\n",
       "    <tr>\n",
       "      <th rowspan=\"3\" valign=\"top\">ensemble</th>\n",
       "      <th>holdout</th>\n",
       "      <td>0.001496</td>\n",
       "    </tr>\n",
       "    <tr>\n",
       "      <th>test</th>\n",
       "      <td>0.002817</td>\n",
       "    </tr>\n",
       "    <tr>\n",
       "      <th>train</th>\n",
       "      <td>0.003555</td>\n",
       "    </tr>\n",
       "    <tr>\n",
       "      <th rowspan=\"3\" valign=\"top\">few</th>\n",
       "      <th>holdout</th>\n",
       "      <td>0.001054</td>\n",
       "    </tr>\n",
       "    <tr>\n",
       "      <th>test</th>\n",
       "      <td>0.001674</td>\n",
       "    </tr>\n",
       "    <tr>\n",
       "      <th>train</th>\n",
       "      <td>0.003275</td>\n",
       "    </tr>\n",
       "    <tr>\n",
       "      <th rowspan=\"3\" valign=\"top\">many</th>\n",
       "      <th>holdout</th>\n",
       "      <td>0.001230</td>\n",
       "    </tr>\n",
       "    <tr>\n",
       "      <th>test</th>\n",
       "      <td>0.001971</td>\n",
       "    </tr>\n",
       "    <tr>\n",
       "      <th>train</th>\n",
       "      <td>0.002292</td>\n",
       "    </tr>\n",
       "  </tbody>\n",
       "</table>\n",
       "</div>"
      ],
      "text/plain": [
       "                       value\n",
       "variable   set              \n",
       "benchmark  holdout  0.001913\n",
       "           test     0.002563\n",
       "           train    0.004137\n",
       "challenger holdout  0.001107\n",
       "           test     0.001273\n",
       "           train    0.002959\n",
       "engineered holdout  0.001255\n",
       "           test     0.001355\n",
       "           train    0.002174\n",
       "ensemble   holdout  0.001496\n",
       "           test     0.002817\n",
       "           train    0.003555\n",
       "few        holdout  0.001054\n",
       "           test     0.001674\n",
       "           train    0.003275\n",
       "many       holdout  0.001230\n",
       "           test     0.001971\n",
       "           train    0.002292"
      ]
     },
     "execution_count": 124,
     "metadata": {},
     "output_type": "execute_result"
    }
   ],
   "source": [
    "xp_df.groupby([\"variable\", \"set\"]).std()"
   ]
  },
  {
   "cell_type": "code",
   "execution_count": 110,
   "id": "e870c825-a2cd-4eee-b7de-da72c13391ed",
   "metadata": {},
   "outputs": [],
   "source": [
    "xp_df.to_csv(\"olist_experiments_results.csv\")"
   ]
  },
  {
   "cell_type": "code",
   "execution_count": 114,
   "id": "2fee5d55-9f92-4168-91cb-ddbce97c0c52",
   "metadata": {},
   "outputs": [
    {
     "data": {
      "text/plain": [
       "(0.62, 0.635)"
      ]
     },
     "execution_count": 114,
     "metadata": {},
     "output_type": "execute_result"
    },
    {
     "data": {
      "image/png": "[encoded data removed]",
      "text/plain": [
       "<Figure size 432x288 with 1 Axes>"
      ]
     },
     "metadata": {
      "needs_background": "light"
     },
     "output_type": "display_data"
    }
   ],
   "source": [
    "sns.barplot(data=xp_df[xp_df[\"set\"] == \"holdout\"], x=\"set\", y=\"value\", hue=\"variable\")\n",
    "plt.legend(fontsize=15, bbox_to_anchor=(1.0, 1.0))\n",
    "plt.ylim([0.62, 0.635])"
   ]
  },
  {
   "cell_type": "code",
   "execution_count": 122,
   "id": "24c7ada8-4fc1-447a-b8a1-bcd1e5662398",
   "metadata": {},
   "outputs": [
    {
     "data": {
      "text/plain": [
       "(0.62, 0.662)"
      ]
     },
     "execution_count": 122,
     "metadata": {},
     "output_type": "execute_result"
    },
    {
     "data": {
      "image/png": "[encoded data removed]",
      "text/plain": [
       "<Figure size 432x288 with 1 Axes>"
      ]
     },
     "metadata": {
      "needs_background": "light"
     },
     "output_type": "display_data"
    }
   ],
   "source": [
    "sns.barplot(data=xp_df[xp_df[\"set\"] != \"train\"], x=\"set\", y=\"value\", hue=\"variable\")\n",
    "plt.legend(fontsize=15, bbox_to_anchor=(1.42, 1.0))\n",
    "plt.ylim([0.62, 0.662])"
   ]
  },
  {
   "cell_type": "markdown",
   "id": "533d2486-fd13-4ac3-b467-3d0e118355cb",
   "metadata": {},
   "source": [
    "### "
   ]
  }
 ],
 "metadata": {
  "hide_input": false,
  "kernelspec": {
   "display_name": "Python [conda env:.conda-ml]",
   "language": "python",
   "name": "conda-env-.conda-ml-py"
  },
  "language_info": {
   "codemirror_mode": {
    "name": "ipython",
    "version": 3
   },
   "file_extension": ".py",
   "mimetype": "text/x-python",
   "name": "python",
   "nbconvert_exporter": "python",
   "pygments_lexer": "ipython3",
   "version": "3.9.12"
  },
  "toc": {
   "base_numbering": 1,
   "nav_menu": {},
   "number_sections": true,
   "sideBar": true,
   "skip_h1_title": true,
   "title_cell": "Index",
   "title_sidebar": "Contents",
   "toc_cell": true,
   "toc_position": {},
   "toc_section_display": true,
   "toc_window_display": true
  }
 },
 "nbformat": 4,
 "nbformat_minor": 5
}
