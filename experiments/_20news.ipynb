{
 "cells": [
  {
   "cell_type": "markdown",
   "metadata": {
    "toc": true
   },
   "source": [
    "<h1>Index<span class=\"tocSkip\"></span></h1>\n",
    "<div class=\"toc\"><ul class=\"toc-item\"><li><span><a href=\"#Real-data---20-news-groups\" data-toc-modified-id=\"Real-data---20-news-groups-1\"><span class=\"toc-item-num\">1&nbsp;&nbsp;</span>Real data - 20 news groups</a></span></li><li><span><a href=\"#Time-Forest\" data-toc-modified-id=\"Time-Forest-2\"><span class=\"toc-item-num\">2&nbsp;&nbsp;</span>Time Forest</a></span></li><li><span><a href=\"#Average-result-for-every-target\" data-toc-modified-id=\"Average-result-for-every-target-3\"><span class=\"toc-item-num\">3&nbsp;&nbsp;</span>Average result for every target</a></span><ul class=\"toc-item\"><li><span><a href=\"#Optimize-hyper-params\" data-toc-modified-id=\"Optimize-hyper-params-3.1\"><span class=\"toc-item-num\">3.1&nbsp;&nbsp;</span>Optimize hyper-params</a></span></li><li><span><a href=\"#Plot-benchmark-Vs-challenger:\" data-toc-modified-id=\"Plot-benchmark-Vs-challenger:-3.2\"><span class=\"toc-item-num\">3.2&nbsp;&nbsp;</span>Plot benchmark Vs challenger:</a></span></li><li><span><a href=\"#Optimized-vs-challenger\" data-toc-modified-id=\"Optimized-vs-challenger-3.3\"><span class=\"toc-item-num\">3.3&nbsp;&nbsp;</span>Optimized vs challenger</a></span></li></ul></li></ul></div>"
   ]
  },
  {
   "cell_type": "code",
   "execution_count": 1,
   "metadata": {
    "ExecuteTime": {
     "end_time": "2021-12-22T22:49:02.837246Z",
     "start_time": "2021-12-22T22:49:00.802286Z"
    }
   },
   "outputs": [],
   "source": [
    "import pandas as pd\n",
    "import numpy as np\n",
    "import math\n",
    "import matplotlib.pyplot as plt\n",
    "import pdb\n",
    "import warnings\n",
    "import seaborn as sns\n",
    "import os\n",
    "import glob\n",
    "import sys\n",
    "\n",
    "from sklearn import metrics\n",
    "from time import time\n",
    "from time_robust_forest.models import TimeForestClassifier\n",
    "from time_robust_forest.functions import check_categoricals_match, check_numerical_match\n",
    "from time_robust_forest.hyper_opt import env_wise_hyper_opt\n",
    "from sklearn.tree import DecisionTreeClassifier\n",
    "from tqdm import tqdm_notebook\n",
    "from sklearn.datasets import fetch_20newsgroups\n",
    "from sklearn.model_selection import train_test_split\n",
    "from sklearn.feature_extraction.text import TfidfVectorizer\n",
    "from sklearn.metrics import roc_auc_score\n",
    "\n",
    "warnings.filterwarnings('ignore')"
   ]
  },
  {
   "cell_type": "code",
   "execution_count": 2,
   "metadata": {
    "ExecuteTime": {
     "end_time": "2021-12-22T22:49:02.842068Z",
     "start_time": "2021-12-22T22:49:02.839244Z"
    }
   },
   "outputs": [],
   "source": [
    "def set_style():\n",
    "    plt.style.use(['seaborn-white', 'seaborn-paper'])\n",
    "    plt.rcParams['figure.figsize'] = (12, 4)"
   ]
  },
  {
   "cell_type": "code",
   "execution_count": 3,
   "metadata": {
    "ExecuteTime": {
     "end_time": "2021-12-22T22:49:02.847638Z",
     "start_time": "2021-12-22T22:49:02.844659Z"
    }
   },
   "outputs": [],
   "source": [
    "set_style()"
   ]
  },
  {
   "cell_type": "code",
   "execution_count": 4,
   "metadata": {
    "ExecuteTime": {
     "end_time": "2021-12-22T22:49:02.855863Z",
     "start_time": "2021-12-22T22:49:02.851931Z"
    }
   },
   "outputs": [],
   "source": [
    "np.random.seed(42)"
   ]
  },
  {
   "cell_type": "markdown",
   "metadata": {},
   "source": [
    "## Real data - 20 news groups"
   ]
  },
  {
   "cell_type": "code",
   "execution_count": 5,
   "metadata": {
    "ExecuteTime": {
     "end_time": "2021-12-22T22:49:02.861449Z",
     "start_time": "2021-12-22T22:49:02.858281Z"
    }
   },
   "outputs": [],
   "source": [
    "MAX_VOCABULARY = 100\n",
    "TARGET = 1\n",
    "PREFIX = \"20news\""
   ]
  },
  {
   "cell_type": "code",
   "execution_count": 6,
   "metadata": {
    "ExecuteTime": {
     "end_time": "2021-12-22T22:49:04.684226Z",
     "start_time": "2021-12-22T22:49:02.864115Z"
    }
   },
   "outputs": [],
   "source": [
    "train = fetch_20newsgroups(subset=\"train\") \n",
    "test = fetch_20newsgroups(subset=\"test\")\n",
    "\n",
    "del test[\"DESCR\"]\n",
    "del train[\"DESCR\"]\n",
    "\n",
    "in_time = pd.DataFrame.from_dict(train, orient=\"index\").transpose() \n",
    "\n",
    "out_of_time = pd.DataFrame.from_dict(test, orient=\"index\").transpose()"
   ]
  },
  {
   "cell_type": "code",
   "execution_count": 7,
   "metadata": {
    "ExecuteTime": {
     "end_time": "2021-12-22T22:49:04.690028Z",
     "start_time": "2021-12-22T22:49:04.685859Z"
    }
   },
   "outputs": [
    {
     "data": {
      "text/plain": [
       "(11314, 4)"
      ]
     },
     "execution_count": 7,
     "metadata": {},
     "output_type": "execute_result"
    }
   ],
   "source": [
    "in_time.shape"
   ]
  },
  {
   "cell_type": "code",
   "execution_count": 8,
   "metadata": {
    "ExecuteTime": {
     "end_time": "2021-12-22T22:49:04.702617Z",
     "start_time": "2021-12-22T22:49:04.693592Z"
    }
   },
   "outputs": [
    {
     "data": {
      "text/plain": [
       "10    600\n",
       "15    599\n",
       "8     598\n",
       "9     597\n",
       "11    595\n",
       "13    594\n",
       "7     594\n",
       "14    593\n",
       "5     593\n",
       "12    591\n",
       "2     591\n",
       "3     590\n",
       "6     585\n",
       "1     584\n",
       "4     578\n",
       "17    564\n",
       "16    546\n",
       "0     480\n",
       "18    465\n",
       "19    377\n",
       "Name: target, dtype: int64"
      ]
     },
     "execution_count": 8,
     "metadata": {},
     "output_type": "execute_result"
    }
   ],
   "source": [
    "in_time[\"target\"].value_counts()"
   ]
  },
  {
   "cell_type": "code",
   "execution_count": 9,
   "metadata": {
    "ExecuteTime": {
     "end_time": "2021-12-22T22:49:04.712196Z",
     "start_time": "2021-12-22T22:49:04.705929Z"
    }
   },
   "outputs": [
    {
     "data": {
      "text/plain": [
       "10    399\n",
       "8     398\n",
       "15    398\n",
       "9     397\n",
       "13    396\n",
       "7     396\n",
       "11    396\n",
       "5     395\n",
       "2     394\n",
       "14    394\n",
       "12    393\n",
       "3     392\n",
       "6     390\n",
       "1     389\n",
       "4     385\n",
       "17    376\n",
       "16    364\n",
       "0     319\n",
       "18    310\n",
       "19    251\n",
       "Name: target, dtype: int64"
      ]
     },
     "execution_count": 9,
     "metadata": {},
     "output_type": "execute_result"
    }
   ],
   "source": [
    "out_of_time[\"target\"].value_counts()"
   ]
  },
  {
   "cell_type": "code",
   "execution_count": 10,
   "metadata": {
    "ExecuteTime": {
     "end_time": "2021-12-22T22:49:04.727836Z",
     "start_time": "2021-12-22T22:49:04.714606Z"
    }
   },
   "outputs": [
    {
     "data": {
      "text/html": [
       "<div>\n",
       "<style scoped>\n",
       "    .dataframe tbody tr th:only-of-type {\n",
       "        vertical-align: middle;\n",
       "    }\n",
       "\n",
       "    .dataframe tbody tr th {\n",
       "        vertical-align: top;\n",
       "    }\n",
       "\n",
       "    .dataframe thead th {\n",
       "        text-align: right;\n",
       "    }\n",
       "</style>\n",
       "<table border=\"1\" class=\"dataframe\">\n",
       "  <thead>\n",
       "    <tr style=\"text-align: right;\">\n",
       "      <th></th>\n",
       "      <th>data</th>\n",
       "      <th>filenames</th>\n",
       "      <th>target_names</th>\n",
       "      <th>target</th>\n",
       "    </tr>\n",
       "  </thead>\n",
       "  <tbody>\n",
       "    <tr>\n",
       "      <th>11309</th>\n",
       "      <td>From: jim.zisfein@factory.com (Jim Zisfein) \\n...</td>\n",
       "      <td>/Users/luis.moneda/scikit_learn_data/20news_ho...</td>\n",
       "      <td>None</td>\n",
       "      <td>13</td>\n",
       "    </tr>\n",
       "    <tr>\n",
       "      <th>11310</th>\n",
       "      <td>From: ebodin@pearl.tufts.edu\\nSubject: Screen ...</td>\n",
       "      <td>/Users/luis.moneda/scikit_learn_data/20news_ho...</td>\n",
       "      <td>None</td>\n",
       "      <td>4</td>\n",
       "    </tr>\n",
       "    <tr>\n",
       "      <th>11311</th>\n",
       "      <td>From: westes@netcom.com (Will Estes)\\nSubject:...</td>\n",
       "      <td>/Users/luis.moneda/scikit_learn_data/20news_ho...</td>\n",
       "      <td>None</td>\n",
       "      <td>3</td>\n",
       "    </tr>\n",
       "    <tr>\n",
       "      <th>11312</th>\n",
       "      <td>From: steve@hcrlgw (Steven Collins)\\nSubject: ...</td>\n",
       "      <td>/Users/luis.moneda/scikit_learn_data/20news_ho...</td>\n",
       "      <td>None</td>\n",
       "      <td>1</td>\n",
       "    </tr>\n",
       "    <tr>\n",
       "      <th>11313</th>\n",
       "      <td>From: gunning@cco.caltech.edu (Kevin J. Gunnin...</td>\n",
       "      <td>/Users/luis.moneda/scikit_learn_data/20news_ho...</td>\n",
       "      <td>None</td>\n",
       "      <td>8</td>\n",
       "    </tr>\n",
       "  </tbody>\n",
       "</table>\n",
       "</div>"
      ],
      "text/plain": [
       "                                                    data  \\\n",
       "11309  From: jim.zisfein@factory.com (Jim Zisfein) \\n...   \n",
       "11310  From: ebodin@pearl.tufts.edu\\nSubject: Screen ...   \n",
       "11311  From: westes@netcom.com (Will Estes)\\nSubject:...   \n",
       "11312  From: steve@hcrlgw (Steven Collins)\\nSubject: ...   \n",
       "11313  From: gunning@cco.caltech.edu (Kevin J. Gunnin...   \n",
       "\n",
       "                                               filenames target_names target  \n",
       "11309  /Users/luis.moneda/scikit_learn_data/20news_ho...         None     13  \n",
       "11310  /Users/luis.moneda/scikit_learn_data/20news_ho...         None      4  \n",
       "11311  /Users/luis.moneda/scikit_learn_data/20news_ho...         None      3  \n",
       "11312  /Users/luis.moneda/scikit_learn_data/20news_ho...         None      1  \n",
       "11313  /Users/luis.moneda/scikit_learn_data/20news_ho...         None      8  "
      ]
     },
     "execution_count": 10,
     "metadata": {},
     "output_type": "execute_result"
    }
   ],
   "source": [
    "in_time.tail()"
   ]
  },
  {
   "cell_type": "code",
   "execution_count": 11,
   "metadata": {
    "ExecuteTime": {
     "end_time": "2021-12-22T22:49:04.733266Z",
     "start_time": "2021-12-22T22:49:04.729792Z"
    }
   },
   "outputs": [
    {
     "data": {
      "text/plain": [
       "(7532, 4)"
      ]
     },
     "execution_count": 11,
     "metadata": {},
     "output_type": "execute_result"
    }
   ],
   "source": [
    "out_of_time.shape"
   ]
  },
  {
   "cell_type": "code",
   "execution_count": 12,
   "metadata": {
    "ExecuteTime": {
     "end_time": "2021-12-22T22:49:04.742390Z",
     "start_time": "2021-12-22T22:49:04.734989Z"
    }
   },
   "outputs": [
    {
     "data": {
      "text/html": [
       "<div>\n",
       "<style scoped>\n",
       "    .dataframe tbody tr th:only-of-type {\n",
       "        vertical-align: middle;\n",
       "    }\n",
       "\n",
       "    .dataframe tbody tr th {\n",
       "        vertical-align: top;\n",
       "    }\n",
       "\n",
       "    .dataframe thead th {\n",
       "        text-align: right;\n",
       "    }\n",
       "</style>\n",
       "<table border=\"1\" class=\"dataframe\">\n",
       "  <thead>\n",
       "    <tr style=\"text-align: right;\">\n",
       "      <th></th>\n",
       "      <th>data</th>\n",
       "      <th>filenames</th>\n",
       "      <th>target_names</th>\n",
       "      <th>target</th>\n",
       "    </tr>\n",
       "  </thead>\n",
       "  <tbody>\n",
       "  </tbody>\n",
       "</table>\n",
       "</div>"
      ],
      "text/plain": [
       "Empty DataFrame\n",
       "Columns: [data, filenames, target_names, target]\n",
       "Index: []"
      ]
     },
     "execution_count": 12,
     "metadata": {},
     "output_type": "execute_result"
    }
   ],
   "source": [
    "in_time[pd.isnull(in_time[\"data\"])]"
   ]
  },
  {
   "cell_type": "code",
   "execution_count": 13,
   "metadata": {
    "ExecuteTime": {
     "end_time": "2021-12-22T22:49:04.750422Z",
     "start_time": "2021-12-22T22:49:04.744423Z"
    }
   },
   "outputs": [
    {
     "data": {
      "text/html": [
       "<div>\n",
       "<style scoped>\n",
       "    .dataframe tbody tr th:only-of-type {\n",
       "        vertical-align: middle;\n",
       "    }\n",
       "\n",
       "    .dataframe tbody tr th {\n",
       "        vertical-align: top;\n",
       "    }\n",
       "\n",
       "    .dataframe thead th {\n",
       "        text-align: right;\n",
       "    }\n",
       "</style>\n",
       "<table border=\"1\" class=\"dataframe\">\n",
       "  <thead>\n",
       "    <tr style=\"text-align: right;\">\n",
       "      <th></th>\n",
       "      <th>data</th>\n",
       "      <th>filenames</th>\n",
       "      <th>target_names</th>\n",
       "      <th>target</th>\n",
       "    </tr>\n",
       "  </thead>\n",
       "  <tbody>\n",
       "  </tbody>\n",
       "</table>\n",
       "</div>"
      ],
      "text/plain": [
       "Empty DataFrame\n",
       "Columns: [data, filenames, target_names, target]\n",
       "Index: []"
      ]
     },
     "execution_count": 13,
     "metadata": {},
     "output_type": "execute_result"
    }
   ],
   "source": [
    "out_of_time[pd.isnull(out_of_time[\"data\"])]"
   ]
  },
  {
   "cell_type": "code",
   "execution_count": 14,
   "metadata": {
    "ExecuteTime": {
     "end_time": "2021-12-22T22:49:04.753992Z",
     "start_time": "2021-12-22T22:49:04.751578Z"
    }
   },
   "outputs": [],
   "source": [
    "def preprocess(data):\n",
    "    data[\"data\"] = data[\"data\"].apply(lambda x: \" \".join(x.split(\"Lines: \")[1:]))\n",
    "    \n",
    "    return data"
   ]
  },
  {
   "cell_type": "code",
   "execution_count": 15,
   "metadata": {
    "ExecuteTime": {
     "end_time": "2021-12-22T22:49:04.821272Z",
     "start_time": "2021-12-22T22:49:04.755475Z"
    }
   },
   "outputs": [],
   "source": [
    "out_of_time = preprocess(out_of_time)\n",
    "in_time = preprocess(in_time)"
   ]
  },
  {
   "cell_type": "code",
   "execution_count": 16,
   "metadata": {
    "ExecuteTime": {
     "end_time": "2021-12-22T22:49:04.839962Z",
     "start_time": "2021-12-22T22:49:04.823235Z"
    }
   },
   "outputs": [],
   "source": [
    "out_of_time[\"binary_target\"] = out_of_time[\"target\"].apply(lambda x: 1 if x == TARGET else 0)\n",
    "in_time[\"binary_target\"] = in_time[\"target\"].apply(lambda x: 1 if x == TARGET else 0)"
   ]
  },
  {
   "cell_type": "code",
   "execution_count": 17,
   "metadata": {
    "ExecuteTime": {
     "end_time": "2021-12-22T22:49:04.844725Z",
     "start_time": "2021-12-22T22:49:04.841870Z"
    }
   },
   "outputs": [],
   "source": [
    "time_step = 2840\n",
    "time_column = \"date\"\n",
    "dummy_time_column = \"dummy_date\"\n",
    "target = \"binary_target\""
   ]
  },
  {
   "cell_type": "code",
   "execution_count": 18,
   "metadata": {
    "ExecuteTime": {
     "end_time": "2021-12-22T22:49:04.851212Z",
     "start_time": "2021-12-22T22:49:04.846734Z"
    }
   },
   "outputs": [],
   "source": [
    "in_time[time_column] = (in_time.index.values / time_step).astype(int)"
   ]
  },
  {
   "cell_type": "code",
   "execution_count": 19,
   "metadata": {
    "ExecuteTime": {
     "end_time": "2021-12-22T22:49:05.013309Z",
     "start_time": "2021-12-22T22:49:04.853434Z"
    }
   },
   "outputs": [
    {
     "data": {
      "text/plain": [
       "<AxesSubplot:>"
      ]
     },
     "execution_count": 19,
     "metadata": {},
     "output_type": "execute_result"
    },
    {
     "data": {
      "image/png": "[encoded data removed]",
      "text/plain": [
       "<Figure size 864x288 with 1 Axes>"
      ]
     },
     "metadata": {},
     "output_type": "display_data"
    }
   ],
   "source": [
    "in_time[time_column].plot()"
   ]
  },
  {
   "cell_type": "code",
   "execution_count": 20,
   "metadata": {
    "ExecuteTime": {
     "end_time": "2021-12-22T22:49:05.030142Z",
     "start_time": "2021-12-22T22:49:05.016368Z"
    }
   },
   "outputs": [
    {
     "data": {
      "text/html": [
       "<div>\n",
       "<style scoped>\n",
       "    .dataframe tbody tr th:only-of-type {\n",
       "        vertical-align: middle;\n",
       "    }\n",
       "\n",
       "    .dataframe tbody tr th {\n",
       "        vertical-align: top;\n",
       "    }\n",
       "\n",
       "    .dataframe thead th {\n",
       "        text-align: right;\n",
       "    }\n",
       "</style>\n",
       "<table border=\"1\" class=\"dataframe\">\n",
       "  <thead>\n",
       "    <tr style=\"text-align: right;\">\n",
       "      <th></th>\n",
       "      <th>data</th>\n",
       "      <th>filenames</th>\n",
       "      <th>target_names</th>\n",
       "      <th>target</th>\n",
       "      <th>binary_target</th>\n",
       "    </tr>\n",
       "    <tr>\n",
       "      <th>date</th>\n",
       "      <th></th>\n",
       "      <th></th>\n",
       "      <th></th>\n",
       "      <th></th>\n",
       "      <th></th>\n",
       "    </tr>\n",
       "  </thead>\n",
       "  <tbody>\n",
       "    <tr>\n",
       "      <th>0</th>\n",
       "      <td>2840</td>\n",
       "      <td>2840</td>\n",
       "      <td>20</td>\n",
       "      <td>2840</td>\n",
       "      <td>2840</td>\n",
       "    </tr>\n",
       "    <tr>\n",
       "      <th>1</th>\n",
       "      <td>2840</td>\n",
       "      <td>2840</td>\n",
       "      <td>0</td>\n",
       "      <td>2840</td>\n",
       "      <td>2840</td>\n",
       "    </tr>\n",
       "    <tr>\n",
       "      <th>2</th>\n",
       "      <td>2840</td>\n",
       "      <td>2840</td>\n",
       "      <td>0</td>\n",
       "      <td>2840</td>\n",
       "      <td>2840</td>\n",
       "    </tr>\n",
       "    <tr>\n",
       "      <th>3</th>\n",
       "      <td>2794</td>\n",
       "      <td>2794</td>\n",
       "      <td>0</td>\n",
       "      <td>2794</td>\n",
       "      <td>2794</td>\n",
       "    </tr>\n",
       "  </tbody>\n",
       "</table>\n",
       "</div>"
      ],
      "text/plain": [
       "      data  filenames  target_names  target  binary_target\n",
       "date                                                      \n",
       "0     2840       2840            20    2840           2840\n",
       "1     2840       2840             0    2840           2840\n",
       "2     2840       2840             0    2840           2840\n",
       "3     2794       2794             0    2794           2794"
      ]
     },
     "execution_count": 20,
     "metadata": {},
     "output_type": "execute_result"
    }
   ],
   "source": [
    "in_time.groupby(time_column).count()"
   ]
  },
  {
   "cell_type": "code",
   "execution_count": 21,
   "metadata": {
    "ExecuteTime": {
     "end_time": "2021-12-22T22:49:05.232735Z",
     "start_time": "2021-12-22T22:49:05.098515Z"
    }
   },
   "outputs": [
    {
     "data": {
      "text/plain": [
       "<AxesSubplot:>"
      ]
     },
     "execution_count": 21,
     "metadata": {},
     "output_type": "execute_result"
    },
    {
     "data": {
      "image/png": "[encoded data removed]",
      "text/plain": [
       "<Figure size 864x288 with 1 Axes>"
      ]
     },
     "metadata": {},
     "output_type": "display_data"
    }
   ],
   "source": [
    "out_of_time[time_column] = ((out_of_time.index.values) / time_step).astype(int) + np.max(in_time.date.values) + 1\n",
    "out_of_time[time_column].plot()"
   ]
  },
  {
   "cell_type": "code",
   "execution_count": 22,
   "metadata": {
    "ExecuteTime": {
     "end_time": "2021-12-22T22:49:05.293473Z",
     "start_time": "2021-12-22T22:49:05.279019Z"
    }
   },
   "outputs": [
    {
     "data": {
      "text/html": [
       "<div>\n",
       "<style scoped>\n",
       "    .dataframe tbody tr th:only-of-type {\n",
       "        vertical-align: middle;\n",
       "    }\n",
       "\n",
       "    .dataframe tbody tr th {\n",
       "        vertical-align: top;\n",
       "    }\n",
       "\n",
       "    .dataframe thead th {\n",
       "        text-align: right;\n",
       "    }\n",
       "</style>\n",
       "<table border=\"1\" class=\"dataframe\">\n",
       "  <thead>\n",
       "    <tr style=\"text-align: right;\">\n",
       "      <th></th>\n",
       "      <th>data</th>\n",
       "      <th>filenames</th>\n",
       "      <th>target_names</th>\n",
       "      <th>target</th>\n",
       "      <th>binary_target</th>\n",
       "    </tr>\n",
       "    <tr>\n",
       "      <th>date</th>\n",
       "      <th></th>\n",
       "      <th></th>\n",
       "      <th></th>\n",
       "      <th></th>\n",
       "      <th></th>\n",
       "    </tr>\n",
       "  </thead>\n",
       "  <tbody>\n",
       "    <tr>\n",
       "      <th>4</th>\n",
       "      <td>2840</td>\n",
       "      <td>2840</td>\n",
       "      <td>20</td>\n",
       "      <td>2840</td>\n",
       "      <td>2840</td>\n",
       "    </tr>\n",
       "    <tr>\n",
       "      <th>5</th>\n",
       "      <td>2840</td>\n",
       "      <td>2840</td>\n",
       "      <td>0</td>\n",
       "      <td>2840</td>\n",
       "      <td>2840</td>\n",
       "    </tr>\n",
       "    <tr>\n",
       "      <th>6</th>\n",
       "      <td>1852</td>\n",
       "      <td>1852</td>\n",
       "      <td>0</td>\n",
       "      <td>1852</td>\n",
       "      <td>1852</td>\n",
       "    </tr>\n",
       "  </tbody>\n",
       "</table>\n",
       "</div>"
      ],
      "text/plain": [
       "      data  filenames  target_names  target  binary_target\n",
       "date                                                      \n",
       "4     2840       2840            20    2840           2840\n",
       "5     2840       2840             0    2840           2840\n",
       "6     1852       1852             0    1852           1852"
      ]
     },
     "execution_count": 22,
     "metadata": {},
     "output_type": "execute_result"
    }
   ],
   "source": [
    "out_of_time.groupby(time_column).count()"
   ]
  },
  {
   "cell_type": "code",
   "execution_count": 23,
   "metadata": {
    "ExecuteTime": {
     "end_time": "2021-12-22T22:49:05.497579Z",
     "start_time": "2021-12-22T22:49:05.480647Z"
    }
   },
   "outputs": [],
   "source": [
    "train, test = train_test_split(in_time, \n",
    "                               test_size=0.2, \n",
    "                               random_state=42)"
   ]
  },
  {
   "cell_type": "code",
   "execution_count": 24,
   "metadata": {
    "ExecuteTime": {
     "end_time": "2021-12-22T22:49:08.918688Z",
     "start_time": "2021-12-22T22:49:05.840682Z"
    }
   },
   "outputs": [],
   "source": [
    "vectorizer = TfidfVectorizer(max_features=MAX_VOCABULARY,\n",
    "                             stop_words=\"english\",\n",
    "                             binary=False,\n",
    "                             use_idf=True,\n",
    "                             norm=False)\n",
    "\n",
    "train_vectors = pd.DataFrame(vectorizer.fit_transform(train[\"data\"]).toarray(), columns=vectorizer.vocabulary_)\n",
    "test_vectors = pd.DataFrame(vectorizer.transform(test[\"data\"]).toarray(), columns=vectorizer.vocabulary_)\n",
    "oot_vectors = pd.DataFrame(vectorizer.transform(out_of_time[\"data\"]).toarray(), columns=vectorizer.vocabulary_)"
   ]
  },
  {
   "cell_type": "code",
   "execution_count": 25,
   "metadata": {
    "ExecuteTime": {
     "end_time": "2021-12-22T22:49:08.923161Z",
     "start_time": "2021-12-22T22:49:08.920530Z"
    }
   },
   "outputs": [],
   "source": [
    "features = list(vectorizer.vocabulary_.keys())"
   ]
  },
  {
   "cell_type": "code",
   "execution_count": 26,
   "metadata": {
    "ExecuteTime": {
     "end_time": "2021-12-22T22:49:08.929249Z",
     "start_time": "2021-12-22T22:49:08.925631Z"
    }
   },
   "outputs": [
    {
     "data": {
      "text/plain": [
       "\"5\\n\\nNikon FM-2n with 50 mm Nikkor and accessories for sale.I bought this camera in\\nHong Kong two years ago and everything has been looked after very well. I'm now\\nselling some more gear to finance my next big film project.\\n\\nAsking $350 for package. NO BARGAINS.\\n\""
      ]
     },
     "execution_count": 26,
     "metadata": {},
     "output_type": "execute_result"
    }
   ],
   "source": [
    "train.iloc[0][\"data\"]"
   ]
  },
  {
   "cell_type": "code",
   "execution_count": 27,
   "metadata": {
    "ExecuteTime": {
     "end_time": "2021-12-22T22:49:08.941313Z",
     "start_time": "2021-12-22T22:49:08.931749Z"
    }
   },
   "outputs": [
    {
     "data": {
      "text/html": [
       "<div>\n",
       "<style scoped>\n",
       "    .dataframe tbody tr th:only-of-type {\n",
       "        vertical-align: middle;\n",
       "    }\n",
       "\n",
       "    .dataframe tbody tr th {\n",
       "        vertical-align: top;\n",
       "    }\n",
       "\n",
       "    .dataframe thead th {\n",
       "        text-align: right;\n",
       "    }\n",
       "</style>\n",
       "<table border=\"1\" class=\"dataframe\">\n",
       "  <thead>\n",
       "    <tr style=\"text-align: right;\">\n",
       "      <th></th>\n",
       "      <th>data</th>\n",
       "      <th>filenames</th>\n",
       "      <th>target_names</th>\n",
       "      <th>target</th>\n",
       "      <th>binary_target</th>\n",
       "      <th>date</th>\n",
       "    </tr>\n",
       "  </thead>\n",
       "  <tbody>\n",
       "    <tr>\n",
       "      <th>6606</th>\n",
       "      <td>5\\n\\nNikon FM-2n with 50 mm Nikkor and accesso...</td>\n",
       "      <td>/Users/luis.moneda/scikit_learn_data/20news_ho...</td>\n",
       "      <td>None</td>\n",
       "      <td>6</td>\n",
       "      <td>0</td>\n",
       "      <td>2</td>\n",
       "    </tr>\n",
       "    <tr>\n",
       "      <th>10808</th>\n",
       "      <td>125\\n\\nHeres the life of St. MAria Goretti, po...</td>\n",
       "      <td>/Users/luis.moneda/scikit_learn_data/20news_ho...</td>\n",
       "      <td>None</td>\n",
       "      <td>15</td>\n",
       "      <td>0</td>\n",
       "      <td>3</td>\n",
       "    </tr>\n",
       "    <tr>\n",
       "      <th>10683</th>\n",
       "      <td>90\\n\\nkwfinken@pooh.harpo.uccs.edu (Kevin W. F...</td>\n",
       "      <td>/Users/luis.moneda/scikit_learn_data/20news_ho...</td>\n",
       "      <td>None</td>\n",
       "      <td>15</td>\n",
       "      <td>0</td>\n",
       "      <td>3</td>\n",
       "    </tr>\n",
       "    <tr>\n",
       "      <th>2089</th>\n",
       "      <td>18\\nNntp-Posting-Host: cat.lv-lib.nevada.edu\\n...</td>\n",
       "      <td>/Users/luis.moneda/scikit_learn_data/20news_ho...</td>\n",
       "      <td>None</td>\n",
       "      <td>2</td>\n",
       "      <td>0</td>\n",
       "      <td>0</td>\n",
       "    </tr>\n",
       "    <tr>\n",
       "      <th>4026</th>\n",
       "      <td>15\\n\\nIn article &lt;114152@bu.edu&gt;, lcai@acs2.bu...</td>\n",
       "      <td>/Users/luis.moneda/scikit_learn_data/20news_ho...</td>\n",
       "      <td>None</td>\n",
       "      <td>3</td>\n",
       "      <td>0</td>\n",
       "      <td>1</td>\n",
       "    </tr>\n",
       "  </tbody>\n",
       "</table>\n",
       "</div>"
      ],
      "text/plain": [
       "                                                    data  \\\n",
       "6606   5\\n\\nNikon FM-2n with 50 mm Nikkor and accesso...   \n",
       "10808  125\\n\\nHeres the life of St. MAria Goretti, po...   \n",
       "10683  90\\n\\nkwfinken@pooh.harpo.uccs.edu (Kevin W. F...   \n",
       "2089   18\\nNntp-Posting-Host: cat.lv-lib.nevada.edu\\n...   \n",
       "4026   15\\n\\nIn article <114152@bu.edu>, lcai@acs2.bu...   \n",
       "\n",
       "                                               filenames target_names target  \\\n",
       "6606   /Users/luis.moneda/scikit_learn_data/20news_ho...         None      6   \n",
       "10808  /Users/luis.moneda/scikit_learn_data/20news_ho...         None     15   \n",
       "10683  /Users/luis.moneda/scikit_learn_data/20news_ho...         None     15   \n",
       "2089   /Users/luis.moneda/scikit_learn_data/20news_ho...         None      2   \n",
       "4026   /Users/luis.moneda/scikit_learn_data/20news_ho...         None      3   \n",
       "\n",
       "       binary_target  date  \n",
       "6606               0     2  \n",
       "10808              0     3  \n",
       "10683              0     3  \n",
       "2089               0     0  \n",
       "4026               0     1  "
      ]
     },
     "execution_count": 27,
     "metadata": {},
     "output_type": "execute_result"
    }
   ],
   "source": [
    "train.head()"
   ]
  },
  {
   "cell_type": "code",
   "execution_count": 28,
   "metadata": {
    "ExecuteTime": {
     "end_time": "2021-12-22T22:49:08.948943Z",
     "start_time": "2021-12-22T22:49:08.943238Z"
    }
   },
   "outputs": [],
   "source": [
    "train_vectors[time_column] = train[time_column].values\n",
    "test_vectors[time_column] = test[time_column].values\n",
    "oot_vectors[time_column] = out_of_time[time_column].values"
   ]
  },
  {
   "cell_type": "code",
   "execution_count": 29,
   "metadata": {
    "ExecuteTime": {
     "end_time": "2021-12-22T22:49:08.955343Z",
     "start_time": "2021-12-22T22:49:08.951202Z"
    }
   },
   "outputs": [],
   "source": [
    "train_vectors[dummy_time_column] = 1"
   ]
  },
  {
   "cell_type": "code",
   "execution_count": 30,
   "metadata": {
    "ExecuteTime": {
     "end_time": "2021-12-22T22:49:08.985879Z",
     "start_time": "2021-12-22T22:49:08.957314Z"
    }
   },
   "outputs": [
    {
     "data": {
      "text/html": [
       "<div>\n",
       "<style scoped>\n",
       "    .dataframe tbody tr th:only-of-type {\n",
       "        vertical-align: middle;\n",
       "    }\n",
       "\n",
       "    .dataframe tbody tr th {\n",
       "        vertical-align: top;\n",
       "    }\n",
       "\n",
       "    .dataframe thead th {\n",
       "        text-align: right;\n",
       "    }\n",
       "</style>\n",
       "<table border=\"1\" class=\"dataframe\">\n",
       "  <thead>\n",
       "    <tr style=\"text-align: right;\">\n",
       "      <th></th>\n",
       "      <th>years</th>\n",
       "      <th>like</th>\n",
       "      <th>set</th>\n",
       "      <th>little</th>\n",
       "      <th>time</th>\n",
       "      <th>day</th>\n",
       "      <th>jesus</th>\n",
       "      <th>god</th>\n",
       "      <th>did</th>\n",
       "      <th>work</th>\n",
       "      <th>...</th>\n",
       "      <th>right</th>\n",
       "      <th>software</th>\n",
       "      <th>state</th>\n",
       "      <th>better</th>\n",
       "      <th>university</th>\n",
       "      <th>things</th>\n",
       "      <th>ax</th>\n",
       "      <th>g9v</th>\n",
       "      <th>date</th>\n",
       "      <th>dummy_date</th>\n",
       "    </tr>\n",
       "  </thead>\n",
       "  <tbody>\n",
       "    <tr>\n",
       "      <th>0</th>\n",
       "      <td>0.0</td>\n",
       "      <td>0.000000</td>\n",
       "      <td>0.0</td>\n",
       "      <td>0.00000</td>\n",
       "      <td>0.000000</td>\n",
       "      <td>0.00000</td>\n",
       "      <td>0.000000</td>\n",
       "      <td>0.000000</td>\n",
       "      <td>0.000000</td>\n",
       "      <td>0.0</td>\n",
       "      <td>...</td>\n",
       "      <td>0.000000</td>\n",
       "      <td>0.000000</td>\n",
       "      <td>0.000000</td>\n",
       "      <td>0.000000</td>\n",
       "      <td>0.000000</td>\n",
       "      <td>0.000000</td>\n",
       "      <td>0.000000</td>\n",
       "      <td>3.211018</td>\n",
       "      <td>2</td>\n",
       "      <td>1</td>\n",
       "    </tr>\n",
       "    <tr>\n",
       "      <th>1</th>\n",
       "      <td>0.0</td>\n",
       "      <td>0.000000</td>\n",
       "      <td>0.0</td>\n",
       "      <td>0.00000</td>\n",
       "      <td>0.000000</td>\n",
       "      <td>0.00000</td>\n",
       "      <td>0.000000</td>\n",
       "      <td>0.000000</td>\n",
       "      <td>0.000000</td>\n",
       "      <td>0.0</td>\n",
       "      <td>...</td>\n",
       "      <td>0.000000</td>\n",
       "      <td>0.000000</td>\n",
       "      <td>0.000000</td>\n",
       "      <td>2.995159</td>\n",
       "      <td>0.000000</td>\n",
       "      <td>0.000000</td>\n",
       "      <td>0.000000</td>\n",
       "      <td>9.633054</td>\n",
       "      <td>3</td>\n",
       "      <td>1</td>\n",
       "    </tr>\n",
       "    <tr>\n",
       "      <th>2</th>\n",
       "      <td>0.0</td>\n",
       "      <td>0.000000</td>\n",
       "      <td>0.0</td>\n",
       "      <td>0.00000</td>\n",
       "      <td>0.000000</td>\n",
       "      <td>0.00000</td>\n",
       "      <td>3.434918</td>\n",
       "      <td>0.000000</td>\n",
       "      <td>0.000000</td>\n",
       "      <td>0.0</td>\n",
       "      <td>...</td>\n",
       "      <td>0.000000</td>\n",
       "      <td>2.711955</td>\n",
       "      <td>0.000000</td>\n",
       "      <td>2.995159</td>\n",
       "      <td>0.000000</td>\n",
       "      <td>0.000000</td>\n",
       "      <td>0.000000</td>\n",
       "      <td>6.422036</td>\n",
       "      <td>3</td>\n",
       "      <td>1</td>\n",
       "    </tr>\n",
       "    <tr>\n",
       "      <th>3</th>\n",
       "      <td>0.0</td>\n",
       "      <td>0.000000</td>\n",
       "      <td>0.0</td>\n",
       "      <td>3.50274</td>\n",
       "      <td>0.000000</td>\n",
       "      <td>3.37853</td>\n",
       "      <td>3.434918</td>\n",
       "      <td>0.000000</td>\n",
       "      <td>3.542663</td>\n",
       "      <td>0.0</td>\n",
       "      <td>...</td>\n",
       "      <td>0.000000</td>\n",
       "      <td>0.000000</td>\n",
       "      <td>7.471432</td>\n",
       "      <td>0.000000</td>\n",
       "      <td>0.000000</td>\n",
       "      <td>1.674975</td>\n",
       "      <td>0.000000</td>\n",
       "      <td>0.000000</td>\n",
       "      <td>0</td>\n",
       "      <td>1</td>\n",
       "    </tr>\n",
       "    <tr>\n",
       "      <th>4</th>\n",
       "      <td>0.0</td>\n",
       "      <td>0.000000</td>\n",
       "      <td>0.0</td>\n",
       "      <td>0.00000</td>\n",
       "      <td>0.000000</td>\n",
       "      <td>3.37853</td>\n",
       "      <td>0.000000</td>\n",
       "      <td>0.000000</td>\n",
       "      <td>0.000000</td>\n",
       "      <td>0.0</td>\n",
       "      <td>...</td>\n",
       "      <td>0.000000</td>\n",
       "      <td>0.000000</td>\n",
       "      <td>0.000000</td>\n",
       "      <td>0.000000</td>\n",
       "      <td>0.000000</td>\n",
       "      <td>0.000000</td>\n",
       "      <td>0.000000</td>\n",
       "      <td>0.000000</td>\n",
       "      <td>1</td>\n",
       "      <td>1</td>\n",
       "    </tr>\n",
       "    <tr>\n",
       "      <th>...</th>\n",
       "      <td>...</td>\n",
       "      <td>...</td>\n",
       "      <td>...</td>\n",
       "      <td>...</td>\n",
       "      <td>...</td>\n",
       "      <td>...</td>\n",
       "      <td>...</td>\n",
       "      <td>...</td>\n",
       "      <td>...</td>\n",
       "      <td>...</td>\n",
       "      <td>...</td>\n",
       "      <td>...</td>\n",
       "      <td>...</td>\n",
       "      <td>...</td>\n",
       "      <td>...</td>\n",
       "      <td>...</td>\n",
       "      <td>...</td>\n",
       "      <td>...</td>\n",
       "      <td>...</td>\n",
       "      <td>...</td>\n",
       "      <td>...</td>\n",
       "    </tr>\n",
       "    <tr>\n",
       "      <th>9046</th>\n",
       "      <td>0.0</td>\n",
       "      <td>3.182203</td>\n",
       "      <td>0.0</td>\n",
       "      <td>0.00000</td>\n",
       "      <td>0.000000</td>\n",
       "      <td>0.00000</td>\n",
       "      <td>0.000000</td>\n",
       "      <td>0.000000</td>\n",
       "      <td>0.000000</td>\n",
       "      <td>0.0</td>\n",
       "      <td>...</td>\n",
       "      <td>0.000000</td>\n",
       "      <td>0.000000</td>\n",
       "      <td>0.000000</td>\n",
       "      <td>0.000000</td>\n",
       "      <td>0.000000</td>\n",
       "      <td>0.000000</td>\n",
       "      <td>0.000000</td>\n",
       "      <td>0.000000</td>\n",
       "      <td>3</td>\n",
       "      <td>1</td>\n",
       "    </tr>\n",
       "    <tr>\n",
       "      <th>9047</th>\n",
       "      <td>0.0</td>\n",
       "      <td>3.182203</td>\n",
       "      <td>0.0</td>\n",
       "      <td>0.00000</td>\n",
       "      <td>0.000000</td>\n",
       "      <td>0.00000</td>\n",
       "      <td>0.000000</td>\n",
       "      <td>0.000000</td>\n",
       "      <td>0.000000</td>\n",
       "      <td>0.0</td>\n",
       "      <td>...</td>\n",
       "      <td>2.861526</td>\n",
       "      <td>0.000000</td>\n",
       "      <td>0.000000</td>\n",
       "      <td>0.000000</td>\n",
       "      <td>0.000000</td>\n",
       "      <td>6.699899</td>\n",
       "      <td>0.000000</td>\n",
       "      <td>0.000000</td>\n",
       "      <td>1</td>\n",
       "      <td>1</td>\n",
       "    </tr>\n",
       "    <tr>\n",
       "      <th>9048</th>\n",
       "      <td>0.0</td>\n",
       "      <td>0.000000</td>\n",
       "      <td>0.0</td>\n",
       "      <td>0.00000</td>\n",
       "      <td>3.535665</td>\n",
       "      <td>0.00000</td>\n",
       "      <td>0.000000</td>\n",
       "      <td>0.000000</td>\n",
       "      <td>0.000000</td>\n",
       "      <td>0.0</td>\n",
       "      <td>...</td>\n",
       "      <td>0.000000</td>\n",
       "      <td>0.000000</td>\n",
       "      <td>0.000000</td>\n",
       "      <td>0.000000</td>\n",
       "      <td>0.000000</td>\n",
       "      <td>1.674975</td>\n",
       "      <td>0.000000</td>\n",
       "      <td>9.633054</td>\n",
       "      <td>1</td>\n",
       "      <td>1</td>\n",
       "    </tr>\n",
       "    <tr>\n",
       "      <th>9049</th>\n",
       "      <td>0.0</td>\n",
       "      <td>0.000000</td>\n",
       "      <td>0.0</td>\n",
       "      <td>0.00000</td>\n",
       "      <td>0.000000</td>\n",
       "      <td>0.00000</td>\n",
       "      <td>0.000000</td>\n",
       "      <td>3.663435</td>\n",
       "      <td>0.000000</td>\n",
       "      <td>0.0</td>\n",
       "      <td>...</td>\n",
       "      <td>0.000000</td>\n",
       "      <td>0.000000</td>\n",
       "      <td>0.000000</td>\n",
       "      <td>0.000000</td>\n",
       "      <td>0.000000</td>\n",
       "      <td>1.674975</td>\n",
       "      <td>0.000000</td>\n",
       "      <td>3.211018</td>\n",
       "      <td>0</td>\n",
       "      <td>1</td>\n",
       "    </tr>\n",
       "    <tr>\n",
       "      <th>9050</th>\n",
       "      <td>0.0</td>\n",
       "      <td>0.000000</td>\n",
       "      <td>0.0</td>\n",
       "      <td>0.00000</td>\n",
       "      <td>0.000000</td>\n",
       "      <td>0.00000</td>\n",
       "      <td>0.000000</td>\n",
       "      <td>0.000000</td>\n",
       "      <td>0.000000</td>\n",
       "      <td>0.0</td>\n",
       "      <td>...</td>\n",
       "      <td>2.861526</td>\n",
       "      <td>0.000000</td>\n",
       "      <td>0.000000</td>\n",
       "      <td>0.000000</td>\n",
       "      <td>2.976647</td>\n",
       "      <td>3.349950</td>\n",
       "      <td>6.696023</td>\n",
       "      <td>3.211018</td>\n",
       "      <td>2</td>\n",
       "      <td>1</td>\n",
       "    </tr>\n",
       "  </tbody>\n",
       "</table>\n",
       "<p>9051 rows × 102 columns</p>\n",
       "</div>"
      ],
      "text/plain": [
       "      years      like  set   little      time      day     jesus       god  \\\n",
       "0       0.0  0.000000  0.0  0.00000  0.000000  0.00000  0.000000  0.000000   \n",
       "1       0.0  0.000000  0.0  0.00000  0.000000  0.00000  0.000000  0.000000   \n",
       "2       0.0  0.000000  0.0  0.00000  0.000000  0.00000  3.434918  0.000000   \n",
       "3       0.0  0.000000  0.0  3.50274  0.000000  3.37853  3.434918  0.000000   \n",
       "4       0.0  0.000000  0.0  0.00000  0.000000  3.37853  0.000000  0.000000   \n",
       "...     ...       ...  ...      ...       ...      ...       ...       ...   \n",
       "9046    0.0  3.182203  0.0  0.00000  0.000000  0.00000  0.000000  0.000000   \n",
       "9047    0.0  3.182203  0.0  0.00000  0.000000  0.00000  0.000000  0.000000   \n",
       "9048    0.0  0.000000  0.0  0.00000  3.535665  0.00000  0.000000  0.000000   \n",
       "9049    0.0  0.000000  0.0  0.00000  0.000000  0.00000  0.000000  3.663435   \n",
       "9050    0.0  0.000000  0.0  0.00000  0.000000  0.00000  0.000000  0.000000   \n",
       "\n",
       "           did  work  ...     right  software     state    better  university  \\\n",
       "0     0.000000   0.0  ...  0.000000  0.000000  0.000000  0.000000    0.000000   \n",
       "1     0.000000   0.0  ...  0.000000  0.000000  0.000000  2.995159    0.000000   \n",
       "2     0.000000   0.0  ...  0.000000  2.711955  0.000000  2.995159    0.000000   \n",
       "3     3.542663   0.0  ...  0.000000  0.000000  7.471432  0.000000    0.000000   \n",
       "4     0.000000   0.0  ...  0.000000  0.000000  0.000000  0.000000    0.000000   \n",
       "...        ...   ...  ...       ...       ...       ...       ...         ...   \n",
       "9046  0.000000   0.0  ...  0.000000  0.000000  0.000000  0.000000    0.000000   \n",
       "9047  0.000000   0.0  ...  2.861526  0.000000  0.000000  0.000000    0.000000   \n",
       "9048  0.000000   0.0  ...  0.000000  0.000000  0.000000  0.000000    0.000000   \n",
       "9049  0.000000   0.0  ...  0.000000  0.000000  0.000000  0.000000    0.000000   \n",
       "9050  0.000000   0.0  ...  2.861526  0.000000  0.000000  0.000000    2.976647   \n",
       "\n",
       "        things        ax       g9v  date  dummy_date  \n",
       "0     0.000000  0.000000  3.211018     2           1  \n",
       "1     0.000000  0.000000  9.633054     3           1  \n",
       "2     0.000000  0.000000  6.422036     3           1  \n",
       "3     1.674975  0.000000  0.000000     0           1  \n",
       "4     0.000000  0.000000  0.000000     1           1  \n",
       "...        ...       ...       ...   ...         ...  \n",
       "9046  0.000000  0.000000  0.000000     3           1  \n",
       "9047  6.699899  0.000000  0.000000     1           1  \n",
       "9048  1.674975  0.000000  9.633054     1           1  \n",
       "9049  1.674975  0.000000  3.211018     0           1  \n",
       "9050  3.349950  6.696023  3.211018     2           1  \n",
       "\n",
       "[9051 rows x 102 columns]"
      ]
     },
     "execution_count": 30,
     "metadata": {},
     "output_type": "execute_result"
    }
   ],
   "source": [
    "train_vectors"
   ]
  },
  {
   "cell_type": "code",
   "execution_count": 31,
   "metadata": {
    "ExecuteTime": {
     "end_time": "2021-12-22T22:49:19.173432Z",
     "start_time": "2021-12-22T22:49:08.989043Z"
    }
   },
   "outputs": [],
   "source": [
    "model = TimeForestClassifier(time_column=dummy_time_column,\n",
    "                             n_estimators=5,\n",
    "                             multi=True, \n",
    "                             min_sample_periods=1)\n",
    "\n",
    "model.fit(train_vectors[features + [dummy_time_column]], train[target].values)"
   ]
  },
  {
   "cell_type": "code",
   "execution_count": 32,
   "metadata": {
    "ExecuteTime": {
     "end_time": "2021-12-22T22:49:21.220203Z",
     "start_time": "2021-12-22T22:49:19.176557Z"
    }
   },
   "outputs": [
    {
     "data": {
      "text/plain": [
       "0.7556256805895851"
      ]
     },
     "execution_count": 32,
     "metadata": {},
     "output_type": "execute_result"
    }
   ],
   "source": [
    "train[\"prediction\"] = model.predict_proba(train_vectors)[:, 1]\n",
    "roc_auc_score(train[target], train[\"prediction\"])"
   ]
  },
  {
   "cell_type": "code",
   "execution_count": 33,
   "metadata": {
    "ExecuteTime": {
     "end_time": "2021-12-22T22:49:21.792698Z",
     "start_time": "2021-12-22T22:49:21.222104Z"
    }
   },
   "outputs": [
    {
     "data": {
      "text/plain": [
       "0.734269783019204"
      ]
     },
     "execution_count": 33,
     "metadata": {},
     "output_type": "execute_result"
    }
   ],
   "source": [
    "test[\"prediction\"] = model.predict_proba(test_vectors)[:, 1]\n",
    "roc_auc_score(test[target], test[\"prediction\"])"
   ]
  },
  {
   "cell_type": "code",
   "execution_count": 34,
   "metadata": {
    "ExecuteTime": {
     "end_time": "2021-12-22T22:49:23.431021Z",
     "start_time": "2021-12-22T22:49:21.794646Z"
    }
   },
   "outputs": [
    {
     "data": {
      "text/plain": [
       "0.6882890362758297"
      ]
     },
     "execution_count": 34,
     "metadata": {},
     "output_type": "execute_result"
    }
   ],
   "source": [
    "out_of_time[\"prediction\"] = model.predict_proba(oot_vectors)[:, 1]\n",
    "\n",
    "benchmark_dt_out_of_time = roc_auc_score(out_of_time[target], out_of_time[\"prediction\"])\n",
    "benchmark_dt_out_of_time"
   ]
  },
  {
   "cell_type": "code",
   "execution_count": 35,
   "metadata": {
    "ExecuteTime": {
     "end_time": "2021-12-22T22:49:23.452399Z",
     "start_time": "2021-12-22T22:49:23.432895Z"
    }
   },
   "outputs": [
    {
     "data": {
      "text/plain": [
       "date\n",
       "4    0.710821\n",
       "5    0.670313\n",
       "6    0.678510\n",
       "dtype: float64"
      ]
     },
     "execution_count": 35,
     "metadata": {},
     "output_type": "execute_result"
    }
   ],
   "source": [
    "out_of_time.groupby(time_column).apply(lambda x: roc_auc_score(x[target], x[\"prediction\"]))"
   ]
  },
  {
   "cell_type": "code",
   "execution_count": 36,
   "metadata": {
    "ExecuteTime": {
     "end_time": "2021-12-22T22:49:23.760871Z",
     "start_time": "2021-12-22T22:49:23.454419Z"
    }
   },
   "outputs": [
    {
     "data": {
      "image/png": "[encoded data removed]",
      "text/plain": [
       "<Figure size 864x288 with 1 Axes>"
      ]
     },
     "metadata": {},
     "output_type": "display_data"
    },
    {
     "data": {
      "image/png": "[encoded data removed]",
      "text/plain": [
       "<Figure size 864x288 with 1 Axes>"
      ]
     },
     "metadata": {},
     "output_type": "display_data"
    }
   ],
   "source": [
    "out_of_time.groupby(time_column).apply(lambda x: roc_auc_score(x[target], x[\"prediction\"])).plot()\n",
    "plt.show()\n",
    "out_of_time.groupby(time_column)[target].mean().plot()\n",
    "plt.show()"
   ]
  },
  {
   "cell_type": "code",
   "execution_count": 37,
   "metadata": {
    "ExecuteTime": {
     "end_time": "2021-12-22T22:49:23.788639Z",
     "start_time": "2021-12-22T22:49:23.764855Z"
    }
   },
   "outputs": [
    {
     "data": {
      "text/html": [
       "<div>\n",
       "<style scoped>\n",
       "    .dataframe tbody tr th:only-of-type {\n",
       "        vertical-align: middle;\n",
       "    }\n",
       "\n",
       "    .dataframe tbody tr th {\n",
       "        vertical-align: top;\n",
       "    }\n",
       "\n",
       "    .dataframe thead th {\n",
       "        text-align: right;\n",
       "    }\n",
       "</style>\n",
       "<table border=\"1\" class=\"dataframe\">\n",
       "  <thead>\n",
       "    <tr style=\"text-align: right;\">\n",
       "      <th></th>\n",
       "      <th>Importance</th>\n",
       "    </tr>\n",
       "    <tr>\n",
       "      <th>Feature</th>\n",
       "      <th></th>\n",
       "    </tr>\n",
       "  </thead>\n",
       "  <tbody>\n",
       "    <tr>\n",
       "      <th>data</th>\n",
       "      <td>0.005073</td>\n",
       "    </tr>\n",
       "    <tr>\n",
       "      <th>20</th>\n",
       "      <td>0.002193</td>\n",
       "    </tr>\n",
       "    <tr>\n",
       "      <th>11</th>\n",
       "      <td>0.001969</td>\n",
       "    </tr>\n",
       "    <tr>\n",
       "      <th>host</th>\n",
       "      <td>0.001914</td>\n",
       "    </tr>\n",
       "    <tr>\n",
       "      <th>say</th>\n",
       "      <td>0.001603</td>\n",
       "    </tr>\n",
       "    <tr>\n",
       "      <th>didn</th>\n",
       "      <td>0.001316</td>\n",
       "    </tr>\n",
       "    <tr>\n",
       "      <th>file</th>\n",
       "      <td>0.001171</td>\n",
       "    </tr>\n",
       "    <tr>\n",
       "      <th>just</th>\n",
       "      <td>0.000993</td>\n",
       "    </tr>\n",
       "    <tr>\n",
       "      <th>question</th>\n",
       "      <td>0.000940</td>\n",
       "    </tr>\n",
       "    <tr>\n",
       "      <th>way</th>\n",
       "      <td>0.000840</td>\n",
       "    </tr>\n",
       "  </tbody>\n",
       "</table>\n",
       "</div>"
      ],
      "text/plain": [
       "          Importance\n",
       "Feature             \n",
       "data        0.005073\n",
       "20          0.002193\n",
       "11          0.001969\n",
       "host        0.001914\n",
       "say         0.001603\n",
       "didn        0.001316\n",
       "file        0.001171\n",
       "just        0.000993\n",
       "question    0.000940\n",
       "way         0.000840"
      ]
     },
     "execution_count": 37,
     "metadata": {},
     "output_type": "execute_result"
    }
   ],
   "source": [
    "model.feature_importance(impurity_decrease=True).head(10)"
   ]
  },
  {
   "cell_type": "markdown",
   "metadata": {},
   "source": [
    "## Time Forest"
   ]
  },
  {
   "cell_type": "code",
   "execution_count": 38,
   "metadata": {
    "ExecuteTime": {
     "end_time": "2021-12-22T22:49:36.681383Z",
     "start_time": "2021-12-22T22:49:23.791802Z"
    },
    "scrolled": true
   },
   "outputs": [
    {
     "name": "stdout",
     "output_type": "stream",
     "text": [
      "0.7425013611791701\n",
      "0.7255896604553389\n",
      "0.7100972890567897\n"
     ]
    }
   ],
   "source": [
    "time_model_tree = TimeForestClassifier(time_column=time_column,\n",
    "                                       multi=True, \n",
    "                                       min_sample_periods=1)\n",
    "\n",
    "# time_model_tree = RandomTimeSplitTree(train_vectors,\n",
    "#                                 train[target].values,\n",
    "#                                 time_column=time_column, \n",
    "#                                 max_depth=10,\n",
    "#                                 max_features=1.0,\n",
    "#                                 bootstrapping=False,\n",
    "#                                 min_sample_periods=15,\n",
    "#                                 verbose=True)\n",
    "\n",
    "\n",
    "time_model_tree.fit(train_vectors[features + [time_column]], train[target].values)\n",
    "\n",
    "train[\"time_prediction_tree\"] = time_model_tree.predict_proba(train_vectors)[:, 1]\n",
    "print(roc_auc_score(train[target], train[\"time_prediction_tree\"]))\n",
    "\n",
    "test[\"time_prediction_tree\"] = time_model_tree.predict_proba(test_vectors)[:, 1]\n",
    "print(roc_auc_score(test[target], test[\"time_prediction_tree\"]))\n",
    "\n",
    "out_of_time[\"time_prediction_tree\"] = time_model_tree.predict_proba(oot_vectors)[:, 1]\n",
    "print(roc_auc_score(out_of_time[target], out_of_time[\"time_prediction_tree\"]))"
   ]
  },
  {
   "cell_type": "code",
   "execution_count": 39,
   "metadata": {
    "ExecuteTime": {
     "end_time": "2021-12-22T22:49:36.705108Z",
     "start_time": "2021-12-22T22:49:36.683462Z"
    }
   },
   "outputs": [
    {
     "data": {
      "text/html": [
       "<div>\n",
       "<style scoped>\n",
       "    .dataframe tbody tr th:only-of-type {\n",
       "        vertical-align: middle;\n",
       "    }\n",
       "\n",
       "    .dataframe tbody tr th {\n",
       "        vertical-align: top;\n",
       "    }\n",
       "\n",
       "    .dataframe thead th {\n",
       "        text-align: right;\n",
       "    }\n",
       "</style>\n",
       "<table border=\"1\" class=\"dataframe\">\n",
       "  <thead>\n",
       "    <tr style=\"text-align: right;\">\n",
       "      <th></th>\n",
       "      <th>Importance</th>\n",
       "    </tr>\n",
       "    <tr>\n",
       "      <th>Feature</th>\n",
       "      <th></th>\n",
       "    </tr>\n",
       "  </thead>\n",
       "  <tbody>\n",
       "    <tr>\n",
       "      <th>data</th>\n",
       "      <td>0.005360</td>\n",
       "    </tr>\n",
       "    <tr>\n",
       "      <th>11</th>\n",
       "      <td>0.002290</td>\n",
       "    </tr>\n",
       "    <tr>\n",
       "      <th>20</th>\n",
       "      <td>0.002048</td>\n",
       "    </tr>\n",
       "    <tr>\n",
       "      <th>host</th>\n",
       "      <td>0.002004</td>\n",
       "    </tr>\n",
       "    <tr>\n",
       "      <th>say</th>\n",
       "      <td>0.001773</td>\n",
       "    </tr>\n",
       "    <tr>\n",
       "      <th>just</th>\n",
       "      <td>0.001667</td>\n",
       "    </tr>\n",
       "    <tr>\n",
       "      <th>file</th>\n",
       "      <td>0.001212</td>\n",
       "    </tr>\n",
       "    <tr>\n",
       "      <th>best</th>\n",
       "      <td>0.001204</td>\n",
       "    </tr>\n",
       "    <tr>\n",
       "      <th>like</th>\n",
       "      <td>0.000967</td>\n",
       "    </tr>\n",
       "    <tr>\n",
       "      <th>mail</th>\n",
       "      <td>0.000877</td>\n",
       "    </tr>\n",
       "  </tbody>\n",
       "</table>\n",
       "</div>"
      ],
      "text/plain": [
       "         Importance\n",
       "Feature            \n",
       "data       0.005360\n",
       "11         0.002290\n",
       "20         0.002048\n",
       "host       0.002004\n",
       "say        0.001773\n",
       "just       0.001667\n",
       "file       0.001212\n",
       "best       0.001204\n",
       "like       0.000967\n",
       "mail       0.000877"
      ]
     },
     "execution_count": 39,
     "metadata": {},
     "output_type": "execute_result"
    }
   ],
   "source": [
    "time_model_tree.feature_importance(impurity_decrease=True).head(10)"
   ]
  },
  {
   "cell_type": "code",
   "execution_count": 40,
   "metadata": {
    "ExecuteTime": {
     "end_time": "2021-12-22T22:49:36.884324Z",
     "start_time": "2021-12-22T22:49:36.706935Z"
    }
   },
   "outputs": [
    {
     "data": {
      "image/png": "[encoded data removed]",
      "text/plain": [
       "<Figure size 864x288 with 1 Axes>"
      ]
     },
     "metadata": {},
     "output_type": "display_data"
    }
   ],
   "source": [
    "out_of_time.groupby(time_column).apply(lambda x: roc_auc_score(x[target], x[\"prediction\"])).plot(label=\"Decision Tree\")\n",
    "out_of_time.groupby(time_column).apply(lambda x: roc_auc_score(x[target], x[\"time_prediction_tree\"])).plot(label=\"Time Tree\")\n",
    "plt.legend()\n",
    "plt.show()"
   ]
  },
  {
   "cell_type": "code",
   "execution_count": 41,
   "metadata": {
    "ExecuteTime": {
     "end_time": "2021-12-22T22:49:37.063131Z",
     "start_time": "2021-12-22T22:49:36.886055Z"
    }
   },
   "outputs": [
    {
     "data": {
      "image/png": "[encoded data removed]",
      "text/plain": [
       "<Figure size 864x288 with 1 Axes>"
      ]
     },
     "metadata": {},
     "output_type": "display_data"
    }
   ],
   "source": [
    "out_of_time_min_date = out_of_time[\"date\"].min()\n",
    "pd.concat([test, out_of_time]).groupby(time_column).apply(lambda x: roc_auc_score(x[target], x[\"prediction\"])).plot(label=\"Random Forest\")\n",
    "pd.concat([test, out_of_time]).groupby(time_column).apply(lambda x: roc_auc_score(x[target], x[\"time_prediction_tree\"])).plot(label=\"Time Robust Forest\", color=\"green\")\n",
    "\n",
    "xmin, xmax, ymin, ymax = plt.axis()\n",
    "plt.vlines(out_of_time_min_date, ymin, ymax, linestyle=\"dotted\", color=\"red\")\n",
    "plt.legend()\n",
    "plt.title(\"AUC by date on the 20 News group dataset\")\n",
    "plt.ylabel(\"AUC\")\n",
    "plt.xlabel(\"Date\")\n",
    "plt.show()"
   ]
  },
  {
   "cell_type": "markdown",
   "metadata": {},
   "source": [
    "## Average result for every target"
   ]
  },
  {
   "cell_type": "code",
   "execution_count": 42,
   "metadata": {
    "ExecuteTime": {
     "end_time": "2021-12-22T22:49:37.076181Z",
     "start_time": "2021-12-22T22:49:37.064817Z"
    }
   },
   "outputs": [
    {
     "data": {
      "text/plain": [
       "{7: 'talk.politics.mideast',\n",
       " 4: 'sci.electronics',\n",
       " 1: 'talk.politics.guns',\n",
       " 14: 'sci.med',\n",
       " 16: 'comp.windows.x',\n",
       " 13: 'misc.forsale',\n",
       " 3: 'rec.autos',\n",
       " 2: 'rec.motorcycles',\n",
       " 8: 'rec.sport.hockey',\n",
       " 19: 'sci.crypt',\n",
       " 6: 'sci.space',\n",
       " 0: 'soc.religion.christian',\n",
       " 12: 'talk.politics.misc',\n",
       " 5: 'talk.religion.misc'}"
      ]
     },
     "execution_count": 42,
     "metadata": {},
     "output_type": "execute_result"
    }
   ],
   "source": [
    "label_dict = in_time.groupby(\"target_names\")[\"target\"].min()\n",
    "label_dict = {v: k for k, v in label_dict.items()}\n",
    "label_dict"
   ]
  },
  {
   "cell_type": "code",
   "execution_count": 43,
   "metadata": {
    "ExecuteTime": {
     "end_time": "2021-12-22T22:49:38.655103Z",
     "start_time": "2021-12-22T22:49:37.077926Z"
    }
   },
   "outputs": [],
   "source": [
    "from pycaret.classification import *"
   ]
  },
  {
   "cell_type": "code",
   "execution_count": 98,
   "metadata": {
    "ExecuteTime": {
     "end_time": "2021-12-23T11:43:44.452145Z",
     "start_time": "2021-12-23T11:43:44.446597Z"
    }
   },
   "outputs": [
    {
     "data": {
      "text/plain": [
       "['max']"
      ]
     },
     "execution_count": 98,
     "metadata": {},
     "output_type": "execute_result"
    }
   ],
   "source": [
    "# params_grid = {\"n_estimators\": [30], \n",
    "#               \"max_depth\": [5, 10, 15],\n",
    "#               \"min_impurity_decrease\": [1e-3, 0],\n",
    "#               \"min_sample_periods\": [1, 5, 10],\n",
    "#               \"period_criterion\": [\"max\", \"avg\"]}\n",
    "\n",
    "params_grid = {\"n_estimators\": [4], \n",
    "              \"max_depth\": [5],\n",
    "              \"min_impurity_decrease\": [0],\n",
    "              \"min_sample_periods\": [1, 2],\n",
    "              \"period_criterion\": [\"max\"]}\n",
    "\n",
    "params_grid_benchmark = params_grid.copy()\n",
    "params_grid_benchmark.pop(\"period_criterion\")"
   ]
  },
  {
   "cell_type": "markdown",
   "metadata": {},
   "source": [
    "### Optimize hyper-params "
   ]
  },
  {
   "cell_type": "code",
   "execution_count": 99,
   "metadata": {
    "ExecuteTime": {
     "end_time": "2021-12-23T11:43:45.415416Z",
     "start_time": "2021-12-23T11:43:45.413115Z"
    }
   },
   "outputs": [],
   "source": [
    "benchmark_opt_param_dict = {}\n",
    "challenger_opt_param_dict = {}"
   ]
  },
  {
   "cell_type": "code",
   "execution_count": 100,
   "metadata": {
    "ExecuteTime": {
     "end_time": "2021-12-23T11:43:45.641902Z",
     "start_time": "2021-12-23T11:43:45.638205Z"
    }
   },
   "outputs": [
    {
     "data": {
      "text/plain": [
       "'binary_target'"
      ]
     },
     "execution_count": 100,
     "metadata": {},
     "output_type": "execute_result"
    }
   ],
   "source": [
    "target"
   ]
  },
  {
   "cell_type": "code",
   "execution_count": 101,
   "metadata": {
    "ExecuteTime": {
     "end_time": "2021-12-23T11:43:45.821528Z",
     "start_time": "2021-12-23T11:43:45.815469Z"
    }
   },
   "outputs": [
    {
     "data": {
      "text/plain": [
       "date\n",
       "0    2840\n",
       "1    2840\n",
       "2    2840\n",
       "3    2794\n",
       "Name: binary_target, dtype: int64"
      ]
     },
     "execution_count": 101,
     "metadata": {},
     "output_type": "execute_result"
    }
   ],
   "source": [
    "in_time.groupby(time_column)[target].count()"
   ]
  },
  {
   "cell_type": "code",
   "execution_count": 102,
   "metadata": {
    "ExecuteTime": {
     "end_time": "2021-12-23T11:43:49.808644Z",
     "start_time": "2021-12-23T11:43:46.018887Z"
    }
   },
   "outputs": [],
   "source": [
    "train = pd.DataFrame(vectorizer.fit_transform(in_time[\"data\"]).toarray(), columns=vectorizer.vocabulary_)\n",
    "holdout = pd.DataFrame(vectorizer.transform(out_of_time[\"data\"]).toarray(), columns=vectorizer.vocabulary_)\n",
    "features = list(vectorizer.vocabulary_.keys())"
   ]
  },
  {
   "cell_type": "code",
   "execution_count": 103,
   "metadata": {
    "ExecuteTime": {
     "end_time": "2021-12-23T12:26:31.556409Z",
     "start_time": "2021-12-23T11:43:49.810451Z"
    }
   },
   "outputs": [
    {
     "name": "stdout",
     "output_type": "stream",
     "text": [
      "*****************************\n",
      "target_label = talk.politics.mideast\n"
     ]
    },
    {
     "ename": "KeyboardInterrupt",
     "evalue": "",
     "output_type": "error",
     "traceback": [
      "\u001b[0;31m---------------------------------------------------------------------------\u001b[0m",
      "\u001b[0;31mKeyboardInterrupt\u001b[0m                         Traceback (most recent call last)",
      "\u001b[0;32m../images/20news_pycaret_aggregate_opt_square\u001b[0m in \u001b[0;36m<module>\u001b[0;34m\u001b[0m\n\u001b[1;32m     20\u001b[0m                                              \u001b[0mparams_grid\u001b[0m\u001b[0;34m,\u001b[0m\u001b[0;34m\u001b[0m\u001b[0m\n\u001b[1;32m     21\u001b[0m                                              \u001b[0mcv\u001b[0m\u001b[0;34m=\u001b[0m\u001b[0;36m5\u001b[0m\u001b[0;34m,\u001b[0m\u001b[0;34m\u001b[0m\u001b[0m\n\u001b[0;32m---> 22\u001b[0;31m                                              score=roc_auc_score)\n\u001b[0m\u001b[1;32m     23\u001b[0m \u001b[0;34m\u001b[0m\u001b[0m\n\u001b[1;32m     24\u001b[0m     \u001b[0mchallenger_opt_param_dict\u001b[0m\u001b[0;34m[\u001b[0m\u001b[0mlabel_dict\u001b[0m\u001b[0;34m[\u001b[0m\u001b[0mtarget_label\u001b[0m\u001b[0;34m]\u001b[0m\u001b[0;34m]\u001b[0m \u001b[0;34m=\u001b[0m \u001b[0mchallenger_opt_param\u001b[0m\u001b[0;34m\u001b[0m\u001b[0m\n",
      "\u001b[0;32m~/opt/miniconda3/envs/ml3/lib/python3.6/site-packages/time_robust_forest/hyper_opt.py\u001b[0m in \u001b[0;36menv_wise_hyper_opt\u001b[0;34m(X, y, model, env_column, param_grid, cv, score)\u001b[0m\n\u001b[1;32m     91\u001b[0m     \u001b[0menv_cvs\u001b[0m \u001b[0;34m=\u001b[0m \u001b[0mleave_one_env_out_cv\u001b[0m\u001b[0;34m(\u001b[0m\u001b[0mX\u001b[0m\u001b[0;34m,\u001b[0m \u001b[0menv_column\u001b[0m\u001b[0;34m,\u001b[0m \u001b[0mcv\u001b[0m\u001b[0;34m)\u001b[0m\u001b[0;34m\u001b[0m\u001b[0m\n\u001b[1;32m     92\u001b[0m \u001b[0;34m\u001b[0m\u001b[0m\n\u001b[0;32m---> 93\u001b[0;31m     \u001b[0mgrid_cv\u001b[0m \u001b[0;34m=\u001b[0m \u001b[0mgrid_search\u001b[0m\u001b[0;34m(\u001b[0m\u001b[0mX\u001b[0m\u001b[0;34m,\u001b[0m \u001b[0my\u001b[0m\u001b[0;34m,\u001b[0m \u001b[0mmodel\u001b[0m\u001b[0;34m,\u001b[0m \u001b[0mparam_grid\u001b[0m\u001b[0;34m,\u001b[0m \u001b[0menv_cvs\u001b[0m\u001b[0;34m,\u001b[0m \u001b[0mscore\u001b[0m\u001b[0;34m)\u001b[0m\u001b[0;34m\u001b[0m\u001b[0m\n\u001b[0m\u001b[1;32m     94\u001b[0m \u001b[0;34m\u001b[0m\u001b[0m\n\u001b[1;32m     95\u001b[0m     \u001b[0menvs\u001b[0m \u001b[0;34m=\u001b[0m \u001b[0mX\u001b[0m\u001b[0;34m[\u001b[0m\u001b[0menv_column\u001b[0m\u001b[0;34m]\u001b[0m\u001b[0;34m.\u001b[0m\u001b[0munique\u001b[0m\u001b[0;34m(\u001b[0m\u001b[0;34m)\u001b[0m\u001b[0;34m\u001b[0m\u001b[0m\n",
      "\u001b[0;32m~/opt/miniconda3/envs/ml3/lib/python3.6/site-packages/time_robust_forest/hyper_opt.py\u001b[0m in \u001b[0;36mgrid_search\u001b[0;34m(X, y, model, param_grid, env_cvs, score)\u001b[0m\n\u001b[1;32m     77\u001b[0m     )\n\u001b[1;32m     78\u001b[0m \u001b[0;34m\u001b[0m\u001b[0m\n\u001b[0;32m---> 79\u001b[0;31m     \u001b[0mgrid_cv\u001b[0m\u001b[0;34m.\u001b[0m\u001b[0mfit\u001b[0m\u001b[0;34m(\u001b[0m\u001b[0mX\u001b[0m\u001b[0;34m,\u001b[0m \u001b[0my\u001b[0m\u001b[0;34m)\u001b[0m\u001b[0;34m\u001b[0m\u001b[0m\n\u001b[0m\u001b[1;32m     80\u001b[0m     \u001b[0;32mreturn\u001b[0m \u001b[0mgrid_cv\u001b[0m\u001b[0;34m\u001b[0m\u001b[0m\n\u001b[1;32m     81\u001b[0m \u001b[0;34m\u001b[0m\u001b[0m\n",
      "\u001b[0;32m~/opt/miniconda3/envs/ml3/lib/python3.6/site-packages/sklearn/utils/validation.py\u001b[0m in \u001b[0;36minner_f\u001b[0;34m(*args, **kwargs)\u001b[0m\n\u001b[1;32m     70\u001b[0m                           FutureWarning)\n\u001b[1;32m     71\u001b[0m         \u001b[0mkwargs\u001b[0m\u001b[0;34m.\u001b[0m\u001b[0mupdate\u001b[0m\u001b[0;34m(\u001b[0m\u001b[0;34m{\u001b[0m\u001b[0mk\u001b[0m\u001b[0;34m:\u001b[0m \u001b[0marg\u001b[0m \u001b[0;32mfor\u001b[0m \u001b[0mk\u001b[0m\u001b[0;34m,\u001b[0m \u001b[0marg\u001b[0m \u001b[0;32min\u001b[0m \u001b[0mzip\u001b[0m\u001b[0;34m(\u001b[0m\u001b[0msig\u001b[0m\u001b[0;34m.\u001b[0m\u001b[0mparameters\u001b[0m\u001b[0;34m,\u001b[0m \u001b[0margs\u001b[0m\u001b[0;34m)\u001b[0m\u001b[0;34m}\u001b[0m\u001b[0;34m)\u001b[0m\u001b[0;34m\u001b[0m\u001b[0m\n\u001b[0;32m---> 72\u001b[0;31m         \u001b[0;32mreturn\u001b[0m \u001b[0mf\u001b[0m\u001b[0;34m(\u001b[0m\u001b[0;34m**\u001b[0m\u001b[0mkwargs\u001b[0m\u001b[0;34m)\u001b[0m\u001b[0;34m\u001b[0m\u001b[0m\n\u001b[0m\u001b[1;32m     73\u001b[0m     \u001b[0;32mreturn\u001b[0m \u001b[0minner_f\u001b[0m\u001b[0;34m\u001b[0m\u001b[0m\n\u001b[1;32m     74\u001b[0m \u001b[0;34m\u001b[0m\u001b[0m\n",
      "\u001b[0;32m~/opt/miniconda3/envs/ml3/lib/python3.6/site-packages/sklearn/model_selection/_search.py\u001b[0m in \u001b[0;36mfit\u001b[0;34m(self, X, y, groups, **fit_params)\u001b[0m\n\u001b[1;32m    734\u001b[0m                 \u001b[0;32mreturn\u001b[0m \u001b[0mresults\u001b[0m\u001b[0;34m\u001b[0m\u001b[0m\n\u001b[1;32m    735\u001b[0m \u001b[0;34m\u001b[0m\u001b[0m\n\u001b[0;32m--> 736\u001b[0;31m             \u001b[0mself\u001b[0m\u001b[0;34m.\u001b[0m\u001b[0m_run_search\u001b[0m\u001b[0;34m(\u001b[0m\u001b[0mevaluate_candidates\u001b[0m\u001b[0;34m)\u001b[0m\u001b[0;34m\u001b[0m\u001b[0m\n\u001b[0m\u001b[1;32m    737\u001b[0m \u001b[0;34m\u001b[0m\u001b[0m\n\u001b[1;32m    738\u001b[0m         \u001b[0;31m# For multi-metric evaluation, store the best_index_, best_params_ and\u001b[0m\u001b[0;34m\u001b[0m\u001b[0;34m\u001b[0m\u001b[0m\n",
      "\u001b[0;32m~/opt/miniconda3/envs/ml3/lib/python3.6/site-packages/sklearn/model_selection/_search.py\u001b[0m in \u001b[0;36m_run_search\u001b[0;34m(self, evaluate_candidates)\u001b[0m\n\u001b[1;32m   1186\u001b[0m     \u001b[0;32mdef\u001b[0m \u001b[0m_run_search\u001b[0m\u001b[0;34m(\u001b[0m\u001b[0mself\u001b[0m\u001b[0;34m,\u001b[0m \u001b[0mevaluate_candidates\u001b[0m\u001b[0;34m)\u001b[0m\u001b[0;34m:\u001b[0m\u001b[0;34m\u001b[0m\u001b[0m\n\u001b[1;32m   1187\u001b[0m         \u001b[0;34m\"\"\"Search all candidates in param_grid\"\"\"\u001b[0m\u001b[0;34m\u001b[0m\u001b[0m\n\u001b[0;32m-> 1188\u001b[0;31m         \u001b[0mevaluate_candidates\u001b[0m\u001b[0;34m(\u001b[0m\u001b[0mParameterGrid\u001b[0m\u001b[0;34m(\u001b[0m\u001b[0mself\u001b[0m\u001b[0;34m.\u001b[0m\u001b[0mparam_grid\u001b[0m\u001b[0;34m)\u001b[0m\u001b[0;34m)\u001b[0m\u001b[0;34m\u001b[0m\u001b[0m\n\u001b[0m\u001b[1;32m   1189\u001b[0m \u001b[0;34m\u001b[0m\u001b[0m\n\u001b[1;32m   1190\u001b[0m \u001b[0;34m\u001b[0m\u001b[0m\n",
      "\u001b[0;32m~/opt/miniconda3/envs/ml3/lib/python3.6/site-packages/sklearn/model_selection/_search.py\u001b[0m in \u001b[0;36mevaluate_candidates\u001b[0;34m(candidate_params)\u001b[0m\n\u001b[1;32m    713\u001b[0m                                \u001b[0;32mfor\u001b[0m \u001b[0mparameters\u001b[0m\u001b[0;34m,\u001b[0m \u001b[0;34m(\u001b[0m\u001b[0mtrain\u001b[0m\u001b[0;34m,\u001b[0m \u001b[0mtest\u001b[0m\u001b[0;34m)\u001b[0m\u001b[0;34m\u001b[0m\u001b[0m\n\u001b[1;32m    714\u001b[0m                                in product(candidate_params,\n\u001b[0;32m--> 715\u001b[0;31m                                           cv.split(X, y, groups)))\n\u001b[0m\u001b[1;32m    716\u001b[0m \u001b[0;34m\u001b[0m\u001b[0m\n\u001b[1;32m    717\u001b[0m                 \u001b[0;32mif\u001b[0m \u001b[0mlen\u001b[0m\u001b[0;34m(\u001b[0m\u001b[0mout\u001b[0m\u001b[0;34m)\u001b[0m \u001b[0;34m<\u001b[0m \u001b[0;36m1\u001b[0m\u001b[0;34m:\u001b[0m\u001b[0;34m\u001b[0m\u001b[0m\n",
      "\u001b[0;32m~/opt/miniconda3/envs/ml3/lib/python3.6/site-packages/joblib/parallel.py\u001b[0m in \u001b[0;36m__call__\u001b[0;34m(self, iterable)\u001b[0m\n\u001b[1;32m   1052\u001b[0m \u001b[0;34m\u001b[0m\u001b[0m\n\u001b[1;32m   1053\u001b[0m             \u001b[0;32mwith\u001b[0m \u001b[0mself\u001b[0m\u001b[0;34m.\u001b[0m\u001b[0m_backend\u001b[0m\u001b[0;34m.\u001b[0m\u001b[0mretrieval_context\u001b[0m\u001b[0;34m(\u001b[0m\u001b[0;34m)\u001b[0m\u001b[0;34m:\u001b[0m\u001b[0;34m\u001b[0m\u001b[0m\n\u001b[0;32m-> 1054\u001b[0;31m                 \u001b[0mself\u001b[0m\u001b[0;34m.\u001b[0m\u001b[0mretrieve\u001b[0m\u001b[0;34m(\u001b[0m\u001b[0;34m)\u001b[0m\u001b[0;34m\u001b[0m\u001b[0m\n\u001b[0m\u001b[1;32m   1055\u001b[0m             \u001b[0;31m# Make sure that we get a last message telling us we are done\u001b[0m\u001b[0;34m\u001b[0m\u001b[0;34m\u001b[0m\u001b[0m\n\u001b[1;32m   1056\u001b[0m             \u001b[0melapsed_time\u001b[0m \u001b[0;34m=\u001b[0m \u001b[0mtime\u001b[0m\u001b[0;34m.\u001b[0m\u001b[0mtime\u001b[0m\u001b[0;34m(\u001b[0m\u001b[0;34m)\u001b[0m \u001b[0;34m-\u001b[0m \u001b[0mself\u001b[0m\u001b[0;34m.\u001b[0m\u001b[0m_start_time\u001b[0m\u001b[0;34m\u001b[0m\u001b[0m\n",
      "\u001b[0;32m~/opt/miniconda3/envs/ml3/lib/python3.6/site-packages/joblib/parallel.py\u001b[0m in \u001b[0;36mretrieve\u001b[0;34m(self)\u001b[0m\n\u001b[1;32m    931\u001b[0m             \u001b[0;32mtry\u001b[0m\u001b[0;34m:\u001b[0m\u001b[0;34m\u001b[0m\u001b[0m\n\u001b[1;32m    932\u001b[0m                 \u001b[0;32mif\u001b[0m \u001b[0mgetattr\u001b[0m\u001b[0;34m(\u001b[0m\u001b[0mself\u001b[0m\u001b[0;34m.\u001b[0m\u001b[0m_backend\u001b[0m\u001b[0;34m,\u001b[0m \u001b[0;34m'supports_timeout'\u001b[0m\u001b[0;34m,\u001b[0m \u001b[0;32mFalse\u001b[0m\u001b[0;34m)\u001b[0m\u001b[0;34m:\u001b[0m\u001b[0;34m\u001b[0m\u001b[0m\n\u001b[0;32m--> 933\u001b[0;31m                     \u001b[0mself\u001b[0m\u001b[0;34m.\u001b[0m\u001b[0m_output\u001b[0m\u001b[0;34m.\u001b[0m\u001b[0mextend\u001b[0m\u001b[0;34m(\u001b[0m\u001b[0mjob\u001b[0m\u001b[0;34m.\u001b[0m\u001b[0mget\u001b[0m\u001b[0;34m(\u001b[0m\u001b[0mtimeout\u001b[0m\u001b[0;34m=\u001b[0m\u001b[0mself\u001b[0m\u001b[0;34m.\u001b[0m\u001b[0mtimeout\u001b[0m\u001b[0;34m)\u001b[0m\u001b[0;34m)\u001b[0m\u001b[0;34m\u001b[0m\u001b[0m\n\u001b[0m\u001b[1;32m    934\u001b[0m                 \u001b[0;32melse\u001b[0m\u001b[0;34m:\u001b[0m\u001b[0;34m\u001b[0m\u001b[0m\n\u001b[1;32m    935\u001b[0m                     \u001b[0mself\u001b[0m\u001b[0;34m.\u001b[0m\u001b[0m_output\u001b[0m\u001b[0;34m.\u001b[0m\u001b[0mextend\u001b[0m\u001b[0;34m(\u001b[0m\u001b[0mjob\u001b[0m\u001b[0;34m.\u001b[0m\u001b[0mget\u001b[0m\u001b[0;34m(\u001b[0m\u001b[0;34m)\u001b[0m\u001b[0;34m)\u001b[0m\u001b[0;34m\u001b[0m\u001b[0m\n",
      "\u001b[0;32m~/opt/miniconda3/envs/ml3/lib/python3.6/site-packages/joblib/_parallel_backends.py\u001b[0m in \u001b[0;36mwrap_future_result\u001b[0;34m(future, timeout)\u001b[0m\n\u001b[1;32m    540\u001b[0m         AsyncResults.get from multiprocessing.\"\"\"\n\u001b[1;32m    541\u001b[0m         \u001b[0;32mtry\u001b[0m\u001b[0;34m:\u001b[0m\u001b[0;34m\u001b[0m\u001b[0m\n\u001b[0;32m--> 542\u001b[0;31m             \u001b[0;32mreturn\u001b[0m \u001b[0mfuture\u001b[0m\u001b[0;34m.\u001b[0m\u001b[0mresult\u001b[0m\u001b[0;34m(\u001b[0m\u001b[0mtimeout\u001b[0m\u001b[0;34m=\u001b[0m\u001b[0mtimeout\u001b[0m\u001b[0;34m)\u001b[0m\u001b[0;34m\u001b[0m\u001b[0m\n\u001b[0m\u001b[1;32m    543\u001b[0m         \u001b[0;32mexcept\u001b[0m \u001b[0mCfTimeoutError\u001b[0m \u001b[0;32mas\u001b[0m \u001b[0me\u001b[0m\u001b[0;34m:\u001b[0m\u001b[0;34m\u001b[0m\u001b[0m\n\u001b[1;32m    544\u001b[0m             \u001b[0;32mraise\u001b[0m \u001b[0mTimeoutError\u001b[0m \u001b[0;32mfrom\u001b[0m \u001b[0me\u001b[0m\u001b[0;34m\u001b[0m\u001b[0m\n",
      "\u001b[0;32m~/opt/miniconda3/envs/ml3/lib/python3.6/concurrent/futures/_base.py\u001b[0m in \u001b[0;36mresult\u001b[0;34m(self, timeout)\u001b[0m\n\u001b[1;32m    425\u001b[0m                 \u001b[0;32mreturn\u001b[0m \u001b[0mself\u001b[0m\u001b[0;34m.\u001b[0m\u001b[0m__get_result\u001b[0m\u001b[0;34m(\u001b[0m\u001b[0;34m)\u001b[0m\u001b[0;34m\u001b[0m\u001b[0m\n\u001b[1;32m    426\u001b[0m \u001b[0;34m\u001b[0m\u001b[0m\n\u001b[0;32m--> 427\u001b[0;31m             \u001b[0mself\u001b[0m\u001b[0;34m.\u001b[0m\u001b[0m_condition\u001b[0m\u001b[0;34m.\u001b[0m\u001b[0mwait\u001b[0m\u001b[0;34m(\u001b[0m\u001b[0mtimeout\u001b[0m\u001b[0;34m)\u001b[0m\u001b[0;34m\u001b[0m\u001b[0m\n\u001b[0m\u001b[1;32m    428\u001b[0m \u001b[0;34m\u001b[0m\u001b[0m\n\u001b[1;32m    429\u001b[0m             \u001b[0;32mif\u001b[0m \u001b[0mself\u001b[0m\u001b[0;34m.\u001b[0m\u001b[0m_state\u001b[0m \u001b[0;32min\u001b[0m \u001b[0;34m[\u001b[0m\u001b[0mCANCELLED\u001b[0m\u001b[0;34m,\u001b[0m \u001b[0mCANCELLED_AND_NOTIFIED\u001b[0m\u001b[0;34m]\u001b[0m\u001b[0;34m:\u001b[0m\u001b[0;34m\u001b[0m\u001b[0m\n",
      "\u001b[0;32m~/opt/miniconda3/envs/ml3/lib/python3.6/threading.py\u001b[0m in \u001b[0;36mwait\u001b[0;34m(self, timeout)\u001b[0m\n\u001b[1;32m    293\u001b[0m         \u001b[0;32mtry\u001b[0m\u001b[0;34m:\u001b[0m    \u001b[0;31m# restore state no matter what (e.g., KeyboardInterrupt)\u001b[0m\u001b[0;34m\u001b[0m\u001b[0m\n\u001b[1;32m    294\u001b[0m             \u001b[0;32mif\u001b[0m \u001b[0mtimeout\u001b[0m \u001b[0;32mis\u001b[0m \u001b[0;32mNone\u001b[0m\u001b[0;34m:\u001b[0m\u001b[0;34m\u001b[0m\u001b[0m\n\u001b[0;32m--> 295\u001b[0;31m                 \u001b[0mwaiter\u001b[0m\u001b[0;34m.\u001b[0m\u001b[0macquire\u001b[0m\u001b[0;34m(\u001b[0m\u001b[0;34m)\u001b[0m\u001b[0;34m\u001b[0m\u001b[0m\n\u001b[0m\u001b[1;32m    296\u001b[0m                 \u001b[0mgotit\u001b[0m \u001b[0;34m=\u001b[0m \u001b[0;32mTrue\u001b[0m\u001b[0;34m\u001b[0m\u001b[0m\n\u001b[1;32m    297\u001b[0m             \u001b[0;32melse\u001b[0m\u001b[0;34m:\u001b[0m\u001b[0;34m\u001b[0m\u001b[0m\n",
      "\u001b[0;31mKeyboardInterrupt\u001b[0m: "
     ]
    }
   ],
   "source": [
    "for i, target_label in enumerate(in_time[\"target\"].unique()[:2]):\n",
    "    print(\"*****************************\")\n",
    "    print(\"target_label = {}\".format(label_dict[target_label]))\n",
    "    holdout[target] = out_of_time[\"target\"].apply(lambda x: 1 if x == target_label else 0)\n",
    "    train[target] = in_time[\"target\"].apply(lambda x: 1 if x == target_label else 0)\n",
    "    train[time_column] = in_time[time_column]\n",
    "    train[dummy_time_column] = 1\n",
    "    \n",
    "    challenger_boot = []\n",
    "    benchmark_boot = []\n",
    "    benchmark_boot_opt = []\n",
    "\n",
    "    ### Challenger \n",
    "    model = TimeForestClassifier(time_column=time_column,\n",
    "                                            multi=True)\n",
    "\n",
    "    challenger_opt_param = env_wise_hyper_opt(train[features + [time_column]], train[target], \n",
    "                                             model, \n",
    "                                             time_column, \n",
    "                                             params_grid, \n",
    "                                             cv=5,\n",
    "                                             score=roc_auc_score)\n",
    "    \n",
    "    challenger_opt_param_dict[label_dict[target_label]] = challenger_opt_param\n",
    "    challenger_model = TimeForestClassifier(time_column=time_column,\n",
    "                                           multi=True, \n",
    "                                           **challenger_opt_param)\n",
    "    \n",
    "    challenger_model.fit(train[features + [time_column]], train[target])\n",
    "    \n",
    "    train[\"challenger_prediction\"] = challenger_model.predict_proba(train[features])[:, 1]\n",
    "    holdout[\"challenger_prediction\"] = challenger_model.predict_proba(holdout[features])[:, 1]\n",
    "    \n",
    "\n",
    "\n",
    "    print(\"Challenger params\")\n",
    "    print(challenger_opt_param)\n",
    "    print(\"Challenger train perf\")\n",
    "    print(roc_auc_score(train[target], \n",
    "                        train[\"challenger_prediction\"]))\n",
    "    print(\"Challenger holdout perf\")\n",
    "    print(roc_auc_score(holdout[target], \n",
    "                        holdout[\"challenger_prediction\"]))\n",
    "    \n",
    "    ### Benchmark\n",
    "    model = TimeForestClassifier(time_column=dummy_time_column,\n",
    "                                            multi=True)\n",
    "\n",
    "    benchmark_opt_param = env_wise_hyper_opt(train[features + [dummy_time_column]], train[target], \n",
    "                                             model, \n",
    "                                             dummy_time_column, \n",
    "                                             params_grid_benchmark, \n",
    "                                             cv=5,\n",
    "                                             score=roc_auc_score)\n",
    "    \n",
    "    benchmark_opt_param_dict[label_dict[target_label]] = benchmark_opt_param\n",
    "    benchmark_model = TimeForestClassifier(time_column=dummy_time_column,\n",
    "                                           multi=True, \n",
    "                                           **benchmark_opt_param)\n",
    "    \n",
    "    benchmark_model.fit(train[features + [dummy_time_column]], train[target])\n",
    "    \n",
    "    train[\"benchmark_prediction\"] = benchmark_model.predict_proba(train[features])[:, 1]\n",
    "    holdout[\"benchmark_prediction\"] = benchmark_model.predict_proba(holdout[features])[:, 1]\n",
    "    \n",
    "    print(\"Benchmark params\")\n",
    "    print(benchmark_opt_param)\n",
    "    print(\"Benchmark train perf\")\n",
    "    print(roc_auc_score(train[target], \n",
    "                        train[\"benchmark_prediction\"]))\n",
    "    print(\"Benchmark holdout perf\")\n",
    "    print(roc_auc_score(holdout[target], \n",
    "                        holdout[\"benchmark_prediction\"]))\n",
    "\n",
    "    "
   ]
  },
  {
   "cell_type": "code",
   "execution_count": null,
   "metadata": {
    "ExecuteTime": {
     "end_time": "2021-12-23T12:26:31.567187Z",
     "start_time": "2021-12-23T11:43:49.911Z"
    },
    "scrolled": false
   },
   "outputs": [],
   "source": [
    "N_BOOTS = 5\n",
    "train_aucs = []\n",
    "test_aucs = []\n",
    "out_of_time_aucs = []\n",
    "\n",
    "challenger_all_labels_auc = []\n",
    "benchmark_all_labels_auc = []\n",
    "benchmark_all_labels_auc_opt = []\n",
    "\n",
    "challenger_train_auc = []\n",
    "bechmark_train_auc = []\n",
    "bechmark_opt_train_auc = []\n",
    "\n",
    "\n",
    "for i, target_label in enumerate(in_time[\"target\"].unique()[:2]):\n",
    "    print(\"*****************************\")\n",
    "    print(\"target_label = {}\".format(label_dict[target_label]))\n",
    "    \n",
    "    out_of_time[\"binary_target\"] = out_of_time[\"target\"].apply(lambda x: 1 if x == target_label else 0)\n",
    "    in_time[\"binary_target\"] = in_time[\"target\"].apply(lambda x: 1 if x == target_label else 0)\n",
    "    challenger_boot = []\n",
    "    benchmark_boot = []\n",
    "    benchmark_boot_opt = []    \n",
    "    \n",
    "    for n_boot in tqdm_notebook(range(N_BOOTS)):\n",
    "        try:\n",
    "            resampled_out_of_time = out_of_time.sample(frac=1.0, replace=True)\n",
    "            train, test = train_test_split(in_time.sample(frac=1.0, replace=True), \n",
    "                                       test_size=0.2, \n",
    "                                       random_state=42)\n",
    "\n",
    "            vectorizer = TfidfVectorizer(max_features=MAX_VOCABULARY,\n",
    "                                 stop_words=\"english\",\n",
    "                                 binary=False,\n",
    "                                 use_idf=True,\n",
    "                                 norm=False)\n",
    "\n",
    "            train_vectors = pd.DataFrame(vectorizer.fit_transform(train[\"data\"]).toarray(), columns=vectorizer.vocabulary_)\n",
    "            test_vectors = pd.DataFrame(vectorizer.transform(test[\"data\"]).toarray(), columns=vectorizer.vocabulary_)\n",
    "            oot_vectors = pd.DataFrame(vectorizer.transform(resampled_out_of_time[\"data\"]).toarray(), columns=vectorizer.vocabulary_)\n",
    "\n",
    "            train_vectors[time_column] = train[time_column].values\n",
    "            test_vectors[time_column] = test[time_column].values\n",
    "            oot_vectors[time_column] = resampled_out_of_time[time_column].values\n",
    "            \n",
    "            train_vectors[dummy_time_column] = 1\n",
    "            features = list(vectorizer.vocabulary_.keys())\n",
    "            \n",
    "            ### Time Forest\n",
    "            challenger_model = TimeForestClassifier(time_column=time_column,\n",
    "                                           multi=True, \n",
    "                                           **challenger_opt_param)\n",
    "            challenger_model.fit(train_vectors[features + [time_column]], train[target])\n",
    "            train[\"time_prediction_tree\"] = challenger_model.predict_proba(train_vectors[features])[:, 1]\n",
    "            train_auc = roc_auc_score(train[target], train[\"time_prediction_tree\"])\n",
    "\n",
    "            test[\"time_prediction_tree\"] = challenger_model.predict_proba(test_vectors[features])[:, 1]\n",
    "            test_auc = roc_auc_score(test[target], test[\"time_prediction_tree\"])\n",
    "\n",
    "            resampled_out_of_time[\"time_prediction_tree\"] = challenger_model.predict_proba(oot_vectors[features])[:, 1]\n",
    "            oot_auc = roc_auc_score(resampled_out_of_time[target], resampled_out_of_time[\"time_prediction_tree\"])\n",
    "            \n",
    "            challenger_train_auc.append(train_auc)\n",
    "            \n",
    "            ### Benchmark\n",
    "            model = TimeForestClassifier(time_column=dummy_time_column,\n",
    "                                           multi=True, \n",
    "                                           **benchmark_opt_param_dict[label_dict[target_label]])\n",
    "            \n",
    "            model.fit(train_vectors[features + [dummy_time_column]], train[target])\n",
    "\n",
    "            train[\"prediction\"] = model.predict_proba(train_vectors[features])[:, 1]\n",
    "            test[\"prediction\"] = model.predict_proba(test_vectors[features])[:, 1]\n",
    "            resampled_out_of_time[\"prediction\"] = model.predict_proba(oot_vectors[features])[:, 1]\n",
    "\n",
    "            benchmark_auc_by_date = pd.DataFrame(pd.concat([test, resampled_out_of_time]).groupby(time_column).apply(lambda x: roc_auc_score(x[target], x[\"prediction\"])), columns=[\"auc\"]).reset_index()\n",
    "            challenger_auc_by_date = pd.DataFrame(pd.concat([test, resampled_out_of_time]).groupby(time_column).apply(lambda x: roc_auc_score(x[target], x[\"time_prediction_tree\"])), columns=[\"auc\"]).reset_index()\n",
    "\n",
    "            challenger_boot.append(challenger_auc_by_date)\n",
    "            benchmark_boot.append(benchmark_auc_by_date) \n",
    "            \n",
    "            train_auc = roc_auc_score(train[target], train[\"prediction\"])\n",
    "            bechmark_train_auc.append(train_auc)\n",
    "        except:\n",
    "            print(\"Failed label {}\".format(target_label))\n",
    "    \n",
    "    challenger_auc_by_target = pd.concat(challenger_boot)\n",
    "    benchmark_auc_by_target = pd.concat(benchmark_boot)    \n",
    "    \n",
    "    challenger_all_labels_auc.append(challenger_auc_by_target)\n",
    "    benchmark_all_labels_auc.append(benchmark_auc_by_target)    \n",
    "    \n",
    "    sns.lineplot(data=benchmark_auc_by_target, x=\"date\", y=\"auc\", label=\"Random Forest\")\n",
    "    sns.lineplot(data=challenger_auc_by_target, x=\"date\", y=\"auc\", label=\"Time Robust Forest\", color=\"green\")\n",
    "    xmin, xmax, ymin, ymax = plt.axis()\n",
    "    plt.vlines(out_of_time_min_date, ymin, ymax, linestyle=\"dotted\", color=\"red\", label=\"Time split\")\n",
    "\n",
    "    plt.title(\"Test and Out of time AUC for label {}\".format(label_dict.get(i, i)))\n",
    "    plt.show()\n",
    "    "
   ]
  },
  {
   "cell_type": "code",
   "execution_count": null,
   "metadata": {
    "ExecuteTime": {
     "end_time": "2021-12-23T12:26:31.571624Z",
     "start_time": "2021-12-23T11:43:50.787Z"
    }
   },
   "outputs": [],
   "source": [
    "print(np.mean(bechmark_train_auc))\n",
    "print(np.mean(challenger_train_auc))"
   ]
  },
  {
   "cell_type": "markdown",
   "metadata": {},
   "source": [
    "### Plot benchmark Vs challenger:"
   ]
  },
  {
   "cell_type": "code",
   "execution_count": null,
   "metadata": {
    "ExecuteTime": {
     "end_time": "2021-12-23T12:26:31.575983Z",
     "start_time": "2021-12-23T11:43:51.281Z"
    }
   },
   "outputs": [],
   "source": [
    "challenger_auc_by_target = pd.concat(challenger_all_labels_auc)\n",
    "benchmark_auc_by_target = pd.concat(benchmark_all_labels_auc)  \n",
    "    \n",
    "\n",
    "sns.lineplot(data=benchmark_auc_by_target, x=\"date\", y=\"auc\", label=\"Decision Tree\")\n",
    "sns.lineplot(data=challenger_auc_by_target, x=\"date\", y=\"auc\", label=\"Time Tree\", color=\"green\")\n",
    "xmin, xmax, ymin, ymax = plt.axis()\n",
    "plt.vlines(out_of_time_min_date, ymin, ymax, linestyle=\"dotted\", color=\"red\", label=\"Time split\")\n",
    "\n",
    "plt.title(\"Test and Out of time AUC for all labels\")\n",
    "plt.show()"
   ]
  },
  {
   "cell_type": "code",
   "execution_count": null,
   "metadata": {
    "ExecuteTime": {
     "end_time": "2021-12-23T12:26:31.580519Z",
     "start_time": "2021-12-23T11:43:51.957Z"
    }
   },
   "outputs": [],
   "source": [
    "from matplotlib.collections import PolyCollection as p"
   ]
  },
  {
   "cell_type": "code",
   "execution_count": null,
   "metadata": {
    "ExecuteTime": {
     "end_time": "2021-12-23T12:26:31.586236Z",
     "start_time": "2021-12-23T11:43:52.632Z"
    }
   },
   "outputs": [],
   "source": [
    "fig, ax = plt.subplots()\n",
    "challenger_auc_by_target = pd.concat(challenger_all_labels_auc)\n",
    "benchmark_auc_by_target = pd.concat(benchmark_all_labels_auc)  \n",
    "    \n",
    "\n",
    "sns.lineplot(data=benchmark_auc_by_target, x=\"date\", y=\"auc\", label=\"Decision Tree\")\n",
    "sns.lineplot(data=challenger_auc_by_target, x=\"date\", y=\"auc\", label=\"Time Robust Tree\", color=\"green\", linestyle=\"dashed\")\n",
    "xmin, xmax, ymin, ymax = plt.axis()\n",
    "plt.vlines(out_of_time_min_date, ymin, ymax, linestyle=\"dotted\", color=\"red\", label=\"Holdout start\")\n",
    "\n",
    "#plt.title(\"Test and Out of time AUC for all labels\")\n",
    "\n",
    "ax.xaxis.set_tick_params(labelsize=12)\n",
    "ax.yaxis.set_tick_params(labelsize=12)\n",
    "\n",
    "plt.ylim([ymin, ymax])\n",
    "plt.legend(fontsize=15, bbox_to_anchor=(1.0, 1.0))\n",
    "plt.ylabel(\"AUC\", fontsize=15)\n",
    "plt.xlabel(\"Time period\", fontsize=15)\n",
    "\n",
    "__file__ = \"../images/20news_same_capacity\"\n",
    "plt.savefig(__file__+\".jpg\", quality=95)\n",
    "for c in ax.findobj(p):\n",
    "    c.set_zorder(-1)\n",
    "    c.set_rasterized(True)\n",
    "ax.set_rasterization_zorder(0)\n",
    "\n",
    "plt.savefig(__file__+\".eps\")\n",
    "plt.savefig(\"../images/20news_aggregate.eps\", format=\"eps\", bbox_inches=\"tight\")\n",
    "plt.show()"
   ]
  },
  {
   "cell_type": "code",
   "execution_count": null,
   "metadata": {
    "ExecuteTime": {
     "end_time": "2021-12-23T12:26:31.590368Z",
     "start_time": "2021-12-23T11:43:52.946Z"
    }
   },
   "outputs": [],
   "source": [
    "fig, ax = plt.subplots(figsize=(8, 6))\n",
    "benchmark_auc_by_target = pd.concat(benchmark_all_labels_auc)  \n",
    "\n",
    "sns.lineplot(data=benchmark_auc_by_target, x=\"date\", y=\"auc\", label=\"Decision Tree\")\n",
    "sns.lineplot(data=challenger_auc_by_target, x=\"date\", y=\"auc\", label=\"Time Robust Tree\", color=\"green\", linestyle=\"dashed\")\n",
    "xmin, xmax, ymin, ymax = plt.axis()\n",
    "plt.vlines(out_of_time_min_date, ymin, ymax, linestyle=\"dotted\", color=\"red\", label=\"Holdout start\")\n",
    "\n",
    "#plt.title(\"Test and Out of time AUC for all labels\")\n",
    "\n",
    "ax.xaxis.set_tick_params(labelsize=15)\n",
    "ax.yaxis.set_tick_params(labelsize=15)\n",
    "\n",
    "plt.ylim([ymin, ymax])\n",
    "plt.legend(fontsize=13, bbox_to_anchor=(1.0, 1.0))\n",
    "plt.ylabel(\"AUC\", fontsize=16)\n",
    "plt.xlabel(\"Time period\", fontsize=16)\n",
    "\n",
    "__file__ = \"../images/20news_pycaret_aggregate_opt_square\"\n",
    "plt.savefig(__file__+\".jpg\", quality=95)\n",
    "for c in ax.findobj(p):\n",
    "    c.set_zorder(-1)\n",
    "    c.set_rasterized(True)\n",
    "ax.set_rasterization_zorder(0)\n",
    "\n",
    "plt.savefig(__file__+\".eps\")\n",
    "plt.savefig(\"../images/20news_pycaret_aggregate_opt_square.eps\", format=\"eps\")\n",
    "plt.show()"
   ]
  },
  {
   "cell_type": "code",
   "execution_count": null,
   "metadata": {
    "ExecuteTime": {
     "end_time": "2021-12-23T12:26:31.594363Z",
     "start_time": "2021-12-23T11:43:53.577Z"
    }
   },
   "outputs": [],
   "source": [
    "# challenger_auc_by_target.to_csv(\"results/6_20newsgroups_example_challenger.csv\")\n",
    "# benchmark_auc_by_target.to_csv(\"results/6_20newsgroups_example_benchmark.csv\")\n",
    "# benchmark_auc_by_target_opt.to_csv(\"results/6_20newsgroups_example_benchmark_opt.csv\")"
   ]
  },
  {
   "cell_type": "markdown",
   "metadata": {},
   "source": [
    "Looking to the difference directly."
   ]
  },
  {
   "cell_type": "code",
   "execution_count": null,
   "metadata": {
    "ExecuteTime": {
     "end_time": "2021-12-23T12:26:31.598252Z",
     "start_time": "2021-12-23T11:43:54.432Z"
    }
   },
   "outputs": [],
   "source": [
    "challenger_auc_by_target[\"diff\"] = challenger_auc_by_target[\"auc\"] - benchmark_auc_by_target[\"auc\"]"
   ]
  },
  {
   "cell_type": "code",
   "execution_count": null,
   "metadata": {
    "ExecuteTime": {
     "end_time": "2021-12-23T12:26:31.602017Z",
     "start_time": "2021-12-23T11:43:54.972Z"
    }
   },
   "outputs": [],
   "source": [
    "challenger_auc_by_target"
   ]
  },
  {
   "cell_type": "code",
   "execution_count": null,
   "metadata": {
    "ExecuteTime": {
     "end_time": "2021-12-23T12:26:31.605731Z",
     "start_time": "2021-12-23T11:43:55.625Z"
    }
   },
   "outputs": [],
   "source": [
    "sns.lineplot(data=challenger_auc_by_target, x=\"date\", y=\"diff\", label=\"Diff\")\n",
    "xmin, xmax, ymin, ymax = plt.axis()\n",
    "plt.vlines(out_of_time_min_date, ymin, ymax, linestyle=\"dotted\", color=\"red\", label=\"Holdout start\")\n",
    "plt.hlines(0, xmin, xmax, linestyle=\"dotted\", color=\"green\", label=\"Challenger winning\")\n",
    "plt.legend()"
   ]
  }
 ],
 "metadata": {
  "hide_input": false,
  "kernelspec": {
   "display_name": "ml3",
   "language": "python",
   "name": "lgm"
  },
  "toc": {
   "base_numbering": 1,
   "nav_menu": {},
   "number_sections": true,
   "sideBar": true,
   "skip_h1_title": true,
   "title_cell": "Index",
   "title_sidebar": "Contents",
   "toc_cell": true,
   "toc_position": {},
   "toc_section_display": true,
   "toc_window_display": false
  }
 },
 "nbformat": 4,
 "nbformat_minor": 2
}
