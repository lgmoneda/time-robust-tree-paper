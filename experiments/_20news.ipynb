{
 "cells": [
  {
   "cell_type": "markdown",
   "metadata": {
    "toc": true
   },
   "source": [
    "<h1>Index<span class=\"tocSkip\"></span></h1>\n",
    "<div class=\"toc\"><ul class=\"toc-item\"><li><span><a href=\"#Real-data---20-news-groups\" data-toc-modified-id=\"Real-data---20-news-groups-1\"><span class=\"toc-item-num\">1&nbsp;&nbsp;</span>Real data - 20 news groups</a></span></li><li><span><a href=\"#Time-Forest\" data-toc-modified-id=\"Time-Forest-2\"><span class=\"toc-item-num\">2&nbsp;&nbsp;</span>Time Forest</a></span></li><li><span><a href=\"#Average-result-for-every-target\" data-toc-modified-id=\"Average-result-for-every-target-3\"><span class=\"toc-item-num\">3&nbsp;&nbsp;</span>Average result for every target</a></span><ul class=\"toc-item\"><li><span><a href=\"#Optimize-hyper-params\" data-toc-modified-id=\"Optimize-hyper-params-3.1\"><span class=\"toc-item-num\">3.1&nbsp;&nbsp;</span>Optimize hyper-params</a></span></li><li><span><a href=\"#Plot-benchmark-Vs-challenger:\" data-toc-modified-id=\"Plot-benchmark-Vs-challenger:-3.2\"><span class=\"toc-item-num\">3.2&nbsp;&nbsp;</span>Plot benchmark Vs challenger:</a></span></li><li><span><a href=\"#Domain-Classifier\" data-toc-modified-id=\"Domain-Classifier-3.3\"><span class=\"toc-item-num\">3.3&nbsp;&nbsp;</span>Domain Classifier</a></span></li></ul></li></ul></div>"
   ]
  },
  {
   "cell_type": "code",
   "execution_count": 1,
   "metadata": {
    "ExecuteTime": {
     "end_time": "2022-03-24T12:07:53.585752Z",
     "start_time": "2022-03-24T12:07:50.807722Z"
    }
   },
   "outputs": [],
   "source": [
    "import pandas as pd\n",
    "import numpy as np\n",
    "import math\n",
    "import matplotlib.pyplot as plt\n",
    "import pdb\n",
    "import warnings\n",
    "import seaborn as sns\n",
    "import os\n",
    "import glob\n",
    "import sys\n",
    "\n",
    "from sklearn import metrics\n",
    "from time import time\n",
    "from time_robust_forest.models import TimeForestClassifier\n",
    "from time_robust_forest.functions import check_categoricals_match, check_numerical_match\n",
    "from time_robust_forest.hyper_opt import env_wise_hyper_opt\n",
    "from sklearn.tree import DecisionTreeClassifier\n",
    "from tqdm import tqdm_notebook\n",
    "from sklearn.datasets import fetch_20newsgroups\n",
    "from sklearn.model_selection import train_test_split\n",
    "from sklearn.feature_extraction.text import TfidfVectorizer\n",
    "from sklearn.metrics import roc_auc_score\n",
    "\n",
    "warnings.filterwarnings('ignore')"
   ]
  },
  {
   "cell_type": "code",
   "execution_count": 2,
   "metadata": {
    "ExecuteTime": {
     "end_time": "2022-03-24T12:07:53.590117Z",
     "start_time": "2022-03-24T12:07:53.587483Z"
    }
   },
   "outputs": [],
   "source": [
    "def set_style():\n",
    "    plt.style.use(['seaborn-white', 'seaborn-paper'])\n",
    "    plt.rcParams['figure.figsize'] = (12, 4)"
   ]
  },
  {
   "cell_type": "code",
   "execution_count": 3,
   "metadata": {
    "ExecuteTime": {
     "end_time": "2022-03-24T12:07:53.594900Z",
     "start_time": "2022-03-24T12:07:53.592517Z"
    }
   },
   "outputs": [],
   "source": [
    "set_style()"
   ]
  },
  {
   "cell_type": "code",
   "execution_count": 4,
   "metadata": {
    "ExecuteTime": {
     "end_time": "2022-03-24T12:07:53.600361Z",
     "start_time": "2022-03-24T12:07:53.597380Z"
    }
   },
   "outputs": [],
   "source": [
    "np.random.seed(42)"
   ]
  },
  {
   "cell_type": "markdown",
   "metadata": {},
   "source": [
    "## Real data - 20 news groups"
   ]
  },
  {
   "cell_type": "code",
   "execution_count": 5,
   "metadata": {
    "ExecuteTime": {
     "end_time": "2022-03-24T12:07:53.957086Z",
     "start_time": "2022-03-24T12:07:53.954669Z"
    }
   },
   "outputs": [],
   "source": [
    "MAX_VOCABULARY = 100\n",
    "TARGET = 1\n",
    "PREFIX = \"20news\""
   ]
  },
  {
   "cell_type": "code",
   "execution_count": 6,
   "metadata": {
    "ExecuteTime": {
     "end_time": "2022-03-24T12:07:56.009043Z",
     "start_time": "2022-03-24T12:07:54.203239Z"
    }
   },
   "outputs": [],
   "source": [
    "train = fetch_20newsgroups(subset=\"train\") \n",
    "test = fetch_20newsgroups(subset=\"test\")\n",
    "\n",
    "del test[\"DESCR\"]\n",
    "del train[\"DESCR\"]\n",
    "\n",
    "in_time = pd.DataFrame.from_dict(train, orient=\"index\").transpose() \n",
    "\n",
    "out_of_time = pd.DataFrame.from_dict(test, orient=\"index\").transpose()"
   ]
  },
  {
   "cell_type": "code",
   "execution_count": 7,
   "metadata": {
    "ExecuteTime": {
     "end_time": "2022-03-24T12:07:56.014614Z",
     "start_time": "2022-03-24T12:07:56.010730Z"
    }
   },
   "outputs": [
    {
     "data": {
      "text/plain": [
       "(11314, 4)"
      ]
     },
     "execution_count": 7,
     "metadata": {},
     "output_type": "execute_result"
    }
   ],
   "source": [
    "in_time.shape"
   ]
  },
  {
   "cell_type": "code",
   "execution_count": 8,
   "metadata": {
    "ExecuteTime": {
     "end_time": "2022-03-24T12:07:56.026912Z",
     "start_time": "2022-03-24T12:07:56.017464Z"
    }
   },
   "outputs": [
    {
     "data": {
      "text/plain": [
       "10    600\n",
       "15    599\n",
       "8     598\n",
       "9     597\n",
       "11    595\n",
       "13    594\n",
       "7     594\n",
       "14    593\n",
       "5     593\n",
       "12    591\n",
       "2     591\n",
       "3     590\n",
       "6     585\n",
       "1     584\n",
       "4     578\n",
       "17    564\n",
       "16    546\n",
       "0     480\n",
       "18    465\n",
       "19    377\n",
       "Name: target, dtype: int64"
      ]
     },
     "execution_count": 8,
     "metadata": {},
     "output_type": "execute_result"
    }
   ],
   "source": [
    "in_time[\"target\"].value_counts()"
   ]
  },
  {
   "cell_type": "code",
   "execution_count": 9,
   "metadata": {
    "ExecuteTime": {
     "end_time": "2022-03-24T12:07:56.069622Z",
     "start_time": "2022-03-24T12:07:56.063762Z"
    }
   },
   "outputs": [
    {
     "data": {
      "text/plain": [
       "10    399\n",
       "8     398\n",
       "15    398\n",
       "9     397\n",
       "13    396\n",
       "7     396\n",
       "11    396\n",
       "5     395\n",
       "2     394\n",
       "14    394\n",
       "12    393\n",
       "3     392\n",
       "6     390\n",
       "1     389\n",
       "4     385\n",
       "17    376\n",
       "16    364\n",
       "0     319\n",
       "18    310\n",
       "19    251\n",
       "Name: target, dtype: int64"
      ]
     },
     "execution_count": 9,
     "metadata": {},
     "output_type": "execute_result"
    }
   ],
   "source": [
    "out_of_time[\"target\"].value_counts()"
   ]
  },
  {
   "cell_type": "code",
   "execution_count": 10,
   "metadata": {
    "ExecuteTime": {
     "end_time": "2022-03-24T12:07:56.262965Z",
     "start_time": "2022-03-24T12:07:56.249362Z"
    }
   },
   "outputs": [
    {
     "data": {
      "text/html": [
       "<div>\n",
       "<style scoped>\n",
       "    .dataframe tbody tr th:only-of-type {\n",
       "        vertical-align: middle;\n",
       "    }\n",
       "\n",
       "    .dataframe tbody tr th {\n",
       "        vertical-align: top;\n",
       "    }\n",
       "\n",
       "    .dataframe thead th {\n",
       "        text-align: right;\n",
       "    }\n",
       "</style>\n",
       "<table border=\"1\" class=\"dataframe\">\n",
       "  <thead>\n",
       "    <tr style=\"text-align: right;\">\n",
       "      <th></th>\n",
       "      <th>data</th>\n",
       "      <th>filenames</th>\n",
       "      <th>target_names</th>\n",
       "      <th>target</th>\n",
       "    </tr>\n",
       "  </thead>\n",
       "  <tbody>\n",
       "    <tr>\n",
       "      <th>11309</th>\n",
       "      <td>From: jim.zisfein@factory.com (Jim Zisfein) \\n...</td>\n",
       "      <td>/Users/luis.moneda/scikit_learn_data/20news_ho...</td>\n",
       "      <td>None</td>\n",
       "      <td>13</td>\n",
       "    </tr>\n",
       "    <tr>\n",
       "      <th>11310</th>\n",
       "      <td>From: ebodin@pearl.tufts.edu\\nSubject: Screen ...</td>\n",
       "      <td>/Users/luis.moneda/scikit_learn_data/20news_ho...</td>\n",
       "      <td>None</td>\n",
       "      <td>4</td>\n",
       "    </tr>\n",
       "    <tr>\n",
       "      <th>11311</th>\n",
       "      <td>From: westes@netcom.com (Will Estes)\\nSubject:...</td>\n",
       "      <td>/Users/luis.moneda/scikit_learn_data/20news_ho...</td>\n",
       "      <td>None</td>\n",
       "      <td>3</td>\n",
       "    </tr>\n",
       "    <tr>\n",
       "      <th>11312</th>\n",
       "      <td>From: steve@hcrlgw (Steven Collins)\\nSubject: ...</td>\n",
       "      <td>/Users/luis.moneda/scikit_learn_data/20news_ho...</td>\n",
       "      <td>None</td>\n",
       "      <td>1</td>\n",
       "    </tr>\n",
       "    <tr>\n",
       "      <th>11313</th>\n",
       "      <td>From: gunning@cco.caltech.edu (Kevin J. Gunnin...</td>\n",
       "      <td>/Users/luis.moneda/scikit_learn_data/20news_ho...</td>\n",
       "      <td>None</td>\n",
       "      <td>8</td>\n",
       "    </tr>\n",
       "  </tbody>\n",
       "</table>\n",
       "</div>"
      ],
      "text/plain": [
       "                                                    data  \\\n",
       "11309  From: jim.zisfein@factory.com (Jim Zisfein) \\n...   \n",
       "11310  From: ebodin@pearl.tufts.edu\\nSubject: Screen ...   \n",
       "11311  From: westes@netcom.com (Will Estes)\\nSubject:...   \n",
       "11312  From: steve@hcrlgw (Steven Collins)\\nSubject: ...   \n",
       "11313  From: gunning@cco.caltech.edu (Kevin J. Gunnin...   \n",
       "\n",
       "                                               filenames target_names target  \n",
       "11309  /Users/luis.moneda/scikit_learn_data/20news_ho...         None     13  \n",
       "11310  /Users/luis.moneda/scikit_learn_data/20news_ho...         None      4  \n",
       "11311  /Users/luis.moneda/scikit_learn_data/20news_ho...         None      3  \n",
       "11312  /Users/luis.moneda/scikit_learn_data/20news_ho...         None      1  \n",
       "11313  /Users/luis.moneda/scikit_learn_data/20news_ho...         None      8  "
      ]
     },
     "execution_count": 10,
     "metadata": {},
     "output_type": "execute_result"
    }
   ],
   "source": [
    "in_time.tail()"
   ]
  },
  {
   "cell_type": "code",
   "execution_count": 11,
   "metadata": {
    "ExecuteTime": {
     "end_time": "2022-03-24T12:07:56.591392Z",
     "start_time": "2022-03-24T12:07:56.587861Z"
    }
   },
   "outputs": [
    {
     "data": {
      "text/plain": [
       "(7532, 4)"
      ]
     },
     "execution_count": 11,
     "metadata": {},
     "output_type": "execute_result"
    }
   ],
   "source": [
    "out_of_time.shape"
   ]
  },
  {
   "cell_type": "code",
   "execution_count": 12,
   "metadata": {
    "ExecuteTime": {
     "end_time": "2022-03-24T12:07:56.980937Z",
     "start_time": "2022-03-24T12:07:56.971997Z"
    }
   },
   "outputs": [
    {
     "data": {
      "text/html": [
       "<div>\n",
       "<style scoped>\n",
       "    .dataframe tbody tr th:only-of-type {\n",
       "        vertical-align: middle;\n",
       "    }\n",
       "\n",
       "    .dataframe tbody tr th {\n",
       "        vertical-align: top;\n",
       "    }\n",
       "\n",
       "    .dataframe thead th {\n",
       "        text-align: right;\n",
       "    }\n",
       "</style>\n",
       "<table border=\"1\" class=\"dataframe\">\n",
       "  <thead>\n",
       "    <tr style=\"text-align: right;\">\n",
       "      <th></th>\n",
       "      <th>data</th>\n",
       "      <th>filenames</th>\n",
       "      <th>target_names</th>\n",
       "      <th>target</th>\n",
       "    </tr>\n",
       "  </thead>\n",
       "  <tbody>\n",
       "  </tbody>\n",
       "</table>\n",
       "</div>"
      ],
      "text/plain": [
       "Empty DataFrame\n",
       "Columns: [data, filenames, target_names, target]\n",
       "Index: []"
      ]
     },
     "execution_count": 12,
     "metadata": {},
     "output_type": "execute_result"
    }
   ],
   "source": [
    "in_time[pd.isnull(in_time[\"data\"])]"
   ]
  },
  {
   "cell_type": "code",
   "execution_count": 13,
   "metadata": {
    "ExecuteTime": {
     "end_time": "2022-03-24T12:07:57.203661Z",
     "start_time": "2022-03-24T12:07:57.195762Z"
    }
   },
   "outputs": [
    {
     "data": {
      "text/html": [
       "<div>\n",
       "<style scoped>\n",
       "    .dataframe tbody tr th:only-of-type {\n",
       "        vertical-align: middle;\n",
       "    }\n",
       "\n",
       "    .dataframe tbody tr th {\n",
       "        vertical-align: top;\n",
       "    }\n",
       "\n",
       "    .dataframe thead th {\n",
       "        text-align: right;\n",
       "    }\n",
       "</style>\n",
       "<table border=\"1\" class=\"dataframe\">\n",
       "  <thead>\n",
       "    <tr style=\"text-align: right;\">\n",
       "      <th></th>\n",
       "      <th>data</th>\n",
       "      <th>filenames</th>\n",
       "      <th>target_names</th>\n",
       "      <th>target</th>\n",
       "    </tr>\n",
       "  </thead>\n",
       "  <tbody>\n",
       "  </tbody>\n",
       "</table>\n",
       "</div>"
      ],
      "text/plain": [
       "Empty DataFrame\n",
       "Columns: [data, filenames, target_names, target]\n",
       "Index: []"
      ]
     },
     "execution_count": 13,
     "metadata": {},
     "output_type": "execute_result"
    }
   ],
   "source": [
    "out_of_time[pd.isnull(out_of_time[\"data\"])]"
   ]
  },
  {
   "cell_type": "code",
   "execution_count": 14,
   "metadata": {
    "ExecuteTime": {
     "end_time": "2022-03-24T12:07:58.438251Z",
     "start_time": "2022-03-24T12:07:58.435004Z"
    }
   },
   "outputs": [],
   "source": [
    "def preprocess(data):\n",
    "    data[\"data\"] = data[\"data\"].apply(lambda x: \" \".join(x.split(\"Lines: \")[1:]))\n",
    "    \n",
    "    return data"
   ]
  },
  {
   "cell_type": "code",
   "execution_count": 15,
   "metadata": {
    "ExecuteTime": {
     "end_time": "2022-03-24T12:07:58.706863Z",
     "start_time": "2022-03-24T12:07:58.634386Z"
    }
   },
   "outputs": [],
   "source": [
    "out_of_time = preprocess(out_of_time)\n",
    "in_time = preprocess(in_time)"
   ]
  },
  {
   "cell_type": "code",
   "execution_count": 16,
   "metadata": {
    "ExecuteTime": {
     "end_time": "2022-03-24T12:07:58.855161Z",
     "start_time": "2022-03-24T12:07:58.839902Z"
    }
   },
   "outputs": [],
   "source": [
    "out_of_time[\"binary_target\"] = out_of_time[\"target\"].apply(lambda x: 1 if x == TARGET else 0)\n",
    "in_time[\"binary_target\"] = in_time[\"target\"].apply(lambda x: 1 if x == TARGET else 0)"
   ]
  },
  {
   "cell_type": "code",
   "execution_count": 17,
   "metadata": {
    "ExecuteTime": {
     "end_time": "2022-03-24T12:07:59.065400Z",
     "start_time": "2022-03-24T12:07:59.062553Z"
    }
   },
   "outputs": [],
   "source": [
    "time_step = 2840\n",
    "time_column = \"date\"\n",
    "dummy_time_column = \"dummy_date\"\n",
    "target = \"binary_target\""
   ]
  },
  {
   "cell_type": "code",
   "execution_count": 18,
   "metadata": {
    "ExecuteTime": {
     "end_time": "2022-03-24T12:07:59.335240Z",
     "start_time": "2022-03-24T12:07:59.331757Z"
    }
   },
   "outputs": [],
   "source": [
    "in_time[time_column] = (in_time.index.values / time_step).astype(int)"
   ]
  },
  {
   "cell_type": "code",
   "execution_count": 19,
   "metadata": {
    "ExecuteTime": {
     "end_time": "2022-03-24T12:07:59.818129Z",
     "start_time": "2022-03-24T12:07:59.646515Z"
    }
   },
   "outputs": [
    {
     "data": {
      "text/plain": [
       "<AxesSubplot:>"
      ]
     },
     "execution_count": 19,
     "metadata": {},
     "output_type": "execute_result"
    },
    {
     "data": {
      "image/png": "[encoded data removed]",
      "text/plain": [
       "<Figure size 864x288 with 1 Axes>"
      ]
     },
     "metadata": {},
     "output_type": "display_data"
    }
   ],
   "source": [
    "in_time[time_column].plot()"
   ]
  },
  {
   "cell_type": "code",
   "execution_count": 20,
   "metadata": {
    "ExecuteTime": {
     "end_time": "2022-03-24T12:07:59.999058Z",
     "start_time": "2022-03-24T12:07:59.984792Z"
    }
   },
   "outputs": [
    {
     "data": {
      "text/html": [
       "<div>\n",
       "<style scoped>\n",
       "    .dataframe tbody tr th:only-of-type {\n",
       "        vertical-align: middle;\n",
       "    }\n",
       "\n",
       "    .dataframe tbody tr th {\n",
       "        vertical-align: top;\n",
       "    }\n",
       "\n",
       "    .dataframe thead th {\n",
       "        text-align: right;\n",
       "    }\n",
       "</style>\n",
       "<table border=\"1\" class=\"dataframe\">\n",
       "  <thead>\n",
       "    <tr style=\"text-align: right;\">\n",
       "      <th></th>\n",
       "      <th>data</th>\n",
       "      <th>filenames</th>\n",
       "      <th>target_names</th>\n",
       "      <th>target</th>\n",
       "      <th>binary_target</th>\n",
       "    </tr>\n",
       "    <tr>\n",
       "      <th>date</th>\n",
       "      <th></th>\n",
       "      <th></th>\n",
       "      <th></th>\n",
       "      <th></th>\n",
       "      <th></th>\n",
       "    </tr>\n",
       "  </thead>\n",
       "  <tbody>\n",
       "    <tr>\n",
       "      <th>0</th>\n",
       "      <td>2840</td>\n",
       "      <td>2840</td>\n",
       "      <td>20</td>\n",
       "      <td>2840</td>\n",
       "      <td>2840</td>\n",
       "    </tr>\n",
       "    <tr>\n",
       "      <th>1</th>\n",
       "      <td>2840</td>\n",
       "      <td>2840</td>\n",
       "      <td>0</td>\n",
       "      <td>2840</td>\n",
       "      <td>2840</td>\n",
       "    </tr>\n",
       "    <tr>\n",
       "      <th>2</th>\n",
       "      <td>2840</td>\n",
       "      <td>2840</td>\n",
       "      <td>0</td>\n",
       "      <td>2840</td>\n",
       "      <td>2840</td>\n",
       "    </tr>\n",
       "    <tr>\n",
       "      <th>3</th>\n",
       "      <td>2794</td>\n",
       "      <td>2794</td>\n",
       "      <td>0</td>\n",
       "      <td>2794</td>\n",
       "      <td>2794</td>\n",
       "    </tr>\n",
       "  </tbody>\n",
       "</table>\n",
       "</div>"
      ],
      "text/plain": [
       "      data  filenames  target_names  target  binary_target\n",
       "date                                                      \n",
       "0     2840       2840            20    2840           2840\n",
       "1     2840       2840             0    2840           2840\n",
       "2     2840       2840             0    2840           2840\n",
       "3     2794       2794             0    2794           2794"
      ]
     },
     "execution_count": 20,
     "metadata": {},
     "output_type": "execute_result"
    }
   ],
   "source": [
    "in_time.groupby(time_column).count()"
   ]
  },
  {
   "cell_type": "code",
   "execution_count": 21,
   "metadata": {
    "ExecuteTime": {
     "end_time": "2022-03-24T12:08:02.577234Z",
     "start_time": "2022-03-24T12:08:02.439209Z"
    }
   },
   "outputs": [
    {
     "data": {
      "text/plain": [
       "<AxesSubplot:>"
      ]
     },
     "execution_count": 21,
     "metadata": {},
     "output_type": "execute_result"
    },
    {
     "data": {
      "image/png": "[encoded data removed]",
      "text/plain": [
       "<Figure size 864x288 with 1 Axes>"
      ]
     },
     "metadata": {},
     "output_type": "display_data"
    }
   ],
   "source": [
    "out_of_time[time_column] = ((out_of_time.index.values) / time_step).astype(int) + np.max(in_time.date.values) + 1\n",
    "out_of_time[time_column].plot()"
   ]
  },
  {
   "cell_type": "code",
   "execution_count": 22,
   "metadata": {
    "ExecuteTime": {
     "end_time": "2022-03-24T12:08:02.654280Z",
     "start_time": "2022-03-24T12:08:02.642435Z"
    }
   },
   "outputs": [
    {
     "data": {
      "text/html": [
       "<div>\n",
       "<style scoped>\n",
       "    .dataframe tbody tr th:only-of-type {\n",
       "        vertical-align: middle;\n",
       "    }\n",
       "\n",
       "    .dataframe tbody tr th {\n",
       "        vertical-align: top;\n",
       "    }\n",
       "\n",
       "    .dataframe thead th {\n",
       "        text-align: right;\n",
       "    }\n",
       "</style>\n",
       "<table border=\"1\" class=\"dataframe\">\n",
       "  <thead>\n",
       "    <tr style=\"text-align: right;\">\n",
       "      <th></th>\n",
       "      <th>data</th>\n",
       "      <th>filenames</th>\n",
       "      <th>target_names</th>\n",
       "      <th>target</th>\n",
       "      <th>binary_target</th>\n",
       "    </tr>\n",
       "    <tr>\n",
       "      <th>date</th>\n",
       "      <th></th>\n",
       "      <th></th>\n",
       "      <th></th>\n",
       "      <th></th>\n",
       "      <th></th>\n",
       "    </tr>\n",
       "  </thead>\n",
       "  <tbody>\n",
       "    <tr>\n",
       "      <th>4</th>\n",
       "      <td>2840</td>\n",
       "      <td>2840</td>\n",
       "      <td>20</td>\n",
       "      <td>2840</td>\n",
       "      <td>2840</td>\n",
       "    </tr>\n",
       "    <tr>\n",
       "      <th>5</th>\n",
       "      <td>2840</td>\n",
       "      <td>2840</td>\n",
       "      <td>0</td>\n",
       "      <td>2840</td>\n",
       "      <td>2840</td>\n",
       "    </tr>\n",
       "    <tr>\n",
       "      <th>6</th>\n",
       "      <td>1852</td>\n",
       "      <td>1852</td>\n",
       "      <td>0</td>\n",
       "      <td>1852</td>\n",
       "      <td>1852</td>\n",
       "    </tr>\n",
       "  </tbody>\n",
       "</table>\n",
       "</div>"
      ],
      "text/plain": [
       "      data  filenames  target_names  target  binary_target\n",
       "date                                                      \n",
       "4     2840       2840            20    2840           2840\n",
       "5     2840       2840             0    2840           2840\n",
       "6     1852       1852             0    1852           1852"
      ]
     },
     "execution_count": 22,
     "metadata": {},
     "output_type": "execute_result"
    }
   ],
   "source": [
    "out_of_time.groupby(time_column).count()"
   ]
  },
  {
   "cell_type": "code",
   "execution_count": 23,
   "metadata": {
    "ExecuteTime": {
     "end_time": "2022-03-24T12:08:03.063053Z",
     "start_time": "2022-03-24T12:08:03.044353Z"
    }
   },
   "outputs": [],
   "source": [
    "train, test = train_test_split(in_time, \n",
    "                               test_size=0.2, \n",
    "                               random_state=42)"
   ]
  },
  {
   "cell_type": "code",
   "execution_count": 24,
   "metadata": {
    "ExecuteTime": {
     "end_time": "2022-03-24T12:08:08.402824Z",
     "start_time": "2022-03-24T12:08:05.455324Z"
    }
   },
   "outputs": [],
   "source": [
    "vectorizer = TfidfVectorizer(max_features=MAX_VOCABULARY,\n",
    "                             stop_words=\"english\",\n",
    "                             binary=False,\n",
    "                             use_idf=True,\n",
    "                             norm=False)\n",
    "\n",
    "train_vectors = pd.DataFrame(vectorizer.fit_transform(train[\"data\"]).toarray(), columns=vectorizer.vocabulary_)\n",
    "test_vectors = pd.DataFrame(vectorizer.transform(test[\"data\"]).toarray(), columns=vectorizer.vocabulary_)\n",
    "oot_vectors = pd.DataFrame(vectorizer.transform(out_of_time[\"data\"]).toarray(), columns=vectorizer.vocabulary_)"
   ]
  },
  {
   "cell_type": "code",
   "execution_count": 25,
   "metadata": {
    "ExecuteTime": {
     "end_time": "2022-03-24T12:08:08.406849Z",
     "start_time": "2022-03-24T12:08:08.404682Z"
    }
   },
   "outputs": [],
   "source": [
    "features = list(vectorizer.vocabulary_.keys())"
   ]
  },
  {
   "cell_type": "code",
   "execution_count": 26,
   "metadata": {
    "ExecuteTime": {
     "end_time": "2022-03-24T12:08:08.412705Z",
     "start_time": "2022-03-24T12:08:08.409047Z"
    }
   },
   "outputs": [
    {
     "data": {
      "text/plain": [
       "\"5\\n\\nNikon FM-2n with 50 mm Nikkor and accessories for sale.I bought this camera in\\nHong Kong two years ago and everything has been looked after very well. I'm now\\nselling some more gear to finance my next big film project.\\n\\nAsking $350 for package. NO BARGAINS.\\n\""
      ]
     },
     "execution_count": 26,
     "metadata": {},
     "output_type": "execute_result"
    }
   ],
   "source": [
    "train.iloc[0][\"data\"]"
   ]
  },
  {
   "cell_type": "code",
   "execution_count": 27,
   "metadata": {
    "ExecuteTime": {
     "end_time": "2022-03-24T12:08:08.424904Z",
     "start_time": "2022-03-24T12:08:08.415551Z"
    }
   },
   "outputs": [
    {
     "data": {
      "text/html": [
       "<div>\n",
       "<style scoped>\n",
       "    .dataframe tbody tr th:only-of-type {\n",
       "        vertical-align: middle;\n",
       "    }\n",
       "\n",
       "    .dataframe tbody tr th {\n",
       "        vertical-align: top;\n",
       "    }\n",
       "\n",
       "    .dataframe thead th {\n",
       "        text-align: right;\n",
       "    }\n",
       "</style>\n",
       "<table border=\"1\" class=\"dataframe\">\n",
       "  <thead>\n",
       "    <tr style=\"text-align: right;\">\n",
       "      <th></th>\n",
       "      <th>data</th>\n",
       "      <th>filenames</th>\n",
       "      <th>target_names</th>\n",
       "      <th>target</th>\n",
       "      <th>binary_target</th>\n",
       "      <th>date</th>\n",
       "    </tr>\n",
       "  </thead>\n",
       "  <tbody>\n",
       "    <tr>\n",
       "      <th>6606</th>\n",
       "      <td>5\\n\\nNikon FM-2n with 50 mm Nikkor and accesso...</td>\n",
       "      <td>/Users/luis.moneda/scikit_learn_data/20news_ho...</td>\n",
       "      <td>None</td>\n",
       "      <td>6</td>\n",
       "      <td>0</td>\n",
       "      <td>2</td>\n",
       "    </tr>\n",
       "    <tr>\n",
       "      <th>10808</th>\n",
       "      <td>125\\n\\nHeres the life of St. MAria Goretti, po...</td>\n",
       "      <td>/Users/luis.moneda/scikit_learn_data/20news_ho...</td>\n",
       "      <td>None</td>\n",
       "      <td>15</td>\n",
       "      <td>0</td>\n",
       "      <td>3</td>\n",
       "    </tr>\n",
       "    <tr>\n",
       "      <th>10683</th>\n",
       "      <td>90\\n\\nkwfinken@pooh.harpo.uccs.edu (Kevin W. F...</td>\n",
       "      <td>/Users/luis.moneda/scikit_learn_data/20news_ho...</td>\n",
       "      <td>None</td>\n",
       "      <td>15</td>\n",
       "      <td>0</td>\n",
       "      <td>3</td>\n",
       "    </tr>\n",
       "    <tr>\n",
       "      <th>2089</th>\n",
       "      <td>18\\nNntp-Posting-Host: cat.lv-lib.nevada.edu\\n...</td>\n",
       "      <td>/Users/luis.moneda/scikit_learn_data/20news_ho...</td>\n",
       "      <td>None</td>\n",
       "      <td>2</td>\n",
       "      <td>0</td>\n",
       "      <td>0</td>\n",
       "    </tr>\n",
       "    <tr>\n",
       "      <th>4026</th>\n",
       "      <td>15\\n\\nIn article &lt;114152@bu.edu&gt;, lcai@acs2.bu...</td>\n",
       "      <td>/Users/luis.moneda/scikit_learn_data/20news_ho...</td>\n",
       "      <td>None</td>\n",
       "      <td>3</td>\n",
       "      <td>0</td>\n",
       "      <td>1</td>\n",
       "    </tr>\n",
       "  </tbody>\n",
       "</table>\n",
       "</div>"
      ],
      "text/plain": [
       "                                                    data  \\\n",
       "6606   5\\n\\nNikon FM-2n with 50 mm Nikkor and accesso...   \n",
       "10808  125\\n\\nHeres the life of St. MAria Goretti, po...   \n",
       "10683  90\\n\\nkwfinken@pooh.harpo.uccs.edu (Kevin W. F...   \n",
       "2089   18\\nNntp-Posting-Host: cat.lv-lib.nevada.edu\\n...   \n",
       "4026   15\\n\\nIn article <114152@bu.edu>, lcai@acs2.bu...   \n",
       "\n",
       "                                               filenames target_names target  \\\n",
       "6606   /Users/luis.moneda/scikit_learn_data/20news_ho...         None      6   \n",
       "10808  /Users/luis.moneda/scikit_learn_data/20news_ho...         None     15   \n",
       "10683  /Users/luis.moneda/scikit_learn_data/20news_ho...         None     15   \n",
       "2089   /Users/luis.moneda/scikit_learn_data/20news_ho...         None      2   \n",
       "4026   /Users/luis.moneda/scikit_learn_data/20news_ho...         None      3   \n",
       "\n",
       "       binary_target  date  \n",
       "6606               0     2  \n",
       "10808              0     3  \n",
       "10683              0     3  \n",
       "2089               0     0  \n",
       "4026               0     1  "
      ]
     },
     "execution_count": 27,
     "metadata": {},
     "output_type": "execute_result"
    }
   ],
   "source": [
    "train.head()"
   ]
  },
  {
   "cell_type": "code",
   "execution_count": 28,
   "metadata": {
    "ExecuteTime": {
     "end_time": "2022-03-24T12:08:08.432091Z",
     "start_time": "2022-03-24T12:08:08.427020Z"
    }
   },
   "outputs": [],
   "source": [
    "train_vectors[time_column] = train[time_column].values\n",
    "test_vectors[time_column] = test[time_column].values\n",
    "oot_vectors[time_column] = out_of_time[time_column].values"
   ]
  },
  {
   "cell_type": "code",
   "execution_count": 29,
   "metadata": {
    "ExecuteTime": {
     "end_time": "2021-12-22T22:49:08.955343Z",
     "start_time": "2021-12-22T22:49:08.951202Z"
    }
   },
   "outputs": [],
   "source": [
    "train_vectors[dummy_time_column] = 1"
   ]
  },
  {
   "cell_type": "code",
   "execution_count": 30,
   "metadata": {
    "ExecuteTime": {
     "end_time": "2021-12-22T22:49:08.985879Z",
     "start_time": "2021-12-22T22:49:08.957314Z"
    }
   },
   "outputs": [
    {
     "data": {
      "text/html": [
       "<div>\n",
       "<style scoped>\n",
       "    .dataframe tbody tr th:only-of-type {\n",
       "        vertical-align: middle;\n",
       "    }\n",
       "\n",
       "    .dataframe tbody tr th {\n",
       "        vertical-align: top;\n",
       "    }\n",
       "\n",
       "    .dataframe thead th {\n",
       "        text-align: right;\n",
       "    }\n",
       "</style>\n",
       "<table border=\"1\" class=\"dataframe\">\n",
       "  <thead>\n",
       "    <tr style=\"text-align: right;\">\n",
       "      <th></th>\n",
       "      <th>years</th>\n",
       "      <th>like</th>\n",
       "      <th>set</th>\n",
       "      <th>little</th>\n",
       "      <th>time</th>\n",
       "      <th>day</th>\n",
       "      <th>jesus</th>\n",
       "      <th>god</th>\n",
       "      <th>did</th>\n",
       "      <th>work</th>\n",
       "      <th>...</th>\n",
       "      <th>right</th>\n",
       "      <th>software</th>\n",
       "      <th>state</th>\n",
       "      <th>better</th>\n",
       "      <th>university</th>\n",
       "      <th>things</th>\n",
       "      <th>ax</th>\n",
       "      <th>g9v</th>\n",
       "      <th>date</th>\n",
       "      <th>dummy_date</th>\n",
       "    </tr>\n",
       "  </thead>\n",
       "  <tbody>\n",
       "    <tr>\n",
       "      <th>0</th>\n",
       "      <td>0.0</td>\n",
       "      <td>0.000000</td>\n",
       "      <td>0.0</td>\n",
       "      <td>0.00000</td>\n",
       "      <td>0.000000</td>\n",
       "      <td>0.00000</td>\n",
       "      <td>0.000000</td>\n",
       "      <td>0.000000</td>\n",
       "      <td>0.000000</td>\n",
       "      <td>0.0</td>\n",
       "      <td>...</td>\n",
       "      <td>0.000000</td>\n",
       "      <td>0.000000</td>\n",
       "      <td>0.000000</td>\n",
       "      <td>0.000000</td>\n",
       "      <td>0.000000</td>\n",
       "      <td>0.000000</td>\n",
       "      <td>0.000000</td>\n",
       "      <td>3.211018</td>\n",
       "      <td>2</td>\n",
       "      <td>1</td>\n",
       "    </tr>\n",
       "    <tr>\n",
       "      <th>1</th>\n",
       "      <td>0.0</td>\n",
       "      <td>0.000000</td>\n",
       "      <td>0.0</td>\n",
       "      <td>0.00000</td>\n",
       "      <td>0.000000</td>\n",
       "      <td>0.00000</td>\n",
       "      <td>0.000000</td>\n",
       "      <td>0.000000</td>\n",
       "      <td>0.000000</td>\n",
       "      <td>0.0</td>\n",
       "      <td>...</td>\n",
       "      <td>0.000000</td>\n",
       "      <td>0.000000</td>\n",
       "      <td>0.000000</td>\n",
       "      <td>2.995159</td>\n",
       "      <td>0.000000</td>\n",
       "      <td>0.000000</td>\n",
       "      <td>0.000000</td>\n",
       "      <td>9.633054</td>\n",
       "      <td>3</td>\n",
       "      <td>1</td>\n",
       "    </tr>\n",
       "    <tr>\n",
       "      <th>2</th>\n",
       "      <td>0.0</td>\n",
       "      <td>0.000000</td>\n",
       "      <td>0.0</td>\n",
       "      <td>0.00000</td>\n",
       "      <td>0.000000</td>\n",
       "      <td>0.00000</td>\n",
       "      <td>3.434918</td>\n",
       "      <td>0.000000</td>\n",
       "      <td>0.000000</td>\n",
       "      <td>0.0</td>\n",
       "      <td>...</td>\n",
       "      <td>0.000000</td>\n",
       "      <td>2.711955</td>\n",
       "      <td>0.000000</td>\n",
       "      <td>2.995159</td>\n",
       "      <td>0.000000</td>\n",
       "      <td>0.000000</td>\n",
       "      <td>0.000000</td>\n",
       "      <td>6.422036</td>\n",
       "      <td>3</td>\n",
       "      <td>1</td>\n",
       "    </tr>\n",
       "    <tr>\n",
       "      <th>3</th>\n",
       "      <td>0.0</td>\n",
       "      <td>0.000000</td>\n",
       "      <td>0.0</td>\n",
       "      <td>3.50274</td>\n",
       "      <td>0.000000</td>\n",
       "      <td>3.37853</td>\n",
       "      <td>3.434918</td>\n",
       "      <td>0.000000</td>\n",
       "      <td>3.542663</td>\n",
       "      <td>0.0</td>\n",
       "      <td>...</td>\n",
       "      <td>0.000000</td>\n",
       "      <td>0.000000</td>\n",
       "      <td>7.471432</td>\n",
       "      <td>0.000000</td>\n",
       "      <td>0.000000</td>\n",
       "      <td>1.674975</td>\n",
       "      <td>0.000000</td>\n",
       "      <td>0.000000</td>\n",
       "      <td>0</td>\n",
       "      <td>1</td>\n",
       "    </tr>\n",
       "    <tr>\n",
       "      <th>4</th>\n",
       "      <td>0.0</td>\n",
       "      <td>0.000000</td>\n",
       "      <td>0.0</td>\n",
       "      <td>0.00000</td>\n",
       "      <td>0.000000</td>\n",
       "      <td>3.37853</td>\n",
       "      <td>0.000000</td>\n",
       "      <td>0.000000</td>\n",
       "      <td>0.000000</td>\n",
       "      <td>0.0</td>\n",
       "      <td>...</td>\n",
       "      <td>0.000000</td>\n",
       "      <td>0.000000</td>\n",
       "      <td>0.000000</td>\n",
       "      <td>0.000000</td>\n",
       "      <td>0.000000</td>\n",
       "      <td>0.000000</td>\n",
       "      <td>0.000000</td>\n",
       "      <td>0.000000</td>\n",
       "      <td>1</td>\n",
       "      <td>1</td>\n",
       "    </tr>\n",
       "    <tr>\n",
       "      <th>...</th>\n",
       "      <td>...</td>\n",
       "      <td>...</td>\n",
       "      <td>...</td>\n",
       "      <td>...</td>\n",
       "      <td>...</td>\n",
       "      <td>...</td>\n",
       "      <td>...</td>\n",
       "      <td>...</td>\n",
       "      <td>...</td>\n",
       "      <td>...</td>\n",
       "      <td>...</td>\n",
       "      <td>...</td>\n",
       "      <td>...</td>\n",
       "      <td>...</td>\n",
       "      <td>...</td>\n",
       "      <td>...</td>\n",
       "      <td>...</td>\n",
       "      <td>...</td>\n",
       "      <td>...</td>\n",
       "      <td>...</td>\n",
       "      <td>...</td>\n",
       "    </tr>\n",
       "    <tr>\n",
       "      <th>9046</th>\n",
       "      <td>0.0</td>\n",
       "      <td>3.182203</td>\n",
       "      <td>0.0</td>\n",
       "      <td>0.00000</td>\n",
       "      <td>0.000000</td>\n",
       "      <td>0.00000</td>\n",
       "      <td>0.000000</td>\n",
       "      <td>0.000000</td>\n",
       "      <td>0.000000</td>\n",
       "      <td>0.0</td>\n",
       "      <td>...</td>\n",
       "      <td>0.000000</td>\n",
       "      <td>0.000000</td>\n",
       "      <td>0.000000</td>\n",
       "      <td>0.000000</td>\n",
       "      <td>0.000000</td>\n",
       "      <td>0.000000</td>\n",
       "      <td>0.000000</td>\n",
       "      <td>0.000000</td>\n",
       "      <td>3</td>\n",
       "      <td>1</td>\n",
       "    </tr>\n",
       "    <tr>\n",
       "      <th>9047</th>\n",
       "      <td>0.0</td>\n",
       "      <td>3.182203</td>\n",
       "      <td>0.0</td>\n",
       "      <td>0.00000</td>\n",
       "      <td>0.000000</td>\n",
       "      <td>0.00000</td>\n",
       "      <td>0.000000</td>\n",
       "      <td>0.000000</td>\n",
       "      <td>0.000000</td>\n",
       "      <td>0.0</td>\n",
       "      <td>...</td>\n",
       "      <td>2.861526</td>\n",
       "      <td>0.000000</td>\n",
       "      <td>0.000000</td>\n",
       "      <td>0.000000</td>\n",
       "      <td>0.000000</td>\n",
       "      <td>6.699899</td>\n",
       "      <td>0.000000</td>\n",
       "      <td>0.000000</td>\n",
       "      <td>1</td>\n",
       "      <td>1</td>\n",
       "    </tr>\n",
       "    <tr>\n",
       "      <th>9048</th>\n",
       "      <td>0.0</td>\n",
       "      <td>0.000000</td>\n",
       "      <td>0.0</td>\n",
       "      <td>0.00000</td>\n",
       "      <td>3.535665</td>\n",
       "      <td>0.00000</td>\n",
       "      <td>0.000000</td>\n",
       "      <td>0.000000</td>\n",
       "      <td>0.000000</td>\n",
       "      <td>0.0</td>\n",
       "      <td>...</td>\n",
       "      <td>0.000000</td>\n",
       "      <td>0.000000</td>\n",
       "      <td>0.000000</td>\n",
       "      <td>0.000000</td>\n",
       "      <td>0.000000</td>\n",
       "      <td>1.674975</td>\n",
       "      <td>0.000000</td>\n",
       "      <td>9.633054</td>\n",
       "      <td>1</td>\n",
       "      <td>1</td>\n",
       "    </tr>\n",
       "    <tr>\n",
       "      <th>9049</th>\n",
       "      <td>0.0</td>\n",
       "      <td>0.000000</td>\n",
       "      <td>0.0</td>\n",
       "      <td>0.00000</td>\n",
       "      <td>0.000000</td>\n",
       "      <td>0.00000</td>\n",
       "      <td>0.000000</td>\n",
       "      <td>3.663435</td>\n",
       "      <td>0.000000</td>\n",
       "      <td>0.0</td>\n",
       "      <td>...</td>\n",
       "      <td>0.000000</td>\n",
       "      <td>0.000000</td>\n",
       "      <td>0.000000</td>\n",
       "      <td>0.000000</td>\n",
       "      <td>0.000000</td>\n",
       "      <td>1.674975</td>\n",
       "      <td>0.000000</td>\n",
       "      <td>3.211018</td>\n",
       "      <td>0</td>\n",
       "      <td>1</td>\n",
       "    </tr>\n",
       "    <tr>\n",
       "      <th>9050</th>\n",
       "      <td>0.0</td>\n",
       "      <td>0.000000</td>\n",
       "      <td>0.0</td>\n",
       "      <td>0.00000</td>\n",
       "      <td>0.000000</td>\n",
       "      <td>0.00000</td>\n",
       "      <td>0.000000</td>\n",
       "      <td>0.000000</td>\n",
       "      <td>0.000000</td>\n",
       "      <td>0.0</td>\n",
       "      <td>...</td>\n",
       "      <td>2.861526</td>\n",
       "      <td>0.000000</td>\n",
       "      <td>0.000000</td>\n",
       "      <td>0.000000</td>\n",
       "      <td>2.976647</td>\n",
       "      <td>3.349950</td>\n",
       "      <td>6.696023</td>\n",
       "      <td>3.211018</td>\n",
       "      <td>2</td>\n",
       "      <td>1</td>\n",
       "    </tr>\n",
       "  </tbody>\n",
       "</table>\n",
       "<p>9051 rows × 102 columns</p>\n",
       "</div>"
      ],
      "text/plain": [
       "      years      like  set   little      time      day     jesus       god  \\\n",
       "0       0.0  0.000000  0.0  0.00000  0.000000  0.00000  0.000000  0.000000   \n",
       "1       0.0  0.000000  0.0  0.00000  0.000000  0.00000  0.000000  0.000000   \n",
       "2       0.0  0.000000  0.0  0.00000  0.000000  0.00000  3.434918  0.000000   \n",
       "3       0.0  0.000000  0.0  3.50274  0.000000  3.37853  3.434918  0.000000   \n",
       "4       0.0  0.000000  0.0  0.00000  0.000000  3.37853  0.000000  0.000000   \n",
       "...     ...       ...  ...      ...       ...      ...       ...       ...   \n",
       "9046    0.0  3.182203  0.0  0.00000  0.000000  0.00000  0.000000  0.000000   \n",
       "9047    0.0  3.182203  0.0  0.00000  0.000000  0.00000  0.000000  0.000000   \n",
       "9048    0.0  0.000000  0.0  0.00000  3.535665  0.00000  0.000000  0.000000   \n",
       "9049    0.0  0.000000  0.0  0.00000  0.000000  0.00000  0.000000  3.663435   \n",
       "9050    0.0  0.000000  0.0  0.00000  0.000000  0.00000  0.000000  0.000000   \n",
       "\n",
       "           did  work  ...     right  software     state    better  university  \\\n",
       "0     0.000000   0.0  ...  0.000000  0.000000  0.000000  0.000000    0.000000   \n",
       "1     0.000000   0.0  ...  0.000000  0.000000  0.000000  2.995159    0.000000   \n",
       "2     0.000000   0.0  ...  0.000000  2.711955  0.000000  2.995159    0.000000   \n",
       "3     3.542663   0.0  ...  0.000000  0.000000  7.471432  0.000000    0.000000   \n",
       "4     0.000000   0.0  ...  0.000000  0.000000  0.000000  0.000000    0.000000   \n",
       "...        ...   ...  ...       ...       ...       ...       ...         ...   \n",
       "9046  0.000000   0.0  ...  0.000000  0.000000  0.000000  0.000000    0.000000   \n",
       "9047  0.000000   0.0  ...  2.861526  0.000000  0.000000  0.000000    0.000000   \n",
       "9048  0.000000   0.0  ...  0.000000  0.000000  0.000000  0.000000    0.000000   \n",
       "9049  0.000000   0.0  ...  0.000000  0.000000  0.000000  0.000000    0.000000   \n",
       "9050  0.000000   0.0  ...  2.861526  0.000000  0.000000  0.000000    2.976647   \n",
       "\n",
       "        things        ax       g9v  date  dummy_date  \n",
       "0     0.000000  0.000000  3.211018     2           1  \n",
       "1     0.000000  0.000000  9.633054     3           1  \n",
       "2     0.000000  0.000000  6.422036     3           1  \n",
       "3     1.674975  0.000000  0.000000     0           1  \n",
       "4     0.000000  0.000000  0.000000     1           1  \n",
       "...        ...       ...       ...   ...         ...  \n",
       "9046  0.000000  0.000000  0.000000     3           1  \n",
       "9047  6.699899  0.000000  0.000000     1           1  \n",
       "9048  1.674975  0.000000  9.633054     1           1  \n",
       "9049  1.674975  0.000000  3.211018     0           1  \n",
       "9050  3.349950  6.696023  3.211018     2           1  \n",
       "\n",
       "[9051 rows x 102 columns]"
      ]
     },
     "execution_count": 30,
     "metadata": {},
     "output_type": "execute_result"
    }
   ],
   "source": [
    "train_vectors"
   ]
  },
  {
   "cell_type": "code",
   "execution_count": 31,
   "metadata": {
    "ExecuteTime": {
     "end_time": "2021-12-22T22:49:19.173432Z",
     "start_time": "2021-12-22T22:49:08.989043Z"
    }
   },
   "outputs": [],
   "source": [
    "model = TimeForestClassifier(time_column=dummy_time_column,\n",
    "                             n_estimators=70,\n",
    "                             multi=True, \n",
    "                             min_sample_periods=15)\n",
    "\n",
    "model.fit(train_vectors[features + [dummy_time_column]], train[target].values)"
   ]
  },
  {
   "cell_type": "code",
   "execution_count": 32,
   "metadata": {
    "ExecuteTime": {
     "end_time": "2021-12-22T22:49:21.220203Z",
     "start_time": "2021-12-22T22:49:19.176557Z"
    }
   },
   "outputs": [
    {
     "data": {
      "text/plain": [
       "0.8247289795045307"
      ]
     },
     "execution_count": 32,
     "metadata": {},
     "output_type": "execute_result"
    }
   ],
   "source": [
    "train[\"prediction\"] = model.predict_proba(train_vectors)[:, 1]\n",
    "roc_auc_score(train[target], train[\"prediction\"])"
   ]
  },
  {
   "cell_type": "code",
   "execution_count": 33,
   "metadata": {
    "ExecuteTime": {
     "end_time": "2021-12-22T22:49:21.792698Z",
     "start_time": "2021-12-22T22:49:21.222104Z"
    }
   },
   "outputs": [
    {
     "data": {
      "text/plain": [
       "0.7921491431218156"
      ]
     },
     "execution_count": 33,
     "metadata": {},
     "output_type": "execute_result"
    }
   ],
   "source": [
    "test[\"prediction\"] = model.predict_proba(test_vectors)[:, 1]\n",
    "roc_auc_score(test[target], test[\"prediction\"])"
   ]
  },
  {
   "cell_type": "code",
   "execution_count": 34,
   "metadata": {
    "ExecuteTime": {
     "end_time": "2021-12-22T22:49:23.431021Z",
     "start_time": "2021-12-22T22:49:21.794646Z"
    }
   },
   "outputs": [
    {
     "data": {
      "text/plain": [
       "0.7846247445231045"
      ]
     },
     "execution_count": 34,
     "metadata": {},
     "output_type": "execute_result"
    }
   ],
   "source": [
    "out_of_time[\"prediction\"] = model.predict_proba(oot_vectors)[:, 1]\n",
    "\n",
    "benchmark_dt_out_of_time = roc_auc_score(out_of_time[target], out_of_time[\"prediction\"])\n",
    "benchmark_dt_out_of_time"
   ]
  },
  {
   "cell_type": "code",
   "execution_count": 35,
   "metadata": {
    "ExecuteTime": {
     "end_time": "2021-12-22T22:49:23.452399Z",
     "start_time": "2021-12-22T22:49:23.432895Z"
    }
   },
   "outputs": [
    {
     "data": {
      "text/plain": [
       "date\n",
       "4    0.808604\n",
       "5    0.756565\n",
       "6    0.787637\n",
       "dtype: float64"
      ]
     },
     "execution_count": 35,
     "metadata": {},
     "output_type": "execute_result"
    }
   ],
   "source": [
    "out_of_time.groupby(time_column).apply(lambda x: roc_auc_score(x[target], x[\"prediction\"]))"
   ]
  },
  {
   "cell_type": "code",
   "execution_count": 36,
   "metadata": {
    "ExecuteTime": {
     "end_time": "2021-12-22T22:49:23.760871Z",
     "start_time": "2021-12-22T22:49:23.454419Z"
    }
   },
   "outputs": [
    {
     "data": {
      "image/png": "[encoded data removed]",
      "text/plain": [
       "<Figure size 864x288 with 1 Axes>"
      ]
     },
     "metadata": {},
     "output_type": "display_data"
    },
    {
     "data": {
      "image/png": "[encoded data removed]",
      "text/plain": [
       "<Figure size 864x288 with 1 Axes>"
      ]
     },
     "metadata": {},
     "output_type": "display_data"
    }
   ],
   "source": [
    "out_of_time.groupby(time_column).apply(lambda x: roc_auc_score(x[target], x[\"prediction\"])).plot()\n",
    "plt.show()\n",
    "out_of_time.groupby(time_column)[target].mean().plot()\n",
    "plt.show()"
   ]
  },
  {
   "cell_type": "code",
   "execution_count": 37,
   "metadata": {
    "ExecuteTime": {
     "end_time": "2021-12-22T22:49:23.788639Z",
     "start_time": "2021-12-22T22:49:23.764855Z"
    }
   },
   "outputs": [
    {
     "data": {
      "text/html": [
       "<div>\n",
       "<style scoped>\n",
       "    .dataframe tbody tr th:only-of-type {\n",
       "        vertical-align: middle;\n",
       "    }\n",
       "\n",
       "    .dataframe tbody tr th {\n",
       "        vertical-align: top;\n",
       "    }\n",
       "\n",
       "    .dataframe thead th {\n",
       "        text-align: right;\n",
       "    }\n",
       "</style>\n",
       "<table border=\"1\" class=\"dataframe\">\n",
       "  <thead>\n",
       "    <tr style=\"text-align: right;\">\n",
       "      <th></th>\n",
       "      <th>Importance</th>\n",
       "    </tr>\n",
       "    <tr>\n",
       "      <th>Feature</th>\n",
       "      <th></th>\n",
       "    </tr>\n",
       "  </thead>\n",
       "  <tbody>\n",
       "    <tr>\n",
       "      <th>11</th>\n",
       "      <td>0.053468</td>\n",
       "    </tr>\n",
       "    <tr>\n",
       "      <th>host</th>\n",
       "      <td>0.032762</td>\n",
       "    </tr>\n",
       "    <tr>\n",
       "      <th>data</th>\n",
       "      <td>0.026779</td>\n",
       "    </tr>\n",
       "    <tr>\n",
       "      <th>20</th>\n",
       "      <td>0.016503</td>\n",
       "    </tr>\n",
       "    <tr>\n",
       "      <th>space</th>\n",
       "      <td>0.010223</td>\n",
       "    </tr>\n",
       "    <tr>\n",
       "      <th>things</th>\n",
       "      <td>0.008394</td>\n",
       "    </tr>\n",
       "    <tr>\n",
       "      <th>don</th>\n",
       "      <td>0.008113</td>\n",
       "    </tr>\n",
       "    <tr>\n",
       "      <th>state</th>\n",
       "      <td>0.007543</td>\n",
       "    </tr>\n",
       "    <tr>\n",
       "      <th>say</th>\n",
       "      <td>0.007101</td>\n",
       "    </tr>\n",
       "    <tr>\n",
       "      <th>make</th>\n",
       "      <td>0.006640</td>\n",
       "    </tr>\n",
       "  </tbody>\n",
       "</table>\n",
       "</div>"
      ],
      "text/plain": [
       "         Importance\n",
       "Feature            \n",
       "11         0.053468\n",
       "host       0.032762\n",
       "data       0.026779\n",
       "20         0.016503\n",
       "space      0.010223\n",
       "things     0.008394\n",
       "don        0.008113\n",
       "state      0.007543\n",
       "say        0.007101\n",
       "make       0.006640"
      ]
     },
     "execution_count": 37,
     "metadata": {},
     "output_type": "execute_result"
    }
   ],
   "source": [
    "model.feature_importance(impurity_decrease=True).head(10)"
   ]
  },
  {
   "cell_type": "markdown",
   "metadata": {},
   "source": [
    "## Time Forest"
   ]
  },
  {
   "cell_type": "code",
   "execution_count": 38,
   "metadata": {
    "ExecuteTime": {
     "end_time": "2021-12-22T22:49:36.681383Z",
     "start_time": "2021-12-22T22:49:23.791802Z"
    },
    "scrolled": true
   },
   "outputs": [
    {
     "name": "stdout",
     "output_type": "stream",
     "text": [
      "0.8002981225450161\n",
      "0.7879850001781451\n",
      "0.7769423531837847\n"
     ]
    }
   ],
   "source": [
    "time_model_tree = TimeForestClassifier(time_column=time_column,\n",
    "                                       n_estimators=70,\n",
    "                                       multi=True, \n",
    "                                       min_sample_periods=20)\n",
    "\n",
    "time_model_tree.fit(train_vectors[features + [time_column]], train[target].values)\n",
    "\n",
    "train[\"time_prediction_tree\"] = time_model_tree.predict_proba(train_vectors)[:, 1]\n",
    "print(roc_auc_score(train[target], train[\"time_prediction_tree\"]))\n",
    "\n",
    "test[\"time_prediction_tree\"] = time_model_tree.predict_proba(test_vectors)[:, 1]\n",
    "print(roc_auc_score(test[target], test[\"time_prediction_tree\"]))\n",
    "\n",
    "out_of_time[\"time_prediction_tree\"] = time_model_tree.predict_proba(oot_vectors)[:, 1]\n",
    "print(roc_auc_score(out_of_time[target], out_of_time[\"time_prediction_tree\"]))"
   ]
  },
  {
   "cell_type": "code",
   "execution_count": 39,
   "metadata": {
    "ExecuteTime": {
     "end_time": "2021-12-22T22:49:36.705108Z",
     "start_time": "2021-12-22T22:49:36.683462Z"
    }
   },
   "outputs": [
    {
     "data": {
      "text/html": [
       "<div>\n",
       "<style scoped>\n",
       "    .dataframe tbody tr th:only-of-type {\n",
       "        vertical-align: middle;\n",
       "    }\n",
       "\n",
       "    .dataframe tbody tr th {\n",
       "        vertical-align: top;\n",
       "    }\n",
       "\n",
       "    .dataframe thead th {\n",
       "        text-align: right;\n",
       "    }\n",
       "</style>\n",
       "<table border=\"1\" class=\"dataframe\">\n",
       "  <thead>\n",
       "    <tr style=\"text-align: right;\">\n",
       "      <th></th>\n",
       "      <th>Importance</th>\n",
       "    </tr>\n",
       "    <tr>\n",
       "      <th>Feature</th>\n",
       "      <th></th>\n",
       "    </tr>\n",
       "  </thead>\n",
       "  <tbody>\n",
       "    <tr>\n",
       "      <th>11</th>\n",
       "      <td>0.056548</td>\n",
       "    </tr>\n",
       "    <tr>\n",
       "      <th>host</th>\n",
       "      <td>0.035415</td>\n",
       "    </tr>\n",
       "    <tr>\n",
       "      <th>data</th>\n",
       "      <td>0.023616</td>\n",
       "    </tr>\n",
       "    <tr>\n",
       "      <th>20</th>\n",
       "      <td>0.014348</td>\n",
       "    </tr>\n",
       "    <tr>\n",
       "      <th>things</th>\n",
       "      <td>0.010171</td>\n",
       "    </tr>\n",
       "    <tr>\n",
       "      <th>make</th>\n",
       "      <td>0.009063</td>\n",
       "    </tr>\n",
       "    <tr>\n",
       "      <th>file</th>\n",
       "      <td>0.008485</td>\n",
       "    </tr>\n",
       "    <tr>\n",
       "      <th>space</th>\n",
       "      <td>0.007745</td>\n",
       "    </tr>\n",
       "    <tr>\n",
       "      <th>nntp</th>\n",
       "      <td>0.006999</td>\n",
       "    </tr>\n",
       "    <tr>\n",
       "      <th>don</th>\n",
       "      <td>0.006705</td>\n",
       "    </tr>\n",
       "  </tbody>\n",
       "</table>\n",
       "</div>"
      ],
      "text/plain": [
       "         Importance\n",
       "Feature            \n",
       "11         0.056548\n",
       "host       0.035415\n",
       "data       0.023616\n",
       "20         0.014348\n",
       "things     0.010171\n",
       "make       0.009063\n",
       "file       0.008485\n",
       "space      0.007745\n",
       "nntp       0.006999\n",
       "don        0.006705"
      ]
     },
     "execution_count": 39,
     "metadata": {},
     "output_type": "execute_result"
    }
   ],
   "source": [
    "time_model_tree.feature_importance(impurity_decrease=True).head(10)"
   ]
  },
  {
   "cell_type": "code",
   "execution_count": 40,
   "metadata": {
    "ExecuteTime": {
     "end_time": "2021-12-22T22:49:36.884324Z",
     "start_time": "2021-12-22T22:49:36.706935Z"
    }
   },
   "outputs": [
    {
     "data": {
      "image/png": "[encoded data removed]",
      "text/plain": [
       "<Figure size 864x288 with 1 Axes>"
      ]
     },
     "metadata": {},
     "output_type": "display_data"
    }
   ],
   "source": [
    "out_of_time.groupby(time_column).apply(lambda x: roc_auc_score(x[target], x[\"prediction\"])).plot(label=\"Decision Tree\")\n",
    "out_of_time.groupby(time_column).apply(lambda x: roc_auc_score(x[target], x[\"time_prediction_tree\"])).plot(label=\"Time Tree\")\n",
    "plt.legend()\n",
    "plt.show()"
   ]
  },
  {
   "cell_type": "code",
   "execution_count": 41,
   "metadata": {
    "ExecuteTime": {
     "end_time": "2021-12-22T22:49:37.063131Z",
     "start_time": "2021-12-22T22:49:36.886055Z"
    }
   },
   "outputs": [
    {
     "data": {
      "image/png": "[encoded data removed]",
      "text/plain": [
       "<Figure size 864x288 with 1 Axes>"
      ]
     },
     "metadata": {},
     "output_type": "display_data"
    }
   ],
   "source": [
    "out_of_time_min_date = out_of_time[\"date\"].min()\n",
    "pd.concat([test, out_of_time]).groupby(time_column).apply(lambda x: roc_auc_score(x[target], x[\"prediction\"])).plot(label=\"Random Forest\")\n",
    "pd.concat([test, out_of_time]).groupby(time_column).apply(lambda x: roc_auc_score(x[target], x[\"time_prediction_tree\"])).plot(label=\"Time Robust Forest\", color=\"green\")\n",
    "\n",
    "xmin, xmax, ymin, ymax = plt.axis()\n",
    "plt.vlines(out_of_time_min_date, ymin, ymax, linestyle=\"dotted\", color=\"red\")\n",
    "plt.legend()\n",
    "plt.title(\"AUC by date on the 20 News group dataset\")\n",
    "plt.ylabel(\"AUC\")\n",
    "plt.xlabel(\"Date\")\n",
    "plt.show()"
   ]
  },
  {
   "cell_type": "markdown",
   "metadata": {},
   "source": [
    "## Average result for every target"
   ]
  },
  {
   "cell_type": "code",
   "execution_count": 40,
   "metadata": {
    "ExecuteTime": {
     "end_time": "2022-03-24T12:16:50.545635Z",
     "start_time": "2022-03-24T12:16:50.531666Z"
    }
   },
   "outputs": [
    {
     "data": {
      "text/plain": [
       "{7: 'talk.politics.mideast',\n",
       " 4: 'sci.electronics',\n",
       " 1: 'talk.politics.guns',\n",
       " 14: 'sci.med',\n",
       " 16: 'comp.windows.x',\n",
       " 13: 'misc.forsale',\n",
       " 3: 'rec.autos',\n",
       " 2: 'rec.motorcycles',\n",
       " 8: 'rec.sport.hockey',\n",
       " 19: 'sci.crypt',\n",
       " 6: 'sci.space',\n",
       " 0: 'soc.religion.christian',\n",
       " 12: 'talk.politics.misc',\n",
       " 5: 'talk.religion.misc'}"
      ]
     },
     "execution_count": 40,
     "metadata": {},
     "output_type": "execute_result"
    }
   ],
   "source": [
    "label_dict = in_time.groupby(\"target_names\")[\"target\"].min()\n",
    "label_dict = {v: k for k, v in label_dict.items()}\n",
    "label_dict"
   ]
  },
  {
   "cell_type": "code",
   "execution_count": 43,
   "metadata": {
    "ExecuteTime": {
     "end_time": "2021-12-22T22:49:38.655103Z",
     "start_time": "2021-12-22T22:49:37.077926Z"
    }
   },
   "outputs": [],
   "source": [
    "#from pycaret.classification import *"
   ]
  },
  {
   "cell_type": "code",
   "execution_count": 73,
   "metadata": {
    "ExecuteTime": {
     "end_time": "2021-12-23T11:43:44.452145Z",
     "start_time": "2021-12-23T11:43:44.446597Z"
    }
   },
   "outputs": [
    {
     "data": {
      "text/plain": [
       "['max', 'avg']"
      ]
     },
     "execution_count": 73,
     "metadata": {},
     "output_type": "execute_result"
    }
   ],
   "source": [
    "params_grid = {\"n_estimators\": [1], \n",
    "              \"max_depth\": [5, 10, 15],\n",
    "              \"min_impurity_decrease\": [1e-5, 0],\n",
    "              \"min_sample_periods\": [1, 5, 15],\n",
    "              \"max_features\": [1.0],\n",
    "              \"period_criterion\": [\"max\", \"avg\"]}\n",
    "\n",
    "# params_grid = {\"n_estimators\": [4], \n",
    "#               \"max_depth\": [5],\n",
    "#               \"min_impurity_decrease\": [0],\n",
    "#               \"min_sample_periods\": [1, 2],\n",
    "#               \"period_criterion\": [\"max\"]}\n",
    "\n",
    "params_grid_benchmark = params_grid.copy()\n",
    "params_grid_benchmark.pop(\"period_criterion\")"
   ]
  },
  {
   "cell_type": "markdown",
   "metadata": {},
   "source": [
    "### Optimize hyper-params "
   ]
  },
  {
   "cell_type": "code",
   "execution_count": 74,
   "metadata": {
    "ExecuteTime": {
     "end_time": "2021-12-23T11:43:45.415416Z",
     "start_time": "2021-12-23T11:43:45.413115Z"
    }
   },
   "outputs": [],
   "source": [
    "benchmark_opt_param_dict = {}\n",
    "challenger_opt_param_dict = {}"
   ]
  },
  {
   "cell_type": "code",
   "execution_count": 75,
   "metadata": {
    "ExecuteTime": {
     "end_time": "2021-12-23T11:43:45.641902Z",
     "start_time": "2021-12-23T11:43:45.638205Z"
    }
   },
   "outputs": [
    {
     "data": {
      "text/plain": [
       "'binary_target'"
      ]
     },
     "execution_count": 75,
     "metadata": {},
     "output_type": "execute_result"
    }
   ],
   "source": [
    "target"
   ]
  },
  {
   "cell_type": "code",
   "execution_count": 76,
   "metadata": {
    "ExecuteTime": {
     "end_time": "2021-12-23T11:43:45.821528Z",
     "start_time": "2021-12-23T11:43:45.815469Z"
    }
   },
   "outputs": [
    {
     "data": {
      "text/plain": [
       "date\n",
       "0    2840\n",
       "1    2840\n",
       "2    2840\n",
       "3    2794\n",
       "Name: binary_target, dtype: int64"
      ]
     },
     "execution_count": 76,
     "metadata": {},
     "output_type": "execute_result"
    }
   ],
   "source": [
    "in_time.groupby(time_column)[target].count()"
   ]
  },
  {
   "cell_type": "code",
   "execution_count": 77,
   "metadata": {
    "ExecuteTime": {
     "end_time": "2021-12-23T11:43:49.808644Z",
     "start_time": "2021-12-23T11:43:46.018887Z"
    }
   },
   "outputs": [],
   "source": [
    "train = pd.DataFrame(vectorizer.fit_transform(in_time[\"data\"]).toarray(), columns=vectorizer.vocabulary_)\n",
    "holdout = pd.DataFrame(vectorizer.transform(out_of_time[\"data\"]).toarray(), columns=vectorizer.vocabulary_)\n",
    "features = list(vectorizer.vocabulary_.keys())"
   ]
  },
  {
   "cell_type": "code",
   "execution_count": 78,
   "metadata": {},
   "outputs": [],
   "source": [
    "from sklearn.metrics import make_scorer"
   ]
  },
  {
   "cell_type": "code",
   "execution_count": null,
   "metadata": {
    "ExecuteTime": {
     "end_time": "2021-12-23T12:26:31.556409Z",
     "start_time": "2021-12-23T11:43:49.810451Z"
    }
   },
   "outputs": [
    {
     "name": "stdout",
     "output_type": "stream",
     "text": [
      "*****************************\n",
      "target_label = talk.politics.mideast\n",
      "Challenger params\n",
      "{'max_depth': 10, 'max_features': 1.0, 'min_impurity_decrease': 1e-05, 'min_sample_periods': 15, 'n_estimators': 1, 'period_criterion': 'avg'}\n",
      "Challenger train perf\n",
      "0.6529568068747172\n",
      "Challenger holdout perf\n",
      "0.5736695358857635\n",
      "Benchmark params\n",
      "{'max_depth': 5, 'max_features': 1.0, 'min_impurity_decrease': 1e-05, 'min_sample_periods': 15, 'n_estimators': 1}\n",
      "Benchmark train perf\n",
      "0.6251273619277351\n",
      "Benchmark holdout perf\n",
      "0.5939458698532409\n",
      "*****************************\n",
      "target_label = sci.electronics\n"
     ]
    }
   ],
   "source": [
    "for i, target_label in enumerate(in_time[\"target\"].unique()[:]):\n",
    "    print(\"*****************************\")\n",
    "    print(\"target_label = {}\".format(label_dict[target_label]))\n",
    "    holdout[target] = out_of_time[\"target\"].apply(lambda x: 1 if x == target_label else 0)\n",
    "    train[target] = in_time[\"target\"].apply(lambda x: 1 if x == target_label else 0)\n",
    "    train[time_column] = in_time[time_column]\n",
    "    train[dummy_time_column] = 1\n",
    "    \n",
    "    challenger_boot = []\n",
    "    benchmark_boot = []\n",
    "    benchmark_boot_opt = []\n",
    "\n",
    "    ### Challenger \n",
    "    model = TimeForestClassifier(time_column=time_column,\n",
    "                                            multi=True)\n",
    "\n",
    "    challenger_opt_param = env_wise_hyper_opt(train[features + [time_column]], train[target], \n",
    "                                             model, \n",
    "                                             time_column, \n",
    "                                             params_grid, \n",
    "                                             cv=5,\n",
    "                                             scorer=make_scorer(roc_auc_score, needs_proba=True))\n",
    "    \n",
    "    challenger_opt_param_dict[label_dict[target_label]] = challenger_opt_param\n",
    "    challenger_model = TimeForestClassifier(time_column=time_column,\n",
    "                                           multi=True, \n",
    "                                           **challenger_opt_param)\n",
    "    \n",
    "    challenger_model.fit(train[features + [time_column]], train[target])\n",
    "    \n",
    "    train[\"challenger_prediction\"] = challenger_model.predict_proba(train[features])[:, 1]\n",
    "    holdout[\"challenger_prediction\"] = challenger_model.predict_proba(holdout[features])[:, 1]\n",
    "    \n",
    "\n",
    "\n",
    "    print(\"Challenger params\")\n",
    "    print(challenger_opt_param)\n",
    "    print(\"Challenger train perf\")\n",
    "    print(roc_auc_score(train[target], \n",
    "                        train[\"challenger_prediction\"]))\n",
    "    print(\"Challenger holdout perf\")\n",
    "    print(roc_auc_score(holdout[target], \n",
    "                        holdout[\"challenger_prediction\"]))\n",
    "    \n",
    "    ### Benchmark\n",
    "    model = TimeForestClassifier(time_column=dummy_time_column,\n",
    "                                            multi=True)\n",
    "\n",
    "    benchmark_opt_param = env_wise_hyper_opt(train[features + [dummy_time_column]], train[target], \n",
    "                                             model, \n",
    "                                             dummy_time_column, \n",
    "                                             params_grid_benchmark, \n",
    "                                             cv=5,\n",
    "                                             scorer=make_scorer(roc_auc_score, needs_proba=True))\n",
    "    \n",
    "    benchmark_opt_param_dict[label_dict[target_label]] = benchmark_opt_param\n",
    "    benchmark_model = TimeForestClassifier(time_column=dummy_time_column,\n",
    "                                           multi=True, \n",
    "                                           **benchmark_opt_param)\n",
    "    \n",
    "    benchmark_model.fit(train[features + [dummy_time_column]], train[target])\n",
    "    \n",
    "    train[\"benchmark_prediction\"] = benchmark_model.predict_proba(train[features])[:, 1]\n",
    "    holdout[\"benchmark_prediction\"] = benchmark_model.predict_proba(holdout[features])[:, 1]\n",
    "    \n",
    "    print(\"Benchmark params\")\n",
    "    print(benchmark_opt_param)\n",
    "    print(\"Benchmark train perf\")\n",
    "    print(roc_auc_score(train[target], \n",
    "                        train[\"benchmark_prediction\"]))\n",
    "    print(\"Benchmark holdout perf\")\n",
    "    print(roc_auc_score(holdout[target], \n",
    "                        holdout[\"benchmark_prediction\"]))\n",
    "\n",
    "    "
   ]
  },
  {
   "cell_type": "code",
   "execution_count": 55,
   "metadata": {},
   "outputs": [
    {
     "data": {
      "text/plain": [
       "{'talk.politics.mideast': {'max_depth': 15,\n",
       "  'min_impurity_decrease': 1e-05,\n",
       "  'min_sample_periods': 15,\n",
       "  'n_estimators': 50,\n",
       "  'period_criterion': 'max'},\n",
       " 'sci.electronics': {'max_depth': 15,\n",
       "  'min_impurity_decrease': 1e-05,\n",
       "  'min_sample_periods': 1,\n",
       "  'n_estimators': 50,\n",
       "  'period_criterion': 'max'},\n",
       " 'talk.politics.guns': {'max_depth': 15,\n",
       "  'min_impurity_decrease': 1e-05,\n",
       "  'min_sample_periods': 1,\n",
       "  'n_estimators': 50,\n",
       "  'period_criterion': 'max'},\n",
       " 'sci.med': {'max_depth': 15,\n",
       "  'min_impurity_decrease': 1e-05,\n",
       "  'min_sample_periods': 5,\n",
       "  'n_estimators': 50,\n",
       "  'period_criterion': 'max'},\n",
       " 'comp.windows.x': {'max_depth': 15,\n",
       "  'min_impurity_decrease': 1e-05,\n",
       "  'min_sample_periods': 1,\n",
       "  'n_estimators': 50,\n",
       "  'period_criterion': 'max'},\n",
       " 'misc.forsale': {'max_depth': 15,\n",
       "  'min_impurity_decrease': 1e-05,\n",
       "  'min_sample_periods': 15,\n",
       "  'n_estimators': 50,\n",
       "  'period_criterion': 'max'},\n",
       " 'rec.autos': {'max_depth': 10,\n",
       "  'min_impurity_decrease': 1e-05,\n",
       "  'min_sample_periods': 1,\n",
       "  'n_estimators': 50,\n",
       "  'period_criterion': 'max'},\n",
       " 'rec.motorcycles': {'max_depth': 15,\n",
       "  'min_impurity_decrease': 1e-05,\n",
       "  'min_sample_periods': 1,\n",
       "  'n_estimators': 50,\n",
       "  'period_criterion': 'max'},\n",
       " 'rec.sport.hockey': {'max_depth': 15,\n",
       "  'min_impurity_decrease': 1e-05,\n",
       "  'min_sample_periods': 5,\n",
       "  'n_estimators': 50,\n",
       "  'period_criterion': 'max'},\n",
       " 'sci.crypt': {'max_depth': 15,\n",
       "  'min_impurity_decrease': 1e-05,\n",
       "  'min_sample_periods': 5,\n",
       "  'n_estimators': 50,\n",
       "  'period_criterion': 'max'},\n",
       " 'sci.space': {'max_depth': 15,\n",
       "  'min_impurity_decrease': 1e-05,\n",
       "  'min_sample_periods': 1,\n",
       "  'n_estimators': 50,\n",
       "  'period_criterion': 'max'},\n",
       " 'soc.religion.christian': {'max_depth': 15,\n",
       "  'min_impurity_decrease': 1e-05,\n",
       "  'min_sample_periods': 1,\n",
       "  'n_estimators': 50,\n",
       "  'period_criterion': 'max'},\n",
       " 'talk.politics.misc': {'max_depth': 15,\n",
       "  'min_impurity_decrease': 1e-05,\n",
       "  'min_sample_periods': 15,\n",
       "  'n_estimators': 50,\n",
       "  'period_criterion': 'max'},\n",
       " 'talk.religion.misc': {'max_depth': 15,\n",
       "  'min_impurity_decrease': 1e-05,\n",
       "  'min_sample_periods': 1,\n",
       "  'n_estimators': 50,\n",
       "  'period_criterion': 'max'}}"
      ]
     },
     "execution_count": 55,
     "metadata": {},
     "output_type": "execute_result"
    }
   ],
   "source": [
    "challenger_opt_param_dict"
   ]
  },
  {
   "cell_type": "code",
   "execution_count": 56,
   "metadata": {},
   "outputs": [
    {
     "data": {
      "text/plain": [
       "{'talk.politics.mideast': {'max_depth': 15,\n",
       "  'min_impurity_decrease': 1e-05,\n",
       "  'min_sample_periods': 15,\n",
       "  'n_estimators': 50},\n",
       " 'sci.electronics': {'max_depth': 15,\n",
       "  'min_impurity_decrease': 0,\n",
       "  'min_sample_periods': 15,\n",
       "  'n_estimators': 50},\n",
       " 'talk.politics.guns': {'max_depth': 15,\n",
       "  'min_impurity_decrease': 0,\n",
       "  'min_sample_periods': 15,\n",
       "  'n_estimators': 50},\n",
       " 'sci.med': {'max_depth': 15,\n",
       "  'min_impurity_decrease': 1e-05,\n",
       "  'min_sample_periods': 15,\n",
       "  'n_estimators': 50},\n",
       " 'comp.windows.x': {'max_depth': 15,\n",
       "  'min_impurity_decrease': 0,\n",
       "  'min_sample_periods': 1,\n",
       "  'n_estimators': 50},\n",
       " 'misc.forsale': {'max_depth': 15,\n",
       "  'min_impurity_decrease': 0,\n",
       "  'min_sample_periods': 15,\n",
       "  'n_estimators': 50},\n",
       " 'rec.autos': {'max_depth': 10,\n",
       "  'min_impurity_decrease': 1e-05,\n",
       "  'min_sample_periods': 15,\n",
       "  'n_estimators': 50},\n",
       " 'rec.motorcycles': {'max_depth': 15,\n",
       "  'min_impurity_decrease': 1e-05,\n",
       "  'min_sample_periods': 1,\n",
       "  'n_estimators': 50},\n",
       " 'rec.sport.hockey': {'max_depth': 15,\n",
       "  'min_impurity_decrease': 1e-05,\n",
       "  'min_sample_periods': 15,\n",
       "  'n_estimators': 50},\n",
       " 'sci.crypt': {'max_depth': 15,\n",
       "  'min_impurity_decrease': 1e-05,\n",
       "  'min_sample_periods': 15,\n",
       "  'n_estimators': 50},\n",
       " 'sci.space': {'max_depth': 15,\n",
       "  'min_impurity_decrease': 1e-05,\n",
       "  'min_sample_periods': 1,\n",
       "  'n_estimators': 50},\n",
       " 'soc.religion.christian': {'max_depth': 15,\n",
       "  'min_impurity_decrease': 1e-05,\n",
       "  'min_sample_periods': 15,\n",
       "  'n_estimators': 50},\n",
       " 'talk.politics.misc': {'max_depth': 15,\n",
       "  'min_impurity_decrease': 0,\n",
       "  'min_sample_periods': 15,\n",
       "  'n_estimators': 50},\n",
       " 'talk.religion.misc': {'max_depth': 15,\n",
       "  'min_impurity_decrease': 1e-05,\n",
       "  'min_sample_periods': 5,\n",
       "  'n_estimators': 50}}"
      ]
     },
     "execution_count": 56,
     "metadata": {},
     "output_type": "execute_result"
    }
   ],
   "source": [
    "benchmark_opt_param_dict"
   ]
  },
  {
   "cell_type": "code",
   "execution_count": null,
   "metadata": {
    "ExecuteTime": {
     "end_time": "2021-12-23T12:26:31.567187Z",
     "start_time": "2021-12-23T11:43:49.911Z"
    }
   },
   "outputs": [
    {
     "name": "stdout",
     "output_type": "stream",
     "text": [
      "*****************************\n",
      "target_label = talk.politics.mideast\n"
     ]
    },
    {
     "data": {
      "application/vnd.jupyter.widget-view+json": {
       "model_id": "39117b470ff04e0990dfe6d574e7027d",
       "version_major": 2,
       "version_minor": 0
      },
      "text/plain": [
       "  0%|          | 0/5 [00:00<?, ?it/s]"
      ]
     },
     "metadata": {},
     "output_type": "display_data"
    },
    {
     "data": {
      "image/png": "[encoded data removed]",
      "text/plain": [
       "<Figure size 864x288 with 1 Axes>"
      ]
     },
     "metadata": {},
     "output_type": "display_data"
    },
    {
     "name": "stdout",
     "output_type": "stream",
     "text": [
      "*****************************\n",
      "target_label = sci.electronics\n"
     ]
    },
    {
     "data": {
      "application/vnd.jupyter.widget-view+json": {
       "model_id": "c0cfc545956047218e2d9bfcaac7b74f",
       "version_major": 2,
       "version_minor": 0
      },
      "text/plain": [
       "  0%|          | 0/5 [00:00<?, ?it/s]"
      ]
     },
     "metadata": {},
     "output_type": "display_data"
    },
    {
     "data": {
      "image/png": "[encoded data removed]",
      "text/plain": [
       "<Figure size 864x288 with 1 Axes>"
      ]
     },
     "metadata": {},
     "output_type": "display_data"
    },
    {
     "name": "stdout",
     "output_type": "stream",
     "text": [
      "*****************************\n",
      "target_label = talk.politics.guns\n"
     ]
    },
    {
     "data": {
      "application/vnd.jupyter.widget-view+json": {
       "model_id": "13626c960a5548839ea125e43c9fda7d",
       "version_major": 2,
       "version_minor": 0
      },
      "text/plain": [
       "  0%|          | 0/5 [00:00<?, ?it/s]"
      ]
     },
     "metadata": {},
     "output_type": "display_data"
    },
    {
     "data": {
      "image/png": "[encoded data removed]",
      "text/plain": [
       "<Figure size 864x288 with 1 Axes>"
      ]
     },
     "metadata": {},
     "output_type": "display_data"
    },
    {
     "name": "stdout",
     "output_type": "stream",
     "text": [
      "*****************************\n",
      "target_label = sci.med\n"
     ]
    },
    {
     "data": {
      "application/vnd.jupyter.widget-view+json": {
       "model_id": "d2e7e32288b84608981bb611c54221dd",
       "version_major": 2,
       "version_minor": 0
      },
      "text/plain": [
       "  0%|          | 0/5 [00:00<?, ?it/s]"
      ]
     },
     "metadata": {},
     "output_type": "display_data"
    },
    {
     "data": {
      "image/png": "[encoded data removed]",
      "text/plain": [
       "<Figure size 864x288 with 1 Axes>"
      ]
     },
     "metadata": {},
     "output_type": "display_data"
    },
    {
     "name": "stdout",
     "output_type": "stream",
     "text": [
      "*****************************\n",
      "target_label = comp.windows.x\n"
     ]
    },
    {
     "data": {
      "application/vnd.jupyter.widget-view+json": {
       "model_id": "a6234ce07e484af5ad2c598ef7a09a70",
       "version_major": 2,
       "version_minor": 0
      },
      "text/plain": [
       "  0%|          | 0/5 [00:00<?, ?it/s]"
      ]
     },
     "metadata": {},
     "output_type": "display_data"
    },
    {
     "data": {
      "image/png": "[encoded data removed]",
      "text/plain": [
       "<Figure size 864x288 with 1 Axes>"
      ]
     },
     "metadata": {},
     "output_type": "display_data"
    },
    {
     "name": "stdout",
     "output_type": "stream",
     "text": [
      "*****************************\n",
      "target_label = misc.forsale\n"
     ]
    },
    {
     "data": {
      "application/vnd.jupyter.widget-view+json": {
       "model_id": "8e3a357bd5fa4c109b1cdf6aaaf4b065",
       "version_major": 2,
       "version_minor": 0
      },
      "text/plain": [
       "  0%|          | 0/5 [00:00<?, ?it/s]"
      ]
     },
     "metadata": {},
     "output_type": "display_data"
    }
   ],
   "source": [
    "N_BOOTS = 5\n",
    "train_aucs = []\n",
    "test_aucs = []\n",
    "out_of_time_aucs = []\n",
    "\n",
    "challenger_all_labels_auc = []\n",
    "benchmark_all_labels_auc = []\n",
    "benchmark_all_labels_auc_opt = []\n",
    "\n",
    "challenger_train_auc = []\n",
    "bechmark_train_auc = []\n",
    "bechmark_opt_train_auc = []\n",
    "\n",
    "\n",
    "for i, target_label in enumerate(in_time[\"target\"].unique()[:]):\n",
    "    print(\"*****************************\")\n",
    "    print(\"target_label = {}\".format(label_dict[target_label]))\n",
    "    \n",
    "    out_of_time[\"binary_target\"] = out_of_time[\"target\"].apply(lambda x: 1 if x == target_label else 0)\n",
    "    in_time[\"binary_target\"] = in_time[\"target\"].apply(lambda x: 1 if x == target_label else 0)\n",
    "    challenger_boot = []\n",
    "    benchmark_boot = []\n",
    "    benchmark_boot_opt = []    \n",
    "    \n",
    "    for n_boot in tqdm_notebook(range(N_BOOTS)):\n",
    "        try:\n",
    "            resampled_out_of_time = out_of_time.sample(frac=1.0, replace=True)\n",
    "            train, test = train_test_split(in_time.sample(frac=1.0, replace=True), \n",
    "                                       test_size=0.2, \n",
    "                                       random_state=42)\n",
    "\n",
    "            vectorizer = TfidfVectorizer(max_features=MAX_VOCABULARY,\n",
    "                                 stop_words=\"english\",\n",
    "                                 binary=False,\n",
    "                                 use_idf=True,\n",
    "                                 norm=False)\n",
    "\n",
    "            train_vectors = pd.DataFrame(vectorizer.fit_transform(train[\"data\"]).toarray(), columns=vectorizer.vocabulary_)\n",
    "            test_vectors = pd.DataFrame(vectorizer.transform(test[\"data\"]).toarray(), columns=vectorizer.vocabulary_)\n",
    "            oot_vectors = pd.DataFrame(vectorizer.transform(resampled_out_of_time[\"data\"]).toarray(), columns=vectorizer.vocabulary_)\n",
    "\n",
    "            train_vectors[time_column] = train[time_column].values\n",
    "            test_vectors[time_column] = test[time_column].values\n",
    "            oot_vectors[time_column] = resampled_out_of_time[time_column].values\n",
    "            \n",
    "            train_vectors[dummy_time_column] = 1\n",
    "            features = list(vectorizer.vocabulary_.keys())\n",
    "            \n",
    "            ### Time Forest\n",
    "            challenger_model = TimeForestClassifier(time_column=time_column,\n",
    "                                           multi=True, \n",
    "                                           **challenger_opt_param_dict[label_dict[target_label]])\n",
    "            challenger_model.fit(train_vectors[features + [time_column]], train[target])\n",
    "            train[\"time_prediction_tree\"] = challenger_model.predict_proba(train_vectors[features])[:, 1]\n",
    "            train_auc = roc_auc_score(train[target], train[\"time_prediction_tree\"])\n",
    "\n",
    "            test[\"time_prediction_tree\"] = challenger_model.predict_proba(test_vectors[features])[:, 1]\n",
    "            test_auc = roc_auc_score(test[target], test[\"time_prediction_tree\"])\n",
    "\n",
    "            resampled_out_of_time[\"time_prediction_tree\"] = challenger_model.predict_proba(oot_vectors[features])[:, 1]\n",
    "            oot_auc = roc_auc_score(resampled_out_of_time[target], resampled_out_of_time[\"time_prediction_tree\"])\n",
    "            \n",
    "            challenger_train_auc.append(train_auc)\n",
    "            \n",
    "            ### Benchmark\n",
    "            model = TimeForestClassifier(time_column=dummy_time_column,\n",
    "                                           multi=True, \n",
    "                                           **benchmark_opt_param_dict[label_dict[target_label]])\n",
    "            \n",
    "            model.fit(train_vectors[features + [dummy_time_column]], train[target])\n",
    "\n",
    "            train[\"prediction\"] = model.predict_proba(train_vectors[features])[:, 1]\n",
    "            test[\"prediction\"] = model.predict_proba(test_vectors[features])[:, 1]\n",
    "            resampled_out_of_time[\"prediction\"] = model.predict_proba(oot_vectors[features])[:, 1]\n",
    "\n",
    "            benchmark_auc_by_date = pd.DataFrame(pd.concat([test, resampled_out_of_time]).groupby(time_column).apply(lambda x: roc_auc_score(x[target], x[\"prediction\"])), columns=[\"auc\"]).reset_index()\n",
    "            challenger_auc_by_date = pd.DataFrame(pd.concat([test, resampled_out_of_time]).groupby(time_column).apply(lambda x: roc_auc_score(x[target], x[\"time_prediction_tree\"])), columns=[\"auc\"]).reset_index()\n",
    "\n",
    "            challenger_boot.append(challenger_auc_by_date)\n",
    "            benchmark_boot.append(benchmark_auc_by_date) \n",
    "            \n",
    "            train_auc = roc_auc_score(train[target], train[\"prediction\"])\n",
    "            bechmark_train_auc.append(train_auc)\n",
    "        except:\n",
    "            print(\"Failed label {}\".format(target_label))\n",
    "    \n",
    "    challenger_auc_by_target = pd.concat(challenger_boot)\n",
    "    benchmark_auc_by_target = pd.concat(benchmark_boot)    \n",
    "    \n",
    "    challenger_all_labels_auc.append(challenger_auc_by_target)\n",
    "    benchmark_all_labels_auc.append(benchmark_auc_by_target)    \n",
    "    \n",
    "    sns.lineplot(data=benchmark_auc_by_target.reset_index(), x=\"date\", y=\"auc\", label=\"Random Forest\")\n",
    "    sns.lineplot(data=challenger_auc_by_target.reset_index(), x=\"date\", y=\"auc\", label=\"Time Robust Forest\", color=\"green\")\n",
    "    xmin, xmax, ymin, ymax = plt.axis()\n",
    "    plt.vlines(out_of_time_min_date, ymin, ymax, linestyle=\"dotted\", color=\"red\", label=\"Time split\")\n",
    "\n",
    "    plt.title(\"Test and Out of time AUC for label {}\".format(label_dict.get(i, i)))\n",
    "    plt.show()\n",
    "    "
   ]
  },
  {
   "cell_type": "code",
   "execution_count": 59,
   "metadata": {},
   "outputs": [],
   "source": [
    "benchmark_auc_by_target.reset_index(inplace=True)\n",
    "challenger_auc_by_target.reset_index(inplace=True)"
   ]
  },
  {
   "cell_type": "code",
   "execution_count": 60,
   "metadata": {
    "ExecuteTime": {
     "end_time": "2021-12-23T12:26:31.571624Z",
     "start_time": "2021-12-23T11:43:50.787Z"
    }
   },
   "outputs": [
    {
     "name": "stdout",
     "output_type": "stream",
     "text": [
      "0.9392698803808618\n",
      "0.8696011716274422\n"
     ]
    }
   ],
   "source": [
    "print(np.mean(bechmark_train_auc))\n",
    "print(np.mean(challenger_train_auc))"
   ]
  },
  {
   "cell_type": "code",
   "execution_count": 78,
   "metadata": {},
   "outputs": [
    {
     "name": "stdout",
     "output_type": "stream",
     "text": [
      "0.8678500260884628\n",
      "0.8284299983807513\n"
     ]
    }
   ],
   "source": [
    "print(benchmark_auc_by_target[~challenger_auc_by_target[\"date\"].isin([4, 5, 6])][\"auc\"].mean())\n",
    "print(challenger_auc_by_target[~challenger_auc_by_target[\"date\"].isin([4, 5, 6])][\"auc\"].mean())"
   ]
  },
  {
   "cell_type": "code",
   "execution_count": 79,
   "metadata": {},
   "outputs": [
    {
     "name": "stdout",
     "output_type": "stream",
     "text": [
      "0.7682607168319857\n",
      "0.7746665208501454\n"
     ]
    }
   ],
   "source": [
    "print(benchmark_auc_by_target[challenger_auc_by_target[\"date\"].isin([4, 5, 6])][\"auc\"].mean())\n",
    "print(challenger_auc_by_target[challenger_auc_by_target[\"date\"].isin([4, 5, 6])][\"auc\"].mean())"
   ]
  },
  {
   "cell_type": "markdown",
   "metadata": {},
   "source": [
    "### Plot benchmark Vs challenger:"
   ]
  },
  {
   "cell_type": "code",
   "execution_count": 61,
   "metadata": {
    "ExecuteTime": {
     "end_time": "2021-12-23T12:26:31.575983Z",
     "start_time": "2021-12-23T11:43:51.281Z"
    }
   },
   "outputs": [
    {
     "data": {
      "image/png": "[encoded data removed]",
      "text/plain": [
       "<Figure size 864x288 with 1 Axes>"
      ]
     },
     "metadata": {},
     "output_type": "display_data"
    }
   ],
   "source": [
    "challenger_auc_by_target = pd.concat(challenger_all_labels_auc)\n",
    "benchmark_auc_by_target = pd.concat(benchmark_all_labels_auc)  \n",
    "benchmark_auc_by_target.reset_index(inplace=True)\n",
    "challenger_auc_by_target.reset_index(inplace=True)\n",
    "    \n",
    "\n",
    "sns.lineplot(data=benchmark_auc_by_target, x=\"date\", y=\"auc\", label=\"Decision Tree\")\n",
    "sns.lineplot(data=challenger_auc_by_target, x=\"date\", y=\"auc\", label=\"Time Tree\", color=\"green\")\n",
    "xmin, xmax, ymin, ymax = plt.axis()\n",
    "plt.vlines(out_of_time_min_date, ymin, ymax, linestyle=\"dotted\", color=\"red\", label=\"Time split\")\n",
    "\n",
    "plt.title(\"Test and Out of time AUC for all labels\")\n",
    "plt.show()"
   ]
  },
  {
   "cell_type": "code",
   "execution_count": 62,
   "metadata": {
    "ExecuteTime": {
     "end_time": "2021-12-23T12:26:31.580519Z",
     "start_time": "2021-12-23T11:43:51.957Z"
    }
   },
   "outputs": [],
   "source": [
    "from matplotlib.collections import PolyCollection as p"
   ]
  },
  {
   "cell_type": "code",
   "execution_count": 69,
   "metadata": {
    "ExecuteTime": {
     "end_time": "2021-12-23T12:26:31.586236Z",
     "start_time": "2021-12-23T11:43:52.632Z"
    }
   },
   "outputs": [
    {
     "data": {
      "image/png": "[encoded data removed]",
      "text/plain": [
       "<Figure size 864x288 with 1 Axes>"
      ]
     },
     "metadata": {},
     "output_type": "display_data"
    }
   ],
   "source": [
    "fig, ax = plt.subplots()\n",
    "# challenger_auc_by_target = pd.concat(challenger_all_labels_auc)\n",
    "# benchmark_auc_by_target = pd.concat(benchmark_all_labels_auc)  \n",
    "    \n",
    "\n",
    "sns.lineplot(data=benchmark_auc_by_target, x=\"date\", y=\"auc\", label=\"Random Forest\")\n",
    "sns.lineplot(data=challenger_auc_by_target, x=\"date\", y=\"auc\", label=\"Time Robust Forest\", color=\"green\", linestyle=\"dashed\")\n",
    "xmin, xmax, ymin, ymax = plt.axis()\n",
    "plt.vlines(out_of_time_min_date, ymin, ymax, linestyle=\"dotted\", color=\"red\", label=\"Holdout start\")\n",
    "\n",
    "#plt.title(\"Test and Out of time AUC for all labels\")\n",
    "\n",
    "ax.xaxis.set_tick_params(labelsize=12)\n",
    "ax.yaxis.set_tick_params(labelsize=12)\n",
    "\n",
    "plt.ylim([ymin, ymax])\n",
    "plt.legend(fontsize=15, bbox_to_anchor=(1.0, 1.0))\n",
    "plt.ylabel(\"AUC\", fontsize=15)\n",
    "plt.xlabel(\"Time period\", fontsize=15)\n",
    "\n",
    "__file__ = \"../images/20news_same_capacity\"\n",
    "plt.savefig(__file__+\".jpg\", quality=95)\n",
    "for c in ax.findobj(p):\n",
    "    c.set_zorder(-1)\n",
    "    c.set_rasterized(True)\n",
    "ax.set_rasterization_zorder(0)\n",
    "\n",
    "plt.savefig(__file__+\".eps\")\n",
    "plt.savefig(\"../images/20news_aggregate.eps\", format=\"eps\", bbox_inches=\"tight\")\n",
    "plt.show()"
   ]
  },
  {
   "cell_type": "code",
   "execution_count": 70,
   "metadata": {
    "ExecuteTime": {
     "end_time": "2021-12-23T12:26:31.590368Z",
     "start_time": "2021-12-23T11:43:52.946Z"
    }
   },
   "outputs": [
    {
     "data": {
      "image/png": "[encoded data removed]",
      "text/plain": [
       "<Figure size 576x432 with 1 Axes>"
      ]
     },
     "metadata": {},
     "output_type": "display_data"
    }
   ],
   "source": [
    "fig, ax = plt.subplots(figsize=(8, 6))\n",
    "#benchmark_auc_by_target = pd.concat(benchmark_all_labels_auc)  \n",
    "\n",
    "sns.lineplot(data=benchmark_auc_by_target, x=\"date\", y=\"auc\", label=\"Random Forest\")\n",
    "sns.lineplot(data=challenger_auc_by_target, x=\"date\", y=\"auc\", label=\"Time Robust Forest\", color=\"green\", linestyle=\"dashed\")\n",
    "xmin, xmax, ymin, ymax = plt.axis()\n",
    "plt.vlines(out_of_time_min_date, ymin, ymax, linestyle=\"dotted\", color=\"red\", label=\"Holdout start\")\n",
    "\n",
    "#plt.title(\"Test and Out of time AUC for all labels\")\n",
    "\n",
    "ax.xaxis.set_tick_params(labelsize=15)\n",
    "ax.yaxis.set_tick_params(labelsize=15)\n",
    "\n",
    "plt.ylim([ymin, ymax])\n",
    "plt.legend(fontsize=13, bbox_to_anchor=(1.0, 1.0))\n",
    "plt.ylabel(\"AUC\", fontsize=16)\n",
    "plt.xlabel(\"Time period\", fontsize=16)\n",
    "\n",
    "__file__ = \"../images/20news_pycaret_aggregate_opt_square\"\n",
    "plt.savefig(__file__+\".jpg\", quality=95)\n",
    "for c in ax.findobj(p):\n",
    "    c.set_zorder(-1)\n",
    "    c.set_rasterized(True)\n",
    "ax.set_rasterization_zorder(0)\n",
    "\n",
    "plt.savefig(__file__+\".eps\")\n",
    "plt.savefig(\"../images/20news_pycaret_aggregate_opt_square.eps\", format=\"eps\")\n",
    "plt.show()"
   ]
  },
  {
   "cell_type": "code",
   "execution_count": 65,
   "metadata": {
    "ExecuteTime": {
     "end_time": "2021-12-23T12:26:31.594363Z",
     "start_time": "2021-12-23T11:43:53.577Z"
    }
   },
   "outputs": [],
   "source": [
    "# challenger_auc_by_target.to_csv(\"results/6_20newsgroups_example_challenger.csv\")\n",
    "# benchmark_auc_by_target.to_csv(\"results/6_20newsgroups_example_benchmark.csv\")\n",
    "# benchmark_auc_by_target_opt.to_csv(\"results/6_20newsgroups_example_benchmark_opt.csv\")"
   ]
  },
  {
   "cell_type": "markdown",
   "metadata": {},
   "source": [
    "Looking to the difference directly."
   ]
  },
  {
   "cell_type": "code",
   "execution_count": 66,
   "metadata": {
    "ExecuteTime": {
     "end_time": "2021-12-23T12:26:31.598252Z",
     "start_time": "2021-12-23T11:43:54.432Z"
    }
   },
   "outputs": [],
   "source": [
    "challenger_auc_by_target[\"diff\"] = challenger_auc_by_target[\"auc\"] - benchmark_auc_by_target[\"auc\"]"
   ]
  },
  {
   "cell_type": "code",
   "execution_count": 67,
   "metadata": {
    "ExecuteTime": {
     "end_time": "2021-12-23T12:26:31.602017Z",
     "start_time": "2021-12-23T11:43:54.972Z"
    }
   },
   "outputs": [
    {
     "data": {
      "text/html": [
       "<div>\n",
       "<style scoped>\n",
       "    .dataframe tbody tr th:only-of-type {\n",
       "        vertical-align: middle;\n",
       "    }\n",
       "\n",
       "    .dataframe tbody tr th {\n",
       "        vertical-align: top;\n",
       "    }\n",
       "\n",
       "    .dataframe thead th {\n",
       "        text-align: right;\n",
       "    }\n",
       "</style>\n",
       "<table border=\"1\" class=\"dataframe\">\n",
       "  <thead>\n",
       "    <tr style=\"text-align: right;\">\n",
       "      <th></th>\n",
       "      <th>level_0</th>\n",
       "      <th>date</th>\n",
       "      <th>auc</th>\n",
       "      <th>index</th>\n",
       "      <th>diff</th>\n",
       "    </tr>\n",
       "  </thead>\n",
       "  <tbody>\n",
       "    <tr>\n",
       "      <th>0</th>\n",
       "      <td>0</td>\n",
       "      <td>0</td>\n",
       "      <td>0.775102</td>\n",
       "      <td>NaN</td>\n",
       "      <td>-0.007210</td>\n",
       "    </tr>\n",
       "    <tr>\n",
       "      <th>1</th>\n",
       "      <td>1</td>\n",
       "      <td>1</td>\n",
       "      <td>0.777525</td>\n",
       "      <td>NaN</td>\n",
       "      <td>-0.037622</td>\n",
       "    </tr>\n",
       "    <tr>\n",
       "      <th>2</th>\n",
       "      <td>2</td>\n",
       "      <td>2</td>\n",
       "      <td>0.725285</td>\n",
       "      <td>NaN</td>\n",
       "      <td>-0.014754</td>\n",
       "    </tr>\n",
       "    <tr>\n",
       "      <th>3</th>\n",
       "      <td>3</td>\n",
       "      <td>3</td>\n",
       "      <td>0.795026</td>\n",
       "      <td>NaN</td>\n",
       "      <td>-0.015198</td>\n",
       "    </tr>\n",
       "    <tr>\n",
       "      <th>4</th>\n",
       "      <td>4</td>\n",
       "      <td>4</td>\n",
       "      <td>0.680101</td>\n",
       "      <td>NaN</td>\n",
       "      <td>0.015997</td>\n",
       "    </tr>\n",
       "    <tr>\n",
       "      <th>...</th>\n",
       "      <td>...</td>\n",
       "      <td>...</td>\n",
       "      <td>...</td>\n",
       "      <td>...</td>\n",
       "      <td>...</td>\n",
       "    </tr>\n",
       "    <tr>\n",
       "      <th>485</th>\n",
       "      <td>30</td>\n",
       "      <td>2</td>\n",
       "      <td>0.832929</td>\n",
       "      <td>2.0</td>\n",
       "      <td>-0.051942</td>\n",
       "    </tr>\n",
       "    <tr>\n",
       "      <th>486</th>\n",
       "      <td>31</td>\n",
       "      <td>3</td>\n",
       "      <td>0.804838</td>\n",
       "      <td>3.0</td>\n",
       "      <td>-0.076751</td>\n",
       "    </tr>\n",
       "    <tr>\n",
       "      <th>487</th>\n",
       "      <td>32</td>\n",
       "      <td>4</td>\n",
       "      <td>0.787729</td>\n",
       "      <td>4.0</td>\n",
       "      <td>0.038192</td>\n",
       "    </tr>\n",
       "    <tr>\n",
       "      <th>488</th>\n",
       "      <td>33</td>\n",
       "      <td>5</td>\n",
       "      <td>0.832594</td>\n",
       "      <td>5.0</td>\n",
       "      <td>0.002337</td>\n",
       "    </tr>\n",
       "    <tr>\n",
       "      <th>489</th>\n",
       "      <td>34</td>\n",
       "      <td>6</td>\n",
       "      <td>0.848053</td>\n",
       "      <td>6.0</td>\n",
       "      <td>0.018871</td>\n",
       "    </tr>\n",
       "  </tbody>\n",
       "</table>\n",
       "<p>490 rows × 5 columns</p>\n",
       "</div>"
      ],
      "text/plain": [
       "     level_0  date       auc  index      diff\n",
       "0          0     0  0.775102    NaN -0.007210\n",
       "1          1     1  0.777525    NaN -0.037622\n",
       "2          2     2  0.725285    NaN -0.014754\n",
       "3          3     3  0.795026    NaN -0.015198\n",
       "4          4     4  0.680101    NaN  0.015997\n",
       "..       ...   ...       ...    ...       ...\n",
       "485       30     2  0.832929    2.0 -0.051942\n",
       "486       31     3  0.804838    3.0 -0.076751\n",
       "487       32     4  0.787729    4.0  0.038192\n",
       "488       33     5  0.832594    5.0  0.002337\n",
       "489       34     6  0.848053    6.0  0.018871\n",
       "\n",
       "[490 rows x 5 columns]"
      ]
     },
     "execution_count": 67,
     "metadata": {},
     "output_type": "execute_result"
    }
   ],
   "source": [
    "challenger_auc_by_target"
   ]
  },
  {
   "cell_type": "code",
   "execution_count": 68,
   "metadata": {
    "ExecuteTime": {
     "end_time": "2021-12-23T12:26:31.605731Z",
     "start_time": "2021-12-23T11:43:55.625Z"
    }
   },
   "outputs": [
    {
     "data": {
      "text/plain": [
       "<matplotlib.legend.Legend at 0x7f592e91bba8>"
      ]
     },
     "execution_count": 68,
     "metadata": {},
     "output_type": "execute_result"
    },
    {
     "data": {
      "image/png": "[encoded data removed]",
      "text/plain": [
       "<Figure size 864x288 with 1 Axes>"
      ]
     },
     "metadata": {},
     "output_type": "display_data"
    }
   ],
   "source": [
    "sns.lineplot(data=challenger_auc_by_target, x=\"date\", y=\"diff\", label=\"Diff\")\n",
    "xmin, xmax, ymin, ymax = plt.axis()\n",
    "plt.vlines(out_of_time_min_date, ymin, ymax, linestyle=\"dotted\", color=\"red\", label=\"Holdout start\")\n",
    "plt.hlines(0, xmin, xmax, linestyle=\"dotted\", color=\"green\", label=\"Challenger winning\")\n",
    "plt.legend()"
   ]
  },
  {
   "cell_type": "markdown",
   "metadata": {},
   "source": [
    "### Domain Classifier"
   ]
  },
  {
   "cell_type": "code",
   "execution_count": 42,
   "metadata": {
    "ExecuteTime": {
     "end_time": "2022-03-24T12:19:50.314777Z",
     "start_time": "2022-03-24T12:19:50.309381Z"
    }
   },
   "outputs": [],
   "source": [
    "train_vectors[\"target\"] = train[\"target\"].values\n",
    "test_vectors[\"target\"] = test[\"target\"].values\n",
    "oot_vectors[\"target\"] = out_of_time[\"target\"].values"
   ]
  },
  {
   "cell_type": "code",
   "execution_count": 44,
   "metadata": {
    "ExecuteTime": {
     "end_time": "2022-03-24T12:19:57.269104Z",
     "start_time": "2022-03-24T12:19:57.265161Z"
    }
   },
   "outputs": [],
   "source": [
    "train_vectors[\"domain\"] = 1\n",
    "test_vectors[\"domain\"] = 1\n",
    "oot_vectors[\"domain\"] = 0"
   ]
  },
  {
   "cell_type": "code",
   "execution_count": 45,
   "metadata": {
    "ExecuteTime": {
     "end_time": "2022-03-24T12:19:57.738037Z",
     "start_time": "2022-03-24T12:19:57.711641Z"
    }
   },
   "outputs": [],
   "source": [
    "domain_data = pd.concat([train_vectors, test_vectors, oot_vectors])"
   ]
  },
  {
   "cell_type": "code",
   "execution_count": 46,
   "metadata": {
    "ExecuteTime": {
     "end_time": "2022-03-24T12:19:59.018780Z",
     "start_time": "2022-03-24T12:19:59.016371Z"
    }
   },
   "outputs": [],
   "source": [
    "from pycaret.classification import *"
   ]
  },
  {
   "cell_type": "code",
   "execution_count": 51,
   "metadata": {
    "ExecuteTime": {
     "end_time": "2022-03-24T12:43:56.001812Z",
     "start_time": "2022-03-24T12:28:51.056504Z"
    },
    "scrolled": true
   },
   "outputs": [
    {
     "data": {
      "text/html": [
       "<style  type=\"text/css\" >\n",
       "#T_1031df1e_ab70_11ec_9a90_acde48001122row5_col0,#T_1031df1e_ab70_11ec_9a90_acde48001122row5_col1,#T_1031df1e_ab70_11ec_9a90_acde48001122row5_col2,#T_1031df1e_ab70_11ec_9a90_acde48001122row5_col3,#T_1031df1e_ab70_11ec_9a90_acde48001122row5_col4,#T_1031df1e_ab70_11ec_9a90_acde48001122row5_col5,#T_1031df1e_ab70_11ec_9a90_acde48001122row5_col6{\n",
       "            background:  yellow;\n",
       "        }</style><table id=\"T_1031df1e_ab70_11ec_9a90_acde48001122\" ><thead>    <tr>        <th class=\"blank level0\" ></th>        <th class=\"col_heading level0 col0\" >Accuracy</th>        <th class=\"col_heading level0 col1\" >AUC</th>        <th class=\"col_heading level0 col2\" >Recall</th>        <th class=\"col_heading level0 col3\" >Prec.</th>        <th class=\"col_heading level0 col4\" >F1</th>        <th class=\"col_heading level0 col5\" >Kappa</th>        <th class=\"col_heading level0 col6\" >MCC</th>    </tr></thead><tbody>\n",
       "                <tr>\n",
       "                        <th id=\"T_1031df1e_ab70_11ec_9a90_acde48001122level0_row0\" class=\"row_heading level0 row0\" >0</th>\n",
       "                        <td id=\"T_1031df1e_ab70_11ec_9a90_acde48001122row0_col0\" class=\"data row0 col0\" >0.5225</td>\n",
       "                        <td id=\"T_1031df1e_ab70_11ec_9a90_acde48001122row0_col1\" class=\"data row0 col1\" >0.5758</td>\n",
       "                        <td id=\"T_1031df1e_ab70_11ec_9a90_acde48001122row0_col2\" class=\"data row0 col2\" >0.5303</td>\n",
       "                        <td id=\"T_1031df1e_ab70_11ec_9a90_acde48001122row0_col3\" class=\"data row0 col3\" >0.6140</td>\n",
       "                        <td id=\"T_1031df1e_ab70_11ec_9a90_acde48001122row0_col4\" class=\"data row0 col4\" >0.5691</td>\n",
       "                        <td id=\"T_1031df1e_ab70_11ec_9a90_acde48001122row0_col5\" class=\"data row0 col5\" >0.0401</td>\n",
       "                        <td id=\"T_1031df1e_ab70_11ec_9a90_acde48001122row0_col6\" class=\"data row0 col6\" >0.0407</td>\n",
       "            </tr>\n",
       "            <tr>\n",
       "                        <th id=\"T_1031df1e_ab70_11ec_9a90_acde48001122level0_row1\" class=\"row_heading level0 row1\" >1</th>\n",
       "                        <td id=\"T_1031df1e_ab70_11ec_9a90_acde48001122row1_col0\" class=\"data row1 col0\" >0.5495</td>\n",
       "                        <td id=\"T_1031df1e_ab70_11ec_9a90_acde48001122row1_col1\" class=\"data row1 col1\" >0.5513</td>\n",
       "                        <td id=\"T_1031df1e_ab70_11ec_9a90_acde48001122row1_col2\" class=\"data row1 col2\" >0.6818</td>\n",
       "                        <td id=\"T_1031df1e_ab70_11ec_9a90_acde48001122row1_col3\" class=\"data row1 col3\" >0.6081</td>\n",
       "                        <td id=\"T_1031df1e_ab70_11ec_9a90_acde48001122row1_col4\" class=\"data row1 col4\" >0.6429</td>\n",
       "                        <td id=\"T_1031df1e_ab70_11ec_9a90_acde48001122row1_col5\" class=\"data row1 col5\" >0.0385</td>\n",
       "                        <td id=\"T_1031df1e_ab70_11ec_9a90_acde48001122row1_col6\" class=\"data row1 col6\" >0.0389</td>\n",
       "            </tr>\n",
       "            <tr>\n",
       "                        <th id=\"T_1031df1e_ab70_11ec_9a90_acde48001122level0_row2\" class=\"row_heading level0 row2\" >2</th>\n",
       "                        <td id=\"T_1031df1e_ab70_11ec_9a90_acde48001122row2_col0\" class=\"data row2 col0\" >0.5225</td>\n",
       "                        <td id=\"T_1031df1e_ab70_11ec_9a90_acde48001122row2_col1\" class=\"data row2 col1\" >0.5268</td>\n",
       "                        <td id=\"T_1031df1e_ab70_11ec_9a90_acde48001122row2_col2\" class=\"data row2 col2\" >0.6462</td>\n",
       "                        <td id=\"T_1031df1e_ab70_11ec_9a90_acde48001122row2_col3\" class=\"data row2 col3\" >0.5833</td>\n",
       "                        <td id=\"T_1031df1e_ab70_11ec_9a90_acde48001122row2_col4\" class=\"data row2 col4\" >0.6131</td>\n",
       "                        <td id=\"T_1031df1e_ab70_11ec_9a90_acde48001122row2_col5\" class=\"data row2 col5\" >-0.0062</td>\n",
       "                        <td id=\"T_1031df1e_ab70_11ec_9a90_acde48001122row2_col6\" class=\"data row2 col6\" >-0.0062</td>\n",
       "            </tr>\n",
       "            <tr>\n",
       "                        <th id=\"T_1031df1e_ab70_11ec_9a90_acde48001122level0_row3\" class=\"row_heading level0 row3\" >3</th>\n",
       "                        <td id=\"T_1031df1e_ab70_11ec_9a90_acde48001122row3_col0\" class=\"data row3 col0\" >0.5045</td>\n",
       "                        <td id=\"T_1031df1e_ab70_11ec_9a90_acde48001122row3_col1\" class=\"data row3 col1\" >0.4622</td>\n",
       "                        <td id=\"T_1031df1e_ab70_11ec_9a90_acde48001122row3_col2\" class=\"data row3 col2\" >0.6769</td>\n",
       "                        <td id=\"T_1031df1e_ab70_11ec_9a90_acde48001122row3_col3\" class=\"data row3 col3\" >0.5641</td>\n",
       "                        <td id=\"T_1031df1e_ab70_11ec_9a90_acde48001122row3_col4\" class=\"data row3 col4\" >0.6154</td>\n",
       "                        <td id=\"T_1031df1e_ab70_11ec_9a90_acde48001122row3_col5\" class=\"data row3 col5\" >-0.0649</td>\n",
       "                        <td id=\"T_1031df1e_ab70_11ec_9a90_acde48001122row3_col6\" class=\"data row3 col6\" >-0.0670</td>\n",
       "            </tr>\n",
       "            <tr>\n",
       "                        <th id=\"T_1031df1e_ab70_11ec_9a90_acde48001122level0_row4\" class=\"row_heading level0 row4\" >4</th>\n",
       "                        <td id=\"T_1031df1e_ab70_11ec_9a90_acde48001122row4_col0\" class=\"data row4 col0\" >0.6182</td>\n",
       "                        <td id=\"T_1031df1e_ab70_11ec_9a90_acde48001122row4_col1\" class=\"data row4 col1\" >0.6294</td>\n",
       "                        <td id=\"T_1031df1e_ab70_11ec_9a90_acde48001122row4_col2\" class=\"data row4 col2\" >0.7692</td>\n",
       "                        <td id=\"T_1031df1e_ab70_11ec_9a90_acde48001122row4_col3\" class=\"data row4 col3\" >0.6494</td>\n",
       "                        <td id=\"T_1031df1e_ab70_11ec_9a90_acde48001122row4_col4\" class=\"data row4 col4\" >0.7042</td>\n",
       "                        <td id=\"T_1031df1e_ab70_11ec_9a90_acde48001122row4_col5\" class=\"data row4 col5\" >0.1765</td>\n",
       "                        <td id=\"T_1031df1e_ab70_11ec_9a90_acde48001122row4_col6\" class=\"data row4 col6\" >0.1816</td>\n",
       "            </tr>\n",
       "            <tr>\n",
       "                        <th id=\"T_1031df1e_ab70_11ec_9a90_acde48001122level0_row5\" class=\"row_heading level0 row5\" >Mean</th>\n",
       "                        <td id=\"T_1031df1e_ab70_11ec_9a90_acde48001122row5_col0\" class=\"data row5 col0\" >0.5435</td>\n",
       "                        <td id=\"T_1031df1e_ab70_11ec_9a90_acde48001122row5_col1\" class=\"data row5 col1\" >0.5491</td>\n",
       "                        <td id=\"T_1031df1e_ab70_11ec_9a90_acde48001122row5_col2\" class=\"data row5 col2\" >0.6609</td>\n",
       "                        <td id=\"T_1031df1e_ab70_11ec_9a90_acde48001122row5_col3\" class=\"data row5 col3\" >0.6038</td>\n",
       "                        <td id=\"T_1031df1e_ab70_11ec_9a90_acde48001122row5_col4\" class=\"data row5 col4\" >0.6289</td>\n",
       "                        <td id=\"T_1031df1e_ab70_11ec_9a90_acde48001122row5_col5\" class=\"data row5 col5\" >0.0368</td>\n",
       "                        <td id=\"T_1031df1e_ab70_11ec_9a90_acde48001122row5_col6\" class=\"data row5 col6\" >0.0376</td>\n",
       "            </tr>\n",
       "            <tr>\n",
       "                        <th id=\"T_1031df1e_ab70_11ec_9a90_acde48001122level0_row6\" class=\"row_heading level0 row6\" >SD</th>\n",
       "                        <td id=\"T_1031df1e_ab70_11ec_9a90_acde48001122row6_col0\" class=\"data row6 col0\" >0.0400</td>\n",
       "                        <td id=\"T_1031df1e_ab70_11ec_9a90_acde48001122row6_col1\" class=\"data row6 col1\" >0.0552</td>\n",
       "                        <td id=\"T_1031df1e_ab70_11ec_9a90_acde48001122row6_col2\" class=\"data row6 col2\" >0.0771</td>\n",
       "                        <td id=\"T_1031df1e_ab70_11ec_9a90_acde48001122row6_col3\" class=\"data row6 col3\" >0.0290</td>\n",
       "                        <td id=\"T_1031df1e_ab70_11ec_9a90_acde48001122row6_col4\" class=\"data row6 col4\" >0.0444</td>\n",
       "                        <td id=\"T_1031df1e_ab70_11ec_9a90_acde48001122row6_col5\" class=\"data row6 col5\" >0.0796</td>\n",
       "                        <td id=\"T_1031df1e_ab70_11ec_9a90_acde48001122row6_col6\" class=\"data row6 col6\" >0.0820</td>\n",
       "            </tr>\n",
       "    </tbody></table>"
      ],
      "text/plain": [
       "<pandas.io.formats.style.Styler at 0x7f8f13b54908>"
      ]
     },
     "metadata": {},
     "output_type": "display_data"
    },
    {
     "name": "stdout",
     "output_type": "stream",
     "text": [
      "0.6416587527698638\n"
     ]
    }
   ],
   "source": [
    "domain_classifiers_auc = []\n",
    "for i, target_label in enumerate(domain_data[\"target\"].unique()[:]):\n",
    "    print(\"*****************************\")\n",
    "\n",
    "    train_domain, test_domain = train_test_split(domain_data[domain_data[\"target\"] == target_label], \n",
    "                                   test_size=0.2,\n",
    "                                   random_state=42)\n",
    "    \n",
    "    clf2 = setup(train_domain[features + [\"domain\"]], target=\"domain\",\n",
    "             session_id=122, \n",
    "             log_experiment=False, \n",
    "             experiment_name=\"{}_domain_{}\".format(PREFIX, target_label),\n",
    "             silent=True)\n",
    "\n",
    "    rf = create_model('rf')\n",
    "    tuned_domain_rf = tune_model(rf,\n",
    "                                 optimize=\"AUC\",\n",
    "                                 fold=5,\n",
    "                                 n_iter=50)\n",
    "    \n",
    "    domain_model = tuned_domain_rf\n",
    "    domain_model.fit(train_domain[features], train_domain[\"domain\"])\n",
    "    test_domain[\"pred_domain\"] = domain_model.predict_proba(test_domain[features])[:, 1]\n",
    "    domain_auc = roc_auc_score(test_domain[\"domain\"], test_domain[\"pred_domain\"])\n",
    "    print(domain_auc)\n",
    "    domain_classifiers_auc.append(domain_auc)\n",
    "    "
   ]
  },
  {
   "cell_type": "code",
   "execution_count": 52,
   "metadata": {
    "ExecuteTime": {
     "end_time": "2022-03-24T12:43:56.023893Z",
     "start_time": "2022-03-24T12:43:56.011626Z"
    }
   },
   "outputs": [
    {
     "data": {
      "text/plain": [
       "0.6320037548651734"
      ]
     },
     "execution_count": 52,
     "metadata": {},
     "output_type": "execute_result"
    }
   ],
   "source": [
    "np.mean(domain_classifiers_auc)"
   ]
  },
  {
   "cell_type": "code",
   "execution_count": 53,
   "metadata": {
    "ExecuteTime": {
     "end_time": "2022-03-24T12:43:56.047745Z",
     "start_time": "2022-03-24T12:43:56.032931Z"
    }
   },
   "outputs": [
    {
     "data": {
      "text/plain": [
       "0.6306870414227472"
      ]
     },
     "execution_count": 53,
     "metadata": {},
     "output_type": "execute_result"
    }
   ],
   "source": [
    "np.median(domain_classifiers_auc)"
   ]
  },
  {
   "cell_type": "code",
   "execution_count": null,
   "metadata": {},
   "outputs": [],
   "source": []
  }
 ],
 "metadata": {
  "hide_input": false,
  "kernelspec": {
   "display_name": "Python 3",
   "language": "python",
   "name": "python3"
  },
  "language_info": {
   "codemirror_mode": {
    "name": "ipython",
    "version": 3
   },
   "file_extension": ".py",
   "mimetype": "text/x-python",
   "name": "python",
   "nbconvert_exporter": "python",
   "pygments_lexer": "ipython3",
   "version": "3.6.3"
  },
  "toc": {
   "base_numbering": 1,
   "nav_menu": {},
   "number_sections": true,
   "sideBar": true,
   "skip_h1_title": true,
   "title_cell": "Index",
   "title_sidebar": "Contents",
   "toc_cell": true,
   "toc_position": {},
   "toc_section_display": true,
   "toc_window_display": false
  }
 },
 "nbformat": 4,
 "nbformat_minor": 4
}
