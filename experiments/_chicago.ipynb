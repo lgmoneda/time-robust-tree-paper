{
 "cells": [
  {
   "cell_type": "markdown",
   "metadata": {},
   "source": [
    "# Example - Chicago"
   ]
  },
  {
   "cell_type": "markdown",
   "metadata": {
    "toc": true
   },
   "source": [
    "<h1>Index<span class=\"tocSkip\"></span></h1>\n",
    "<div class=\"toc\"><ul class=\"toc-item\"><li><span><a href=\"#Modeling\" data-toc-modified-id=\"Modeling-1\"><span class=\"toc-item-num\">1&nbsp;&nbsp;</span>Modeling</a></span><ul class=\"toc-item\"><li><span><a href=\"#Data\" data-toc-modified-id=\"Data-1.1\"><span class=\"toc-item-num\">1.1&nbsp;&nbsp;</span>Data</a></span></li></ul></li><li><span><a href=\"#Checking-the-support-in-the-different-environments\" data-toc-modified-id=\"Checking-the-support-in-the-different-environments-2\"><span class=\"toc-item-num\">2&nbsp;&nbsp;</span>Checking the support in the different environments</a></span><ul class=\"toc-item\"><li><span><a href=\"#Benchmark\" data-toc-modified-id=\"Benchmark-2.1\"><span class=\"toc-item-num\">2.1&nbsp;&nbsp;</span>Benchmark</a></span></li></ul></li><li><span><a href=\"#Challenger-model\" data-toc-modified-id=\"Challenger-model-3\"><span class=\"toc-item-num\">3&nbsp;&nbsp;</span>Challenger model</a></span></li><li><span><a href=\"#Feature-Importance-migration\" data-toc-modified-id=\"Feature-Importance-migration-4\"><span class=\"toc-item-num\">4&nbsp;&nbsp;</span>Feature Importance migration</a></span></li><li><span><a href=\"#Reverse-Learning-Curve\" data-toc-modified-id=\"Reverse-Learning-Curve-5\"><span class=\"toc-item-num\">5&nbsp;&nbsp;</span>Reverse Learning Curve</a></span></li><li><span><a href=\"#Performance-comparison\" data-toc-modified-id=\"Performance-comparison-6\"><span class=\"toc-item-num\">6&nbsp;&nbsp;</span>Performance comparison</a></span></li><li><span><a href=\"#TRF-as-feature-selection\" data-toc-modified-id=\"TRF-as-feature-selection-7\"><span class=\"toc-item-num\">7&nbsp;&nbsp;</span>TRF as feature selection</a></span></li><li><span><a href=\"#Feature-Impact\" data-toc-modified-id=\"Feature-Impact-8\"><span class=\"toc-item-num\">8&nbsp;&nbsp;</span>Feature Impact</a></span></li><li><span><a href=\"#Minimum-samples-by-period-effect\" data-toc-modified-id=\"Minimum-samples-by-period-effect-9\"><span class=\"toc-item-num\">9&nbsp;&nbsp;</span>Minimum samples by period effect</a></span></li><li><span><a href=\"#Domain-classifier\" data-toc-modified-id=\"Domain-classifier-10\"><span class=\"toc-item-num\">10&nbsp;&nbsp;</span>Domain classifier</a></span></li><li><span><a href=\"#Other-optimization-design-for-the-RF\" data-toc-modified-id=\"Other-optimization-design-for-the-RF-11\"><span class=\"toc-item-num\">11&nbsp;&nbsp;</span>Other optimization design for the RF</a></span></li></ul></div>"
   ]
  },
  {
   "cell_type": "code",
   "execution_count": 1,
   "metadata": {
    "ExecuteTime": {
     "end_time": "2021-11-28T22:54:17.361684Z",
     "start_time": "2021-11-28T22:54:17.357191Z"
    }
   },
   "outputs": [],
   "source": [
    "import pandas as pd\n",
    "import matplotlib.pyplot as plt\n",
    "import numpy as np\n",
    "import seaborn as sns\n",
    "\n",
    "from sklearn.preprocessing import LabelEncoder\n",
    "from sklearn.tree import DecisionTreeClassifier\n",
    "from sklearn.ensemble import RandomForestClassifier\n",
    "from sklearn.model_selection import train_test_split\n",
    "from sklearn.metrics import roc_auc_score\n",
    "from sklearn import metrics\n",
    "from time_robust_forest.models import TimeForestClassifier\n",
    "from time_robust_forest.functions import check_categoricals_match, check_numerical_match\n",
    "from time_robust_forest.hyper_opt import env_wise_hyper_opt\n",
    "from aux_functions import *\n",
    "\n",
    "np.random.seed(42)"
   ]
  },
  {
   "cell_type": "code",
   "execution_count": 2,
   "metadata": {
    "ExecuteTime": {
     "end_time": "2021-11-28T22:54:17.695485Z",
     "start_time": "2021-11-28T22:54:17.692667Z"
    }
   },
   "outputs": [],
   "source": [
    "def set_style():\n",
    "    plt.style.use(['seaborn-white', 'seaborn-paper'])\n",
    "    plt.rcParams['figure.figsize'] = (12, 4)"
   ]
  },
  {
   "cell_type": "code",
   "execution_count": 3,
   "metadata": {
    "ExecuteTime": {
     "end_time": "2021-11-28T22:54:17.929207Z",
     "start_time": "2021-11-28T22:54:17.926779Z"
    }
   },
   "outputs": [],
   "source": [
    "set_style()"
   ]
  },
  {
   "cell_type": "code",
   "execution_count": 4,
   "metadata": {
    "ExecuteTime": {
     "end_time": "2021-11-28T22:54:18.114802Z",
     "start_time": "2021-11-28T22:54:18.112444Z"
    }
   },
   "outputs": [],
   "source": [
    "DATASETS_PATH = \"~/Documents/datasets/chicago_crime/\"\n",
    "PREFIX = \"chicago_crime\""
   ]
  },
  {
   "cell_type": "code",
   "execution_count": 5,
   "metadata": {
    "ExecuteTime": {
     "end_time": "2021-11-28T22:54:23.163893Z",
     "start_time": "2021-11-28T22:54:18.292090Z"
    }
   },
   "outputs": [
    {
     "name": "stderr",
     "output_type": "stream",
     "text": [
      "b'Skipping line 1149094: expected 23 fields, saw 41\\n'\n",
      "b'Skipping line 533719: expected 23 fields, saw 24\\n'\n",
      "b'Skipping line 1513591: expected 23 fields, saw 24\\n'\n",
      "/home/jovyan/.conda/envs/msc-2/lib/python3.6/site-packages/IPython/core/interactiveshell.py:3263: DtypeWarning: Columns (17,20) have mixed types.Specify dtype option on import or set low_memory=False.\n",
      "  if (await self.run_code(code, result,  async_=asy)):\n"
     ]
    }
   ],
   "source": [
    "data_files = [\"Chicago_Crimes_2012_to_2017.csv.zip\",\n",
    "              \"Chicago_Crimes_2008_to_2011.csv.zip\",\n",
    "              \"Chicago_Crimes_2005_to_2007.csv.zip\",\n",
    "              \"Chicago_Crimes_2001_to_2004.csv.zip\"]\n",
    "\n",
    "data = [pd.read_csv(DATASETS_PATH + data_file, error_bad_lines=False) for data_file in data_files]\n",
    "data = pd.concat(data)\n",
    "data.reset_index(drop=True)\n",
    "data = data.sample(frac=0.05)\n",
    "\n",
    "data[\"Zone\"] = data[\"Block\"].apply(lambda x: x.split(\" \")[1])\n",
    "data[\"Address\"] = data[\"Block\"].apply(lambda x: \" \".join(x.split(\" \")[2:]))\n"
   ]
  },
  {
   "cell_type": "code",
   "execution_count": 6,
   "metadata": {},
   "outputs": [],
   "source": [
    "data = data.sample(frac=0.5)"
   ]
  },
  {
   "cell_type": "code",
   "execution_count": 7,
   "metadata": {},
   "outputs": [
    {
     "data": {
      "text/plain": [
       "(198532, 25)"
      ]
     },
     "execution_count": 7,
     "metadata": {},
     "output_type": "execute_result"
    }
   ],
   "source": [
    "data.shape"
   ]
  },
  {
   "cell_type": "code",
   "execution_count": 8,
   "metadata": {
    "ExecuteTime": {
     "end_time": "2021-11-28T22:54:24.434291Z",
     "start_time": "2021-11-28T22:54:24.350484Z"
    }
   },
   "outputs": [
    {
     "data": {
      "text/plain": [
       "Unnamed: 0              197400\n",
       "ID                      197400\n",
       "Case Number             197400\n",
       "Date                    174786\n",
       "Block                    33725\n",
       "IUCR                       341\n",
       "Primary Type                31\n",
       "Description                321\n",
       "Location Description       126\n",
       "Arrest                       2\n",
       "Domestic                     2\n",
       "Beat                       302\n",
       "District                    23\n",
       "Ward                        50\n",
       "Community Area              78\n",
       "FBI Code                    26\n",
       "X Coordinate             50980\n",
       "Y Coordinate             71447\n",
       "Year                        17\n",
       "Updated On                 824\n",
       "Latitude                124267\n",
       "Longitude               124081\n",
       "Location                124116\n",
       "Zone                         5\n",
       "Address                   2234\n",
       "dtype: int64"
      ]
     },
     "execution_count": 8,
     "metadata": {},
     "output_type": "execute_result"
    }
   ],
   "source": [
    "data.nunique()"
   ]
  },
  {
   "cell_type": "code",
   "execution_count": 9,
   "metadata": {
    "ExecuteTime": {
     "end_time": "2021-11-28T22:54:24.440895Z",
     "start_time": "2021-11-28T22:54:24.436119Z"
    }
   },
   "outputs": [
    {
     "data": {
      "text/plain": [
       "Unnamed: 0                int64\n",
       "ID                        int64\n",
       "Case Number              object\n",
       "Date                     object\n",
       "Block                    object\n",
       "IUCR                     object\n",
       "Primary Type             object\n",
       "Description              object\n",
       "Location Description     object\n",
       "Arrest                     bool\n",
       "Domestic                   bool\n",
       "Beat                      int64\n",
       "District                float64\n",
       "Ward                    float64\n",
       "Community Area          float64\n",
       "FBI Code                 object\n",
       "X Coordinate            float64\n",
       "Y Coordinate             object\n",
       "Year                    float64\n",
       "Updated On               object\n",
       "Latitude                 object\n",
       "Longitude               float64\n",
       "Location                 object\n",
       "Zone                     object\n",
       "Address                  object\n",
       "dtype: object"
      ]
     },
     "execution_count": 9,
     "metadata": {},
     "output_type": "execute_result"
    }
   ],
   "source": [
    "data.dtypes"
   ]
  },
  {
   "cell_type": "markdown",
   "metadata": {},
   "source": [
    "## Modeling"
   ]
  },
  {
   "cell_type": "markdown",
   "metadata": {},
   "source": [
    "### Data"
   ]
  },
  {
   "cell_type": "code",
   "execution_count": 10,
   "metadata": {
    "ExecuteTime": {
     "end_time": "2021-11-28T22:54:24.460450Z",
     "start_time": "2021-11-28T22:54:24.458485Z"
    }
   },
   "outputs": [],
   "source": [
    "TIME_COLUMN = \"Year\"\n",
    "TARGET = \"Arrest\""
   ]
  },
  {
   "cell_type": "code",
   "execution_count": 11,
   "metadata": {
    "ExecuteTime": {
     "end_time": "2021-11-28T22:54:25.652875Z",
     "start_time": "2021-11-28T22:54:25.650474Z"
    }
   },
   "outputs": [],
   "source": [
    "columns_to_label_encode = [\"Primary Type\", \n",
    "                           \"Description\",\n",
    "                           \"Location Description\",\n",
    "                           \"FBI Code\",\n",
    "                           \"Zone\",\n",
    "                           \"Address\",\n",
    "                           \"Domestic\",\n",
    "                           TARGET]"
   ]
  },
  {
   "cell_type": "code",
   "execution_count": 12,
   "metadata": {
    "ExecuteTime": {
     "end_time": "2021-11-28T22:54:25.770310Z",
     "start_time": "2021-11-28T22:54:25.654668Z"
    }
   },
   "outputs": [
    {
     "name": "stdout",
     "output_type": "stream",
     "text": [
      "Primary Type\n",
      "Description\n"
     ]
    },
    {
     "name": "stderr",
     "output_type": "stream",
     "text": [
      "/home/jovyan/.conda/envs/msc-2/lib/python3.6/site-packages/sklearn/utils/validation.py:72: DataConversionWarning: A column-vector y was passed when a 1d array was expected. Please change the shape of y to (n_samples, ), for example using ravel().\n",
      "  return f(**kwargs)\n"
     ]
    },
    {
     "name": "stdout",
     "output_type": "stream",
     "text": [
      "Location Description\n",
      "FBI Code\n",
      "Zone\n",
      "Address\n",
      "Domestic\n",
      "Arrest\n"
     ]
    }
   ],
   "source": [
    "encoder_mappings = {}\n",
    "le = LabelEncoder()\n",
    "for column in columns_to_label_encode:\n",
    "    print(column)\n",
    "    data[column].fillna(\"None\", inplace=True)\n",
    "    data[column] = le.fit_transform(data[[column]])\n",
    "    encoder_mappings[column] = {i: le.__dict__[\"classes_\"][i] for i in range(len(le.__dict__[\"classes_\"]))}"
   ]
  },
  {
   "cell_type": "code",
   "execution_count": 13,
   "metadata": {},
   "outputs": [],
   "source": [
    "features = [\"Primary Type\", \n",
    "            \"Description\",\n",
    "            \"Location Description\",\n",
    "            \"FBI Code\",\n",
    "            \"Zone\",\n",
    "            \"Address\",\n",
    "            \"Latitude\",\n",
    "            \"Longitude\",\n",
    "            \"Beat\",\n",
    "            \"District\",\n",
    "            \"Ward\",\n",
    "            \"Community Area\",\n",
    "            \"Domestic\"]"
   ]
  },
  {
   "cell_type": "code",
   "execution_count": 14,
   "metadata": {},
   "outputs": [],
   "source": [
    "numerical_features = [f for f in features if f not in columns_to_label_encode]"
   ]
  },
  {
   "cell_type": "code",
   "execution_count": 15,
   "metadata": {
    "ExecuteTime": {
     "end_time": "2021-11-28T22:54:25.793487Z",
     "start_time": "2021-11-28T22:54:25.787728Z"
    }
   },
   "outputs": [
    {
     "data": {
      "text/plain": [
       "2008.0    21306\n",
       "2006.0    19762\n",
       "2009.0    19622\n",
       "2010.0    17588\n",
       "2007.0    15526\n",
       "2001.0    14297\n",
       "2002.0    12385\n",
       "2003.0    11962\n",
       "2005.0    11362\n",
       "2004.0     9677\n",
       "2011.0     8766\n",
       "2012.0     8332\n",
       "2013.0     7793\n",
       "2014.0     6765\n",
       "2015.0     6550\n",
       "2016.0     6541\n",
       "2017.0      298\n",
       "Name: Year, dtype: int64"
      ]
     },
     "execution_count": 15,
     "metadata": {},
     "output_type": "execute_result"
    }
   ],
   "source": [
    "data[\"Year\"].value_counts()"
   ]
  },
  {
   "cell_type": "code",
   "execution_count": 16,
   "metadata": {},
   "outputs": [],
   "source": [
    "data[\"year-month\"] = pd.to_datetime(data[\"Date\"]).apply(lambda x: str(x.year) + \"-\" + str(x.month).zfill(2))\n",
    "data[\"Year\"] = data[\"Year\"].astype(int)\n",
    "\n",
    "\n",
    "data[\"Latitude\"] = data[\"Latitude\"].fillna(-1).astype(float)\n",
    "\n"
   ]
  },
  {
   "cell_type": "code",
   "execution_count": 17,
   "metadata": {},
   "outputs": [],
   "source": [
    "training_end_year = 2010\n",
    "holdout_end_year = 2017"
   ]
  },
  {
   "cell_type": "code",
   "execution_count": 18,
   "metadata": {
    "ExecuteTime": {
     "end_time": "2021-11-28T22:54:25.872846Z",
     "start_time": "2021-11-28T22:54:25.851895Z"
    }
   },
   "outputs": [],
   "source": [
    "in_time = data[data[\"Year\"] <= training_end_year]\n",
    "out_of_time = data[data[\"Year\"] > training_end_year]"
   ]
  },
  {
   "cell_type": "code",
   "execution_count": 19,
   "metadata": {
    "ExecuteTime": {
     "end_time": "2021-11-28T22:54:25.885743Z",
     "start_time": "2021-11-28T22:54:25.874729Z"
    }
   },
   "outputs": [],
   "source": [
    "train, test = train_test_split(in_time, \n",
    "                               test_size=0.2,\n",
    "                               random_state=42)"
   ]
  },
  {
   "cell_type": "code",
   "execution_count": 20,
   "metadata": {
    "ExecuteTime": {
     "end_time": "2021-11-28T22:54:25.891936Z",
     "start_time": "2021-11-28T22:54:25.887906Z"
    }
   },
   "outputs": [
    {
     "data": {
      "text/plain": [
       "(122789, 26)"
      ]
     },
     "execution_count": 20,
     "metadata": {},
     "output_type": "execute_result"
    }
   ],
   "source": [
    "train.shape"
   ]
  },
  {
   "cell_type": "code",
   "execution_count": 21,
   "metadata": {
    "ExecuteTime": {
     "end_time": "2021-11-28T22:54:25.898272Z",
     "start_time": "2021-11-28T22:54:25.893841Z"
    }
   },
   "outputs": [
    {
     "data": {
      "text/plain": [
       "(30698, 26)"
      ]
     },
     "execution_count": 21,
     "metadata": {},
     "output_type": "execute_result"
    }
   ],
   "source": [
    "test.shape"
   ]
  },
  {
   "cell_type": "code",
   "execution_count": 22,
   "metadata": {
    "ExecuteTime": {
     "end_time": "2021-11-28T22:54:25.904951Z",
     "start_time": "2021-11-28T22:54:25.900475Z"
    }
   },
   "outputs": [
    {
     "data": {
      "text/plain": [
       "(45045, 26)"
      ]
     },
     "execution_count": 22,
     "metadata": {},
     "output_type": "execute_result"
    }
   ],
   "source": [
    "out_of_time.shape"
   ]
  },
  {
   "cell_type": "code",
   "execution_count": 23,
   "metadata": {
    "ExecuteTime": {
     "end_time": "2021-11-28T22:54:25.955594Z",
     "start_time": "2021-11-28T22:54:25.912152Z"
    }
   },
   "outputs": [
    {
     "name": "stderr",
     "output_type": "stream",
     "text": [
      "/home/jovyan/.conda/envs/msc-2/lib/python3.6/site-packages/pandas/core/series.py:4523: SettingWithCopyWarning: \n",
      "A value is trying to be set on a copy of a slice from a DataFrame\n",
      "\n",
      "See the caveats in the documentation: https://pandas.pydata.org/pandas-docs/stable/user_guide/indexing.html#returning-a-view-versus-a-copy\n",
      "  downcast=downcast,\n"
     ]
    }
   ],
   "source": [
    "median_input = train.median()\n",
    "train.fillna(median_input, inplace=True)\n",
    "test.fillna(median_input, inplace=True)\n",
    "out_of_time.fillna(median_input, inplace=True)"
   ]
  },
  {
   "cell_type": "markdown",
   "metadata": {},
   "source": [
    "## Checking the support in the different environments"
   ]
  },
  {
   "cell_type": "code",
   "execution_count": 24,
   "metadata": {
    "ExecuteTime": {
     "end_time": "2021-11-28T22:54:25.980010Z",
     "start_time": "2021-11-28T22:54:25.957735Z"
    }
   },
   "outputs": [
    {
     "name": "stdout",
     "output_type": "stream",
     "text": [
      "Year\n",
      "2001    0.892857\n",
      "2002    0.928571\n",
      "2003    0.892857\n",
      "2004    0.892857\n",
      "2005    0.928571\n",
      "2006    0.892857\n",
      "2007    0.928571\n",
      "2008    0.892857\n",
      "2009    0.964286\n",
      "2010    0.964286\n",
      "Name: Primary Type, dtype: float64\n",
      "Year\n",
      "2001    0.563140\n",
      "2002    0.631399\n",
      "2003    0.675768\n",
      "2004    0.634812\n",
      "2005    0.672355\n",
      "2006    0.744027\n",
      "2007    0.699659\n",
      "2008    0.737201\n",
      "2009    0.730375\n",
      "2010    0.730375\n",
      "Name: Description, dtype: float64\n",
      "Year\n",
      "2001    0.684211\n",
      "2002    0.657895\n",
      "2003    0.701754\n",
      "2004    0.719298\n",
      "2005    0.684211\n",
      "2006    0.745614\n",
      "2007    0.701754\n",
      "2008    0.710526\n",
      "2009    0.763158\n",
      "2010    0.789474\n",
      "Name: Location Description, dtype: float64\n",
      "Year\n",
      "2001    0.961538\n",
      "2002    0.961538\n",
      "2003    0.961538\n",
      "2004    0.961538\n",
      "2005    0.961538\n",
      "2006    1.000000\n",
      "2007    0.961538\n",
      "2008    0.961538\n",
      "2009    0.961538\n",
      "2010    0.961538\n",
      "Name: FBI Code, dtype: float64\n",
      "Year\n",
      "2001    1.0\n",
      "2002    1.0\n",
      "2003    1.0\n",
      "2004    1.0\n",
      "2005    1.0\n",
      "2006    1.0\n",
      "2007    1.0\n",
      "2008    1.0\n",
      "2009    1.0\n",
      "2010    1.0\n",
      "Name: Zone, dtype: float64\n",
      "Year\n",
      "2001    0.476879\n",
      "2002    0.653661\n",
      "2003    0.436416\n",
      "2004    0.408478\n",
      "2005    0.424855\n",
      "2006    0.464355\n",
      "2007    0.453276\n",
      "2008    0.486031\n",
      "2009    0.484586\n",
      "2010    0.481214\n",
      "Name: Address, dtype: float64\n",
      "Year\n",
      "2001    1.0\n",
      "2002    1.0\n",
      "2003    1.0\n",
      "2004    1.0\n",
      "2005    1.0\n",
      "2006    1.0\n",
      "2007    1.0\n",
      "2008    1.0\n",
      "2009    1.0\n",
      "2010    1.0\n",
      "Name: Domestic, dtype: float64\n",
      "Year\n",
      "2001    1.0\n",
      "2002    1.0\n",
      "2003    1.0\n",
      "2004    1.0\n",
      "2005    1.0\n",
      "2006    1.0\n",
      "2007    1.0\n",
      "2008    1.0\n",
      "2009    1.0\n",
      "2010    1.0\n",
      "Name: Arrest, dtype: float64\n"
     ]
    },
    {
     "data": {
      "text/plain": [
       "0.8447396808193809"
      ]
     },
     "execution_count": 24,
     "metadata": {},
     "output_type": "execute_result"
    }
   ],
   "source": [
    "check_categoricals_match(train, columns_to_label_encode, \"Year\")"
   ]
  },
  {
   "cell_type": "code",
   "execution_count": 25,
   "metadata": {
    "ExecuteTime": {
     "end_time": "2021-11-28T22:54:26.003426Z",
     "start_time": "2021-11-28T22:54:25.982066Z"
    }
   },
   "outputs": [
    {
     "name": "stdout",
     "output_type": "stream",
     "text": [
      "Year\n",
      "2001    0.666667\n",
      "2002    0.666667\n",
      "2003    0.666667\n",
      "2004    0.666667\n",
      "2005    0.666667\n",
      "2006    0.666667\n",
      "2007    0.666667\n",
      "2008    1.000000\n",
      "2009    0.666667\n",
      "2010    1.000000\n",
      "Name: Latitude_quant, dtype: float64\n",
      "Year\n",
      "2001    0.5\n",
      "2002    0.5\n",
      "2003    0.5\n",
      "2004    0.5\n",
      "2005    0.5\n",
      "2006    0.5\n",
      "2007    0.5\n",
      "2008    1.0\n",
      "2009    0.5\n",
      "2010    1.0\n",
      "Name: Longitude_quant, dtype: float64\n",
      "Year\n",
      "2001    1.0\n",
      "2002    1.0\n",
      "2003    1.0\n",
      "2004    1.0\n",
      "2005    1.0\n",
      "2006    1.0\n",
      "2007    1.0\n",
      "2008    1.0\n",
      "2009    1.0\n",
      "2010    1.0\n",
      "Name: Beat_quant, dtype: float64\n",
      "Year\n",
      "2001    0.888889\n",
      "2002    0.888889\n",
      "2003    0.888889\n",
      "2004    0.888889\n",
      "2005    0.888889\n",
      "2006    0.888889\n",
      "2007    0.888889\n",
      "2008    1.000000\n",
      "2009    0.888889\n",
      "2010    0.888889\n",
      "Name: District_quant, dtype: float64\n",
      "Year\n",
      "2001    1.0\n",
      "2002    1.0\n",
      "2003    1.0\n",
      "2004    1.0\n",
      "2005    1.0\n",
      "2006    1.0\n",
      "2007    1.0\n",
      "2008    1.0\n",
      "2009    1.0\n",
      "2010    1.0\n",
      "Name: Ward_quant, dtype: float64\n",
      "Year\n",
      "2001    0.9\n",
      "2002    1.0\n",
      "2003    1.0\n",
      "2004    1.0\n",
      "2005    1.0\n",
      "2006    1.0\n",
      "2007    1.0\n",
      "2008    1.0\n",
      "2009    1.0\n",
      "2010    1.0\n",
      "Name: Community Area_quant, dtype: float64\n"
     ]
    },
    {
     "name": "stderr",
     "output_type": "stream",
     "text": [
      "/home/jovyan/.conda/envs/msc-2/lib/python3.6/site-packages/time_robust_forest/functions.py:243: SettingWithCopyWarning: \n",
      "A value is trying to be set on a copy of a slice from a DataFrame.\n",
      "Try using .loc[row_indexer,col_indexer] = value instead\n",
      "\n",
      "See the caveats in the documentation: https://pandas.pydata.org/pandas-docs/stable/user_guide/indexing.html#returning-a-view-versus-a-copy\n",
      "  labels=[i for i in range(1, n_q + 1)],\n"
     ]
    },
    {
     "data": {
      "text/plain": [
       "0.8705555555555554"
      ]
     },
     "execution_count": 25,
     "metadata": {},
     "output_type": "execute_result"
    }
   ],
   "source": [
    "check_numerical_match(train, numerical_features, TIME_COLUMN, verbose=True, n_q=10)"
   ]
  },
  {
   "cell_type": "markdown",
   "metadata": {},
   "source": [
    "### Benchmark"
   ]
  },
  {
   "cell_type": "code",
   "execution_count": 26,
   "metadata": {
    "ExecuteTime": {
     "end_time": "2021-11-28T22:54:26.008117Z",
     "start_time": "2021-11-28T22:54:26.005522Z"
    }
   },
   "outputs": [],
   "source": [
    "from pycaret.classification import *"
   ]
  },
  {
   "cell_type": "code",
   "execution_count": 27,
   "metadata": {
    "ExecuteTime": {
     "end_time": "2021-11-28T22:54:26.014481Z",
     "start_time": "2021-11-28T22:54:26.010479Z"
    }
   },
   "outputs": [
    {
     "data": {
      "text/plain": [
       "'Arrest'"
      ]
     },
     "execution_count": 27,
     "metadata": {},
     "output_type": "execute_result"
    }
   ],
   "source": [
    "TARGET"
   ]
  },
  {
   "cell_type": "code",
   "execution_count": 28,
   "metadata": {
    "ExecuteTime": {
     "end_time": "2021-11-28T22:55:14.708511Z",
     "start_time": "2021-11-28T22:54:26.016846Z"
    }
   },
   "outputs": [
    {
     "data": {
      "text/html": [
       "<style  type=\"text/css\" >\n",
       "#T_0d1c2f74_74cb_11ec_b64c_0ecf04180dcfrow5_col0,#T_0d1c2f74_74cb_11ec_b64c_0ecf04180dcfrow5_col1,#T_0d1c2f74_74cb_11ec_b64c_0ecf04180dcfrow5_col2,#T_0d1c2f74_74cb_11ec_b64c_0ecf04180dcfrow5_col3,#T_0d1c2f74_74cb_11ec_b64c_0ecf04180dcfrow5_col4,#T_0d1c2f74_74cb_11ec_b64c_0ecf04180dcfrow5_col5,#T_0d1c2f74_74cb_11ec_b64c_0ecf04180dcfrow5_col6{\n",
       "            background:  yellow;\n",
       "        }</style><table id=\"T_0d1c2f74_74cb_11ec_b64c_0ecf04180dcf\" ><thead>    <tr>        <th class=\"blank level0\" ></th>        <th class=\"col_heading level0 col0\" >Accuracy</th>        <th class=\"col_heading level0 col1\" >AUC</th>        <th class=\"col_heading level0 col2\" >Recall</th>        <th class=\"col_heading level0 col3\" >Prec.</th>        <th class=\"col_heading level0 col4\" >F1</th>        <th class=\"col_heading level0 col5\" >Kappa</th>        <th class=\"col_heading level0 col6\" >MCC</th>    </tr></thead><tbody>\n",
       "                <tr>\n",
       "                        <th id=\"T_0d1c2f74_74cb_11ec_b64c_0ecf04180dcflevel0_row0\" class=\"row_heading level0 row0\" >0</th>\n",
       "                        <td id=\"T_0d1c2f74_74cb_11ec_b64c_0ecf04180dcfrow0_col0\" class=\"data row0 col0\" >0.8746</td>\n",
       "                        <td id=\"T_0d1c2f74_74cb_11ec_b64c_0ecf04180dcfrow0_col1\" class=\"data row0 col1\" >0.9057</td>\n",
       "                        <td id=\"T_0d1c2f74_74cb_11ec_b64c_0ecf04180dcfrow0_col2\" class=\"data row0 col2\" >0.7053</td>\n",
       "                        <td id=\"T_0d1c2f74_74cb_11ec_b64c_0ecf04180dcfrow0_col3\" class=\"data row0 col3\" >0.8350</td>\n",
       "                        <td id=\"T_0d1c2f74_74cb_11ec_b64c_0ecf04180dcfrow0_col4\" class=\"data row0 col4\" >0.7647</td>\n",
       "                        <td id=\"T_0d1c2f74_74cb_11ec_b64c_0ecf04180dcfrow0_col5\" class=\"data row0 col5\" >0.6801</td>\n",
       "                        <td id=\"T_0d1c2f74_74cb_11ec_b64c_0ecf04180dcfrow0_col6\" class=\"data row0 col6\" >0.6846</td>\n",
       "            </tr>\n",
       "            <tr>\n",
       "                        <th id=\"T_0d1c2f74_74cb_11ec_b64c_0ecf04180dcflevel0_row1\" class=\"row_heading level0 row1\" >1</th>\n",
       "                        <td id=\"T_0d1c2f74_74cb_11ec_b64c_0ecf04180dcfrow1_col0\" class=\"data row1 col0\" >0.8751</td>\n",
       "                        <td id=\"T_0d1c2f74_74cb_11ec_b64c_0ecf04180dcfrow1_col1\" class=\"data row1 col1\" >0.9037</td>\n",
       "                        <td id=\"T_0d1c2f74_74cb_11ec_b64c_0ecf04180dcfrow1_col2\" class=\"data row1 col2\" >0.6928</td>\n",
       "                        <td id=\"T_0d1c2f74_74cb_11ec_b64c_0ecf04180dcfrow1_col3\" class=\"data row1 col3\" >0.8468</td>\n",
       "                        <td id=\"T_0d1c2f74_74cb_11ec_b64c_0ecf04180dcfrow1_col4\" class=\"data row1 col4\" >0.7621</td>\n",
       "                        <td id=\"T_0d1c2f74_74cb_11ec_b64c_0ecf04180dcfrow1_col5\" class=\"data row1 col5\" >0.6786</td>\n",
       "                        <td id=\"T_0d1c2f74_74cb_11ec_b64c_0ecf04180dcfrow1_col6\" class=\"data row1 col6\" >0.6849</td>\n",
       "            </tr>\n",
       "            <tr>\n",
       "                        <th id=\"T_0d1c2f74_74cb_11ec_b64c_0ecf04180dcflevel0_row2\" class=\"row_heading level0 row2\" >2</th>\n",
       "                        <td id=\"T_0d1c2f74_74cb_11ec_b64c_0ecf04180dcfrow2_col0\" class=\"data row2 col0\" >0.8724</td>\n",
       "                        <td id=\"T_0d1c2f74_74cb_11ec_b64c_0ecf04180dcfrow2_col1\" class=\"data row2 col1\" >0.9040</td>\n",
       "                        <td id=\"T_0d1c2f74_74cb_11ec_b64c_0ecf04180dcfrow2_col2\" class=\"data row2 col2\" >0.6813</td>\n",
       "                        <td id=\"T_0d1c2f74_74cb_11ec_b64c_0ecf04180dcfrow2_col3\" class=\"data row2 col3\" >0.8470</td>\n",
       "                        <td id=\"T_0d1c2f74_74cb_11ec_b64c_0ecf04180dcfrow2_col4\" class=\"data row2 col4\" >0.7552</td>\n",
       "                        <td id=\"T_0d1c2f74_74cb_11ec_b64c_0ecf04180dcfrow2_col5\" class=\"data row2 col5\" >0.6703</td>\n",
       "                        <td id=\"T_0d1c2f74_74cb_11ec_b64c_0ecf04180dcfrow2_col6\" class=\"data row2 col6\" >0.6775</td>\n",
       "            </tr>\n",
       "            <tr>\n",
       "                        <th id=\"T_0d1c2f74_74cb_11ec_b64c_0ecf04180dcflevel0_row3\" class=\"row_heading level0 row3\" >3</th>\n",
       "                        <td id=\"T_0d1c2f74_74cb_11ec_b64c_0ecf04180dcfrow3_col0\" class=\"data row3 col0\" >0.8693</td>\n",
       "                        <td id=\"T_0d1c2f74_74cb_11ec_b64c_0ecf04180dcfrow3_col1\" class=\"data row3 col1\" >0.9004</td>\n",
       "                        <td id=\"T_0d1c2f74_74cb_11ec_b64c_0ecf04180dcfrow3_col2\" class=\"data row3 col2\" >0.6984</td>\n",
       "                        <td id=\"T_0d1c2f74_74cb_11ec_b64c_0ecf04180dcfrow3_col3\" class=\"data row3 col3\" >0.8223</td>\n",
       "                        <td id=\"T_0d1c2f74_74cb_11ec_b64c_0ecf04180dcfrow3_col4\" class=\"data row3 col4\" >0.7553</td>\n",
       "                        <td id=\"T_0d1c2f74_74cb_11ec_b64c_0ecf04180dcfrow3_col5\" class=\"data row3 col5\" >0.6670</td>\n",
       "                        <td id=\"T_0d1c2f74_74cb_11ec_b64c_0ecf04180dcfrow3_col6\" class=\"data row3 col6\" >0.6711</td>\n",
       "            </tr>\n",
       "            <tr>\n",
       "                        <th id=\"T_0d1c2f74_74cb_11ec_b64c_0ecf04180dcflevel0_row4\" class=\"row_heading level0 row4\" >4</th>\n",
       "                        <td id=\"T_0d1c2f74_74cb_11ec_b64c_0ecf04180dcfrow4_col0\" class=\"data row4 col0\" >0.8732</td>\n",
       "                        <td id=\"T_0d1c2f74_74cb_11ec_b64c_0ecf04180dcfrow4_col1\" class=\"data row4 col1\" >0.9067</td>\n",
       "                        <td id=\"T_0d1c2f74_74cb_11ec_b64c_0ecf04180dcfrow4_col2\" class=\"data row4 col2\" >0.7123</td>\n",
       "                        <td id=\"T_0d1c2f74_74cb_11ec_b64c_0ecf04180dcfrow4_col3\" class=\"data row4 col3\" >0.8246</td>\n",
       "                        <td id=\"T_0d1c2f74_74cb_11ec_b64c_0ecf04180dcfrow4_col4\" class=\"data row4 col4\" >0.7643</td>\n",
       "                        <td id=\"T_0d1c2f74_74cb_11ec_b64c_0ecf04180dcfrow4_col5\" class=\"data row4 col5\" >0.6782</td>\n",
       "                        <td id=\"T_0d1c2f74_74cb_11ec_b64c_0ecf04180dcfrow4_col6\" class=\"data row4 col6\" >0.6816</td>\n",
       "            </tr>\n",
       "            <tr>\n",
       "                        <th id=\"T_0d1c2f74_74cb_11ec_b64c_0ecf04180dcflevel0_row5\" class=\"row_heading level0 row5\" >Mean</th>\n",
       "                        <td id=\"T_0d1c2f74_74cb_11ec_b64c_0ecf04180dcfrow5_col0\" class=\"data row5 col0\" >0.8729</td>\n",
       "                        <td id=\"T_0d1c2f74_74cb_11ec_b64c_0ecf04180dcfrow5_col1\" class=\"data row5 col1\" >0.9041</td>\n",
       "                        <td id=\"T_0d1c2f74_74cb_11ec_b64c_0ecf04180dcfrow5_col2\" class=\"data row5 col2\" >0.6980</td>\n",
       "                        <td id=\"T_0d1c2f74_74cb_11ec_b64c_0ecf04180dcfrow5_col3\" class=\"data row5 col3\" >0.8351</td>\n",
       "                        <td id=\"T_0d1c2f74_74cb_11ec_b64c_0ecf04180dcfrow5_col4\" class=\"data row5 col4\" >0.7603</td>\n",
       "                        <td id=\"T_0d1c2f74_74cb_11ec_b64c_0ecf04180dcfrow5_col5\" class=\"data row5 col5\" >0.6748</td>\n",
       "                        <td id=\"T_0d1c2f74_74cb_11ec_b64c_0ecf04180dcfrow5_col6\" class=\"data row5 col6\" >0.6799</td>\n",
       "            </tr>\n",
       "            <tr>\n",
       "                        <th id=\"T_0d1c2f74_74cb_11ec_b64c_0ecf04180dcflevel0_row6\" class=\"row_heading level0 row6\" >SD</th>\n",
       "                        <td id=\"T_0d1c2f74_74cb_11ec_b64c_0ecf04180dcfrow6_col0\" class=\"data row6 col0\" >0.0020</td>\n",
       "                        <td id=\"T_0d1c2f74_74cb_11ec_b64c_0ecf04180dcfrow6_col1\" class=\"data row6 col1\" >0.0022</td>\n",
       "                        <td id=\"T_0d1c2f74_74cb_11ec_b64c_0ecf04180dcfrow6_col2\" class=\"data row6 col2\" >0.0106</td>\n",
       "                        <td id=\"T_0d1c2f74_74cb_11ec_b64c_0ecf04180dcfrow6_col3\" class=\"data row6 col3\" >0.0105</td>\n",
       "                        <td id=\"T_0d1c2f74_74cb_11ec_b64c_0ecf04180dcfrow6_col4\" class=\"data row6 col4\" >0.0042</td>\n",
       "                        <td id=\"T_0d1c2f74_74cb_11ec_b64c_0ecf04180dcfrow6_col5\" class=\"data row6 col5\" >0.0052</td>\n",
       "                        <td id=\"T_0d1c2f74_74cb_11ec_b64c_0ecf04180dcfrow6_col6\" class=\"data row6 col6\" >0.0051</td>\n",
       "            </tr>\n",
       "    </tbody></table>"
      ],
      "text/plain": [
       "<pandas.io.formats.style.Styler at 0x7f53a5b313c8>"
      ]
     },
     "metadata": {},
     "output_type": "display_data"
    }
   ],
   "source": [
    "clf1 = setup(train[features + [TARGET]], \n",
    "             target=TARGET,\n",
    "             session_id=2, \n",
    "             log_experiment=False, \n",
    "             experiment_name=\"{}\".format(PREFIX),\n",
    "             silent=True)\n",
    "\n",
    "rf = create_model('rf')\n",
    "tuned_rf = tune_model(rf,\n",
    "                     optimize=\"AUC\",\n",
    "                     fold=5,\n",
    "                     n_iter=50)"
   ]
  },
  {
   "cell_type": "code",
   "execution_count": 29,
   "metadata": {
    "ExecuteTime": {
     "end_time": "2021-11-28T22:55:14.716962Z",
     "start_time": "2021-11-28T22:55:14.711692Z"
    }
   },
   "outputs": [
    {
     "data": {
      "text/plain": [
       "RandomForestClassifier(bootstrap=False, ccp_alpha=0.0,\n",
       "                       class_weight='balanced_subsample', criterion='entropy',\n",
       "                       max_depth=11, max_features='sqrt', max_leaf_nodes=None,\n",
       "                       max_samples=None, min_impurity_decrease=0.0001,\n",
       "                       min_impurity_split=None, min_samples_leaf=6,\n",
       "                       min_samples_split=7, min_weight_fraction_leaf=0.0,\n",
       "                       n_estimators=250, n_jobs=-1, oob_score=False,\n",
       "                       random_state=2, verbose=0, warm_start=False)"
      ]
     },
     "execution_count": 29,
     "metadata": {},
     "output_type": "execute_result"
    }
   ],
   "source": [
    "tuned_rf"
   ]
  },
  {
   "cell_type": "code",
   "execution_count": 30,
   "metadata": {
    "ExecuteTime": {
     "end_time": "2021-11-28T22:55:15.318919Z",
     "start_time": "2021-11-28T22:55:14.721692Z"
    }
   },
   "outputs": [],
   "source": [
    "benchmark_model = tuned_rf\n",
    "benchmark_model.fit(train[features], train[TARGET])\n",
    "\n",
    "train[\"benchmark_prediction_sklearn\"] = benchmark_model.predict_proba(train[features])[:, 1]\n",
    "test[\"benchmark_prediction_sklearn\"] = benchmark_model.predict_proba(test[features])[:, 1]\n",
    "out_of_time[\"benchmark_prediction_sklearn\"] = benchmark_model.predict_proba(out_of_time[features])[:, 1]"
   ]
  },
  {
   "cell_type": "code",
   "execution_count": 31,
   "metadata": {
    "ExecuteTime": {
     "end_time": "2021-11-28T22:55:15.361796Z",
     "start_time": "2021-11-28T22:55:15.322711Z"
    }
   },
   "outputs": [
    {
     "name": "stdout",
     "output_type": "stream",
     "text": [
      "0.906093547894383\n",
      "0.8996061218898447\n",
      "0.9024810591405099\n"
     ]
    }
   ],
   "source": [
    "print(roc_auc_score(train[TARGET], train[\"benchmark_prediction_sklearn\"]))\n",
    "print(roc_auc_score(test[TARGET], test[\"benchmark_prediction_sklearn\"]))\n",
    "print(roc_auc_score(out_of_time[TARGET], out_of_time[\"benchmark_prediction_sklearn\"]))"
   ]
  },
  {
   "cell_type": "code",
   "execution_count": 32,
   "metadata": {
    "ExecuteTime": {
     "end_time": "2021-11-28T22:55:15.370357Z",
     "start_time": "2021-11-28T22:55:15.364182Z"
    }
   },
   "outputs": [
    {
     "data": {
      "text/plain": [
       "['max', 'avg']"
      ]
     },
     "execution_count": 32,
     "metadata": {},
     "output_type": "execute_result"
    }
   ],
   "source": [
    "params_grid = {\"n_estimators\": [100], \n",
    "              \"max_depth\": [12],\n",
    "              \"min_impurity_decrease\": [1e-5, 0],\n",
    "              \"min_sample_periods\": [1, 5],\n",
    "              \"period_criterion\": [\"max\", \"avg\"]}\n",
    "\n",
    "params_grid_benchmark = params_grid.copy()\n",
    "params_grid_benchmark.pop(\"period_criterion\")\n",
    "# params_grid = {\"n_estimators\": [5], \n",
    "#               \"max_depth\": [5],\n",
    "#               \"min_impurity_decrease\": [0.001],\n",
    "#               \"min_sample_periods\": [5]}"
   ]
  },
  {
   "cell_type": "code",
   "execution_count": null,
   "metadata": {
    "ExecuteTime": {
     "end_time": "2021-11-28T22:55:15.378048Z",
     "start_time": "2021-11-28T22:55:15.373070Z"
    }
   },
   "outputs": [],
   "source": [
    "params_grid"
   ]
  },
  {
   "cell_type": "code",
   "execution_count": null,
   "metadata": {
    "ExecuteTime": {
     "end_time": "2021-11-28T22:55:15.385423Z",
     "start_time": "2021-11-28T22:55:15.380797Z"
    }
   },
   "outputs": [],
   "source": [
    "params_grid_benchmark"
   ]
  },
  {
   "cell_type": "code",
   "execution_count": null,
   "metadata": {
    "ExecuteTime": {
     "end_time": "2021-11-28T22:55:15.391515Z",
     "start_time": "2021-11-28T22:55:15.387554Z"
    }
   },
   "outputs": [],
   "source": [
    "DUMMY_TIME_COLUMN = \"dummy_time_column\"\n",
    "train[DUMMY_TIME_COLUMN] = 1"
   ]
  },
  {
   "cell_type": "code",
   "execution_count": null,
   "metadata": {
    "ExecuteTime": {
     "end_time": "2021-11-28T23:21:07.187427Z",
     "start_time": "2021-11-28T22:55:15.393732Z"
    }
   },
   "outputs": [],
   "source": [
    "# model = TimeForestClassifier(time_column=DUMMY_TIME_COLUMN,\n",
    "#                                         multi=True)\n",
    "\n",
    "# benchmark_opt_param = env_wise_hyper_opt(train[features + [DUMMY_TIME_COLUMN]], train[TARGET], \n",
    "#                                          model, \n",
    "#                                          DUMMY_TIME_COLUMN, \n",
    "#                                          params_grid_benchmark, \n",
    "#                                          cv=5,\n",
    "#                                          scorer=make_scorer(roc_auc_score,\n",
    "#                                                             needs_proba=True),\n",
    "#                                         n_jobs=24)\n",
    "\n",
    "benchmark_opt_param = {'max_depth': 12,\n",
    " 'min_impurity_decrease': 0,\n",
    " 'min_sample_periods': 1,\n",
    " 'n_estimators': 100}"
   ]
  },
  {
   "cell_type": "code",
   "execution_count": 38,
   "metadata": {},
   "outputs": [
    {
     "data": {
      "text/plain": [
       "{'max_depth': 12,\n",
       " 'min_impurity_decrease': 0,\n",
       " 'min_sample_periods': 1,\n",
       " 'n_estimators': 100}"
      ]
     },
     "execution_count": 38,
     "metadata": {},
     "output_type": "execute_result"
    }
   ],
   "source": [
    "benchmark_opt_param"
   ]
  },
  {
   "cell_type": "code",
   "execution_count": 39,
   "metadata": {
    "ExecuteTime": {
     "end_time": "2021-11-28T23:21:07.197757Z",
     "start_time": "2021-11-28T22:54:30.629Z"
    }
   },
   "outputs": [],
   "source": [
    "benchmark_model = TimeForestClassifier(time_column=DUMMY_TIME_COLUMN,\n",
    "                                       multi=True, \n",
    "                                       **benchmark_opt_param)"
   ]
  },
  {
   "cell_type": "code",
   "execution_count": 40,
   "metadata": {
    "ExecuteTime": {
     "end_time": "2021-11-28T23:21:07.200213Z",
     "start_time": "2021-11-28T22:54:31.882Z"
    }
   },
   "outputs": [],
   "source": [
    "benchmark_model.fit(train[features + [DUMMY_TIME_COLUMN]], train[TARGET].values)"
   ]
  },
  {
   "cell_type": "code",
   "execution_count": 41,
   "metadata": {
    "ExecuteTime": {
     "end_time": "2021-11-28T23:21:07.204303Z",
     "start_time": "2021-11-28T22:54:32.836Z"
    }
   },
   "outputs": [],
   "source": [
    "train[\"benchmark_prediction\"] = benchmark_model.predict_proba(train[features])[:, 1]\n",
    "test[\"benchmark_prediction\"] = benchmark_model.predict_proba(test[features])[:, 1]\n",
    "out_of_time[\"benchmark_prediction\"] = benchmark_model.predict_proba(out_of_time[features])[:, 1]"
   ]
  },
  {
   "cell_type": "code",
   "execution_count": 42,
   "metadata": {
    "ExecuteTime": {
     "end_time": "2021-11-28T23:21:07.209218Z",
     "start_time": "2021-11-28T22:54:36.085Z"
    }
   },
   "outputs": [
    {
     "name": "stdout",
     "output_type": "stream",
     "text": [
      "0.9365293671239485\n",
      "0.9042808339819377\n",
      "0.9052710352094635\n"
     ]
    }
   ],
   "source": [
    "print(roc_auc_score(train[TARGET], train[\"benchmark_prediction\"]))\n",
    "print(roc_auc_score(test[TARGET], test[\"benchmark_prediction\"]))\n",
    "print(roc_auc_score(out_of_time[TARGET], out_of_time[\"benchmark_prediction\"]))"
   ]
  },
  {
   "cell_type": "code",
   "execution_count": null,
   "metadata": {
    "ExecuteTime": {
     "end_time": "2021-11-28T23:21:07.212811Z",
     "start_time": "2021-11-28T22:54:36.693Z"
    }
   },
   "outputs": [],
   "source": [
    "results = reverse_learning_curve(train, \n",
    "                                 out_of_time, \n",
    "                                 benchmark_model, \n",
    "                                 features, \n",
    "                                 TARGET,\n",
    "                                 TIME_COLUMN, \n",
    "                                 roc_auc_score, \n",
    "                                 n_rounds=5,\n",
    "                                 dummy_time_column=DUMMY_TIME_COLUMN)"
   ]
  },
  {
   "cell_type": "code",
   "execution_count": null,
   "metadata": {
    "ExecuteTime": {
     "end_time": "2021-11-28T23:21:07.216238Z",
     "start_time": "2021-11-28T22:54:38.819Z"
    }
   },
   "outputs": [],
   "source": [
    "benchmark_importances = results[\"feature_importance\"][-1].copy(deep=True)\n",
    "benchmark_importances.rename(\"RF\", inplace=True)"
   ]
  },
  {
   "cell_type": "code",
   "execution_count": null,
   "metadata": {
    "ExecuteTime": {
     "end_time": "2021-11-28T23:21:07.219477Z",
     "start_time": "2021-11-28T22:54:39.469Z"
    }
   },
   "outputs": [],
   "source": [
    "importance_by_reverse_segment_benchmark = plot_feature_migration_from_learning_curve_results(results, \n",
    "                                                                                             features, \n",
    "                                                                                             save_as=\"../images/{}_benchmark_importance_migration_learning_curve.eps\".format(PREFIX))"
   ]
  },
  {
   "cell_type": "code",
   "execution_count": null,
   "metadata": {
    "ExecuteTime": {
     "end_time": "2021-11-28T23:21:07.223087Z",
     "start_time": "2021-11-28T22:54:40.026Z"
    }
   },
   "outputs": [],
   "source": [
    "fig, ax = plt.subplots()\n",
    "\n",
    "blues = plt.get_cmap(\"Blues\")\n",
    "gradient = np.linspace(.2, 0.8, len(results[\"holdout_performance\"]))\n",
    "\n",
    "for i, r in enumerate(results[\"holdout_performance_by_period\"]):\n",
    "    r.plot(label=results[\"last_period_included\"][i], color=blues(gradient[i]))\n",
    "\n",
    "ax.xaxis.set_tick_params(labelsize=12)\n",
    "ax.yaxis.set_tick_params(labelsize=12)\n",
    "plt.legend(bbox_to_anchor=(1.05, 1.0), fontsize=12, title=\"Oldest time period included in train\")\n",
    "plt.ylabel(\"AUC\", fontsize=15)\n",
    "plt.xlabel(\"Year\", fontsize=15)\n",
    "\n",
    "plt.savefig(\"../images/{}_perf_by_period_reverse_learning_curve_benchmark.eps\".format(PREFIX), format=\"eps\", bbox_inches = \"tight\")\n",
    "plt.show()"
   ]
  },
  {
   "cell_type": "code",
   "execution_count": null,
   "metadata": {
    "ExecuteTime": {
     "end_time": "2021-11-28T23:21:07.226054Z",
     "start_time": "2021-11-28T22:54:40.782Z"
    }
   },
   "outputs": [],
   "source": [
    "results"
   ]
  },
  {
   "cell_type": "markdown",
   "metadata": {},
   "source": [
    "## Challenger model"
   ]
  },
  {
   "cell_type": "code",
   "execution_count": 33,
   "metadata": {
    "ExecuteTime": {
     "end_time": "2021-11-28T20:37:57.289297Z",
     "start_time": "2021-11-28T20:37:57.286212Z"
    }
   },
   "outputs": [],
   "source": [
    "train.reset_index(drop=True, inplace=True)"
   ]
  },
  {
   "cell_type": "code",
   "execution_count": 34,
   "metadata": {
    "ExecuteTime": {
     "end_time": "2021-11-28T20:37:57.304584Z",
     "start_time": "2021-11-28T20:37:57.291568Z"
    }
   },
   "outputs": [
    {
     "data": {
      "text/html": [
       "<div>\n",
       "<style scoped>\n",
       "    .dataframe tbody tr th:only-of-type {\n",
       "        vertical-align: middle;\n",
       "    }\n",
       "\n",
       "    .dataframe tbody tr th {\n",
       "        vertical-align: top;\n",
       "    }\n",
       "\n",
       "    .dataframe thead th {\n",
       "        text-align: right;\n",
       "    }\n",
       "</style>\n",
       "<table border=\"1\" class=\"dataframe\">\n",
       "  <thead>\n",
       "    <tr style=\"text-align: right;\">\n",
       "      <th></th>\n",
       "      <th>Primary Type</th>\n",
       "      <th>Description</th>\n",
       "      <th>Location Description</th>\n",
       "      <th>FBI Code</th>\n",
       "      <th>Zone</th>\n",
       "      <th>Address</th>\n",
       "      <th>Latitude</th>\n",
       "      <th>Longitude</th>\n",
       "      <th>Beat</th>\n",
       "      <th>District</th>\n",
       "      <th>Ward</th>\n",
       "      <th>Community Area</th>\n",
       "      <th>Domestic</th>\n",
       "      <th>Year</th>\n",
       "    </tr>\n",
       "  </thead>\n",
       "  <tbody>\n",
       "    <tr>\n",
       "      <th>0</th>\n",
       "      <td>29</td>\n",
       "      <td>140</td>\n",
       "      <td>92</td>\n",
       "      <td>7</td>\n",
       "      <td>3</td>\n",
       "      <td>1464</td>\n",
       "      <td>41.718628</td>\n",
       "      <td>-87.669073</td>\n",
       "      <td>2213</td>\n",
       "      <td>22.0</td>\n",
       "      <td>19.0</td>\n",
       "      <td>72.0</td>\n",
       "      <td>0</td>\n",
       "      <td>2003</td>\n",
       "    </tr>\n",
       "    <tr>\n",
       "      <th>1</th>\n",
       "      <td>29</td>\n",
       "      <td>253</td>\n",
       "      <td>58</td>\n",
       "      <td>7</td>\n",
       "      <td>1</td>\n",
       "      <td>377</td>\n",
       "      <td>41.758215</td>\n",
       "      <td>-87.624119</td>\n",
       "      <td>623</td>\n",
       "      <td>6.0</td>\n",
       "      <td>6.0</td>\n",
       "      <td>69.0</td>\n",
       "      <td>0</td>\n",
       "      <td>2004</td>\n",
       "    </tr>\n",
       "    <tr>\n",
       "      <th>2</th>\n",
       "      <td>16</td>\n",
       "      <td>228</td>\n",
       "      <td>113</td>\n",
       "      <td>20</td>\n",
       "      <td>1</td>\n",
       "      <td>345</td>\n",
       "      <td>41.773214</td>\n",
       "      <td>-87.598171</td>\n",
       "      <td>321</td>\n",
       "      <td>3.0</td>\n",
       "      <td>5.0</td>\n",
       "      <td>42.0</td>\n",
       "      <td>0</td>\n",
       "      <td>2008</td>\n",
       "    </tr>\n",
       "    <tr>\n",
       "      <th>3</th>\n",
       "      <td>15</td>\n",
       "      <td>70</td>\n",
       "      <td>113</td>\n",
       "      <td>8</td>\n",
       "      <td>3</td>\n",
       "      <td>772</td>\n",
       "      <td>41.867742</td>\n",
       "      <td>-87.640889</td>\n",
       "      <td>131</td>\n",
       "      <td>1.0</td>\n",
       "      <td>22.0</td>\n",
       "      <td>33.0</td>\n",
       "      <td>0</td>\n",
       "      <td>2001</td>\n",
       "    </tr>\n",
       "    <tr>\n",
       "      <th>4</th>\n",
       "      <td>7</td>\n",
       "      <td>286</td>\n",
       "      <td>99</td>\n",
       "      <td>25</td>\n",
       "      <td>2</td>\n",
       "      <td>840</td>\n",
       "      <td>42.018352</td>\n",
       "      <td>-87.680455</td>\n",
       "      <td>2424</td>\n",
       "      <td>24.0</td>\n",
       "      <td>49.0</td>\n",
       "      <td>1.0</td>\n",
       "      <td>0</td>\n",
       "      <td>2004</td>\n",
       "    </tr>\n",
       "    <tr>\n",
       "      <th>...</th>\n",
       "      <td>...</td>\n",
       "      <td>...</td>\n",
       "      <td>...</td>\n",
       "      <td>...</td>\n",
       "      <td>...</td>\n",
       "      <td>...</td>\n",
       "      <td>...</td>\n",
       "      <td>...</td>\n",
       "      <td>...</td>\n",
       "      <td>...</td>\n",
       "      <td>...</td>\n",
       "      <td>...</td>\n",
       "      <td>...</td>\n",
       "      <td>...</td>\n",
       "    </tr>\n",
       "    <tr>\n",
       "      <th>122784</th>\n",
       "      <td>15</td>\n",
       "      <td>70</td>\n",
       "      <td>113</td>\n",
       "      <td>8</td>\n",
       "      <td>1</td>\n",
       "      <td>389</td>\n",
       "      <td>41.753370</td>\n",
       "      <td>-87.580429</td>\n",
       "      <td>414</td>\n",
       "      <td>4.0</td>\n",
       "      <td>8.0</td>\n",
       "      <td>43.0</td>\n",
       "      <td>0</td>\n",
       "      <td>2008</td>\n",
       "    </tr>\n",
       "    <tr>\n",
       "      <th>122785</th>\n",
       "      <td>6</td>\n",
       "      <td>287</td>\n",
       "      <td>115</td>\n",
       "      <td>16</td>\n",
       "      <td>3</td>\n",
       "      <td>1119</td>\n",
       "      <td>41.691790</td>\n",
       "      <td>-87.642365</td>\n",
       "      <td>2233</td>\n",
       "      <td>22.0</td>\n",
       "      <td>34.0</td>\n",
       "      <td>75.0</td>\n",
       "      <td>0</td>\n",
       "      <td>2006</td>\n",
       "    </tr>\n",
       "    <tr>\n",
       "      <th>122786</th>\n",
       "      <td>8</td>\n",
       "      <td>278</td>\n",
       "      <td>51</td>\n",
       "      <td>13</td>\n",
       "      <td>4</td>\n",
       "      <td>1379</td>\n",
       "      <td>41.886668</td>\n",
       "      <td>-87.746114</td>\n",
       "      <td>1532</td>\n",
       "      <td>15.0</td>\n",
       "      <td>28.0</td>\n",
       "      <td>25.0</td>\n",
       "      <td>0</td>\n",
       "      <td>2010</td>\n",
       "    </tr>\n",
       "    <tr>\n",
       "      <th>122787</th>\n",
       "      <td>9</td>\n",
       "      <td>144</td>\n",
       "      <td>110</td>\n",
       "      <td>21</td>\n",
       "      <td>4</td>\n",
       "      <td>1430</td>\n",
       "      <td>41.871729</td>\n",
       "      <td>-87.716922</td>\n",
       "      <td>1133</td>\n",
       "      <td>11.0</td>\n",
       "      <td>24.0</td>\n",
       "      <td>27.0</td>\n",
       "      <td>0</td>\n",
       "      <td>2010</td>\n",
       "    </tr>\n",
       "    <tr>\n",
       "      <th>122788</th>\n",
       "      <td>2</td>\n",
       "      <td>266</td>\n",
       "      <td>94</td>\n",
       "      <td>10</td>\n",
       "      <td>3</td>\n",
       "      <td>2178</td>\n",
       "      <td>41.780595</td>\n",
       "      <td>-87.683676</td>\n",
       "      <td>825</td>\n",
       "      <td>8.0</td>\n",
       "      <td>15.0</td>\n",
       "      <td>66.0</td>\n",
       "      <td>0</td>\n",
       "      <td>2008</td>\n",
       "    </tr>\n",
       "  </tbody>\n",
       "</table>\n",
       "<p>122789 rows × 14 columns</p>\n",
       "</div>"
      ],
      "text/plain": [
       "        Primary Type  Description  Location Description  FBI Code  Zone  \\\n",
       "0                 29          140                    92         7     3   \n",
       "1                 29          253                    58         7     1   \n",
       "2                 16          228                   113        20     1   \n",
       "3                 15           70                   113         8     3   \n",
       "4                  7          286                    99        25     2   \n",
       "...              ...          ...                   ...       ...   ...   \n",
       "122784            15           70                   113         8     1   \n",
       "122785             6          287                   115        16     3   \n",
       "122786             8          278                    51        13     4   \n",
       "122787             9          144                   110        21     4   \n",
       "122788             2          266                    94        10     3   \n",
       "\n",
       "        Address   Latitude  Longitude  Beat  District  Ward  Community Area  \\\n",
       "0          1464  41.718628 -87.669073  2213      22.0  19.0            72.0   \n",
       "1           377  41.758215 -87.624119   623       6.0   6.0            69.0   \n",
       "2           345  41.773214 -87.598171   321       3.0   5.0            42.0   \n",
       "3           772  41.867742 -87.640889   131       1.0  22.0            33.0   \n",
       "4           840  42.018352 -87.680455  2424      24.0  49.0             1.0   \n",
       "...         ...        ...        ...   ...       ...   ...             ...   \n",
       "122784      389  41.753370 -87.580429   414       4.0   8.0            43.0   \n",
       "122785     1119  41.691790 -87.642365  2233      22.0  34.0            75.0   \n",
       "122786     1379  41.886668 -87.746114  1532      15.0  28.0            25.0   \n",
       "122787     1430  41.871729 -87.716922  1133      11.0  24.0            27.0   \n",
       "122788     2178  41.780595 -87.683676   825       8.0  15.0            66.0   \n",
       "\n",
       "        Domestic  Year  \n",
       "0              0  2003  \n",
       "1              0  2004  \n",
       "2              0  2008  \n",
       "3              0  2001  \n",
       "4              0  2004  \n",
       "...          ...   ...  \n",
       "122784         0  2008  \n",
       "122785         0  2006  \n",
       "122786         0  2010  \n",
       "122787         0  2010  \n",
       "122788         0  2008  \n",
       "\n",
       "[122789 rows x 14 columns]"
      ]
     },
     "execution_count": 34,
     "metadata": {},
     "output_type": "execute_result"
    }
   ],
   "source": [
    "train[features + [TIME_COLUMN]]"
   ]
  },
  {
   "cell_type": "code",
   "execution_count": 35,
   "metadata": {
    "ExecuteTime": {
     "end_time": "2021-11-28T20:37:57.313172Z",
     "start_time": "2021-11-28T20:37:57.306931Z"
    }
   },
   "outputs": [
    {
     "data": {
      "text/plain": [
       "2008    17104\n",
       "2006    15759\n",
       "2009    15677\n",
       "2010    14091\n",
       "2007    12401\n",
       "2001    11485\n",
       "2002     9800\n",
       "2003     9545\n",
       "2005     9101\n",
       "2004     7826\n",
       "Name: Year, dtype: int64"
      ]
     },
     "execution_count": 35,
     "metadata": {},
     "output_type": "execute_result"
    }
   ],
   "source": [
    "train[\"Year\"].value_counts()"
   ]
  },
  {
   "cell_type": "code",
   "execution_count": null,
   "metadata": {
    "ExecuteTime": {
     "end_time": "2021-11-28T20:39:04.023667Z",
     "start_time": "2021-11-28T20:37:57.315398Z"
    }
   },
   "outputs": [],
   "source": [
    "model = TimeForestClassifier(time_column=TIME_COLUMN,\n",
    "                                        multi=True)\n",
    "\n",
    "challenger_opt_param = env_wise_hyper_opt(train[features + [TIME_COLUMN]], \n",
    "                                          train[TARGET], \n",
    "                                          model, \n",
    "                                          TIME_COLUMN,\n",
    "                                          params_grid,\n",
    "                                          scorer=make_scorer(roc_auc_score,\n",
    "                                                            needs_proba=True),\n",
    "                                         n_jobs=-1)\n",
    "\n",
    "# challenger_opt_param = {'max_depth': 10,\n",
    "#  'min_impurity_decrease': 0,\n",
    "#  'min_sample_periods': 10,\n",
    "#  'n_estimators': 30,\n",
    "#  'period_criterion': 'max'}"
   ]
  },
  {
   "cell_type": "code",
   "execution_count": 1,
   "metadata": {},
   "outputs": [
    {
     "ename": "NameError",
     "evalue": "name 'challenger_opt_param' is not defined",
     "output_type": "error",
     "traceback": [
      "\u001b[0;31m---------------------------------------------------------------------------\u001b[0m",
      "\u001b[0;31mNameError\u001b[0m                                 Traceback (most recent call last)",
      "\u001b[0;32m<ipython-input-1-526b8facdf2e>\u001b[0m in \u001b[0;36m<module>\u001b[0;34m\u001b[0m\n\u001b[0;32m----> 1\u001b[0;31m \u001b[0mchallenger_opt_param\u001b[0m\u001b[0;34m\u001b[0m\u001b[0;34m\u001b[0m\u001b[0m\n\u001b[0m",
      "\u001b[0;31mNameError\u001b[0m: name 'challenger_opt_param' is not defined"
     ]
    }
   ],
   "source": [
    "challenger_opt_param"
   ]
  },
  {
   "cell_type": "code",
   "execution_count": null,
   "metadata": {
    "ExecuteTime": {
     "end_time": "2021-11-28T20:39:18.575246Z",
     "start_time": "2021-11-28T20:39:04.025941Z"
    }
   },
   "outputs": [],
   "source": [
    "challenger_model = TimeForestClassifier(time_column=TIME_COLUMN,\n",
    "                                        multi=True,\n",
    "                                        **challenger_opt_param)\n",
    "\n",
    "challenger_model.fit(train[features + [TIME_COLUMN]], train[TARGET].values)\n",
    "\n",
    "train[\"challenger_prediction\"] = challenger_model.predict_proba(train[features])[:, 1]\n",
    "test[\"challenger_prediction\"] = challenger_model.predict_proba(test[features])[:, 1]\n",
    "out_of_time[\"challenger_prediction\"] = challenger_model.predict_proba(out_of_time[features])[:, 1]"
   ]
  },
  {
   "cell_type": "code",
   "execution_count": null,
   "metadata": {
    "ExecuteTime": {
     "end_time": "2021-11-28T20:39:18.606662Z",
     "start_time": "2021-11-28T20:39:18.577201Z"
    }
   },
   "outputs": [],
   "source": [
    "print(roc_auc_score(train[TARGET], train[\"challenger_prediction\"]))\n",
    "print(roc_auc_score(test[TARGET], test[\"challenger_prediction\"]))\n",
    "print(roc_auc_score(out_of_time[TARGET], out_of_time[\"challenger_prediction\"]))"
   ]
  },
  {
   "cell_type": "markdown",
   "metadata": {},
   "source": [
    "## Feature Importance migration"
   ]
  },
  {
   "cell_type": "code",
   "execution_count": null,
   "metadata": {
    "ExecuteTime": {
     "end_time": "2021-11-28T20:41:22.564431Z",
     "start_time": "2021-11-28T20:39:18.609051Z"
    }
   },
   "outputs": [],
   "source": [
    "challenger_model = TimeForestClassifier(time_column=TIME_COLUMN,\n",
    "                                        multi=True,\n",
    "                                        **challenger_opt_param)\n",
    "\n",
    "results_trt = reverse_learning_curve(train, \n",
    "                                     out_of_time, \n",
    "                                     challenger_model, \n",
    "                                     features, TARGET, TIME_COLUMN, roc_auc_score, n_rounds=5, challenger=True)"
   ]
  },
  {
   "cell_type": "code",
   "execution_count": null,
   "metadata": {
    "ExecuteTime": {
     "end_time": "2021-11-28T20:41:22.574977Z",
     "start_time": "2021-11-28T20:41:22.566812Z"
    }
   },
   "outputs": [],
   "source": [
    "challenger_model_importances = results_trt[\"feature_importance\"][-1].copy(deep=True)\n",
    "challenger_model_importances.rename(\"TRF\", inplace=True)\n",
    "challenger_model_importances"
   ]
  },
  {
   "cell_type": "code",
   "execution_count": null,
   "metadata": {
    "ExecuteTime": {
     "end_time": "2021-11-28T20:41:22.593719Z",
     "start_time": "2021-11-28T20:41:22.578738Z"
    }
   },
   "outputs": [],
   "source": [
    "all_models_importance = pd.DataFrame(index=features)\n",
    "all_models_importance = all_models_importance.merge(benchmark_importances, how=\"left\", left_index=True, \n",
    "                            right_index=True)\n",
    "all_models_importance = all_models_importance.merge(challenger_model_importances, how=\"left\", left_index=True, \n",
    "                            right_index=True)\n",
    "\n",
    "all_models_importance.fillna(0, inplace=True)\n",
    "all_models_importance"
   ]
  },
  {
   "cell_type": "code",
   "execution_count": null,
   "metadata": {
    "ExecuteTime": {
     "end_time": "2021-11-28T20:41:23.086422Z",
     "start_time": "2021-11-28T20:41:22.596989Z"
    }
   },
   "outputs": [],
   "source": [
    "plot_shap_difference(all_models_importance[[\"RF\", \"TRF\"]], title=\"\", save_as=\"../images/{}_importance_migration.eps\".format(PREFIX))"
   ]
  },
  {
   "cell_type": "code",
   "execution_count": null,
   "metadata": {
    "ExecuteTime": {
     "end_time": "2021-11-28T20:41:23.099505Z",
     "start_time": "2021-11-28T20:41:23.089495Z"
    }
   },
   "outputs": [],
   "source": [
    "results_trt"
   ]
  },
  {
   "cell_type": "markdown",
   "metadata": {},
   "source": [
    "## Reverse Learning Curve"
   ]
  },
  {
   "cell_type": "code",
   "execution_count": null,
   "metadata": {
    "ExecuteTime": {
     "end_time": "2021-11-28T20:41:23.629885Z",
     "start_time": "2021-11-28T20:41:23.101919Z"
    }
   },
   "outputs": [],
   "source": [
    "importance_by_reverse_segment_challenger = plot_feature_migration_from_learning_curve_results(results_trt, features, \n",
    "                                                                                             save_as=\"../images/{}_challenger_importance_migration_learning_curve.eps\".format(PREFIX))\n",
    "importance_by_reverse_segment_challenger"
   ]
  },
  {
   "cell_type": "code",
   "execution_count": null,
   "metadata": {
    "ExecuteTime": {
     "end_time": "2021-11-28T20:41:24.075702Z",
     "start_time": "2021-11-28T20:41:23.632473Z"
    }
   },
   "outputs": [],
   "source": [
    "fig, ax = plt.subplots()\n",
    "\n",
    "greens = plt.get_cmap(\"Greens\")\n",
    "gradient = np.linspace(.2, 0.8, len(results_trt[\"holdout_performance\"]))\n",
    "\n",
    "for i, r in enumerate(results_trt[\"holdout_performance_by_period\"]):\n",
    "    r.plot(label=results_trt[\"last_period_included\"][i], color=greens(gradient[i]))\n",
    "\n",
    "ax.xaxis.set_tick_params(labelsize=12)\n",
    "ax.yaxis.set_tick_params(labelsize=12)\n",
    "plt.legend(bbox_to_anchor=(1.05, 1.0), fontsize=12, title=\"Oldest time period included in train\")\n",
    "plt.ylabel(\"AUC\", fontsize=15)\n",
    "plt.xlabel(\"Year\", fontsize=15)\n",
    "\n",
    "plt.savefig(\"../images/{}_perf_by_period_reverse_learning_curve_challenger.eps\".format(PREFIX), format=\"eps\", bbox_inches = \"tight\")\n",
    "plt.show()"
   ]
  },
  {
   "cell_type": "code",
   "execution_count": null,
   "metadata": {
    "ExecuteTime": {
     "end_time": "2021-11-28T20:41:24.302858Z",
     "start_time": "2021-11-28T20:41:24.078242Z"
    }
   },
   "outputs": [],
   "source": [
    "fig, ax = plt.subplots()\n",
    "plt.plot([str(i) for i in results[\"sample_size\"]], results[\"holdout_performance\"], label=\"RF\")\n",
    "plt.plot(results_trt[\"holdout_performance\"], label=\"TRF\", linestyle=\"dashed\", color=\"green\")\n",
    "ax.xaxis.set_tick_params(labelsize=12)\n",
    "ax.yaxis.set_tick_params(labelsize=12)\n",
    "plt.legend(fontsize=15, bbox_to_anchor=(1.0, 1.0))\n",
    "plt.ylabel(\"AUC in the holdout\", fontsize=15)\n",
    "plt.xlabel(\"Sample size\", fontsize=15)\n",
    "plt.savefig(\"../images/{}_reverse_learning_curve_sample.eps\".format(PREFIX), format=\"eps\")\n",
    "plt.show()"
   ]
  },
  {
   "cell_type": "code",
   "execution_count": null,
   "metadata": {
    "ExecuteTime": {
     "end_time": "2021-11-28T20:41:24.519350Z",
     "start_time": "2021-11-28T20:41:24.305181Z"
    }
   },
   "outputs": [],
   "source": [
    "fig, ax = plt.subplots()\n",
    "plt.plot([str(i) for i in results[\"last_period_included\"]], results[\"holdout_performance\"], label=\"RF\")\n",
    "plt.plot(results_trt[\"holdout_performance\"], label=\"TRF\", linestyle=\"dashed\", color=\"green\")\n",
    "ax.xaxis.set_tick_params(labelsize=12)\n",
    "ax.yaxis.set_tick_params(labelsize=12)\n",
    "plt.legend(fontsize=15, bbox_to_anchor=(1.0, 1.0))\n",
    "plt.ylabel(\"AUC in the holdout\", fontsize=15)\n",
    "plt.xlabel(\"Oldest time period included in the training\", fontsize=15)\n",
    "plt.savefig(\"../images/{}_reverse_learning_curve_segments.eps\".format(PREFIX), format=\"eps\")\n",
    "plt.show()"
   ]
  },
  {
   "cell_type": "code",
   "execution_count": null,
   "metadata": {
    "ExecuteTime": {
     "end_time": "2021-11-28T20:41:25.006314Z",
     "start_time": "2021-11-28T20:41:24.521663Z"
    }
   },
   "outputs": [],
   "source": [
    "fig, ax = plt.subplots()\n",
    "\n",
    "greens = plt.get_cmap(\"Greens\")\n",
    "gradient = np.linspace(.2, 0.8, len(results_trt[\"holdout_performance\"]))\n",
    "\n",
    "for i, r in enumerate(results_trt[\"holdout_performance_by_period\"]):\n",
    "    r.plot(label=results_trt[\"last_period_included\"][i], color=greens(gradient[i]))\n",
    "    \n",
    "for i, r in enumerate(results[\"holdout_performance_by_period\"]):\n",
    "    r.plot(label=results[\"last_period_included\"][i], color=blues(gradient[i]))\n",
    "\n",
    "ax.xaxis.set_tick_params(labelsize=12)\n",
    "ax.yaxis.set_tick_params(labelsize=12)\n",
    "plt.legend(bbox_to_anchor=(1.05, 1.0), fontsize=12, title=\"Oldest time period included in train\")\n",
    "plt.ylabel(\"AUC\", fontsize=15)\n",
    "plt.xlabel(\"Year\", fontsize=15)\n",
    "\n",
    "plt.savefig(\"../images/{}_perf_by_period_reverse_learning_curve_both.eps\".format(PREFIX), format=\"eps\", bbox_inches = \"tight\")\n",
    "plt.show()"
   ]
  },
  {
   "cell_type": "markdown",
   "metadata": {},
   "source": [
    "## Performance comparison"
   ]
  },
  {
   "cell_type": "code",
   "execution_count": null,
   "metadata": {
    "ExecuteTime": {
     "end_time": "2021-11-28T20:41:25.496262Z",
     "start_time": "2021-11-28T20:41:25.008611Z"
    }
   },
   "outputs": [],
   "source": [
    "fig, ax = plt.subplots()\n",
    "pd.concat([test, out_of_time]).groupby(TIME_COLUMN).apply(lambda x: roc_auc_score(x[TARGET], x[\"challenger_prediction\"])).plot(label=\"Time Robust Forest\", \n",
    "                                                                                                      linestyle=\"dashed\",\n",
    "                                                                                                      color=\"green\", ax=ax)\n",
    "pd.concat([test, out_of_time]).groupby(TIME_COLUMN).apply(lambda x: roc_auc_score(x[TARGET], x[\"benchmark_prediction\"])).plot(label=\"Random Forest\", ax=ax)\n",
    "\n",
    "ax.xaxis.set_tick_params(labelsize=12)\n",
    "ax.yaxis.set_tick_params(labelsize=12)\n",
    "\n",
    "xmin, xmax, ymin, ymax = plt.axis()\n",
    "plt.vlines(training_end_year + 1, ymin, ymax, linestyle=\"dotted\", color=\"red\", label=\"Holdout start\")\n",
    "plt.ylim([ymin, ymax])\n",
    "plt.legend(fontsize=15, bbox_to_anchor=(1.0, 1.0))\n",
    "plt.ylabel(\"AUC\", fontsize=15)\n",
    "plt.xlabel(\"Year\", fontsize=15)\n",
    "plt.savefig(\"../images/{}_test_holdout_auc_years.eps\".format(PREFIX), format=\"eps\")\n",
    "plt.show()"
   ]
  },
  {
   "cell_type": "code",
   "execution_count": null,
   "metadata": {
    "ExecuteTime": {
     "end_time": "2021-11-28T20:41:26.007617Z",
     "start_time": "2021-11-28T20:41:25.498675Z"
    }
   },
   "outputs": [],
   "source": [
    "plt.rcParams['figure.figsize'] = (8, 6)\n",
    "fig, ax = plt.subplots()\n",
    "pd.concat([test, out_of_time]).groupby(TIME_COLUMN).apply(lambda x: roc_auc_score(x[TARGET], x[\"challenger_prediction\"])).plot(label=\"Time Robust Forest\", \n",
    "                                                                                                      linestyle=\"dashed\",\n",
    "                                                                                                      color=\"green\", ax=ax)\n",
    "pd.concat([test, out_of_time]).groupby(TIME_COLUMN).apply(lambda x: roc_auc_score(x[TARGET], x[\"benchmark_prediction\"])).plot(label=\"Random Forest\", ax=ax)\n",
    "\n",
    "\n",
    "ax.xaxis.set_tick_params(labelsize=15)\n",
    "ax.yaxis.set_tick_params(labelsize=15)\n",
    "\n",
    "xmin, xmax, ymin, ymax = plt.axis()\n",
    "plt.vlines(training_end_year + 1, ymin, ymax, linestyle=\"dotted\", color=\"red\", label=\"Holdout start\")\n",
    "plt.ylim([ymin, ymax])\n",
    "plt.legend(fontsize=13, \n",
    "           bbox_to_anchor=(0.62, 1.0))\n",
    "\n",
    "plt.ylabel(\"AUC\", fontsize=16)\n",
    "plt.xlabel(\"Year\", fontsize=16)\n",
    "plt.savefig(\"../images/{}_test_holdout_auc_years_square.eps\".format(PREFIX), format=\"eps\")\n",
    "plt.show()"
   ]
  },
  {
   "cell_type": "markdown",
   "metadata": {},
   "source": [
    "## TRF as feature selection"
   ]
  },
  {
   "cell_type": "code",
   "execution_count": null,
   "metadata": {
    "ExecuteTime": {
     "end_time": "2021-11-28T20:41:26.037285Z",
     "start_time": "2021-11-28T20:41:26.009959Z"
    }
   },
   "outputs": [],
   "source": [
    "challenger_model.feature_importance()"
   ]
  },
  {
   "cell_type": "code",
   "execution_count": null,
   "metadata": {
    "ExecuteTime": {
     "end_time": "2021-11-28T20:41:26.147354Z",
     "start_time": "2021-11-28T20:41:26.040072Z"
    }
   },
   "outputs": [],
   "source": [
    "selected_features = [feature for feature in features if feature in challenger_model.feature_importance().index]\n",
    "selected_features"
   ]
  },
  {
   "cell_type": "code",
   "execution_count": null,
   "metadata": {
    "ExecuteTime": {
     "end_time": "2021-11-28T20:41:26.167981Z",
     "start_time": "2021-11-28T20:41:26.162937Z"
    }
   },
   "outputs": [],
   "source": [
    "if len(selected_features) == len(features):\n",
    "    selected_features = list(challenger_model.feature_importance().sort_values(ascending=False).index[:int(len(features)/2)+2].values)\n",
    "    \n",
    "selected_features    "
   ]
  },
  {
   "cell_type": "code",
   "execution_count": null,
   "metadata": {
    "ExecuteTime": {
     "end_time": "2021-11-28T20:41:26.177990Z",
     "start_time": "2021-11-28T20:41:26.173384Z"
    }
   },
   "outputs": [],
   "source": [
    "selected_features"
   ]
  },
  {
   "cell_type": "code",
   "execution_count": null,
   "metadata": {
    "ExecuteTime": {
     "end_time": "2021-11-28T20:42:31.574755Z",
     "start_time": "2021-11-28T20:41:26.180552Z"
    }
   },
   "outputs": [],
   "source": [
    "clf1 = setup(train[selected_features + [TARGET]], \n",
    "             target=TARGET,\n",
    "             session_id=3, \n",
    "             log_experiment=False, \n",
    "             experiment_name=\"{}_fs\".format(PREFIX),\n",
    "             silent=True)\n",
    "\n",
    "rf = create_model('rf')\n",
    "tuned_rf = tune_model(rf,\n",
    "                     optimize=\"AUC\",\n",
    "                     fold=5,\n",
    "                     n_iter=50)"
   ]
  },
  {
   "cell_type": "code",
   "execution_count": null,
   "metadata": {
    "ExecuteTime": {
     "end_time": "2021-11-28T20:42:31.584373Z",
     "start_time": "2021-11-28T20:42:31.577456Z"
    }
   },
   "outputs": [],
   "source": [
    "tuned_rf"
   ]
  },
  {
   "cell_type": "code",
   "execution_count": null,
   "metadata": {
    "ExecuteTime": {
     "end_time": "2021-11-28T20:42:35.054571Z",
     "start_time": "2021-11-28T20:42:31.587568Z"
    }
   },
   "outputs": [],
   "source": [
    "benchmark_model = tuned_rf\n",
    "benchmark_model.fit(train[selected_features], train[TARGET])\n",
    "\n",
    "train[\"benchmark_prediction_opt_selected_features\"] = benchmark_model.predict_proba(train[selected_features])[:, 1]\n",
    "test[\"benchmark_prediction_opt_selected_features\"] = benchmark_model.predict_proba(test[selected_features])[:, 1]\n",
    "out_of_time[\"benchmark_prediction_opt_selected_features\"] = benchmark_model.predict_proba(out_of_time[selected_features])[:, 1]"
   ]
  },
  {
   "cell_type": "code",
   "execution_count": null,
   "metadata": {
    "ExecuteTime": {
     "end_time": "2021-11-28T20:42:35.100384Z",
     "start_time": "2021-11-28T20:42:35.057150Z"
    }
   },
   "outputs": [],
   "source": [
    "print(roc_auc_score(train[TARGET], train[\"benchmark_prediction_opt_selected_features\"]))\n",
    "print(roc_auc_score(test[TARGET], test[\"benchmark_prediction_opt_selected_features\"]))\n",
    "print(roc_auc_score(out_of_time[TARGET], out_of_time[\"benchmark_prediction_opt_selected_features\"]))"
   ]
  },
  {
   "cell_type": "code",
   "execution_count": null,
   "metadata": {
    "ExecuteTime": {
     "end_time": "2021-11-28T20:42:35.869995Z",
     "start_time": "2021-11-28T20:42:35.103049Z"
    }
   },
   "outputs": [],
   "source": [
    "fig, ax = plt.subplots(figsize=(8, 6))\n",
    "pd.concat([test, out_of_time]).groupby(TIME_COLUMN).apply(lambda x: roc_auc_score(x[TARGET], x[\"challenger_prediction\"])).plot(label=\"Time Robust Forest\", \n",
    "                                                                                                      linestyle=\"dashed\",\n",
    "                                                                                                      color=\"green\", ax=ax)\n",
    "pd.concat([test, out_of_time]).groupby(TIME_COLUMN).apply(lambda x: roc_auc_score(x[TARGET], x[\"benchmark_prediction\"])).plot(label=\"Random Forest\", ax=ax)\n",
    "\n",
    "pd.concat([test, out_of_time]).groupby(TIME_COLUMN).apply(lambda x: roc_auc_score(x[TARGET], x[\"benchmark_prediction_opt_selected_features\"])).plot(label=\"RF with TRF feature selection\", ax=ax)\n",
    "\n",
    "\n",
    "ax.xaxis.set_tick_params(labelsize=15)\n",
    "ax.yaxis.set_tick_params(labelsize=15)\n",
    "\n",
    "xmin, xmax, ymin, ymax = plt.axis()\n",
    "plt.vlines(training_end_year + 1, ymin, ymax, linestyle=\"dotted\", color=\"red\", label=\"Holdout start\")\n",
    "plt.ylim([ymin, ymax])\n",
    "plt.legend(fontsize=12, bbox_to_anchor=(0.12, 0.25))\n",
    "plt.ylabel(\"AUC\", fontsize=16)\n",
    "plt.xlabel(\"Year\", fontsize=16)\n",
    "plt.savefig(\"../images/{}_test_holdout_auc_years_square_fs.eps\".format(PREFIX), format=\"eps\")\n",
    "plt.show()"
   ]
  },
  {
   "cell_type": "markdown",
   "metadata": {},
   "source": [
    "## Feature Impact"
   ]
  },
  {
   "cell_type": "code",
   "execution_count": null,
   "metadata": {
    "ExecuteTime": {
     "end_time": "2021-11-28T20:42:35.911241Z",
     "start_time": "2021-11-28T20:42:35.872912Z"
    }
   },
   "outputs": [],
   "source": [
    "from pygam import LinearGAM\n",
    "from sklearn.model_selection import train_test_split\n",
    "from sklearn.metrics import r2_score\n",
    "from sklearn.preprocessing import StandardScaler\n",
    "from matplotlib.collections import PolyCollection as p"
   ]
  },
  {
   "cell_type": "code",
   "execution_count": null,
   "metadata": {
    "ExecuteTime": {
     "end_time": "2021-11-28T20:42:37.304511Z",
     "start_time": "2021-11-28T20:42:35.913695Z"
    }
   },
   "outputs": [],
   "source": [
    "fig, ax = plt.subplots()\n",
    "\n",
    "sns.distplot(out_of_time[\"challenger_prediction\"], label=\"TRF\")\n",
    "sns.distplot(out_of_time[\"benchmark_prediction\"], label=\"RF\")\n",
    "\n",
    "ax.xaxis.set_tick_params(labelsize=12)\n",
    "ax.yaxis.set_tick_params(labelsize=12)\n",
    "\n",
    "plt.legend(fontsize=15, bbox_to_anchor=(1.0, 1.0))\n",
    "plt.ylabel(\"Density\", fontsize=15)\n",
    "plt.xlabel(\"Score\", fontsize=15)\n",
    "\n",
    "__file__ = \"../images/{}_trf_rf_score_distribution\".format(PREFIX)\n",
    "plt.savefig(__file__+\".jpg\", quality=95)\n",
    "for c in ax.findobj(p):\n",
    "    c.set_zorder(-1)\n",
    "    c.set_rasterized(True)\n",
    "ax.set_rasterization_zorder(0)\n",
    "\n",
    "ax.set_rasterized(True)\n",
    "plt.savefig(__file__+\".eps\")        \n",
    "\n",
    "plt.savefig(\"../images/{}_trf_rf_score_distribution.eps\".format(PREFIX), format=\"eps\")\n",
    "plt.show()"
   ]
  },
  {
   "cell_type": "code",
   "execution_count": null,
   "metadata": {
    "ExecuteTime": {
     "end_time": "2021-11-28T20:42:37.342877Z",
     "start_time": "2021-11-28T20:42:37.307804Z"
    }
   },
   "outputs": [],
   "source": [
    "ss = StandardScaler()\n",
    "out_of_time[\"challenger_prediction_norm\"] = ss.fit_transform(out_of_time[[\"challenger_prediction\"]])\n",
    "out_of_time[\"benchmark_prediction_norm\"] = ss.fit_transform(out_of_time[[\"benchmark_prediction\"]])"
   ]
  },
  {
   "cell_type": "code",
   "execution_count": null,
   "metadata": {
    "ExecuteTime": {
     "end_time": "2021-11-28T20:42:38.124224Z",
     "start_time": "2021-11-28T20:42:37.345825Z"
    }
   },
   "outputs": [],
   "source": [
    "sns.distplot(out_of_time[\"challenger_prediction_norm\"])\n",
    "sns.distplot(out_of_time[\"benchmark_prediction_norm\"])"
   ]
  },
  {
   "cell_type": "code",
   "execution_count": null,
   "metadata": {
    "ExecuteTime": {
     "end_time": "2021-11-28T20:42:38.151477Z",
     "start_time": "2021-11-28T20:42:38.126750Z"
    }
   },
   "outputs": [],
   "source": [
    "X_train, X_test, y_train, y_test = train_test_split(out_of_time[features], \n",
    "                                                    out_of_time[[\"challenger_prediction\", \n",
    "                                                                 \"benchmark_prediction\"]],\n",
    "                                                    test_size=0.6,\n",
    "                                                    random_state=42)\n",
    "\n",
    "print(X_train.shape)\n",
    "print(X_test.shape)"
   ]
  },
  {
   "cell_type": "code",
   "execution_count": null,
   "metadata": {
    "ExecuteTime": {
     "end_time": "2021-11-28T20:42:38.159989Z",
     "start_time": "2021-11-28T20:42:38.154333Z"
    }
   },
   "outputs": [],
   "source": [
    "numerical_features = [feature for feature in features if feature not in columns_to_label_encode]\n",
    "numerical_features"
   ]
  },
  {
   "cell_type": "code",
   "execution_count": null,
   "metadata": {
    "ExecuteTime": {
     "end_time": "2021-11-28T20:42:38.224316Z",
     "start_time": "2021-11-28T20:42:38.163090Z"
    }
   },
   "outputs": [],
   "source": [
    "p99 = X_train[numerical_features].quantile(.99)\n",
    "p01 = X_train[numerical_features].quantile(.01)\n",
    "p005 = X_train.quantile(.005)\n",
    "\n",
    "X_train[numerical_features] = X_train[numerical_features].where(\n",
    "    X_train[numerical_features] < p99, other=p99, axis=1)\n",
    "X_test[numerical_features] = X_test[numerical_features].where(\n",
    "    X_test[numerical_features] < p99, other=p99, axis=1)\n",
    "\n",
    "X_train[numerical_features] = X_train[numerical_features].where(\n",
    "    X_train[numerical_features] > p01, other=p01, axis=1)\n",
    "X_test[numerical_features] = X_test[numerical_features].where(\n",
    "    X_test[numerical_features] > p01, other=p01, axis=1)\n",
    "\n",
    "X_train = X_train.fillna(p005)\n",
    "X_test = X_test.fillna(p005)"
   ]
  },
  {
   "cell_type": "code",
   "execution_count": null,
   "metadata": {
    "ExecuteTime": {
     "end_time": "2021-11-28T20:42:58.865545Z",
     "start_time": "2021-11-28T20:42:38.226814Z"
    }
   },
   "outputs": [],
   "source": [
    "dtype = [\"numerical\" if feature not in columns_to_label_encode else \"categorical\" for feature in features]\n",
    "\n",
    "gam_challenger = LinearGAM(dtype=dtype).gridsearch(X_train[features].values, y_train[\"challenger_prediction\"].values)\n",
    "gam_benchmark = LinearGAM(dtype=dtype).gridsearch(X_train[features].values, y_train[\"benchmark_prediction\"].values)"
   ]
  },
  {
   "cell_type": "code",
   "execution_count": null,
   "metadata": {
    "ExecuteTime": {
     "end_time": "2021-11-28T20:42:58.871439Z",
     "start_time": "2021-11-28T20:42:58.868343Z"
    }
   },
   "outputs": [],
   "source": [
    "# pred_test = gam_challenger.predict(X_test[features])\n",
    "# print(\"r2 test (challenger): %f\" %r2_score(y_test[\"challenger_prediction\"], pred_test))\n",
    "\n",
    "# pred_test = gam_benchmark.predict(X_test[features])\n",
    "# print(\"r2 test (benchmark): %f\" %r2_score(y_test[\"benchmark_prediction\"], pred_test))"
   ]
  },
  {
   "cell_type": "code",
   "execution_count": null,
   "metadata": {
    "ExecuteTime": {
     "end_time": "2021-11-28T20:42:58.920084Z",
     "start_time": "2021-11-28T20:42:58.875227Z"
    }
   },
   "outputs": [],
   "source": [
    "X_test.describe()"
   ]
  },
  {
   "cell_type": "code",
   "execution_count": null,
   "metadata": {},
   "outputs": [],
   "source": [
    "import matplotlib as mpl \n",
    "mpl.rcParams['agg.path.chunksize'] = 10000"
   ]
  },
  {
   "cell_type": "code",
   "execution_count": null,
   "metadata": {
    "ExecuteTime": {
     "end_time": "2021-11-28T20:43:18.885154Z",
     "start_time": "2021-11-28T20:42:58.923390Z"
    }
   },
   "outputs": [],
   "source": [
    "for i, feat in enumerate(features):\n",
    "    if feat not in numerical_features:\n",
    "        continue\n",
    "    print(feat)\n",
    "    print(i)\n",
    "    XX = gam_challenger.generate_X_grid(i, n=X_test.shape[0])\n",
    "    ### Fix needed for this dataset\n",
    "    #XX[:, 1] = np.where(X_test.values[:, 1].astype(int) >= 329, 328, X_test.values[:, 1].astype(int))\n",
    "    #XX[:, 5] = np.where(X_test.values[:, 5].astype(int) >= 2445, 2444, X_test.values[:, 5].astype(int))\n",
    "    pdep, confi = gam_challenger.partial_dependence(i, X=XX, width=.95)\n",
    "    fig, ax = plt.subplots(figsize=(10, 6), dpi=150)\n",
    "\n",
    "    plt.plot(XX[:, i], pdep, c=\"green\", label=\"TRF\")\n",
    "    plt.plot(XX[:, i], confi, c='green', ls='--')\n",
    "    plt.ylabel(\"Score\")\n",
    "    plt.legend()\n",
    "\n",
    "    ### Benchmark\n",
    "    pdep, confi = gam_benchmark.partial_dependence(i, X=XX, width=.95)\n",
    "    plt.plot(XX[:, i], pdep, color=\"#4c72b0\", label=\"RF\")\n",
    "    plt.plot(XX[:, i], confi, c='#4c72b0', ls='--')\n",
    "    plt.ylabel(\"Score\", fontsize=15)\n",
    "    plt.legend()\n",
    "\n",
    "    plt.xlabel(feat, fontsize=15)\n",
    "\n",
    "    ax.xaxis.set_tick_params(labelsize=12)\n",
    "    ax.yaxis.set_tick_params(labelsize=12)\n",
    "    xmin, xmax, ymin, ymax = plt.axis()\n",
    "    plt.ylim([ymin, ymax])\n",
    "    plt.legend(fontsize=15)\n",
    "    plt.savefig(\"../images/{}_feature_impact_{}.eps\".format(PREFIX, feat), format=\"eps\")\n",
    "\n",
    "    plt.show()\n",
    "    plt.clf()"
   ]
  },
  {
   "cell_type": "code",
   "execution_count": null,
   "metadata": {
    "ExecuteTime": {
     "end_time": "2021-11-28T20:43:20.299090Z",
     "start_time": "2021-11-28T20:43:18.887006Z"
    }
   },
   "outputs": [],
   "source": [
    "for i, feat in enumerate(features):\n",
    "    if feat in columns_to_label_encode:\n",
    "        print(feat)\n",
    "        #try:\n",
    "        mapping = encoder_mappings[feat]\n",
    "        max_cat = np.max(list(mapping.keys()))\n",
    "        if max_cat > 100:\n",
    "            continue\n",
    "        XX = np.copy(X_test)\n",
    "        XX[:, i] = np.random.randint(0, max_cat, size=X_test.shape[0])\n",
    "        XX[:, 1] = np.where(X_test.values[:, 1].astype(int) >= 329, 328, X_test.values[:, 1].astype(int))\n",
    "        XX[:, 5] = np.where(X_test.values[:, 5].astype(int) >= 2445, 2444, X_test.values[:, 5].astype(int))\n",
    "        pdep, confi = gam_challenger.partial_dependence(i, X=XX, width=.95)\n",
    "        fig, ax = plt.subplots(figsize=(10, 5), dpi=150)\n",
    "        data = pd.DataFrame(np.hstack([XX[:, i].reshape(-1, 1), pdep.reshape(-1, 1), confi]),\n",
    "                            columns=[feat, \"Mean Impact\", \"low\", \"high\"])\n",
    "        data[\"low\"] = np.abs(data[\"low\"] - data[\"Mean Impact\"])\n",
    "        data[\"high\"] = np.abs(data[\"high\"] - data[\"Mean Impact\"])\n",
    "        agg = data.groupby(feat).mean()\n",
    "\n",
    "        impact_plot = plt.bar([i for i in range(len(agg))],\n",
    "                              agg[\"Mean Impact\"],\n",
    "                              yerr=agg[[\"low\", \"high\"]].values.transpose(),\n",
    "                              color=\"#9370DB\",\n",
    "                              capsize=7)\n",
    "\n",
    "        plt.title(feat, fontsize=15)\n",
    "        plt.xticks([i for i in range(len(list(mapping.keys())))])\n",
    "        ax.set_xticklabels(list(mapping.values()), rotation=90)\n",
    "        plt.hlines(0.0, -1, max_cat, linestyles=\"dashed\")\n",
    "        plt.ylabel(\"Score\", fontsize=15)\n",
    "\n",
    "        ax.xaxis.set_tick_params(labelsize=12)\n",
    "        ax.yaxis.set_tick_params(labelsize=12)\n",
    "        xmin, xmax, ymin, ymax = plt.axis()\n",
    "        plt.ylim([ymin, ymax])\n",
    "        plt.legend(fontsize=15)\n",
    "        plt.savefig(\"../images/{}_feature_impact_cat_{}.eps\".format(PREFIX, feat), format=\"eps\")\n",
    "\n",
    "        plt.show()\n",
    "        plt.clf()\n",
    "#         except:\n",
    "#             print(\"No plot for {}\".format(feat))\n",
    "plt.show()"
   ]
  },
  {
   "cell_type": "code",
   "execution_count": null,
   "metadata": {
    "ExecuteTime": {
     "end_time": "2021-11-28T20:43:26.767735Z",
     "start_time": "2021-11-28T20:43:20.301352Z"
    }
   },
   "outputs": [],
   "source": [
    "for i, feat in enumerate(features):\n",
    "    if feat in columns_to_label_encode:\n",
    "        print(feat)\n",
    "        mapping = encoder_mappings[feat]\n",
    "        max_cat = np.max(list(mapping.keys()))\n",
    "        if max_cat > 100:\n",
    "            continue\n",
    "        XX = np.copy(X_test)\n",
    "        XX[:, i] = np.random.randint(0, max_cat, size=X_test.shape[0])\n",
    "        XX[:, 1] = np.where(X_test.values[:, 1].astype(int) >= 329, 328, X_test.values[:, 1].astype(int))\n",
    "        XX[:, 5] = np.where(X_test.values[:, 5].astype(int) >= 2445, 2444, X_test.values[:, 5].astype(int))\n",
    "\n",
    "        ### Challenger\n",
    "        pdep, confi = gam_challenger.partial_dependence(i, X=XX, width=.95)\n",
    "        fig, ax = plt.subplots(figsize=(10, 5), dpi=150)\n",
    "        data = pd.DataFrame(np.hstack([XX[:, i].reshape(-1, 1), pdep.reshape(-1, 1), confi]),\n",
    "                            columns=[feat, \"Mean Impact\", \"low\", \"high\"])\n",
    "        data[\"low\"] = np.abs(data[\"low\"] - data[\"Mean Impact\"])\n",
    "        data[\"high\"] = np.abs(data[\"high\"] - data[\"Mean Impact\"])\n",
    "        data[\"model\"] = \"TRF\"\n",
    "        agg = data.groupby(feat).mean()\n",
    "\n",
    "\n",
    "        ### Benchmark\n",
    "        pdep, confi = gam_benchmark.partial_dependence(i, X=XX, width=.95)\n",
    "        data_benchmark = pd.DataFrame(np.hstack([XX[:, i].reshape(-1, 1), pdep.reshape(-1, 1), confi]),\n",
    "                            columns=[feat, \"Mean Impact\", \"low\", \"high\"])\n",
    "        data_benchmark[\"low\"] = np.abs(data_benchmark[\"low\"] - data_benchmark[\"Mean Impact\"])\n",
    "        data_benchmark[\"high\"] = np.abs(data_benchmark[\"high\"] - data_benchmark[\"Mean Impact\"])\n",
    "        data_benchmark[\"model\"] = \"RF\"\n",
    "        \n",
    "        data = pd.concat([data, data_benchmark])\n",
    "        agg = data.groupby(feat).mean()\n",
    "        \n",
    "        sns.barplot(data=data, x=feat, y=\"Mean Impact\", hue=\"model\")\n",
    "\n",
    "\n",
    "        plt.xticks([i for i in range(len(list(mapping.keys())))])\n",
    "        ax.set_xticklabels(list(mapping.values()), rotation=90)\n",
    "        plt.hlines(0.0, -1, max_cat, linestyles=\"dashed\")\n",
    "        plt.ylabel(\"Score\", fontsize=15)\n",
    "        \n",
    "        ax.xaxis.set_tick_params(labelsize=12)\n",
    "        ax.yaxis.set_tick_params(labelsize=12)\n",
    "        xmin, xmax, ymin, ymax = plt.axis()\n",
    "        plt.ylim([ymin, ymax])\n",
    "        plt.legend(fontsize=15)\n",
    "        plt.xlabel(feat, fontsize=15)\n",
    "        plt.savefig(\"../images/{}_feature_impact_cat_comparison_{}.eps\".format(PREFIX, feat), format=\"eps\")\n",
    "        \n",
    "        plt.show()\n",
    "        plt.clf()"
   ]
  },
  {
   "cell_type": "markdown",
   "metadata": {},
   "source": [
    "## Minimum samples by period effect"
   ]
  },
  {
   "cell_type": "code",
   "execution_count": null,
   "metadata": {
    "ExecuteTime": {
     "end_time": "2021-11-28T20:43:26.772280Z",
     "start_time": "2021-11-28T20:43:26.769605Z"
    }
   },
   "outputs": [],
   "source": [
    "target = TARGET\n",
    "min_sample_periods_values = [1, 5, 10, 20, 50, 100, 250, 500]"
   ]
  },
  {
   "cell_type": "code",
   "execution_count": null,
   "metadata": {
    "ExecuteTime": {
     "end_time": "2021-11-28T20:46:10.166604Z",
     "start_time": "2021-11-28T20:43:26.774420Z"
    }
   },
   "outputs": [],
   "source": [
    "min_sample_knob = {}\n",
    "min_sample_knob[\"challenger\"] = {\"unseen_performance\": [], \"train_performance\": [],\n",
    "                                \"test_performance\": [], \"unseen_performance_by_period\": []}\n",
    "unseen_performance = []\n",
    "train_performance = []\n",
    "test_performance = []\n",
    "unseen_performance_by_period = []\n",
    "\n",
    "challenger_params = challenger_opt_param.copy()\n",
    "challenger_params.pop(\"min_sample_periods\")\n",
    "for min_sample_periods in min_sample_periods_values:\n",
    "    model_split_time = TimeForestClassifier(time_column=TIME_COLUMN,\n",
    "                                        min_sample_periods=min_sample_periods,\n",
    "                                        multi=True,\n",
    "                                        **challenger_params)\n",
    "    \n",
    "    model_split_time.fit(train[features + [TIME_COLUMN]], train[target])\n",
    "    out_of_time[\"time_split_prediction\"] = model_split_time.predict_proba(out_of_time[features])[:, 1]\n",
    "    \n",
    "    performance = metrics.roc_auc_score(out_of_time[target], out_of_time[\"time_split_prediction\"])\n",
    "    min_sample_knob[\"challenger\"][\"unseen_performance\"].append(performance)\n",
    "    min_sample_knob[\"challenger\"][\"unseen_performance_by_period\"].append(out_of_time.groupby(TIME_COLUMN).apply(lambda x: roc_auc_score(x[target], x[\"time_split_prediction\"])))\n",
    "\n",
    "    train[\"time_split_prediction\"] = model_split_time.predict(train[features])\n",
    "    min_sample_knob[\"challenger\"][\"train_performance\"].append(metrics.roc_auc_score(train[target], train[\"time_split_prediction\"]))\n",
    "    \n",
    "    test[\"time_split_prediction\"] = model_split_time.predict(test[features])\n",
    "    min_sample_knob[\"challenger\"][\"test_performance\"].append(metrics.roc_auc_score(test[target], test[\"time_split_prediction\"]))"
   ]
  },
  {
   "cell_type": "code",
   "execution_count": null,
   "metadata": {
    "ExecuteTime": {
     "end_time": "2021-11-28T20:46:10.600106Z",
     "start_time": "2021-11-28T20:46:10.169074Z"
    }
   },
   "outputs": [],
   "source": [
    "fig, ax = plt.subplots()\n",
    "plt.plot(min_sample_periods_values, min_sample_knob[\"challenger\"][\"train_performance\"], label=\"Train\")\n",
    "plt.plot(min_sample_periods_values, min_sample_knob[\"challenger\"][\"test_performance\"], label=\"Test\", \n",
    "         color=\"magenta\",\n",
    "         linestyle=\"dotted\")\n",
    "plt.plot(min_sample_periods_values, min_sample_knob[\"challenger\"][\"unseen_performance\"], label=\"Holdout\", \n",
    "                                                         linestyle=\"dashed\",\n",
    "                                                         color=\"green\")\n",
    "\n",
    "#plt.title(\"Holdout AUC by minimum examples by period parameter\", fontsize=15)\n",
    "ax.xaxis.set_tick_params(labelsize=12)\n",
    "ax.yaxis.set_tick_params(labelsize=12)\n",
    "xmin, xmax, ymin, ymax = plt.axis()\n",
    "plt.ylim([ymin, ymax])\n",
    "plt.legend(fontsize=15)\n",
    "plt.ylabel(\"AUC\", fontsize=15)\n",
    "plt.xlabel(\"Minimum examples by period\", fontsize=15)\n",
    "plt.savefig(\"../images/{}_test_min_example_by_period_train_and_holdout_whole.eps\".format(PREFIX), format=\"eps\")\n",
    "plt.show()"
   ]
  },
  {
   "cell_type": "code",
   "execution_count": null,
   "metadata": {
    "ExecuteTime": {
     "end_time": "2021-11-28T20:46:11.407511Z",
     "start_time": "2021-11-28T20:46:10.603524Z"
    }
   },
   "outputs": [],
   "source": [
    "fig, ax = plt.subplots()\n",
    "\n",
    "greens = plt.get_cmap(\"Greens\")\n",
    "gradient = np.linspace(.1, 0.9, len(min_sample_periods_values))\n",
    "for i, experiment in enumerate(min_sample_knob[\"challenger\"][\"unseen_performance_by_period\"]):\n",
    "    experiment.plot(label=min_sample_periods_values[i], color=greens(gradient[i]))\n",
    "\n",
    "out_of_time.groupby(TIME_COLUMN).apply(lambda x: roc_auc_score(x[target], x[\"benchmark_prediction\"])).plot(label=\"Optimal RF benchmark\", \n",
    "                                                                                                 color=\"red\", linestyle=\"dashed\", ax=ax)\n",
    "ax.xaxis.set_tick_params(labelsize=12)\n",
    "ax.yaxis.set_tick_params(labelsize=12)\n",
    "plt.legend(bbox_to_anchor=(1.05, 1.0), fontsize=12, title=\"Minimum examples by period\")\n",
    "plt.ylabel(\"AUC\", fontsize=15)\n",
    "plt.xlabel(\"Year\", fontsize=15)\n",
    "\n",
    "x_labels = np.sort(out_of_time[TIME_COLUMN].unique())\n",
    "plt.xticks(x_labels)\n",
    "\n",
    "plt.savefig(\"../images/{}_holdout_dif_min_samples.eps\".format(PREFIX), format=\"eps\", bbox_inches = \"tight\")\n",
    "plt.show()"
   ]
  },
  {
   "cell_type": "code",
   "execution_count": null,
   "metadata": {
    "ExecuteTime": {
     "end_time": "2021-11-28T20:49:32.878967Z",
     "start_time": "2021-11-28T20:46:11.410514Z"
    }
   },
   "outputs": [],
   "source": [
    "min_sample_knob[\"benchmark\"] = {\"unseen_performance\": [], \"train_performance\": [],\n",
    "                                \"test_performance\": [], \"unseen_performance_by_period\": []}\n",
    "\n",
    "bench_params = benchmark_opt_param.copy()\n",
    "bench_params.pop(\"min_sample_periods\")\n",
    "\n",
    "training_segments = train[TIME_COLUMN].nunique()\n",
    "for min_sample_periods in min_sample_periods_values:\n",
    "\n",
    "    model = TimeForestClassifier(time_column=DUMMY_TIME_COLUMN,\n",
    "                                       multi=True, \n",
    "                                       min_sample_periods=training_segments * min_sample_periods,\n",
    "                                       **bench_params)\n",
    "    \n",
    "    \n",
    "    model.fit(train[features + [DUMMY_TIME_COLUMN]],\n",
    "              train[TARGET])\n",
    "     \n",
    "    out_of_time[\"time_split_prediction\"] = model.predict_proba(out_of_time[features])[:, 1]\n",
    "    \n",
    "    performance = metrics.roc_auc_score(out_of_time[target], out_of_time[\"time_split_prediction\"])\n",
    "    min_sample_knob[\"benchmark\"][\"unseen_performance\"].append(performance)\n",
    "    min_sample_knob[\"benchmark\"][\"unseen_performance_by_period\"].append(out_of_time.groupby(TIME_COLUMN).apply(lambda x: roc_auc_score(x[target], x[\"time_split_prediction\"])))\n",
    "\n",
    "    train[\"time_split_prediction\"] = model.predict(train[features])\n",
    "    min_sample_knob[\"benchmark\"][\"train_performance\"].append(metrics.roc_auc_score(train[target], train[\"time_split_prediction\"]))\n",
    "    \n",
    "    test[\"time_split_prediction\"] = model.predict(test[features])\n",
    "    min_sample_knob[\"benchmark\"][\"test_performance\"].append(metrics.roc_auc_score(test[target], test[\"time_split_prediction\"]))"
   ]
  },
  {
   "cell_type": "code",
   "execution_count": null,
   "metadata": {
    "ExecuteTime": {
     "end_time": "2021-11-28T20:49:33.756678Z",
     "start_time": "2021-11-28T20:49:32.881809Z"
    }
   },
   "outputs": [],
   "source": [
    "fig, ax = plt.subplots()\n",
    "\n",
    "blues = plt.get_cmap(\"Blues\")\n",
    "for i, experiment in enumerate(min_sample_knob[\"benchmark\"][\"unseen_performance_by_period\"]):\n",
    "    experiment.plot(label=min_sample_periods_values[i], color=blues(gradient[i]))\n",
    "\n",
    "out_of_time.groupby(TIME_COLUMN).apply(lambda x: roc_auc_score(x[target], x[\"benchmark_prediction\"])).plot(label=\"Optimal RF benchmark\", \n",
    "                                                                                                 color=\"red\", linestyle=\"dashed\", ax=ax)\n",
    "\n",
    "ax.xaxis.set_tick_params(labelsize=12)\n",
    "ax.yaxis.set_tick_params(labelsize=12)\n",
    "plt.legend(bbox_to_anchor=(1.05, 1.0), fontsize=12, title=\"Minimum examples by period\")\n",
    "plt.ylabel(\"AUC\", fontsize=15)\n",
    "plt.xlabel(\"Year\", fontsize=15)\n",
    "\n",
    "x_labels = np.sort(out_of_time[TIME_COLUMN].unique())\n",
    "plt.xticks(x_labels)\n",
    "\n",
    "plt.savefig(\"../images/{}_holdout_dif_min_samples_benchmark.eps\".format(PREFIX), format=\"eps\", bbox_inches = \"tight\")\n",
    "plt.show()"
   ]
  },
  {
   "cell_type": "code",
   "execution_count": null,
   "metadata": {
    "ExecuteTime": {
     "end_time": "2021-11-28T20:49:34.735633Z",
     "start_time": "2021-11-28T20:49:33.761181Z"
    }
   },
   "outputs": [],
   "source": [
    "fig, ax = plt.subplots()\n",
    "for i, experiment in enumerate(min_sample_knob[\"challenger\"][\"unseen_performance_by_period\"]):\n",
    "    experiment.plot(label=min_sample_periods_values[i], color=greens(gradient[i]))\n",
    "    \n",
    "for i, experiment in enumerate(min_sample_knob[\"benchmark\"][\"unseen_performance_by_period\"]):\n",
    "    experiment.plot(label=min_sample_periods_values[i], color=blues(gradient[i]))    \n",
    "\n",
    "ax.xaxis.set_tick_params(labelsize=12)\n",
    "ax.yaxis.set_tick_params(labelsize=12)\n",
    "plt.legend(bbox_to_anchor=(1.05, 1.0), fontsize=12, title=\"Minimum examples by period\")\n",
    "plt.ylabel(\"AUC\", fontsize=15)\n",
    "plt.xlabel(\"Year\", fontsize=15)\n",
    "\n",
    "x_labels = np.sort(out_of_time[TIME_COLUMN].unique())\n",
    "plt.xticks(x_labels)\n",
    "\n",
    "plt.savefig(\"../images/{}_holdout_dif_min_samples_benchmark_challenger.eps\".format(PREFIX), format=\"eps\", bbox_inches = \"tight\")\n",
    "plt.show()"
   ]
  },
  {
   "cell_type": "code",
   "execution_count": null,
   "metadata": {
    "ExecuteTime": {
     "end_time": "2021-11-28T20:49:35.245237Z",
     "start_time": "2021-11-28T20:49:34.739969Z"
    }
   },
   "outputs": [],
   "source": [
    "fig, ax = plt.subplots()\n",
    "plt.plot(min_sample_periods_values, min_sample_knob[\"challenger\"][\"train_performance\"], label=\"TRF Train\",\n",
    "        color=\"#4c72b0\", linestyle=\"dashed\")\n",
    "plt.plot(min_sample_periods_values, min_sample_knob[\"challenger\"][\"test_performance\"], label=\"TRF Test\", \n",
    "         color=\"magenta\",\n",
    "         linestyle=\"dashed\")\n",
    "plt.plot(min_sample_periods_values, min_sample_knob[\"challenger\"][\"unseen_performance\"], label=\"TRF Holdout\", \n",
    "                                                         linestyle=\"dashed\",\n",
    "                                                         color=\"green\")\n",
    "\n",
    "plt.plot(min_sample_periods_values, min_sample_knob[\"benchmark\"][\"train_performance\"], label=\"RF Train\",\n",
    "        color=\"#4c72b0\")\n",
    "plt.plot(min_sample_periods_values, min_sample_knob[\"benchmark\"][\"test_performance\"], label=\"RF Test\", \n",
    "         color=\"magenta\")\n",
    "plt.plot(min_sample_periods_values, min_sample_knob[\"benchmark\"][\"unseen_performance\"], label=\"RF Holdout\", \n",
    "                                                         color=\"green\")\n",
    "\n",
    "#plt.title(\"Holdout AUC by minimum examples by period parameter\", fontsize=15)\n",
    "ax.xaxis.set_tick_params(labelsize=12)\n",
    "ax.yaxis.set_tick_params(labelsize=12)\n",
    "xmin, xmax, ymin, ymax = plt.axis()\n",
    "plt.ylim([ymin, ymax])\n",
    "plt.legend(fontsize=15)\n",
    "plt.ylabel(\"AUC\", fontsize=15)\n",
    "plt.xlabel(\"Minimum examples by period\", fontsize=15)\n",
    "plt.savefig(\"../images/{}_test_min_example_by_period_train_and_holdout_whole_bench_challenger.eps\".format(PREFIX), format=\"eps\")\n",
    "plt.show()"
   ]
  },
  {
   "cell_type": "code",
   "execution_count": null,
   "metadata": {
    "ExecuteTime": {
     "end_time": "2021-11-28T20:49:35.586068Z",
     "start_time": "2021-11-28T20:49:35.249021Z"
    }
   },
   "outputs": [],
   "source": [
    "fig, ax = plt.subplots()\n",
    "\n",
    "plt.plot(min_sample_periods_values, min_sample_knob[\"challenger\"][\"unseen_performance\"], label=\"TRF Holdout\", \n",
    "                                                         linestyle=\"dashed\",\n",
    "                                                         color=\"green\")\n",
    "\n",
    "plt.plot(min_sample_periods_values, min_sample_knob[\"benchmark\"][\"unseen_performance\"], label=\"RF Holdout\", \n",
    "                                                         color=\"green\")\n",
    "\n",
    "#plt.title(\"Holdout AUC by minimum examples by period parameter\", fontsize=15)\n",
    "ax.xaxis.set_tick_params(labelsize=12)\n",
    "ax.yaxis.set_tick_params(labelsize=12)\n",
    "xmin, xmax, ymin, ymax = plt.axis()\n",
    "plt.ylim([ymin, ymax])\n",
    "plt.legend(fontsize=15)\n",
    "plt.ylabel(\"AUC\", fontsize=15)\n",
    "plt.xlabel(\"Minimum examples by period\", fontsize=15)\n",
    "plt.savefig(\"../images/{}_holdout_min_example_by_period_train_and_holdout_whole_bench_challenger.eps\".format(PREFIX), format=\"eps\")\n",
    "plt.show()"
   ]
  },
  {
   "cell_type": "markdown",
   "metadata": {},
   "source": [
    "## Domain classifier"
   ]
  },
  {
   "cell_type": "code",
   "execution_count": null,
   "metadata": {
    "ExecuteTime": {
     "end_time": "2021-11-28T20:49:35.597790Z",
     "start_time": "2021-11-28T20:49:35.589833Z"
    }
   },
   "outputs": [],
   "source": [
    "train[\"domain\"] = 1\n",
    "test[\"domain\"] = 1\n",
    "out_of_time[\"domain\"] = 0"
   ]
  },
  {
   "cell_type": "code",
   "execution_count": null,
   "metadata": {
    "ExecuteTime": {
     "end_time": "2021-11-28T20:49:35.682921Z",
     "start_time": "2021-11-28T20:49:35.602140Z"
    }
   },
   "outputs": [],
   "source": [
    "domain_data = pd.concat([train, test, out_of_time])"
   ]
  },
  {
   "cell_type": "code",
   "execution_count": null,
   "metadata": {
    "ExecuteTime": {
     "end_time": "2021-11-28T20:49:35.765029Z",
     "start_time": "2021-11-28T20:49:35.686136Z"
    }
   },
   "outputs": [],
   "source": [
    "train_domain, test_domain = train_test_split(domain_data, \n",
    "                               test_size=0.2,\n",
    "                               random_state=42)"
   ]
  },
  {
   "cell_type": "code",
   "execution_count": null,
   "metadata": {
    "ExecuteTime": {
     "end_time": "2021-11-28T20:53:19.956424Z",
     "start_time": "2021-11-28T20:49:35.768086Z"
    }
   },
   "outputs": [],
   "source": [
    "clf2 = setup(train_domain[features + [\"domain\"]], target=\"domain\",\n",
    "             session_id=124, \n",
    "             log_experiment=False, \n",
    "             experiment_name=\"{}_domain\".format(PREFIX),\n",
    "             silent=True)\n",
    "\n",
    "rf = create_model('rf')\n",
    "tuned_domain_rf = tune_model(rf,\n",
    "                             optimize=\"AUC\",\n",
    "                             fold=5,\n",
    "                             n_iter=50)"
   ]
  },
  {
   "cell_type": "code",
   "execution_count": null,
   "metadata": {
    "ExecuteTime": {
     "end_time": "2021-11-28T20:53:19.963192Z",
     "start_time": "2021-11-28T20:53:19.958925Z"
    }
   },
   "outputs": [],
   "source": [
    "domain_model = tuned_domain_rf"
   ]
  },
  {
   "cell_type": "code",
   "execution_count": null,
   "metadata": {
    "ExecuteTime": {
     "end_time": "2021-11-28T20:53:21.529939Z",
     "start_time": "2021-11-28T20:53:19.967511Z"
    }
   },
   "outputs": [],
   "source": [
    "domain_model.fit(train_domain[features], train_domain[\"domain\"])"
   ]
  },
  {
   "cell_type": "code",
   "execution_count": null,
   "metadata": {
    "ExecuteTime": {
     "end_time": "2021-11-28T20:53:21.646923Z",
     "start_time": "2021-11-28T20:53:21.533781Z"
    }
   },
   "outputs": [],
   "source": [
    "test_domain[\"pred_domain\"] = domain_model.predict_proba(test_domain[features])[:, 1]"
   ]
  },
  {
   "cell_type": "code",
   "execution_count": null,
   "metadata": {
    "ExecuteTime": {
     "end_time": "2021-11-28T20:53:21.661638Z",
     "start_time": "2021-11-28T20:53:21.649229Z"
    }
   },
   "outputs": [],
   "source": [
    "roc_auc_score(test_domain[\"domain\"], test_domain[\"pred_domain\"])"
   ]
  },
  {
   "cell_type": "markdown",
   "metadata": {},
   "source": [
    "## Other optimization design for the RF"
   ]
  },
  {
   "cell_type": "code",
   "execution_count": null,
   "metadata": {
    "ExecuteTime": {
     "end_time": "2021-11-28T20:53:21.674323Z",
     "start_time": "2021-11-28T20:53:21.665156Z"
    }
   },
   "outputs": [],
   "source": [
    "last_time_segment_in_train = np.max(in_time[TIME_COLUMN].unique())\n",
    "last_time_segment_in_train"
   ]
  },
  {
   "cell_type": "code",
   "execution_count": null,
   "metadata": {
    "ExecuteTime": {
     "end_time": "2021-11-28T20:53:21.679733Z",
     "start_time": "2021-11-28T20:53:21.676918Z"
    }
   },
   "outputs": [],
   "source": [
    "posfix = str(last_time_segment_in_train)"
   ]
  },
  {
   "cell_type": "code",
   "execution_count": null,
   "metadata": {
    "ExecuteTime": {
     "end_time": "2021-11-28T20:53:21.723319Z",
     "start_time": "2021-11-28T20:53:21.682291Z"
    }
   },
   "outputs": [],
   "source": [
    "new_train = in_time[in_time[\"Year\"] < last_time_segment_in_train]\n",
    "new_validation = in_time[in_time[\"Year\"] == last_time_segment_in_train]"
   ]
  },
  {
   "cell_type": "code",
   "execution_count": null,
   "metadata": {
    "ExecuteTime": {
     "end_time": "2021-11-28T20:54:24.437170Z",
     "start_time": "2021-11-28T20:53:21.725880Z"
    }
   },
   "outputs": [],
   "source": [
    "clf1 = setup(new_train[features + [TARGET]], target=TARGET,\n",
    "             test_data=new_validation,\n",
    "             session_id=44,\n",
    "             log_experiment=False,\n",
    "             experiment_name=\"{}_opt1\".format(PREFIX),\n",
    "             silent=True)\n",
    "\n",
    "rf = create_model('rf')\n",
    "tuned_rf = tune_model(rf,\n",
    "                      optimize=\"AUC\",\n",
    "                      n_iter=25)"
   ]
  },
  {
   "cell_type": "code",
   "execution_count": null,
   "metadata": {
    "ExecuteTime": {
     "end_time": "2021-11-28T20:54:24.444886Z",
     "start_time": "2021-11-28T20:54:24.439562Z"
    }
   },
   "outputs": [],
   "source": [
    "tuned_rf"
   ]
  },
  {
   "cell_type": "code",
   "execution_count": null,
   "metadata": {
    "ExecuteTime": {
     "end_time": "2021-11-28T20:54:25.561109Z",
     "start_time": "2021-11-28T20:54:24.447566Z"
    }
   },
   "outputs": [],
   "source": [
    "benchmark_model = tuned_rf\n",
    "benchmark_model.fit(train[features], train[TARGET])\n",
    "\n",
    "train[\"benchmark_prediction_opt_{}\".format(posfix)] = benchmark_model.predict_proba(train[features])[:, 1]\n",
    "test[\"benchmark_prediction_opt_{}\".format(posfix)] = benchmark_model.predict_proba(test[features])[:, 1]\n",
    "out_of_time[\"benchmark_prediction_opt_{}\".format(posfix)] = benchmark_model.predict_proba(out_of_time[features])[:, 1]"
   ]
  },
  {
   "cell_type": "code",
   "execution_count": null,
   "metadata": {
    "ExecuteTime": {
     "end_time": "2021-11-28T20:54:25.587587Z",
     "start_time": "2021-11-28T20:54:25.563254Z"
    }
   },
   "outputs": [],
   "source": [
    "new_validation, add_to_train = train_test_split(new_validation, test_size=0.5)\n",
    "\n",
    "new_train = pd.concat([new_train, add_to_train])"
   ]
  },
  {
   "cell_type": "code",
   "execution_count": null,
   "metadata": {
    "ExecuteTime": {
     "end_time": "2021-11-28T20:57:43.547813Z",
     "start_time": "2021-11-28T20:54:25.590022Z"
    }
   },
   "outputs": [],
   "source": [
    "clf1 = setup(new_train[features + [TARGET]], target=TARGET,\n",
    "             test_data=new_validation,\n",
    "             session_id=22,\n",
    "             log_experiment=False,\n",
    "             experiment_name=\"{}_opt2\".format(PREFIX),\n",
    "             silent=True)\n",
    "\n",
    "rf = create_model('rf')\n",
    "tuned_rf = tune_model(rf,\n",
    "                     optimize=\"AUC\",\n",
    "                     n_iter=50)"
   ]
  },
  {
   "cell_type": "code",
   "execution_count": null,
   "metadata": {
    "ExecuteTime": {
     "end_time": "2021-11-28T20:57:44.540943Z",
     "start_time": "2021-11-28T20:57:43.551555Z"
    }
   },
   "outputs": [],
   "source": [
    "benchmark_model = tuned_rf\n",
    "benchmark_model.fit(train[features], train[TARGET])\n",
    "\n",
    "train[\"benchmark_prediction_opt_half_{}\".format(posfix)] = benchmark_model.predict_proba(train[features])[:, 1]\n",
    "test[\"benchmark_prediction_opt_half_{}\".format(posfix)] = benchmark_model.predict_proba(test[features])[:, 1]\n",
    "out_of_time[\"benchmark_prediction_opt_half_{}\".format(posfix)] = benchmark_model.predict_proba(out_of_time[features])[:, 1]"
   ]
  },
  {
   "cell_type": "code",
   "execution_count": null,
   "metadata": {
    "ExecuteTime": {
     "end_time": "2021-11-28T20:57:45.837571Z",
     "start_time": "2021-11-28T20:57:44.544331Z"
    }
   },
   "outputs": [],
   "source": [
    "fig, ax = plt.subplots()\n",
    "pd.concat([test, out_of_time]).groupby(TIME_COLUMN).apply(lambda x: roc_auc_score(x[TARGET], x[\"challenger_prediction\"])).plot(label=\"Time Robust Forest\", \n",
    "                                                                                                      linestyle=\"dashed\",\n",
    "                                                                                                      color=\"green\", ax=ax)\n",
    "\n",
    "pd.concat([test, out_of_time]).groupby(TIME_COLUMN).apply(lambda x: roc_auc_score(x[TARGET], x[\"benchmark_prediction_opt_half_{}\".format(posfix)])).plot(label=\"RF: Half {} in validation\".format(posfix), \n",
    "                                                                                                      #linestyle=\"dashed\",\n",
    "                                                                                                      color=\"purple\", ax=ax)\n",
    "pd.concat([test, out_of_time]).groupby(TIME_COLUMN).apply(lambda x: roc_auc_score(x[TARGET], x[\"benchmark_prediction\"])).plot(label=\"RF: K-fold in the in-time\", ax=ax)\n",
    "pd.concat([test, out_of_time]).groupby(TIME_COLUMN).apply(lambda x: roc_auc_score(x[TARGET], x[\"benchmark_prediction_opt_{}\".format(posfix)])).plot(label=\"RF: Full {} in validation\".format(posfix), ax=ax)\n",
    "\n",
    "ax.xaxis.set_tick_params(labelsize=12)\n",
    "ax.yaxis.set_tick_params(labelsize=12)\n",
    "\n",
    "xmin, xmax, ymin, ymax = plt.axis()\n",
    "plt.vlines(training_end_year + 1, ymin, ymax, linestyle=\"dotted\", color=\"red\", label=\"Holdout start\")\n",
    "plt.ylim([ymin, ymax])\n",
    "plt.legend(fontsize=15, bbox_to_anchor=(1.0, 1.0))\n",
    "plt.ylabel(\"AUC\", fontsize=15)\n",
    "plt.xlabel(\"Year\", fontsize=15)\n",
    "plt.savefig(\"../images/{}_performance_proof.eps\".format(PREFIX), format=\"eps\", bbox_inches = \"tight\")\n",
    "plt.show()\n"
   ]
  },
  {
   "cell_type": "code",
   "execution_count": null,
   "metadata": {},
   "outputs": [],
   "source": []
  },
  {
   "cell_type": "code",
   "execution_count": null,
   "metadata": {},
   "outputs": [],
   "source": []
  },
  {
   "cell_type": "code",
   "execution_count": 1,
   "metadata": {},
   "outputs": [
    {
     "data": {
      "text/plain": [
       "1"
      ]
     },
     "execution_count": 1,
     "metadata": {},
     "output_type": "execute_result"
    }
   ],
   "source": [
    "1"
   ]
  },
  {
   "cell_type": "code",
   "execution_count": null,
   "metadata": {},
   "outputs": [],
   "source": []
  },
  {
   "cell_type": "markdown",
   "metadata": {},
   "source": [
    "# "
   ]
  },
  {
   "cell_type": "code",
   "execution_count": null,
   "metadata": {},
   "outputs": [],
   "source": []
  }
 ],
 "metadata": {
  "hide_input": false,
  "kernelspec": {
   "display_name": "msc-2",
   "language": "python",
   "name": "python3"
  },
  "language_info": {
   "codemirror_mode": {
    "name": "ipython",
    "version": 3
   },
   "file_extension": ".py",
   "mimetype": "text/x-python",
   "name": "python",
   "nbconvert_exporter": "python",
   "pygments_lexer": "ipython3",
   "version": "3.6.15"
  },
  "toc": {
   "base_numbering": 1,
   "nav_menu": {},
   "number_sections": true,
   "sideBar": true,
   "skip_h1_title": true,
   "title_cell": "Index",
   "title_sidebar": "Contents",
   "toc_cell": true,
   "toc_position": {},
   "toc_section_display": true,
   "toc_window_display": true
  }
 },
 "nbformat": 4,
 "nbformat_minor": 5
}
