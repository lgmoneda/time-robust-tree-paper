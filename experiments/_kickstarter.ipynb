{
 "cells": [
  {
   "cell_type": "markdown",
   "metadata": {},
   "source": [
    "# Example - Kickstarter"
   ]
  },
  {
   "cell_type": "markdown",
   "metadata": {
    "toc": true
   },
   "source": [
    "<h1>Index<span class=\"tocSkip\"></span></h1>\n",
    "<div class=\"toc\"><ul class=\"toc-item\"><li><span><a href=\"#Modeling\" data-toc-modified-id=\"Modeling-1\"><span class=\"toc-item-num\">1&nbsp;&nbsp;</span>Modeling</a></span><ul class=\"toc-item\"><li><span><a href=\"#Target\" data-toc-modified-id=\"Target-1.1\"><span class=\"toc-item-num\">1.1&nbsp;&nbsp;</span>Target</a></span></li><li><span><a href=\"#Data\" data-toc-modified-id=\"Data-1.2\"><span class=\"toc-item-num\">1.2&nbsp;&nbsp;</span>Data</a></span></li></ul></li><li><span><a href=\"#Checking-the-support-in-the-different-environments\" data-toc-modified-id=\"Checking-the-support-in-the-different-environments-2\"><span class=\"toc-item-num\">2&nbsp;&nbsp;</span>Checking the support in the different environments</a></span><ul class=\"toc-item\"><li><span><a href=\"#Benchmark\" data-toc-modified-id=\"Benchmark-2.1\"><span class=\"toc-item-num\">2.1&nbsp;&nbsp;</span>Benchmark</a></span></li></ul></li><li><span><a href=\"#Challenger-model\" data-toc-modified-id=\"Challenger-model-3\"><span class=\"toc-item-num\">3&nbsp;&nbsp;</span>Challenger model</a></span></li><li><span><a href=\"#Feature-Importance-migration\" data-toc-modified-id=\"Feature-Importance-migration-4\"><span class=\"toc-item-num\">4&nbsp;&nbsp;</span>Feature Importance migration</a></span></li><li><span><a href=\"#Reverse-Learning-Curve\" data-toc-modified-id=\"Reverse-Learning-Curve-5\"><span class=\"toc-item-num\">5&nbsp;&nbsp;</span>Reverse Learning Curve</a></span></li><li><span><a href=\"#Performance-comparison\" data-toc-modified-id=\"Performance-comparison-6\"><span class=\"toc-item-num\">6&nbsp;&nbsp;</span>Performance comparison</a></span></li><li><span><a href=\"#TRF-as-feature-selection\" data-toc-modified-id=\"TRF-as-feature-selection-7\"><span class=\"toc-item-num\">7&nbsp;&nbsp;</span>TRF as feature selection</a></span></li><li><span><a href=\"#Feature-Impact\" data-toc-modified-id=\"Feature-Impact-8\"><span class=\"toc-item-num\">8&nbsp;&nbsp;</span>Feature Impact</a></span></li><li><span><a href=\"#Minimum-samples-by-period-effect\" data-toc-modified-id=\"Minimum-samples-by-period-effect-9\"><span class=\"toc-item-num\">9&nbsp;&nbsp;</span>Minimum samples by period effect</a></span></li><li><span><a href=\"#Domain-classifier\" data-toc-modified-id=\"Domain-classifier-10\"><span class=\"toc-item-num\">10&nbsp;&nbsp;</span>Domain classifier</a></span></li><li><span><a href=\"#Other-optimization-design-for-the-RF\" data-toc-modified-id=\"Other-optimization-design-for-the-RF-11\"><span class=\"toc-item-num\">11&nbsp;&nbsp;</span>Other optimization design for the RF</a></span></li></ul></div>"
   ]
  },
  {
   "cell_type": "code",
   "execution_count": null,
   "metadata": {
    "ExecuteTime": {
     "end_time": "2021-11-28T22:54:17.361684Z",
     "start_time": "2021-11-28T22:54:17.357191Z"
    }
   },
   "outputs": [],
   "source": [
    "import pandas as pd\n",
    "import matplotlib.pyplot as plt\n",
    "import numpy as np\n",
    "import shap\n",
    "import seaborn as sns\n",
    "\n",
    "from sklearn.preprocessing import LabelEncoder\n",
    "from sklearn.tree import DecisionTreeClassifier\n",
    "from sklearn.ensemble import RandomForestClassifier\n",
    "from sklearn.model_selection import train_test_split\n",
    "from sklearn.metrics import roc_auc_score\n",
    "from sklearn import metrics\n",
    "from time_robust_forest.models import TimeForestClassifier\n",
    "from time_robust_forest.functions import check_categoricals_match, check_numerical_match\n",
    "from time_robust_forest.hyper_opt import env_wise_hyper_opt\n",
    "from aux_functions import *\n",
    "\n",
    "np.random.seed(42)"
   ]
  },
  {
   "cell_type": "code",
   "execution_count": 3,
   "metadata": {
    "ExecuteTime": {
     "end_time": "2021-11-28T22:54:17.695485Z",
     "start_time": "2021-11-28T22:54:17.692667Z"
    },
    "execution": {
     "iopub.execute_input": "2021-12-01T01:02:37.559708Z",
     "iopub.status.busy": "2021-12-01T01:02:37.559444Z",
     "iopub.status.idle": "2021-12-01T01:02:37.564379Z",
     "shell.execute_reply": "2021-12-01T01:02:37.563500Z",
     "shell.execute_reply.started": "2021-12-01T01:02:37.559673Z"
    }
   },
   "outputs": [],
   "source": [
    "def set_style():\n",
    "    plt.style.use(['seaborn-white', 'seaborn-paper'])\n",
    "    plt.rcParams['figure.figsize'] = (12, 4)"
   ]
  },
  {
   "cell_type": "code",
   "execution_count": 4,
   "metadata": {
    "ExecuteTime": {
     "end_time": "2021-11-28T22:54:17.929207Z",
     "start_time": "2021-11-28T22:54:17.926779Z"
    },
    "execution": {
     "iopub.execute_input": "2021-12-01T01:02:37.566715Z",
     "iopub.status.busy": "2021-12-01T01:02:37.566418Z",
     "iopub.status.idle": "2021-12-01T01:02:37.573198Z",
     "shell.execute_reply": "2021-12-01T01:02:37.572308Z",
     "shell.execute_reply.started": "2021-12-01T01:02:37.566682Z"
    }
   },
   "outputs": [],
   "source": [
    "set_style()"
   ]
  },
  {
   "cell_type": "code",
   "execution_count": 5,
   "metadata": {
    "ExecuteTime": {
     "end_time": "2021-11-28T22:54:18.114802Z",
     "start_time": "2021-11-28T22:54:18.112444Z"
    },
    "execution": {
     "iopub.execute_input": "2021-12-01T01:02:37.575067Z",
     "iopub.status.busy": "2021-12-01T01:02:37.574813Z",
     "iopub.status.idle": "2021-12-01T01:02:37.579072Z",
     "shell.execute_reply": "2021-12-01T01:02:37.578204Z",
     "shell.execute_reply.started": "2021-12-01T01:02:37.575033Z"
    }
   },
   "outputs": [],
   "source": [
    "DATASETS_PATH = \"~/Documents/datasets/kickstarter/\"\n",
    "PREFIX = \"kickstarter\""
   ]
  },
  {
   "cell_type": "code",
   "execution_count": 6,
   "metadata": {
    "ExecuteTime": {
     "end_time": "2021-11-28T22:54:23.163893Z",
     "start_time": "2021-11-28T22:54:18.292090Z"
    },
    "execution": {
     "iopub.execute_input": "2021-12-01T01:02:37.580492Z",
     "iopub.status.busy": "2021-12-01T01:02:37.580214Z",
     "iopub.status.idle": "2021-12-01T01:02:42.836633Z",
     "shell.execute_reply": "2021-12-01T01:02:42.835606Z",
     "shell.execute_reply.started": "2021-12-01T01:02:37.580458Z"
    }
   },
   "outputs": [],
   "source": [
    "data = pd.read_csv(DATASETS_PATH + \"ks-projects-201801.csv\", engine=\"python\")"
   ]
  },
  {
   "cell_type": "code",
   "execution_count": 7,
   "metadata": {
    "ExecuteTime": {
     "end_time": "2021-11-28T22:54:23.247744Z",
     "start_time": "2021-11-28T22:54:23.166181Z"
    },
    "execution": {
     "iopub.execute_input": "2021-12-01T01:02:42.838236Z",
     "iopub.status.busy": "2021-12-01T01:02:42.837974Z",
     "iopub.status.idle": "2021-12-01T01:02:42.842017Z",
     "shell.execute_reply": "2021-12-01T01:02:42.841010Z",
     "shell.execute_reply.started": "2021-12-01T01:02:42.838199Z"
    }
   },
   "outputs": [],
   "source": [
    "#data = data.sample(frac=0.20)"
   ]
  },
  {
   "cell_type": "code",
   "execution_count": 8,
   "metadata": {
    "ExecuteTime": {
     "end_time": "2021-11-28T22:54:23.254587Z",
     "start_time": "2021-11-28T22:54:23.250813Z"
    },
    "execution": {
     "iopub.execute_input": "2021-12-01T01:02:42.843717Z",
     "iopub.status.busy": "2021-12-01T01:02:42.843439Z",
     "iopub.status.idle": "2021-12-01T01:02:42.851367Z",
     "shell.execute_reply": "2021-12-01T01:02:42.850510Z",
     "shell.execute_reply.started": "2021-12-01T01:02:42.843680Z"
    }
   },
   "outputs": [
    {
     "data": {
      "text/plain": [
       "(378661, 15)"
      ]
     },
     "execution_count": 8,
     "metadata": {},
     "output_type": "execute_result"
    }
   ],
   "source": [
    "data.shape"
   ]
  },
  {
   "cell_type": "code",
   "execution_count": 9,
   "metadata": {
    "ExecuteTime": {
     "end_time": "2021-11-28T22:54:24.348781Z",
     "start_time": "2021-11-28T22:54:23.257478Z"
    },
    "execution": {
     "iopub.execute_input": "2021-12-01T01:02:42.854575Z",
     "iopub.status.busy": "2021-12-01T01:02:42.854183Z",
     "iopub.status.idle": "2021-12-01T01:02:54.864417Z",
     "shell.execute_reply": "2021-12-01T01:02:54.863461Z",
     "shell.execute_reply.started": "2021-12-01T01:02:42.854540Z"
    }
   },
   "outputs": [
    {
     "name": "stdout",
     "output_type": "stream",
     "text": [
      "1970-01-01 01:00:00\n",
      "2018-01-02 15:02:31\n",
      "2009-05-03\n",
      "2018-03-03\n"
     ]
    }
   ],
   "source": [
    "print(data[\"launched\"].min())\n",
    "print(data[\"launched\"].max())\n",
    "\n",
    "print(data[\"deadline\"].min())\n",
    "print(data[\"deadline\"].max())\n",
    "\n",
    "data[\"launched\"] = pd.to_datetime(data[\"launched\"])\n",
    "data[\"deadline\"] = pd.to_datetime(data[\"deadline\"])\n",
    "data[\"Year\"] = data[\"launched\"].apply(lambda x: int(x.year))\n",
    "data[\"Year-Month\"] = data[\"launched\"].apply(lambda x: str(int(x.year)) + str(int(x.month)))\n",
    "data[\"Year-Month\"] = data[\"launched\"].apply(lambda x: str(int(x.year)) + str(int(x.month)))\n",
    "data[\"difference_launched_deadline\"] = (data[\"deadline\"] - data[\"launched\"]).dt.days"
   ]
  },
  {
   "cell_type": "code",
   "execution_count": 10,
   "metadata": {
    "ExecuteTime": {
     "end_time": "2021-11-28T22:54:24.434291Z",
     "start_time": "2021-11-28T22:54:24.350484Z"
    },
    "execution": {
     "iopub.execute_input": "2021-12-01T01:02:54.866754Z",
     "iopub.status.busy": "2021-12-01T01:02:54.866486Z",
     "iopub.status.idle": "2021-12-01T01:02:55.191641Z",
     "shell.execute_reply": "2021-12-01T01:02:55.190756Z",
     "shell.execute_reply.started": "2021-12-01T01:02:54.866718Z"
    }
   },
   "outputs": [
    {
     "data": {
      "text/plain": [
       "ID                              378661\n",
       "name                            375764\n",
       "category                           159\n",
       "main_category                       15\n",
       "currency                            14\n",
       "deadline                          3164\n",
       "goal                              8353\n",
       "launched                        378089\n",
       "pledged                          62130\n",
       "state                                6\n",
       "backers                           3963\n",
       "country                             23\n",
       "usd pledged                      95455\n",
       "usd_pledged_real                106065\n",
       "usd_goal_real                    50339\n",
       "Year                                11\n",
       "Year-Month                         107\n",
       "difference_launched_deadline        99\n",
       "dtype: int64"
      ]
     },
     "execution_count": 10,
     "metadata": {},
     "output_type": "execute_result"
    }
   ],
   "source": [
    "data.nunique()"
   ]
  },
  {
   "cell_type": "code",
   "execution_count": 11,
   "metadata": {
    "ExecuteTime": {
     "end_time": "2021-11-28T22:54:24.440895Z",
     "start_time": "2021-11-28T22:54:24.436119Z"
    },
    "execution": {
     "iopub.execute_input": "2021-12-01T01:02:55.193169Z",
     "iopub.status.busy": "2021-12-01T01:02:55.192909Z",
     "iopub.status.idle": "2021-12-01T01:02:55.201867Z",
     "shell.execute_reply": "2021-12-01T01:02:55.201008Z",
     "shell.execute_reply.started": "2021-12-01T01:02:55.193134Z"
    }
   },
   "outputs": [
    {
     "data": {
      "text/plain": [
       "ID                                       int64\n",
       "name                                    object\n",
       "category                                object\n",
       "main_category                           object\n",
       "currency                                object\n",
       "deadline                        datetime64[ns]\n",
       "goal                                   float64\n",
       "launched                        datetime64[ns]\n",
       "pledged                                float64\n",
       "state                                   object\n",
       "backers                                  int64\n",
       "country                                 object\n",
       "usd pledged                            float64\n",
       "usd_pledged_real                       float64\n",
       "usd_goal_real                          float64\n",
       "Year                                     int64\n",
       "Year-Month                              object\n",
       "difference_launched_deadline             int64\n",
       "dtype: object"
      ]
     },
     "execution_count": 11,
     "metadata": {},
     "output_type": "execute_result"
    }
   ],
   "source": [
    "data.dtypes"
   ]
  },
  {
   "cell_type": "markdown",
   "metadata": {},
   "source": [
    "## Modeling"
   ]
  },
  {
   "cell_type": "markdown",
   "metadata": {},
   "source": [
    "### Target"
   ]
  },
  {
   "cell_type": "code",
   "execution_count": 12,
   "metadata": {
    "ExecuteTime": {
     "end_time": "2021-11-28T22:54:24.455037Z",
     "start_time": "2021-11-28T22:54:24.442750Z"
    },
    "execution": {
     "iopub.execute_input": "2021-12-01T01:02:55.203263Z",
     "iopub.status.busy": "2021-12-01T01:02:55.202995Z",
     "iopub.status.idle": "2021-12-01T01:02:55.262141Z",
     "shell.execute_reply": "2021-12-01T01:02:55.261227Z",
     "shell.execute_reply.started": "2021-12-01T01:02:55.203229Z"
    }
   },
   "outputs": [
    {
     "data": {
      "text/plain": [
       "0.3537623362321443"
      ]
     },
     "execution_count": 12,
     "metadata": {},
     "output_type": "execute_result"
    }
   ],
   "source": [
    "data[\"state\"].unique()\n",
    "data[\"target\"] = (data[\"state\"] == \"successful\").astype(int)\n",
    "data[\"target\"].mean()"
   ]
  },
  {
   "cell_type": "markdown",
   "metadata": {},
   "source": [
    "### Data"
   ]
  },
  {
   "cell_type": "code",
   "execution_count": 13,
   "metadata": {
    "ExecuteTime": {
     "end_time": "2021-11-28T22:54:24.460450Z",
     "start_time": "2021-11-28T22:54:24.458485Z"
    },
    "execution": {
     "iopub.execute_input": "2021-12-01T01:02:55.263571Z",
     "iopub.status.busy": "2021-12-01T01:02:55.263317Z",
     "iopub.status.idle": "2021-12-01T01:02:55.267496Z",
     "shell.execute_reply": "2021-12-01T01:02:55.266586Z",
     "shell.execute_reply.started": "2021-12-01T01:02:55.263536Z"
    }
   },
   "outputs": [],
   "source": [
    "TIME_COLUMN = \"Year\"\n",
    "TARGET = \"target\""
   ]
  },
  {
   "cell_type": "code",
   "execution_count": 14,
   "metadata": {
    "ExecuteTime": {
     "end_time": "2021-11-28T22:54:25.649133Z",
     "start_time": "2021-11-28T22:54:24.463608Z"
    },
    "execution": {
     "iopub.execute_input": "2021-12-01T01:02:55.268950Z",
     "iopub.status.busy": "2021-12-01T01:02:55.268696Z",
     "iopub.status.idle": "2021-12-01T01:03:06.864570Z",
     "shell.execute_reply": "2021-12-01T01:03:06.863616Z",
     "shell.execute_reply.started": "2021-12-01T01:02:55.268917Z"
    }
   },
   "outputs": [],
   "source": [
    "data[\"launched\"] = pd.to_datetime(data[\"launched\"])\n",
    "data[\"deadline\"] = pd.to_datetime(data[\"deadline\"])\n",
    "data[\"Year\"] = data[\"launched\"].apply(lambda x: int(x.year))\n",
    "data[\"Year-Month\"] = data[\"launched\"].apply(lambda x: str(int(x.year)) + str(int(x.month)))\n",
    "data[\"Year-Month\"] = data[\"launched\"].apply(lambda x: str(int(x.year)) + str(int(x.month)))\n",
    "data[\"difference_launched_deadline\"] = (data[\"deadline\"] - data[\"launched\"]).dt.days"
   ]
  },
  {
   "cell_type": "code",
   "execution_count": 15,
   "metadata": {
    "ExecuteTime": {
     "end_time": "2021-11-28T22:54:25.652875Z",
     "start_time": "2021-11-28T22:54:25.650474Z"
    },
    "execution": {
     "iopub.execute_input": "2021-12-01T01:03:06.866163Z",
     "iopub.status.busy": "2021-12-01T01:03:06.865902Z",
     "iopub.status.idle": "2021-12-01T01:03:06.870229Z",
     "shell.execute_reply": "2021-12-01T01:03:06.869278Z",
     "shell.execute_reply.started": "2021-12-01T01:03:06.866126Z"
    }
   },
   "outputs": [],
   "source": [
    "columns_to_label_encode = [\"country\", \n",
    "                           \"currency\",\n",
    "                           \"category\",\n",
    "                           \"main_category\"]"
   ]
  },
  {
   "cell_type": "code",
   "execution_count": 16,
   "metadata": {
    "ExecuteTime": {
     "end_time": "2021-11-28T22:54:25.770310Z",
     "start_time": "2021-11-28T22:54:25.654668Z"
    },
    "execution": {
     "iopub.execute_input": "2021-12-01T01:03:06.871763Z",
     "iopub.status.busy": "2021-12-01T01:03:06.871388Z",
     "iopub.status.idle": "2021-12-01T01:03:07.425265Z",
     "shell.execute_reply": "2021-12-01T01:03:07.424273Z",
     "shell.execute_reply.started": "2021-12-01T01:03:06.871728Z"
    }
   },
   "outputs": [
    {
     "name": "stdout",
     "output_type": "stream",
     "text": [
      "country\n",
      "currency\n"
     ]
    },
    {
     "name": "stderr",
     "output_type": "stream",
     "text": [
      "A column-vector y was passed when a 1d array was expected. Please change the shape of y to (n_samples, ), for example using ravel().\n"
     ]
    },
    {
     "name": "stdout",
     "output_type": "stream",
     "text": [
      "category\n",
      "main_category\n"
     ]
    }
   ],
   "source": [
    "encoder_mappings = {}\n",
    "le = LabelEncoder()\n",
    "for column in columns_to_label_encode:\n",
    "    print(column)\n",
    "    data[column].fillna(\"None\", inplace=True)\n",
    "    data[column] = le.fit_transform(data[[column]])\n",
    "    encoder_mappings[column] = {i: le.__dict__[\"classes_\"][i] for i in range(len(le.__dict__[\"classes_\"]))}"
   ]
  },
  {
   "cell_type": "code",
   "execution_count": 17,
   "metadata": {
    "ExecuteTime": {
     "end_time": "2021-11-28T22:54:25.780612Z",
     "start_time": "2021-11-28T22:54:25.772417Z"
    },
    "execution": {
     "iopub.execute_input": "2021-12-01T01:03:07.426835Z",
     "iopub.status.busy": "2021-12-01T01:03:07.426570Z",
     "iopub.status.idle": "2021-12-01T01:03:07.442293Z",
     "shell.execute_reply": "2021-12-01T01:03:07.441382Z",
     "shell.execute_reply.started": "2021-12-01T01:03:07.426800Z"
    }
   },
   "outputs": [
    {
     "data": {
      "text/plain": [
       "2015    77300\n",
       "2014    67745\n",
       "2016    57184\n",
       "2017    52200\n",
       "2013    44851\n",
       "2012    41165\n",
       "2011    26237\n",
       "2010    10519\n",
       "2009     1329\n",
       "2018      124\n",
       "1970        7\n",
       "Name: Year, dtype: int64"
      ]
     },
     "execution_count": 17,
     "metadata": {},
     "output_type": "execute_result"
    }
   ],
   "source": [
    "data[\"goal\"] = data[\"goal\"].astype(int)\n",
    "features = [\"goal\", \"difference_launched_deadline\"] + columns_to_label_encode\n",
    "data[\"Year\"].value_counts()"
   ]
  },
  {
   "cell_type": "code",
   "execution_count": 18,
   "metadata": {
    "ExecuteTime": {
     "end_time": "2021-11-28T22:54:25.785690Z",
     "start_time": "2021-11-28T22:54:25.782791Z"
    },
    "execution": {
     "iopub.execute_input": "2021-12-01T01:03:07.443721Z",
     "iopub.status.busy": "2021-12-01T01:03:07.443467Z",
     "iopub.status.idle": "2021-12-01T01:03:07.448073Z",
     "shell.execute_reply": "2021-12-01T01:03:07.447217Z",
     "shell.execute_reply.started": "2021-12-01T01:03:07.443687Z"
    }
   },
   "outputs": [],
   "source": [
    "numerical_features = [f for f in features if f not in columns_to_label_encode]"
   ]
  },
  {
   "cell_type": "code",
   "execution_count": 19,
   "metadata": {
    "ExecuteTime": {
     "end_time": "2021-11-28T22:54:25.793487Z",
     "start_time": "2021-11-28T22:54:25.787728Z"
    },
    "execution": {
     "iopub.execute_input": "2021-12-01T01:03:07.449453Z",
     "iopub.status.busy": "2021-12-01T01:03:07.449199Z",
     "iopub.status.idle": "2021-12-01T01:03:07.458757Z",
     "shell.execute_reply": "2021-12-01T01:03:07.457886Z",
     "shell.execute_reply.started": "2021-12-01T01:03:07.449420Z"
    }
   },
   "outputs": [
    {
     "data": {
      "text/plain": [
       "2015    77300\n",
       "2014    67745\n",
       "2016    57184\n",
       "2017    52200\n",
       "2013    44851\n",
       "2012    41165\n",
       "2011    26237\n",
       "2010    10519\n",
       "2009     1329\n",
       "2018      124\n",
       "1970        7\n",
       "Name: Year, dtype: int64"
      ]
     },
     "execution_count": 19,
     "metadata": {},
     "output_type": "execute_result"
    }
   ],
   "source": [
    "data[\"Year\"].value_counts()"
   ]
  },
  {
   "cell_type": "code",
   "execution_count": 20,
   "metadata": {
    "ExecuteTime": {
     "end_time": "2021-11-28T22:54:25.816117Z",
     "start_time": "2021-11-28T22:54:25.795552Z"
    },
    "execution": {
     "iopub.execute_input": "2021-12-01T01:03:07.460162Z",
     "iopub.status.busy": "2021-12-01T01:03:07.459900Z",
     "iopub.status.idle": "2021-12-01T01:03:07.535464Z",
     "shell.execute_reply": "2021-12-01T01:03:07.534495Z",
     "shell.execute_reply.started": "2021-12-01T01:03:07.460128Z"
    }
   },
   "outputs": [],
   "source": [
    "data = data[~data[\"Year\"].isin([1970, 2018, 2009])]"
   ]
  },
  {
   "cell_type": "code",
   "execution_count": 21,
   "metadata": {
    "ExecuteTime": {
     "end_time": "2021-11-28T22:54:25.845698Z",
     "start_time": "2021-11-28T22:54:25.817574Z"
    },
    "execution": {
     "iopub.execute_input": "2021-12-01T01:03:07.536970Z",
     "iopub.status.busy": "2021-12-01T01:03:07.536708Z",
     "iopub.status.idle": "2021-12-01T01:03:07.694367Z",
     "shell.execute_reply": "2021-12-01T01:03:07.693386Z",
     "shell.execute_reply.started": "2021-12-01T01:03:07.536934Z"
    }
   },
   "outputs": [],
   "source": [
    "data[\"Year\"] = data[\"Year\"].apply(lambda x: 2011 if x==2010 else x)"
   ]
  },
  {
   "cell_type": "code",
   "execution_count": 22,
   "metadata": {
    "ExecuteTime": {
     "end_time": "2021-11-28T22:54:25.849873Z",
     "start_time": "2021-11-28T22:54:25.847459Z"
    },
    "execution": {
     "iopub.execute_input": "2021-12-01T01:03:07.695932Z",
     "iopub.status.busy": "2021-12-01T01:03:07.695666Z",
     "iopub.status.idle": "2021-12-01T01:03:07.700101Z",
     "shell.execute_reply": "2021-12-01T01:03:07.699228Z",
     "shell.execute_reply.started": "2021-12-01T01:03:07.695897Z"
    }
   },
   "outputs": [],
   "source": [
    "training_start_year = 2011\n",
    "training_end_year = 2013\n",
    "holdout_end_year = 2017"
   ]
  },
  {
   "cell_type": "code",
   "execution_count": 23,
   "metadata": {
    "ExecuteTime": {
     "end_time": "2021-11-28T22:54:25.872846Z",
     "start_time": "2021-11-28T22:54:25.851895Z"
    },
    "execution": {
     "iopub.execute_input": "2021-12-01T01:03:07.701518Z",
     "iopub.status.busy": "2021-12-01T01:03:07.701258Z",
     "iopub.status.idle": "2021-12-01T01:03:07.801442Z",
     "shell.execute_reply": "2021-12-01T01:03:07.800498Z",
     "shell.execute_reply.started": "2021-12-01T01:03:07.701484Z"
    }
   },
   "outputs": [],
   "source": [
    "in_time = data[data[\"Year\"] <= training_end_year]\n",
    "in_time = in_time[in_time[\"Year\"] >= training_start_year]\n",
    "out_of_time = data[data[\"Year\"] > training_end_year]"
   ]
  },
  {
   "cell_type": "code",
   "execution_count": 24,
   "metadata": {
    "ExecuteTime": {
     "end_time": "2021-11-28T22:54:25.885743Z",
     "start_time": "2021-11-28T22:54:25.874729Z"
    },
    "execution": {
     "iopub.execute_input": "2021-12-01T01:03:07.805953Z",
     "iopub.status.busy": "2021-12-01T01:03:07.805682Z",
     "iopub.status.idle": "2021-12-01T01:03:07.851802Z",
     "shell.execute_reply": "2021-12-01T01:03:07.850838Z",
     "shell.execute_reply.started": "2021-12-01T01:03:07.805917Z"
    }
   },
   "outputs": [],
   "source": [
    "train, test = train_test_split(in_time, \n",
    "                               test_size=0.2,\n",
    "                               random_state=42)"
   ]
  },
  {
   "cell_type": "code",
   "execution_count": 25,
   "metadata": {
    "ExecuteTime": {
     "end_time": "2021-11-28T22:54:25.891936Z",
     "start_time": "2021-11-28T22:54:25.887906Z"
    },
    "execution": {
     "iopub.execute_input": "2021-12-01T01:03:07.853917Z",
     "iopub.status.busy": "2021-12-01T01:03:07.853650Z",
     "iopub.status.idle": "2021-12-01T01:03:07.859349Z",
     "shell.execute_reply": "2021-12-01T01:03:07.858470Z",
     "shell.execute_reply.started": "2021-12-01T01:03:07.853882Z"
    }
   },
   "outputs": [
    {
     "data": {
      "text/plain": [
       "(98217, 19)"
      ]
     },
     "execution_count": 25,
     "metadata": {},
     "output_type": "execute_result"
    }
   ],
   "source": [
    "train.shape"
   ]
  },
  {
   "cell_type": "code",
   "execution_count": 26,
   "metadata": {
    "ExecuteTime": {
     "end_time": "2021-11-28T22:54:25.898272Z",
     "start_time": "2021-11-28T22:54:25.893841Z"
    },
    "execution": {
     "iopub.execute_input": "2021-12-01T01:03:07.860729Z",
     "iopub.status.busy": "2021-12-01T01:03:07.860474Z",
     "iopub.status.idle": "2021-12-01T01:03:07.866217Z",
     "shell.execute_reply": "2021-12-01T01:03:07.865296Z",
     "shell.execute_reply.started": "2021-12-01T01:03:07.860695Z"
    }
   },
   "outputs": [
    {
     "data": {
      "text/plain": [
       "(24555, 19)"
      ]
     },
     "execution_count": 26,
     "metadata": {},
     "output_type": "execute_result"
    }
   ],
   "source": [
    "test.shape"
   ]
  },
  {
   "cell_type": "code",
   "execution_count": 27,
   "metadata": {
    "ExecuteTime": {
     "end_time": "2021-11-28T22:54:25.904951Z",
     "start_time": "2021-11-28T22:54:25.900475Z"
    },
    "execution": {
     "iopub.execute_input": "2021-12-01T01:03:07.867595Z",
     "iopub.status.busy": "2021-12-01T01:03:07.867341Z",
     "iopub.status.idle": "2021-12-01T01:03:07.873084Z",
     "shell.execute_reply": "2021-12-01T01:03:07.872189Z",
     "shell.execute_reply.started": "2021-12-01T01:03:07.867561Z"
    }
   },
   "outputs": [
    {
     "data": {
      "text/plain": [
       "(254429, 19)"
      ]
     },
     "execution_count": 27,
     "metadata": {},
     "output_type": "execute_result"
    }
   ],
   "source": [
    "out_of_time.shape"
   ]
  },
  {
   "cell_type": "code",
   "execution_count": 28,
   "metadata": {
    "ExecuteTime": {
     "end_time": "2021-11-28T22:54:25.955594Z",
     "start_time": "2021-11-28T22:54:25.912152Z"
    },
    "execution": {
     "iopub.execute_input": "2021-12-01T01:03:07.874438Z",
     "iopub.status.busy": "2021-12-01T01:03:07.874188Z",
     "iopub.status.idle": "2021-12-01T01:03:08.021737Z",
     "shell.execute_reply": "2021-12-01T01:03:08.020758Z",
     "shell.execute_reply.started": "2021-12-01T01:03:07.874405Z"
    }
   },
   "outputs": [
    {
     "name": "stderr",
     "output_type": "stream",
     "text": [
      "DataFrame.mean and DataFrame.median with numeric_only=None will include datetime64 and datetime64tz columns in a future version.\n",
      "\n",
      "A value is trying to be set on a copy of a slice from a DataFrame\n",
      "\n",
      "See the caveats in the documentation: https://pandas.pydata.org/pandas-docs/stable/user_guide/indexing.html#returning-a-view-versus-a-copy\n"
     ]
    }
   ],
   "source": [
    "median_input = train.median()\n",
    "train.fillna(median_input, inplace=True)\n",
    "test.fillna(median_input, inplace=True)\n",
    "out_of_time.fillna(median_input, inplace=True)"
   ]
  },
  {
   "cell_type": "markdown",
   "metadata": {},
   "source": [
    "## Checking the support in the different environments"
   ]
  },
  {
   "cell_type": "code",
   "execution_count": 29,
   "metadata": {
    "ExecuteTime": {
     "end_time": "2021-11-28T22:54:25.980010Z",
     "start_time": "2021-11-28T22:54:25.957735Z"
    },
    "execution": {
     "iopub.execute_input": "2021-12-01T01:03:08.023242Z",
     "iopub.status.busy": "2021-12-01T01:03:08.022985Z",
     "iopub.status.idle": "2021-12-01T01:03:08.066559Z",
     "shell.execute_reply": "2021-12-01T01:03:08.065665Z",
     "shell.execute_reply.started": "2021-12-01T01:03:08.023206Z"
    }
   },
   "outputs": [
    {
     "name": "stdout",
     "output_type": "stream",
     "text": [
      "Year\n",
      "2011    0.166667\n",
      "2012    0.500000\n",
      "2013    1.000000\n",
      "Name: country, dtype: float64\n",
      "Year\n",
      "2011    0.2\n",
      "2012    0.4\n",
      "2013    1.0\n",
      "Name: currency, dtype: float64\n",
      "Year\n",
      "2011    0.618421\n",
      "2012    0.710526\n",
      "2013    0.973684\n",
      "Name: category, dtype: float64\n",
      "Year\n",
      "2011    1.0\n",
      "2012    1.0\n",
      "2013    1.0\n",
      "Name: main_category, dtype: float64\n"
     ]
    },
    {
     "data": {
      "text/plain": [
       "0.714108187134503"
      ]
     },
     "execution_count": 29,
     "metadata": {},
     "output_type": "execute_result"
    }
   ],
   "source": [
    "check_categoricals_match(train, columns_to_label_encode, \"Year\")"
   ]
  },
  {
   "cell_type": "code",
   "execution_count": 30,
   "metadata": {
    "ExecuteTime": {
     "end_time": "2021-11-28T22:54:26.003426Z",
     "start_time": "2021-11-28T22:54:25.982066Z"
    },
    "execution": {
     "iopub.execute_input": "2021-12-01T01:03:08.068013Z",
     "iopub.status.busy": "2021-12-01T01:03:08.067753Z",
     "iopub.status.idle": "2021-12-01T01:03:08.110260Z",
     "shell.execute_reply": "2021-12-01T01:03:08.109280Z",
     "shell.execute_reply.started": "2021-12-01T01:03:08.067978Z"
    }
   },
   "outputs": [
    {
     "name": "stderr",
     "output_type": "stream",
     "text": [
      "\n",
      "A value is trying to be set on a copy of a slice from a DataFrame.\n",
      "Try using .loc[row_indexer,col_indexer] = value instead\n",
      "\n",
      "See the caveats in the documentation: https://pandas.pydata.org/pandas-docs/stable/user_guide/indexing.html#returning-a-view-versus-a-copy\n"
     ]
    },
    {
     "name": "stdout",
     "output_type": "stream",
     "text": [
      "Year\n",
      "2011    0.333333\n",
      "2012    0.666667\n",
      "2013    0.777778\n",
      "Name: goal_quant, dtype: float64\n",
      "Year\n",
      "2011    1.0\n",
      "2012    0.7\n",
      "2013    0.8\n",
      "Name: difference_launched_deadline_quant, dtype: float64\n"
     ]
    },
    {
     "data": {
      "text/plain": [
       "0.712962962962963"
      ]
     },
     "execution_count": 30,
     "metadata": {},
     "output_type": "execute_result"
    }
   ],
   "source": [
    "check_numerical_match(train, numerical_features, TIME_COLUMN, verbose=True, n_q=10)"
   ]
  },
  {
   "cell_type": "markdown",
   "metadata": {},
   "source": [
    "### Benchmark"
   ]
  },
  {
   "cell_type": "code",
   "execution_count": 31,
   "metadata": {
    "ExecuteTime": {
     "end_time": "2021-11-28T22:54:26.008117Z",
     "start_time": "2021-11-28T22:54:26.005522Z"
    },
    "execution": {
     "iopub.execute_input": "2021-12-01T01:03:08.111638Z",
     "iopub.status.busy": "2021-12-01T01:03:08.111385Z",
     "iopub.status.idle": "2021-12-01T01:03:12.898407Z",
     "shell.execute_reply": "2021-12-01T01:03:12.897386Z",
     "shell.execute_reply.started": "2021-12-01T01:03:08.111604Z"
    }
   },
   "outputs": [],
   "source": [
    "from pycaret.classification import *"
   ]
  },
  {
   "cell_type": "code",
   "execution_count": 32,
   "metadata": {
    "ExecuteTime": {
     "end_time": "2021-11-28T22:54:26.014481Z",
     "start_time": "2021-11-28T22:54:26.010479Z"
    },
    "execution": {
     "iopub.execute_input": "2021-12-01T01:03:12.899859Z",
     "iopub.status.busy": "2021-12-01T01:03:12.899603Z",
     "iopub.status.idle": "2021-12-01T01:03:12.905344Z",
     "shell.execute_reply": "2021-12-01T01:03:12.904463Z",
     "shell.execute_reply.started": "2021-12-01T01:03:12.899825Z"
    }
   },
   "outputs": [
    {
     "data": {
      "text/plain": [
       "'target'"
      ]
     },
     "execution_count": 32,
     "metadata": {},
     "output_type": "execute_result"
    }
   ],
   "source": [
    "TARGET"
   ]
  },
  {
   "cell_type": "code",
   "execution_count": null,
   "metadata": {
    "ExecuteTime": {
     "end_time": "2021-11-28T22:55:14.708511Z",
     "start_time": "2021-11-28T22:54:26.016846Z"
    },
    "execution": {
     "iopub.execute_input": "2021-12-01T01:03:12.906839Z",
     "iopub.status.busy": "2021-12-01T01:03:12.906584Z"
    }
   },
   "outputs": [
    {
     "data": {
      "text/html": [
       "<style  type=\"text/css\" >\n",
       "#T_7d2f4770_5242_11ec_a47c_86f5833656ferow10_col0,#T_7d2f4770_5242_11ec_a47c_86f5833656ferow10_col1,#T_7d2f4770_5242_11ec_a47c_86f5833656ferow10_col2,#T_7d2f4770_5242_11ec_a47c_86f5833656ferow10_col3,#T_7d2f4770_5242_11ec_a47c_86f5833656ferow10_col4,#T_7d2f4770_5242_11ec_a47c_86f5833656ferow10_col5,#T_7d2f4770_5242_11ec_a47c_86f5833656ferow10_col6{\n",
       "            background:  yellow;\n",
       "        }</style><table id=\"T_7d2f4770_5242_11ec_a47c_86f5833656fe\" ><thead>    <tr>        <th class=\"blank level0\" ></th>        <th class=\"col_heading level0 col0\" >Accuracy</th>        <th class=\"col_heading level0 col1\" >AUC</th>        <th class=\"col_heading level0 col2\" >Recall</th>        <th class=\"col_heading level0 col3\" >Prec.</th>        <th class=\"col_heading level0 col4\" >F1</th>        <th class=\"col_heading level0 col5\" >Kappa</th>        <th class=\"col_heading level0 col6\" >MCC</th>    </tr></thead><tbody>\n",
       "                <tr>\n",
       "                        <th id=\"T_7d2f4770_5242_11ec_a47c_86f5833656felevel0_row0\" class=\"row_heading level0 row0\" >0</th>\n",
       "                        <td id=\"T_7d2f4770_5242_11ec_a47c_86f5833656ferow0_col0\" class=\"data row0 col0\" >0.6133</td>\n",
       "                        <td id=\"T_7d2f4770_5242_11ec_a47c_86f5833656ferow0_col1\" class=\"data row0 col1\" >0.6468</td>\n",
       "                        <td id=\"T_7d2f4770_5242_11ec_a47c_86f5833656ferow0_col2\" class=\"data row0 col2\" >0.5262</td>\n",
       "                        <td id=\"T_7d2f4770_5242_11ec_a47c_86f5833656ferow0_col3\" class=\"data row0 col3\" >0.5634</td>\n",
       "                        <td id=\"T_7d2f4770_5242_11ec_a47c_86f5833656ferow0_col4\" class=\"data row0 col4\" >0.5441</td>\n",
       "                        <td id=\"T_7d2f4770_5242_11ec_a47c_86f5833656ferow0_col5\" class=\"data row0 col5\" >0.2090</td>\n",
       "                        <td id=\"T_7d2f4770_5242_11ec_a47c_86f5833656ferow0_col6\" class=\"data row0 col6\" >0.2094</td>\n",
       "            </tr>\n",
       "            <tr>\n",
       "                        <th id=\"T_7d2f4770_5242_11ec_a47c_86f5833656felevel0_row1\" class=\"row_heading level0 row1\" >1</th>\n",
       "                        <td id=\"T_7d2f4770_5242_11ec_a47c_86f5833656ferow1_col0\" class=\"data row1 col0\" >0.6223</td>\n",
       "                        <td id=\"T_7d2f4770_5242_11ec_a47c_86f5833656ferow1_col1\" class=\"data row1 col1\" >0.6546</td>\n",
       "                        <td id=\"T_7d2f4770_5242_11ec_a47c_86f5833656ferow1_col2\" class=\"data row1 col2\" >0.5247</td>\n",
       "                        <td id=\"T_7d2f4770_5242_11ec_a47c_86f5833656ferow1_col3\" class=\"data row1 col3\" >0.5761</td>\n",
       "                        <td id=\"T_7d2f4770_5242_11ec_a47c_86f5833656ferow1_col4\" class=\"data row1 col4\" >0.5492</td>\n",
       "                        <td id=\"T_7d2f4770_5242_11ec_a47c_86f5833656ferow1_col5\" class=\"data row1 col5\" >0.2254</td>\n",
       "                        <td id=\"T_7d2f4770_5242_11ec_a47c_86f5833656ferow1_col6\" class=\"data row1 col6\" >0.2261</td>\n",
       "            </tr>\n",
       "            <tr>\n",
       "                        <th id=\"T_7d2f4770_5242_11ec_a47c_86f5833656felevel0_row2\" class=\"row_heading level0 row2\" >2</th>\n",
       "                        <td id=\"T_7d2f4770_5242_11ec_a47c_86f5833656ferow2_col0\" class=\"data row2 col0\" >0.6230</td>\n",
       "                        <td id=\"T_7d2f4770_5242_11ec_a47c_86f5833656ferow2_col1\" class=\"data row2 col1\" >0.6562</td>\n",
       "                        <td id=\"T_7d2f4770_5242_11ec_a47c_86f5833656ferow2_col2\" class=\"data row2 col2\" >0.5343</td>\n",
       "                        <td id=\"T_7d2f4770_5242_11ec_a47c_86f5833656ferow2_col3\" class=\"data row2 col3\" >0.5756</td>\n",
       "                        <td id=\"T_7d2f4770_5242_11ec_a47c_86f5833656ferow2_col4\" class=\"data row2 col4\" >0.5542</td>\n",
       "                        <td id=\"T_7d2f4770_5242_11ec_a47c_86f5833656ferow2_col5\" class=\"data row2 col5\" >0.2283</td>\n",
       "                        <td id=\"T_7d2f4770_5242_11ec_a47c_86f5833656ferow2_col6\" class=\"data row2 col6\" >0.2288</td>\n",
       "            </tr>\n",
       "            <tr>\n",
       "                        <th id=\"T_7d2f4770_5242_11ec_a47c_86f5833656felevel0_row3\" class=\"row_heading level0 row3\" >3</th>\n",
       "                        <td id=\"T_7d2f4770_5242_11ec_a47c_86f5833656ferow3_col0\" class=\"data row3 col0\" >0.6289</td>\n",
       "                        <td id=\"T_7d2f4770_5242_11ec_a47c_86f5833656ferow3_col1\" class=\"data row3 col1\" >0.6606</td>\n",
       "                        <td id=\"T_7d2f4770_5242_11ec_a47c_86f5833656ferow3_col2\" class=\"data row3 col2\" >0.5439</td>\n",
       "                        <td id=\"T_7d2f4770_5242_11ec_a47c_86f5833656ferow3_col3\" class=\"data row3 col3\" >0.5824</td>\n",
       "                        <td id=\"T_7d2f4770_5242_11ec_a47c_86f5833656ferow3_col4\" class=\"data row3 col4\" >0.5625</td>\n",
       "                        <td id=\"T_7d2f4770_5242_11ec_a47c_86f5833656ferow3_col5\" class=\"data row3 col5\" >0.2410</td>\n",
       "                        <td id=\"T_7d2f4770_5242_11ec_a47c_86f5833656ferow3_col6\" class=\"data row3 col6\" >0.2414</td>\n",
       "            </tr>\n",
       "            <tr>\n",
       "                        <th id=\"T_7d2f4770_5242_11ec_a47c_86f5833656felevel0_row4\" class=\"row_heading level0 row4\" >4</th>\n",
       "                        <td id=\"T_7d2f4770_5242_11ec_a47c_86f5833656ferow4_col0\" class=\"data row4 col0\" >0.6220</td>\n",
       "                        <td id=\"T_7d2f4770_5242_11ec_a47c_86f5833656ferow4_col1\" class=\"data row4 col1\" >0.6550</td>\n",
       "                        <td id=\"T_7d2f4770_5242_11ec_a47c_86f5833656ferow4_col2\" class=\"data row4 col2\" >0.5313</td>\n",
       "                        <td id=\"T_7d2f4770_5242_11ec_a47c_86f5833656ferow4_col3\" class=\"data row4 col3\" >0.5746</td>\n",
       "                        <td id=\"T_7d2f4770_5242_11ec_a47c_86f5833656ferow4_col4\" class=\"data row4 col4\" >0.5521</td>\n",
       "                        <td id=\"T_7d2f4770_5242_11ec_a47c_86f5833656ferow4_col5\" class=\"data row4 col5\" >0.2260</td>\n",
       "                        <td id=\"T_7d2f4770_5242_11ec_a47c_86f5833656ferow4_col6\" class=\"data row4 col6\" >0.2265</td>\n",
       "            </tr>\n",
       "            <tr>\n",
       "                        <th id=\"T_7d2f4770_5242_11ec_a47c_86f5833656felevel0_row5\" class=\"row_heading level0 row5\" >5</th>\n",
       "                        <td id=\"T_7d2f4770_5242_11ec_a47c_86f5833656ferow5_col0\" class=\"data row5 col0\" >0.6204</td>\n",
       "                        <td id=\"T_7d2f4770_5242_11ec_a47c_86f5833656ferow5_col1\" class=\"data row5 col1\" >0.6554</td>\n",
       "                        <td id=\"T_7d2f4770_5242_11ec_a47c_86f5833656ferow5_col2\" class=\"data row5 col2\" >0.5231</td>\n",
       "                        <td id=\"T_7d2f4770_5242_11ec_a47c_86f5833656ferow5_col3\" class=\"data row5 col3\" >0.5737</td>\n",
       "                        <td id=\"T_7d2f4770_5242_11ec_a47c_86f5833656ferow5_col4\" class=\"data row5 col4\" >0.5472</td>\n",
       "                        <td id=\"T_7d2f4770_5242_11ec_a47c_86f5833656ferow5_col5\" class=\"data row5 col5\" >0.2216</td>\n",
       "                        <td id=\"T_7d2f4770_5242_11ec_a47c_86f5833656ferow5_col6\" class=\"data row5 col6\" >0.2223</td>\n",
       "            </tr>\n",
       "            <tr>\n",
       "                        <th id=\"T_7d2f4770_5242_11ec_a47c_86f5833656felevel0_row6\" class=\"row_heading level0 row6\" >6</th>\n",
       "                        <td id=\"T_7d2f4770_5242_11ec_a47c_86f5833656ferow6_col0\" class=\"data row6 col0\" >0.6236</td>\n",
       "                        <td id=\"T_7d2f4770_5242_11ec_a47c_86f5833656ferow6_col1\" class=\"data row6 col1\" >0.6554</td>\n",
       "                        <td id=\"T_7d2f4770_5242_11ec_a47c_86f5833656ferow6_col2\" class=\"data row6 col2\" >0.5317</td>\n",
       "                        <td id=\"T_7d2f4770_5242_11ec_a47c_86f5833656ferow6_col3\" class=\"data row6 col3\" >0.5768</td>\n",
       "                        <td id=\"T_7d2f4770_5242_11ec_a47c_86f5833656ferow6_col4\" class=\"data row6 col4\" >0.5533</td>\n",
       "                        <td id=\"T_7d2f4770_5242_11ec_a47c_86f5833656ferow6_col5\" class=\"data row6 col5\" >0.2290</td>\n",
       "                        <td id=\"T_7d2f4770_5242_11ec_a47c_86f5833656ferow6_col6\" class=\"data row6 col6\" >0.2295</td>\n",
       "            </tr>\n",
       "            <tr>\n",
       "                        <th id=\"T_7d2f4770_5242_11ec_a47c_86f5833656felevel0_row7\" class=\"row_heading level0 row7\" >7</th>\n",
       "                        <td id=\"T_7d2f4770_5242_11ec_a47c_86f5833656ferow7_col0\" class=\"data row7 col0\" >0.6156</td>\n",
       "                        <td id=\"T_7d2f4770_5242_11ec_a47c_86f5833656ferow7_col1\" class=\"data row7 col1\" >0.6528</td>\n",
       "                        <td id=\"T_7d2f4770_5242_11ec_a47c_86f5833656ferow7_col2\" class=\"data row7 col2\" >0.5158</td>\n",
       "                        <td id=\"T_7d2f4770_5242_11ec_a47c_86f5833656ferow7_col3\" class=\"data row7 col3\" >0.5679</td>\n",
       "                        <td id=\"T_7d2f4770_5242_11ec_a47c_86f5833656ferow7_col4\" class=\"data row7 col4\" >0.5406</td>\n",
       "                        <td id=\"T_7d2f4770_5242_11ec_a47c_86f5833656ferow7_col5\" class=\"data row7 col5\" >0.2114</td>\n",
       "                        <td id=\"T_7d2f4770_5242_11ec_a47c_86f5833656ferow7_col6\" class=\"data row7 col6\" >0.2121</td>\n",
       "            </tr>\n",
       "            <tr>\n",
       "                        <th id=\"T_7d2f4770_5242_11ec_a47c_86f5833656felevel0_row8\" class=\"row_heading level0 row8\" >8</th>\n",
       "                        <td id=\"T_7d2f4770_5242_11ec_a47c_86f5833656ferow8_col0\" class=\"data row8 col0\" >0.6255</td>\n",
       "                        <td id=\"T_7d2f4770_5242_11ec_a47c_86f5833656ferow8_col1\" class=\"data row8 col1\" >0.6623</td>\n",
       "                        <td id=\"T_7d2f4770_5242_11ec_a47c_86f5833656ferow8_col2\" class=\"data row8 col2\" >0.5421</td>\n",
       "                        <td id=\"T_7d2f4770_5242_11ec_a47c_86f5833656ferow8_col3\" class=\"data row8 col3\" >0.5779</td>\n",
       "                        <td id=\"T_7d2f4770_5242_11ec_a47c_86f5833656ferow8_col4\" class=\"data row8 col4\" >0.5595</td>\n",
       "                        <td id=\"T_7d2f4770_5242_11ec_a47c_86f5833656ferow8_col5\" class=\"data row8 col5\" >0.2343</td>\n",
       "                        <td id=\"T_7d2f4770_5242_11ec_a47c_86f5833656ferow8_col6\" class=\"data row8 col6\" >0.2347</td>\n",
       "            </tr>\n",
       "            <tr>\n",
       "                        <th id=\"T_7d2f4770_5242_11ec_a47c_86f5833656felevel0_row9\" class=\"row_heading level0 row9\" >9</th>\n",
       "                        <td id=\"T_7d2f4770_5242_11ec_a47c_86f5833656ferow9_col0\" class=\"data row9 col0\" >0.6175</td>\n",
       "                        <td id=\"T_7d2f4770_5242_11ec_a47c_86f5833656ferow9_col1\" class=\"data row9 col1\" >0.6557</td>\n",
       "                        <td id=\"T_7d2f4770_5242_11ec_a47c_86f5833656ferow9_col2\" class=\"data row9 col2\" >0.5345</td>\n",
       "                        <td id=\"T_7d2f4770_5242_11ec_a47c_86f5833656ferow9_col3\" class=\"data row9 col3\" >0.5680</td>\n",
       "                        <td id=\"T_7d2f4770_5242_11ec_a47c_86f5833656ferow9_col4\" class=\"data row9 col4\" >0.5507</td>\n",
       "                        <td id=\"T_7d2f4770_5242_11ec_a47c_86f5833656ferow9_col5\" class=\"data row9 col5\" >0.2182</td>\n",
       "                        <td id=\"T_7d2f4770_5242_11ec_a47c_86f5833656ferow9_col6\" class=\"data row9 col6\" >0.2185</td>\n",
       "            </tr>\n",
       "            <tr>\n",
       "                        <th id=\"T_7d2f4770_5242_11ec_a47c_86f5833656felevel0_row10\" class=\"row_heading level0 row10\" >Mean</th>\n",
       "                        <td id=\"T_7d2f4770_5242_11ec_a47c_86f5833656ferow10_col0\" class=\"data row10 col0\" >0.6212</td>\n",
       "                        <td id=\"T_7d2f4770_5242_11ec_a47c_86f5833656ferow10_col1\" class=\"data row10 col1\" >0.6555</td>\n",
       "                        <td id=\"T_7d2f4770_5242_11ec_a47c_86f5833656ferow10_col2\" class=\"data row10 col2\" >0.5308</td>\n",
       "                        <td id=\"T_7d2f4770_5242_11ec_a47c_86f5833656ferow10_col3\" class=\"data row10 col3\" >0.5736</td>\n",
       "                        <td id=\"T_7d2f4770_5242_11ec_a47c_86f5833656ferow10_col4\" class=\"data row10 col4\" >0.5513</td>\n",
       "                        <td id=\"T_7d2f4770_5242_11ec_a47c_86f5833656ferow10_col5\" class=\"data row10 col5\" >0.2244</td>\n",
       "                        <td id=\"T_7d2f4770_5242_11ec_a47c_86f5833656ferow10_col6\" class=\"data row10 col6\" >0.2249</td>\n",
       "            </tr>\n",
       "            <tr>\n",
       "                        <th id=\"T_7d2f4770_5242_11ec_a47c_86f5833656felevel0_row11\" class=\"row_heading level0 row11\" >SD</th>\n",
       "                        <td id=\"T_7d2f4770_5242_11ec_a47c_86f5833656ferow11_col0\" class=\"data row11 col0\" >0.0044</td>\n",
       "                        <td id=\"T_7d2f4770_5242_11ec_a47c_86f5833656ferow11_col1\" class=\"data row11 col1\" >0.0040</td>\n",
       "                        <td id=\"T_7d2f4770_5242_11ec_a47c_86f5833656ferow11_col2\" class=\"data row11 col2\" >0.0082</td>\n",
       "                        <td id=\"T_7d2f4770_5242_11ec_a47c_86f5833656ferow11_col3\" class=\"data row11 col3\" >0.0053</td>\n",
       "                        <td id=\"T_7d2f4770_5242_11ec_a47c_86f5833656ferow11_col4\" class=\"data row11 col4\" >0.0063</td>\n",
       "                        <td id=\"T_7d2f4770_5242_11ec_a47c_86f5833656ferow11_col5\" class=\"data row11 col5\" >0.0093</td>\n",
       "                        <td id=\"T_7d2f4770_5242_11ec_a47c_86f5833656ferow11_col6\" class=\"data row11 col6\" >0.0093</td>\n",
       "            </tr>\n",
       "    </tbody></table>"
      ],
      "text/plain": [
       "<pandas.io.formats.style.Styler at 0x7fd9b9118f60>"
      ]
     },
     "metadata": {},
     "output_type": "display_data"
    },
    {
     "data": {
      "application/vnd.jupyter.widget-view+json": {
       "model_id": "3637e295d562403db7852bdfae2fcbda",
       "version_major": 2,
       "version_minor": 0
      },
      "text/plain": [
       "IntProgress(value=0, description='Processing: ', max=7)"
      ]
     },
     "metadata": {},
     "output_type": "display_data"
    },
    {
     "data": {
      "text/html": [
       "<div>\n",
       "<style scoped>\n",
       "    .dataframe tbody tr th:only-of-type {\n",
       "        vertical-align: middle;\n",
       "    }\n",
       "\n",
       "    .dataframe tbody tr th {\n",
       "        vertical-align: top;\n",
       "    }\n",
       "\n",
       "    .dataframe thead th {\n",
       "        text-align: right;\n",
       "    }\n",
       "</style>\n",
       "<table border=\"1\" class=\"dataframe\">\n",
       "  <thead>\n",
       "    <tr style=\"text-align: right;\">\n",
       "      <th></th>\n",
       "      <th></th>\n",
       "      <th></th>\n",
       "    </tr>\n",
       "    <tr>\n",
       "      <th></th>\n",
       "      <th></th>\n",
       "      <th></th>\n",
       "    </tr>\n",
       "  </thead>\n",
       "  <tbody>\n",
       "    <tr>\n",
       "      <th>Initiated</th>\n",
       "      <td>. . . . . . . . . . . . . . . . . .</td>\n",
       "      <td>01:03:26</td>\n",
       "    </tr>\n",
       "    <tr>\n",
       "      <th>Status</th>\n",
       "      <td>. . . . . . . . . . . . . . . . . .</td>\n",
       "      <td>Searching Hyperparameters</td>\n",
       "    </tr>\n",
       "    <tr>\n",
       "      <th>Estimator</th>\n",
       "      <td>. . . . . . . . . . . . . . . . . .</td>\n",
       "      <td>Random Forest Classifier</td>\n",
       "    </tr>\n",
       "  </tbody>\n",
       "</table>\n",
       "</div>"
      ],
      "text/plain": [
       "                                                                         \n",
       "                                                                         \n",
       "Initiated  . . . . . . . . . . . . . . . . . .                   01:03:26\n",
       "Status     . . . . . . . . . . . . . . . . . .  Searching Hyperparameters\n",
       "Estimator  . . . . . . . . . . . . . . . . . .   Random Forest Classifier"
      ]
     },
     "metadata": {},
     "output_type": "display_data"
    },
    {
     "data": {
      "text/html": [
       "<div>\n",
       "<style scoped>\n",
       "    .dataframe tbody tr th:only-of-type {\n",
       "        vertical-align: middle;\n",
       "    }\n",
       "\n",
       "    .dataframe tbody tr th {\n",
       "        vertical-align: top;\n",
       "    }\n",
       "\n",
       "    .dataframe thead th {\n",
       "        text-align: right;\n",
       "    }\n",
       "</style>\n",
       "<table border=\"1\" class=\"dataframe\">\n",
       "  <thead>\n",
       "    <tr style=\"text-align: right;\">\n",
       "      <th></th>\n",
       "      <th>Accuracy</th>\n",
       "      <th>AUC</th>\n",
       "      <th>Recall</th>\n",
       "      <th>Prec.</th>\n",
       "      <th>F1</th>\n",
       "      <th>Kappa</th>\n",
       "      <th>MCC</th>\n",
       "    </tr>\n",
       "  </thead>\n",
       "  <tbody>\n",
       "  </tbody>\n",
       "</table>\n",
       "</div>"
      ],
      "text/plain": [
       "Empty DataFrame\n",
       "Columns: [Accuracy, AUC, Recall, Prec., F1, Kappa, MCC]\n",
       "Index: []"
      ]
     },
     "metadata": {},
     "output_type": "display_data"
    },
    {
     "name": "stdout",
     "output_type": "stream",
     "text": [
      "Fitting 5 folds for each of 50 candidates, totalling 250 fits\n"
     ]
    },
    {
     "name": "stderr",
     "output_type": "stream",
     "text": [
      "[Parallel(n_jobs=-1)]: Using backend LokyBackend with 32 concurrent workers.\n"
     ]
    }
   ],
   "source": [
    "clf1 = setup(train[features + [TARGET]], \n",
    "             target=TARGET,\n",
    "             session_id=2, \n",
    "             log_experiment=False, \n",
    "             experiment_name=\"{}\".format(PREFIX),\n",
    "             silent=True)\n",
    "\n",
    "rf = create_model('rf')\n",
    "tuned_rf = tune_model(rf,\n",
    "                     optimize=\"AUC\",\n",
    "                     fold=5,\n",
    "                     n_iter=50)"
   ]
  },
  {
   "cell_type": "code",
   "execution_count": null,
   "metadata": {
    "ExecuteTime": {
     "end_time": "2021-11-28T22:55:14.716962Z",
     "start_time": "2021-11-28T22:55:14.711692Z"
    }
   },
   "outputs": [],
   "source": [
    "tuned_rf"
   ]
  },
  {
   "cell_type": "code",
   "execution_count": null,
   "metadata": {
    "ExecuteTime": {
     "end_time": "2021-11-28T22:55:15.318919Z",
     "start_time": "2021-11-28T22:55:14.721692Z"
    }
   },
   "outputs": [],
   "source": [
    "benchmark_model = tuned_rf\n",
    "benchmark_model.fit(train[features], train[TARGET])\n",
    "\n",
    "train[\"benchmark_prediction_sklearn\"] = benchmark_model.predict_proba(train[features])[:, 1]\n",
    "test[\"benchmark_prediction_sklearn\"] = benchmark_model.predict_proba(test[features])[:, 1]\n",
    "out_of_time[\"benchmark_prediction_sklearn\"] = benchmark_model.predict_proba(out_of_time[features])[:, 1]"
   ]
  },
  {
   "cell_type": "code",
   "execution_count": null,
   "metadata": {
    "ExecuteTime": {
     "end_time": "2021-11-28T22:55:15.361796Z",
     "start_time": "2021-11-28T22:55:15.322711Z"
    }
   },
   "outputs": [],
   "source": [
    "print(roc_auc_score(train[TARGET], train[\"benchmark_prediction_sklearn\"]))\n",
    "print(roc_auc_score(test[TARGET], test[\"benchmark_prediction_sklearn\"]))\n",
    "print(roc_auc_score(out_of_time[TARGET], out_of_time[\"benchmark_prediction_sklearn\"]))"
   ]
  },
  {
   "cell_type": "code",
   "execution_count": null,
   "metadata": {
    "ExecuteTime": {
     "end_time": "2021-11-28T22:55:15.370357Z",
     "start_time": "2021-11-28T22:55:15.364182Z"
    }
   },
   "outputs": [],
   "source": [
    "params_grid = {\"n_estimators\": [30, 60, 120], \n",
    "              \"max_depth\": [5, 10],\n",
    "              \"min_impurity_decrease\": [1e-1, 1e-3, 0],\n",
    "              \"min_sample_periods\": [5, 10, 30],\n",
    "              \"period_criterion\": [\"max\", \"avg\"]}\n",
    "\n",
    "params_grid_benchmark = params_grid.copy()\n",
    "params_grid_benchmark.pop(\"period_criterion\")\n",
    "# params_grid = {\"n_estimators\": [5], \n",
    "#               \"max_depth\": [5],\n",
    "#               \"min_impurity_decrease\": [0.001],\n",
    "#               \"min_sample_periods\": [5]}"
   ]
  },
  {
   "cell_type": "code",
   "execution_count": null,
   "metadata": {
    "ExecuteTime": {
     "end_time": "2021-11-28T22:55:15.378048Z",
     "start_time": "2021-11-28T22:55:15.373070Z"
    }
   },
   "outputs": [],
   "source": [
    "params_grid"
   ]
  },
  {
   "cell_type": "code",
   "execution_count": null,
   "metadata": {
    "ExecuteTime": {
     "end_time": "2021-11-28T22:55:15.385423Z",
     "start_time": "2021-11-28T22:55:15.380797Z"
    }
   },
   "outputs": [],
   "source": [
    "params_grid_benchmark"
   ]
  },
  {
   "cell_type": "code",
   "execution_count": null,
   "metadata": {
    "ExecuteTime": {
     "end_time": "2021-11-28T22:55:15.391515Z",
     "start_time": "2021-11-28T22:55:15.387554Z"
    }
   },
   "outputs": [],
   "source": [
    "DUMMY_TIME_COLUMN = \"dummy_time_column\"\n",
    "train[DUMMY_TIME_COLUMN] = 1"
   ]
  },
  {
   "cell_type": "code",
   "execution_count": null,
   "metadata": {
    "ExecuteTime": {
     "end_time": "2021-11-28T23:21:07.187427Z",
     "start_time": "2021-11-28T22:55:15.393732Z"
    }
   },
   "outputs": [],
   "source": [
    "# model = TimeForestClassifier(time_column=DUMMY_TIME_COLUMN,\n",
    "#                                         multi=True)\n",
    "\n",
    "# benchmark_opt_param = env_wise_hyper_opt(train[features + [DUMMY_TIME_COLUMN]], train[TARGET], \n",
    "#                                          model, \n",
    "#                                          DUMMY_TIME_COLUMN, \n",
    "#                                          params_grid_benchmark, \n",
    "#                                          cv=5,\n",
    "#                                          score=roc_auc_score)\n",
    "benchmark_opt_param = {'max_depth': 10,\n",
    " 'min_impurity_decrease': 0,\n",
    " 'min_sample_periods': 5,\n",
    " 'n_estimators': 120}"
   ]
  },
  {
   "cell_type": "code",
   "execution_count": null,
   "metadata": {},
   "outputs": [],
   "source": [
    "benchmark_opt_param"
   ]
  },
  {
   "cell_type": "code",
   "execution_count": null,
   "metadata": {
    "ExecuteTime": {
     "end_time": "2021-11-28T23:21:07.197757Z",
     "start_time": "2021-11-28T22:54:30.629Z"
    }
   },
   "outputs": [],
   "source": [
    "benchmark_model = TimeForestClassifier(time_column=DUMMY_TIME_COLUMN,\n",
    "                                       multi=True, \n",
    "                                       **benchmark_opt_param)"
   ]
  },
  {
   "cell_type": "code",
   "execution_count": null,
   "metadata": {
    "ExecuteTime": {
     "end_time": "2021-11-28T23:21:07.200213Z",
     "start_time": "2021-11-28T22:54:31.882Z"
    }
   },
   "outputs": [],
   "source": [
    "benchmark_model.fit(train[features + [DUMMY_TIME_COLUMN]], train[TARGET].values)"
   ]
  },
  {
   "cell_type": "code",
   "execution_count": null,
   "metadata": {
    "ExecuteTime": {
     "end_time": "2021-11-28T23:21:07.204303Z",
     "start_time": "2021-11-28T22:54:32.836Z"
    }
   },
   "outputs": [],
   "source": [
    "train[\"benchmark_prediction\"] = benchmark_model.predict_proba(train[features])[:, 1]\n",
    "test[\"benchmark_prediction\"] = benchmark_model.predict_proba(test[features])[:, 1]\n",
    "out_of_time[\"benchmark_prediction\"] = benchmark_model.predict_proba(out_of_time[features])[:, 1]"
   ]
  },
  {
   "cell_type": "code",
   "execution_count": null,
   "metadata": {
    "ExecuteTime": {
     "end_time": "2021-11-28T23:21:07.209218Z",
     "start_time": "2021-11-28T22:54:36.085Z"
    }
   },
   "outputs": [],
   "source": [
    "print(roc_auc_score(train[TARGET], train[\"benchmark_prediction\"]))\n",
    "print(roc_auc_score(test[TARGET], test[\"benchmark_prediction\"]))\n",
    "print(roc_auc_score(out_of_time[TARGET], out_of_time[\"benchmark_prediction\"]))"
   ]
  },
  {
   "cell_type": "code",
   "execution_count": null,
   "metadata": {
    "ExecuteTime": {
     "end_time": "2021-11-28T23:21:07.212811Z",
     "start_time": "2021-11-28T22:54:36.693Z"
    }
   },
   "outputs": [],
   "source": [
    "results = reverse_learning_curve(train, \n",
    "                                 out_of_time, \n",
    "                                 benchmark_model, \n",
    "                                 features, \n",
    "                                 TARGET,\n",
    "                                 TIME_COLUMN, \n",
    "                                 roc_auc_score, \n",
    "                                 n_rounds=5,\n",
    "                                 dummy_time_column=DUMMY_TIME_COLUMN)"
   ]
  },
  {
   "cell_type": "code",
   "execution_count": null,
   "metadata": {
    "ExecuteTime": {
     "end_time": "2021-11-28T23:21:07.216238Z",
     "start_time": "2021-11-28T22:54:38.819Z"
    }
   },
   "outputs": [],
   "source": [
    "benchmark_importances = results[\"feature_importance\"][-1].copy(deep=True)\n",
    "benchmark_importances.rename(\"RF\", inplace=True)"
   ]
  },
  {
   "cell_type": "code",
   "execution_count": null,
   "metadata": {
    "ExecuteTime": {
     "end_time": "2021-11-28T23:21:07.219477Z",
     "start_time": "2021-11-28T22:54:39.469Z"
    }
   },
   "outputs": [],
   "source": [
    "importance_by_reverse_segment_benchmark = plot_feature_migration_from_learning_curve_results(results, \n",
    "                                                                                             features, \n",
    "                                                                                             save_as=\"../images/{}_benchmark_importance_migration_learning_curve.eps\".format(PREFIX))"
   ]
  },
  {
   "cell_type": "code",
   "execution_count": null,
   "metadata": {
    "ExecuteTime": {
     "end_time": "2021-11-28T23:21:07.223087Z",
     "start_time": "2021-11-28T22:54:40.026Z"
    }
   },
   "outputs": [],
   "source": [
    "fig, ax = plt.subplots()\n",
    "\n",
    "blues = plt.get_cmap(\"Blues\")\n",
    "gradient = np.linspace(.2, 0.8, len(results[\"holdout_performance\"]))\n",
    "\n",
    "for i, r in enumerate(results[\"holdout_performance_by_period\"]):\n",
    "    r.plot(label=results[\"last_period_included\"][i], color=blues(gradient[i]))\n",
    "\n",
    "ax.xaxis.set_tick_params(labelsize=12)\n",
    "ax.yaxis.set_tick_params(labelsize=12)\n",
    "plt.legend(bbox_to_anchor=(1.05, 1.0), fontsize=12, title=\"Oldest time period included in train\")\n",
    "plt.ylabel(\"AUC\", fontsize=15)\n",
    "plt.xlabel(\"Year\", fontsize=15)\n",
    "\n",
    "plt.savefig(\"../images/{}_perf_by_period_reverse_learning_curve_benchmark.eps\".format(PREFIX), format=\"eps\", bbox_inches = \"tight\")\n",
    "plt.show()"
   ]
  },
  {
   "cell_type": "code",
   "execution_count": null,
   "metadata": {
    "ExecuteTime": {
     "end_time": "2021-11-28T23:21:07.226054Z",
     "start_time": "2021-11-28T22:54:40.782Z"
    }
   },
   "outputs": [],
   "source": [
    "results"
   ]
  },
  {
   "cell_type": "markdown",
   "metadata": {},
   "source": [
    "## Challenger model"
   ]
  },
  {
   "cell_type": "code",
   "execution_count": null,
   "metadata": {
    "ExecuteTime": {
     "end_time": "2021-11-28T20:37:57.289297Z",
     "start_time": "2021-11-28T20:37:57.286212Z"
    }
   },
   "outputs": [],
   "source": [
    "train.reset_index(drop=True, inplace=True)"
   ]
  },
  {
   "cell_type": "code",
   "execution_count": null,
   "metadata": {
    "ExecuteTime": {
     "end_time": "2021-11-28T20:37:57.304584Z",
     "start_time": "2021-11-28T20:37:57.291568Z"
    }
   },
   "outputs": [],
   "source": [
    "train[features + [TIME_COLUMN]]"
   ]
  },
  {
   "cell_type": "code",
   "execution_count": null,
   "metadata": {
    "ExecuteTime": {
     "end_time": "2021-11-28T20:37:57.313172Z",
     "start_time": "2021-11-28T20:37:57.306931Z"
    }
   },
   "outputs": [],
   "source": [
    "train[\"Year\"].value_counts()"
   ]
  },
  {
   "cell_type": "code",
   "execution_count": null,
   "metadata": {
    "ExecuteTime": {
     "end_time": "2021-11-28T20:39:04.023667Z",
     "start_time": "2021-11-28T20:37:57.315398Z"
    }
   },
   "outputs": [],
   "source": [
    "model = TimeForestClassifier(time_column=TIME_COLUMN,\n",
    "                                        multi=True)\n",
    "\n",
    "challenger_opt_param = env_wise_hyper_opt(train[features + [TIME_COLUMN]], \n",
    "                                          train[TARGET], \n",
    "                                          model, \n",
    "                                          TIME_COLUMN,\n",
    "                                          params_grid,\n",
    "                                          cv=5,\n",
    "                                          score=roc_auc_score)\n",
    "challenger_opt_param"
   ]
  },
  {
   "cell_type": "code",
   "execution_count": null,
   "metadata": {
    "ExecuteTime": {
     "end_time": "2021-11-28T20:39:18.575246Z",
     "start_time": "2021-11-28T20:39:04.025941Z"
    }
   },
   "outputs": [],
   "source": [
    "challenger_model = TimeForestClassifier(time_column=TIME_COLUMN,\n",
    "                                        multi=True,\n",
    "                                        **challenger_opt_param)\n",
    "\n",
    "challenger_model.fit(train[features + [TIME_COLUMN]], train[TARGET].values)\n",
    "\n",
    "train[\"challenger_prediction\"] = challenger_model.predict_proba(train[features])[:, 1]\n",
    "test[\"challenger_prediction\"] = challenger_model.predict_proba(test[features])[:, 1]\n",
    "out_of_time[\"challenger_prediction\"] = challenger_model.predict_proba(out_of_time[features])[:, 1]"
   ]
  },
  {
   "cell_type": "code",
   "execution_count": null,
   "metadata": {
    "ExecuteTime": {
     "end_time": "2021-11-28T20:39:18.606662Z",
     "start_time": "2021-11-28T20:39:18.577201Z"
    }
   },
   "outputs": [],
   "source": [
    "print(roc_auc_score(train[TARGET], train[\"challenger_prediction\"]))\n",
    "print(roc_auc_score(test[TARGET], test[\"challenger_prediction\"]))\n",
    "print(roc_auc_score(out_of_time[TARGET], out_of_time[\"challenger_prediction\"]))"
   ]
  },
  {
   "cell_type": "markdown",
   "metadata": {},
   "source": [
    "## Feature Importance migration"
   ]
  },
  {
   "cell_type": "code",
   "execution_count": null,
   "metadata": {
    "ExecuteTime": {
     "end_time": "2021-11-28T20:41:22.564431Z",
     "start_time": "2021-11-28T20:39:18.609051Z"
    }
   },
   "outputs": [],
   "source": [
    "challenger_model = TimeForestClassifier(time_column=TIME_COLUMN,\n",
    "                                        multi=True,\n",
    "                                        **challenger_opt_param)\n",
    "\n",
    "results_trt = reverse_learning_curve(train, \n",
    "                                     out_of_time, \n",
    "                                     challenger_model, \n",
    "                                     features, TARGET, TIME_COLUMN, roc_auc_score, n_rounds=5, challenger=True)"
   ]
  },
  {
   "cell_type": "code",
   "execution_count": null,
   "metadata": {
    "ExecuteTime": {
     "end_time": "2021-11-28T20:41:22.574977Z",
     "start_time": "2021-11-28T20:41:22.566812Z"
    }
   },
   "outputs": [],
   "source": [
    "challenger_model_importances = results_trt[\"feature_importance\"][-1].copy(deep=True)\n",
    "challenger_model_importances.rename(\"TRF\", inplace=True)\n",
    "challenger_model_importances"
   ]
  },
  {
   "cell_type": "code",
   "execution_count": null,
   "metadata": {
    "ExecuteTime": {
     "end_time": "2021-11-28T20:41:22.593719Z",
     "start_time": "2021-11-28T20:41:22.578738Z"
    }
   },
   "outputs": [],
   "source": [
    "all_models_importance = pd.DataFrame(index=features)\n",
    "all_models_importance = all_models_importance.merge(benchmark_importances, how=\"left\", left_index=True, \n",
    "                            right_index=True)\n",
    "all_models_importance = all_models_importance.merge(challenger_model_importances, how=\"left\", left_index=True, \n",
    "                            right_index=True)\n",
    "\n",
    "all_models_importance.fillna(0, inplace=True)\n",
    "all_models_importance"
   ]
  },
  {
   "cell_type": "code",
   "execution_count": null,
   "metadata": {
    "ExecuteTime": {
     "end_time": "2021-11-28T20:41:23.086422Z",
     "start_time": "2021-11-28T20:41:22.596989Z"
    }
   },
   "outputs": [],
   "source": [
    "plot_shap_difference(all_models_importance[[\"RF\", \"TRF\"]], title=\"\", save_as=\"../images/{}_importance_migration.eps\".format(PREFIX))"
   ]
  },
  {
   "cell_type": "code",
   "execution_count": null,
   "metadata": {
    "ExecuteTime": {
     "end_time": "2021-11-28T20:41:23.099505Z",
     "start_time": "2021-11-28T20:41:23.089495Z"
    }
   },
   "outputs": [],
   "source": [
    "results_trt"
   ]
  },
  {
   "cell_type": "markdown",
   "metadata": {},
   "source": [
    "## Reverse Learning Curve"
   ]
  },
  {
   "cell_type": "code",
   "execution_count": null,
   "metadata": {
    "ExecuteTime": {
     "end_time": "2021-11-28T20:41:23.629885Z",
     "start_time": "2021-11-28T20:41:23.101919Z"
    }
   },
   "outputs": [],
   "source": [
    "importance_by_reverse_segment_challenger = plot_feature_migration_from_learning_curve_results(results_trt, features, \n",
    "                                                                                             save_as=\"../images/{}_challenger_importance_migration_learning_curve.eps\".format(PREFIX))\n",
    "importance_by_reverse_segment_challenger"
   ]
  },
  {
   "cell_type": "code",
   "execution_count": null,
   "metadata": {
    "ExecuteTime": {
     "end_time": "2021-11-28T20:41:24.075702Z",
     "start_time": "2021-11-28T20:41:23.632473Z"
    }
   },
   "outputs": [],
   "source": [
    "fig, ax = plt.subplots()\n",
    "\n",
    "greens = plt.get_cmap(\"Greens\")\n",
    "gradient = np.linspace(.2, 0.8, len(results_trt[\"holdout_performance\"]))\n",
    "\n",
    "for i, r in enumerate(results_trt[\"holdout_performance_by_period\"]):\n",
    "    r.plot(label=results_trt[\"last_period_included\"][i], color=greens(gradient[i]))\n",
    "\n",
    "ax.xaxis.set_tick_params(labelsize=12)\n",
    "ax.yaxis.set_tick_params(labelsize=12)\n",
    "plt.legend(bbox_to_anchor=(1.05, 1.0), fontsize=12, title=\"Oldest time period included in train\")\n",
    "plt.ylabel(\"AUC\", fontsize=15)\n",
    "plt.xlabel(\"Year\", fontsize=15)\n",
    "\n",
    "plt.savefig(\"../images/{}_perf_by_period_reverse_learning_curve_challenger.eps\".format(PREFIX), format=\"eps\", bbox_inches = \"tight\")\n",
    "plt.show()"
   ]
  },
  {
   "cell_type": "code",
   "execution_count": null,
   "metadata": {
    "ExecuteTime": {
     "end_time": "2021-11-28T20:41:24.302858Z",
     "start_time": "2021-11-28T20:41:24.078242Z"
    }
   },
   "outputs": [],
   "source": [
    "fig, ax = plt.subplots()\n",
    "plt.plot([str(i) for i in results[\"sample_size\"]], results[\"holdout_performance\"], label=\"RF\")\n",
    "plt.plot(results_trt[\"holdout_performance\"], label=\"TRF\", linestyle=\"dashed\", color=\"green\")\n",
    "ax.xaxis.set_tick_params(labelsize=12)\n",
    "ax.yaxis.set_tick_params(labelsize=12)\n",
    "plt.legend(fontsize=15, bbox_to_anchor=(1.0, 1.0))\n",
    "plt.ylabel(\"AUC in the holdout\", fontsize=15)\n",
    "plt.xlabel(\"Sample size\", fontsize=15)\n",
    "plt.savefig(\"../images/{}_reverse_learning_curve_sample.eps\".format(PREFIX), format=\"eps\")\n",
    "plt.show()"
   ]
  },
  {
   "cell_type": "code",
   "execution_count": null,
   "metadata": {
    "ExecuteTime": {
     "end_time": "2021-11-28T20:41:24.519350Z",
     "start_time": "2021-11-28T20:41:24.305181Z"
    }
   },
   "outputs": [],
   "source": [
    "fig, ax = plt.subplots()\n",
    "plt.plot([str(i) for i in results[\"last_period_included\"]], results[\"holdout_performance\"], label=\"RF\")\n",
    "plt.plot(results_trt[\"holdout_performance\"], label=\"TRF\", linestyle=\"dashed\", color=\"green\")\n",
    "ax.xaxis.set_tick_params(labelsize=12)\n",
    "ax.yaxis.set_tick_params(labelsize=12)\n",
    "plt.legend(fontsize=15, bbox_to_anchor=(1.0, 1.0))\n",
    "plt.ylabel(\"AUC in the holdout\", fontsize=15)\n",
    "plt.xlabel(\"Oldest time period included in the training\", fontsize=15)\n",
    "plt.savefig(\"../images/{}_reverse_learning_curve_segments.eps\".format(PREFIX), format=\"eps\")\n",
    "plt.show()"
   ]
  },
  {
   "cell_type": "code",
   "execution_count": null,
   "metadata": {
    "ExecuteTime": {
     "end_time": "2021-11-28T20:41:25.006314Z",
     "start_time": "2021-11-28T20:41:24.521663Z"
    }
   },
   "outputs": [],
   "source": [
    "fig, ax = plt.subplots()\n",
    "\n",
    "greens = plt.get_cmap(\"Greens\")\n",
    "gradient = np.linspace(.2, 0.8, len(results_trt[\"holdout_performance\"]))\n",
    "\n",
    "for i, r in enumerate(results_trt[\"holdout_performance_by_period\"]):\n",
    "    r.plot(label=results_trt[\"last_period_included\"][i], color=greens(gradient[i]))\n",
    "    \n",
    "for i, r in enumerate(results[\"holdout_performance_by_period\"]):\n",
    "    r.plot(label=results[\"last_period_included\"][i], color=blues(gradient[i]))\n",
    "\n",
    "ax.xaxis.set_tick_params(labelsize=12)\n",
    "ax.yaxis.set_tick_params(labelsize=12)\n",
    "plt.legend(bbox_to_anchor=(1.05, 1.0), fontsize=12, title=\"Oldest time period included in train\")\n",
    "plt.ylabel(\"AUC\", fontsize=15)\n",
    "plt.xlabel(\"Year\", fontsize=15)\n",
    "\n",
    "plt.savefig(\"../images/{}_perf_by_period_reverse_learning_curve_both.eps\".format(PREFIX), format=\"eps\", bbox_inches = \"tight\")\n",
    "plt.show()"
   ]
  },
  {
   "cell_type": "markdown",
   "metadata": {},
   "source": [
    "## Performance comparison"
   ]
  },
  {
   "cell_type": "code",
   "execution_count": null,
   "metadata": {
    "ExecuteTime": {
     "end_time": "2021-11-28T20:41:25.496262Z",
     "start_time": "2021-11-28T20:41:25.008611Z"
    }
   },
   "outputs": [],
   "source": [
    "fig, ax = plt.subplots()\n",
    "pd.concat([test, out_of_time]).groupby(TIME_COLUMN).apply(lambda x: roc_auc_score(x[TARGET], x[\"challenger_prediction\"])).plot(label=\"Time Robust Forest\", \n",
    "                                                                                                      linestyle=\"dashed\",\n",
    "                                                                                                      color=\"green\", ax=ax)\n",
    "pd.concat([test, out_of_time]).groupby(TIME_COLUMN).apply(lambda x: roc_auc_score(x[TARGET], x[\"benchmark_prediction\"])).plot(label=\"Random Forest\", ax=ax)\n",
    "\n",
    "ax.xaxis.set_tick_params(labelsize=12)\n",
    "ax.yaxis.set_tick_params(labelsize=12)\n",
    "\n",
    "xmin, xmax, ymin, ymax = plt.axis()\n",
    "plt.vlines(training_end_year + 1, ymin, ymax, linestyle=\"dotted\", color=\"red\", label=\"Holdout start\")\n",
    "plt.ylim([ymin, ymax])\n",
    "plt.legend(fontsize=15, bbox_to_anchor=(1.0, 1.0))\n",
    "plt.ylabel(\"AUC\", fontsize=15)\n",
    "plt.xlabel(\"Year\", fontsize=15)\n",
    "plt.savefig(\"../images/{}_test_holdout_auc_years.eps\".format(PREFIX), format=\"eps\")\n",
    "plt.show()"
   ]
  },
  {
   "cell_type": "code",
   "execution_count": null,
   "metadata": {
    "ExecuteTime": {
     "end_time": "2021-11-28T20:41:26.007617Z",
     "start_time": "2021-11-28T20:41:25.498675Z"
    }
   },
   "outputs": [],
   "source": [
    "plt.rcParams['figure.figsize'] = (8, 6)\n",
    "fig, ax = plt.subplots()\n",
    "pd.concat([test, out_of_time]).groupby(TIME_COLUMN).apply(lambda x: roc_auc_score(x[TARGET], x[\"challenger_prediction\"])).plot(label=\"Time Robust Forest\", \n",
    "                                                                                                      linestyle=\"dashed\",\n",
    "                                                                                                      color=\"green\", ax=ax)\n",
    "pd.concat([test, out_of_time]).groupby(TIME_COLUMN).apply(lambda x: roc_auc_score(x[TARGET], x[\"benchmark_prediction\"])).plot(label=\"Random Forest\", ax=ax)\n",
    "\n",
    "\n",
    "ax.xaxis.set_tick_params(labelsize=15)\n",
    "ax.yaxis.set_tick_params(labelsize=15)\n",
    "\n",
    "xmin, xmax, ymin, ymax = plt.axis()\n",
    "plt.vlines(training_end_year + 1, ymin, ymax, linestyle=\"dotted\", color=\"red\", label=\"Holdout start\")\n",
    "plt.ylim([ymin, ymax])\n",
    "plt.legend(fontsize=13, bbox_to_anchor=(0.42, 1.0))\n",
    "\n",
    "plt.ylabel(\"AUC\", fontsize=16)\n",
    "plt.xlabel(\"Year\", fontsize=16)\n",
    "plt.savefig(\"../images/{}_test_holdout_auc_years_square.eps\".format(PREFIX), format=\"eps\")\n",
    "plt.show()"
   ]
  },
  {
   "cell_type": "markdown",
   "metadata": {},
   "source": [
    "## TRF as feature selection"
   ]
  },
  {
   "cell_type": "code",
   "execution_count": null,
   "metadata": {
    "ExecuteTime": {
     "end_time": "2021-11-28T20:41:26.037285Z",
     "start_time": "2021-11-28T20:41:26.009959Z"
    }
   },
   "outputs": [],
   "source": [
    "challenger_model.feature_importance()"
   ]
  },
  {
   "cell_type": "code",
   "execution_count": null,
   "metadata": {
    "ExecuteTime": {
     "end_time": "2021-11-28T20:41:26.147354Z",
     "start_time": "2021-11-28T20:41:26.040072Z"
    }
   },
   "outputs": [],
   "source": [
    "selected_features = [feature for feature in features if feature in challenger_model.feature_importance().index]\n",
    "selected_features"
   ]
  },
  {
   "cell_type": "code",
   "execution_count": null,
   "metadata": {
    "ExecuteTime": {
     "end_time": "2021-11-28T20:41:26.167981Z",
     "start_time": "2021-11-28T20:41:26.162937Z"
    }
   },
   "outputs": [],
   "source": [
    "if len(selected_features) == len(features):\n",
    "    selected_features = list(challenger_model.feature_importance().sort_values(ascending=False).index[:int(len(features)/2)+2].values)\n",
    "    \n",
    "selected_features    "
   ]
  },
  {
   "cell_type": "code",
   "execution_count": null,
   "metadata": {
    "ExecuteTime": {
     "end_time": "2021-11-28T20:41:26.177990Z",
     "start_time": "2021-11-28T20:41:26.173384Z"
    }
   },
   "outputs": [],
   "source": [
    "selected_features"
   ]
  },
  {
   "cell_type": "code",
   "execution_count": null,
   "metadata": {
    "ExecuteTime": {
     "end_time": "2021-11-28T20:42:31.574755Z",
     "start_time": "2021-11-28T20:41:26.180552Z"
    }
   },
   "outputs": [],
   "source": [
    "clf1 = setup(train[selected_features + [TARGET]], \n",
    "             target=TARGET,\n",
    "             session_id=3, \n",
    "             log_experiment=False, \n",
    "             experiment_name=\"{}_fs\".format(PREFIX),\n",
    "             silent=True)\n",
    "\n",
    "rf = create_model('rf')\n",
    "tuned_rf = tune_model(rf,\n",
    "                     optimize=\"AUC\",\n",
    "                     fold=5,\n",
    "                     n_iter=50)"
   ]
  },
  {
   "cell_type": "code",
   "execution_count": null,
   "metadata": {
    "ExecuteTime": {
     "end_time": "2021-11-28T20:42:31.584373Z",
     "start_time": "2021-11-28T20:42:31.577456Z"
    }
   },
   "outputs": [],
   "source": [
    "tuned_rf"
   ]
  },
  {
   "cell_type": "code",
   "execution_count": null,
   "metadata": {
    "ExecuteTime": {
     "end_time": "2021-11-28T20:42:35.054571Z",
     "start_time": "2021-11-28T20:42:31.587568Z"
    }
   },
   "outputs": [],
   "source": [
    "benchmark_model = tuned_rf\n",
    "benchmark_model.fit(train[selected_features], train[TARGET])\n",
    "\n",
    "train[\"benchmark_prediction_opt_selected_features\"] = benchmark_model.predict_proba(train[selected_features])[:, 1]\n",
    "test[\"benchmark_prediction_opt_selected_features\"] = benchmark_model.predict_proba(test[selected_features])[:, 1]\n",
    "out_of_time[\"benchmark_prediction_opt_selected_features\"] = benchmark_model.predict_proba(out_of_time[selected_features])[:, 1]"
   ]
  },
  {
   "cell_type": "code",
   "execution_count": null,
   "metadata": {
    "ExecuteTime": {
     "end_time": "2021-11-28T20:42:35.100384Z",
     "start_time": "2021-11-28T20:42:35.057150Z"
    }
   },
   "outputs": [],
   "source": [
    "print(roc_auc_score(train[TARGET], train[\"benchmark_prediction_opt_selected_features\"]))\n",
    "print(roc_auc_score(test[TARGET], test[\"benchmark_prediction_opt_selected_features\"]))\n",
    "print(roc_auc_score(out_of_time[TARGET], out_of_time[\"benchmark_prediction_opt_selected_features\"]))"
   ]
  },
  {
   "cell_type": "code",
   "execution_count": null,
   "metadata": {
    "ExecuteTime": {
     "end_time": "2021-11-28T20:42:35.869995Z",
     "start_time": "2021-11-28T20:42:35.103049Z"
    }
   },
   "outputs": [],
   "source": [
    "fig, ax = plt.subplots(figsize=(8, 6))\n",
    "pd.concat([test, out_of_time]).groupby(TIME_COLUMN).apply(lambda x: roc_auc_score(x[TARGET], x[\"challenger_prediction\"])).plot(label=\"Time Robust Forest\", \n",
    "                                                                                                      linestyle=\"dashed\",\n",
    "                                                                                                      color=\"green\", ax=ax)\n",
    "pd.concat([test, out_of_time]).groupby(TIME_COLUMN).apply(lambda x: roc_auc_score(x[TARGET], x[\"benchmark_prediction\"])).plot(label=\"Random Forest\", ax=ax)\n",
    "\n",
    "pd.concat([test, out_of_time]).groupby(TIME_COLUMN).apply(lambda x: roc_auc_score(x[TARGET], x[\"benchmark_prediction_opt_selected_features\"])).plot(label=\"RF with TRF feature selection\", ax=ax)\n",
    "\n",
    "\n",
    "ax.xaxis.set_tick_params(labelsize=15)\n",
    "ax.yaxis.set_tick_params(labelsize=15)\n",
    "\n",
    "xmin, xmax, ymin, ymax = plt.axis()\n",
    "plt.vlines(training_end_year + 1, ymin, ymax, linestyle=\"dotted\", color=\"red\", label=\"Holdout start\")\n",
    "plt.ylim([ymin, ymax])\n",
    "plt.legend(fontsize=12, bbox_to_anchor=(0.12, 0.25))\n",
    "plt.ylabel(\"AUC\", fontsize=16)\n",
    "plt.xlabel(\"Year\", fontsize=16)\n",
    "plt.savefig(\"../images/{}_test_holdout_auc_years_square_fs.eps\".format(PREFIX), format=\"eps\")\n",
    "plt.show()"
   ]
  },
  {
   "cell_type": "markdown",
   "metadata": {},
   "source": [
    "## Feature Impact"
   ]
  },
  {
   "cell_type": "code",
   "execution_count": null,
   "metadata": {
    "ExecuteTime": {
     "end_time": "2021-11-28T20:42:35.911241Z",
     "start_time": "2021-11-28T20:42:35.872912Z"
    }
   },
   "outputs": [],
   "source": [
    "from pygam import LinearGAM\n",
    "from sklearn.model_selection import train_test_split\n",
    "from sklearn.metrics import r2_score\n",
    "from sklearn.preprocessing import StandardScaler\n",
    "from matplotlib.collections import PolyCollection as p"
   ]
  },
  {
   "cell_type": "code",
   "execution_count": null,
   "metadata": {
    "ExecuteTime": {
     "end_time": "2021-11-28T20:42:37.304511Z",
     "start_time": "2021-11-28T20:42:35.913695Z"
    }
   },
   "outputs": [],
   "source": [
    "fig, ax = plt.subplots()\n",
    "\n",
    "sns.distplot(out_of_time[\"challenger_prediction\"], label=\"TRF\")\n",
    "sns.distplot(out_of_time[\"benchmark_prediction\"], label=\"RF\")\n",
    "\n",
    "ax.xaxis.set_tick_params(labelsize=12)\n",
    "ax.yaxis.set_tick_params(labelsize=12)\n",
    "\n",
    "plt.legend(fontsize=15, bbox_to_anchor=(1.0, 1.0))\n",
    "plt.ylabel(\"Density\", fontsize=15)\n",
    "plt.xlabel(\"Score\", fontsize=15)\n",
    "\n",
    "__file__ = \"../images/{}_trf_rf_score_distribution\".format(PREFIX)\n",
    "plt.savefig(__file__+\".jpg\", quality=95)\n",
    "for c in ax.findobj(p):\n",
    "    c.set_zorder(-1)\n",
    "    c.set_rasterized(True)\n",
    "ax.set_rasterization_zorder(0)\n",
    "\n",
    "ax.set_rasterized(True)\n",
    "plt.savefig(__file__+\".eps\")        \n",
    "\n",
    "plt.savefig(\"../images/{}_trf_rf_score_distribution.eps\".format(PREFIX), format=\"eps\")\n",
    "plt.show()"
   ]
  },
  {
   "cell_type": "code",
   "execution_count": null,
   "metadata": {
    "ExecuteTime": {
     "end_time": "2021-11-28T20:42:37.342877Z",
     "start_time": "2021-11-28T20:42:37.307804Z"
    }
   },
   "outputs": [],
   "source": [
    "ss = StandardScaler()\n",
    "out_of_time[\"challenger_prediction_norm\"] = ss.fit_transform(out_of_time[[\"challenger_prediction\"]])\n",
    "out_of_time[\"benchmark_prediction_norm\"] = ss.fit_transform(out_of_time[[\"benchmark_prediction\"]])"
   ]
  },
  {
   "cell_type": "code",
   "execution_count": null,
   "metadata": {
    "ExecuteTime": {
     "end_time": "2021-11-28T20:42:38.124224Z",
     "start_time": "2021-11-28T20:42:37.345825Z"
    }
   },
   "outputs": [],
   "source": [
    "sns.distplot(out_of_time[\"challenger_prediction_norm\"])\n",
    "sns.distplot(out_of_time[\"benchmark_prediction_norm\"])"
   ]
  },
  {
   "cell_type": "code",
   "execution_count": null,
   "metadata": {
    "ExecuteTime": {
     "end_time": "2021-11-28T20:42:38.151477Z",
     "start_time": "2021-11-28T20:42:38.126750Z"
    }
   },
   "outputs": [],
   "source": [
    "X_train, X_test, y_train, y_test = train_test_split(out_of_time[features], \n",
    "                                                    out_of_time[[\"challenger_prediction\", \n",
    "                                                                 \"benchmark_prediction\"]],\n",
    "                                                    test_size=0.6,\n",
    "                                                    random_state=42)\n",
    "\n",
    "print(X_train.shape)\n",
    "print(X_test.shape)"
   ]
  },
  {
   "cell_type": "code",
   "execution_count": null,
   "metadata": {
    "ExecuteTime": {
     "end_time": "2021-11-28T20:42:38.159989Z",
     "start_time": "2021-11-28T20:42:38.154333Z"
    }
   },
   "outputs": [],
   "source": [
    "numerical_features = [feature for feature in features if feature not in columns_to_label_encode]\n",
    "numerical_features"
   ]
  },
  {
   "cell_type": "code",
   "execution_count": null,
   "metadata": {
    "ExecuteTime": {
     "end_time": "2021-11-28T20:42:38.224316Z",
     "start_time": "2021-11-28T20:42:38.163090Z"
    }
   },
   "outputs": [],
   "source": [
    "p99 = X_train[numerical_features].quantile(.99)\n",
    "p01 = X_train[numerical_features].quantile(.01)\n",
    "p005 = X_train.quantile(.005)\n",
    "\n",
    "X_train[numerical_features] = X_train[numerical_features].where(\n",
    "    X_train[numerical_features] < p99, other=p99, axis=1)\n",
    "X_test[numerical_features] = X_test[numerical_features].where(\n",
    "    X_test[numerical_features] < p99, other=p99, axis=1)\n",
    "\n",
    "X_train[numerical_features] = X_train[numerical_features].where(\n",
    "    X_train[numerical_features] > p01, other=p01, axis=1)\n",
    "X_test[numerical_features] = X_test[numerical_features].where(\n",
    "    X_test[numerical_features] > p01, other=p01, axis=1)\n",
    "\n",
    "X_train = X_train.fillna(p005)\n",
    "X_test = X_test.fillna(p005)"
   ]
  },
  {
   "cell_type": "code",
   "execution_count": null,
   "metadata": {
    "ExecuteTime": {
     "end_time": "2021-11-28T20:42:58.865545Z",
     "start_time": "2021-11-28T20:42:38.226814Z"
    }
   },
   "outputs": [],
   "source": [
    "dtype = [\"numerical\" if feature not in columns_to_label_encode else \"categorical\" for feature in features]\n",
    "\n",
    "gam_challenger = LinearGAM(dtype=dtype).gridsearch(X_train[features].values, y_train[\"challenger_prediction\"].values)\n",
    "gam_benchmark = LinearGAM(dtype=dtype).gridsearch(X_train[features].values, y_train[\"benchmark_prediction\"].values)"
   ]
  },
  {
   "cell_type": "code",
   "execution_count": null,
   "metadata": {
    "ExecuteTime": {
     "end_time": "2021-11-28T20:42:58.871439Z",
     "start_time": "2021-11-28T20:42:58.868343Z"
    }
   },
   "outputs": [],
   "source": [
    "# pred_test = gam_challenger.predict(X_test[features])\n",
    "# print(\"r2 test (challenger): %f\" %r2_score(y_test[\"challenger_prediction\"], pred_test))\n",
    "\n",
    "# pred_test = gam_benchmark.predict(X_test[features])\n",
    "# print(\"r2 test (benchmark): %f\" %r2_score(y_test[\"benchmark_prediction\"], pred_test))"
   ]
  },
  {
   "cell_type": "code",
   "execution_count": null,
   "metadata": {
    "ExecuteTime": {
     "end_time": "2021-11-28T20:42:58.920084Z",
     "start_time": "2021-11-28T20:42:58.875227Z"
    }
   },
   "outputs": [],
   "source": [
    "X_test.describe()"
   ]
  },
  {
   "cell_type": "code",
   "execution_count": null,
   "metadata": {
    "ExecuteTime": {
     "end_time": "2021-11-28T20:43:18.885154Z",
     "start_time": "2021-11-28T20:42:58.923390Z"
    }
   },
   "outputs": [],
   "source": [
    "for i, feat in enumerate(features):\n",
    "    if feat not in numerical_features:\n",
    "        continue\n",
    "    print(feat)\n",
    "    print(i)\n",
    "    XX = gam_challenger.generate_X_grid(i, n=X_test.shape[0])\n",
    "    ### Fix needed for this dataset\n",
    "    XX[:, 1] = np.where(X_test.values[:, 1].astype(int) >= 329, 328, X_test.values[:, 1].astype(int))\n",
    "    XX[:, 5] = np.where(X_test.values[:, 5].astype(int) >= 2445, 2444, X_test.values[:, 5].astype(int))\n",
    "    pdep, confi = gam_challenger.partial_dependence(i, X=XX, width=.95)\n",
    "    fig, ax = plt.subplots(figsize=(10, 6), dpi=150)\n",
    "\n",
    "    plt.plot(XX[:, i], pdep, c=\"green\", label=\"TRF\")\n",
    "    plt.plot(XX[:, i], confi, c='green', ls='--')\n",
    "    plt.ylabel(\"Score\")\n",
    "    plt.legend()\n",
    "\n",
    "    ### Benchmark\n",
    "    pdep, confi = gam_benchmark.partial_dependence(i, X=XX, width=.95)\n",
    "    plt.plot(XX[:, i], pdep, color=\"#4c72b0\", label=\"RF\")\n",
    "    plt.plot(XX[:, i], confi, c='#4c72b0', ls='--')\n",
    "    plt.ylabel(\"Score\", fontsize=15)\n",
    "    plt.legend()\n",
    "\n",
    "    plt.xlabel(feat, fontsize=15)\n",
    "\n",
    "    ax.xaxis.set_tick_params(labelsize=12)\n",
    "    ax.yaxis.set_tick_params(labelsize=12)\n",
    "    xmin, xmax, ymin, ymax = plt.axis()\n",
    "    plt.ylim([ymin, ymax])\n",
    "    plt.legend(fontsize=15)\n",
    "    plt.savefig(\"../images/{}_feature_impact_{}.eps\".format(PREFIX, feat), format=\"eps\")\n",
    "\n",
    "    plt.show()\n",
    "    plt.clf()"
   ]
  },
  {
   "cell_type": "code",
   "execution_count": null,
   "metadata": {
    "ExecuteTime": {
     "end_time": "2021-11-28T20:43:20.299090Z",
     "start_time": "2021-11-28T20:43:18.887006Z"
    }
   },
   "outputs": [],
   "source": [
    "for i, feat in enumerate(features):\n",
    "    if feat in columns_to_label_encode:\n",
    "        print(feat)\n",
    "        #try:\n",
    "        mapping = encoder_mappings[feat]\n",
    "        max_cat = np.max(list(mapping.keys()))\n",
    "        if max_cat > 100:\n",
    "            continue\n",
    "        XX = np.copy(X_test)\n",
    "        XX[:, i] = np.random.randint(0, max_cat, size=X_test.shape[0])\n",
    "        XX[:, 1] = np.where(X_test.values[:, 1].astype(int) >= 329, 328, X_test.values[:, 1].astype(int))\n",
    "        XX[:, 5] = np.where(X_test.values[:, 5].astype(int) >= 2445, 2444, X_test.values[:, 5].astype(int))\n",
    "        pdep, confi = gam_challenger.partial_dependence(i, X=XX, width=.95)\n",
    "        fig, ax = plt.subplots(figsize=(10, 5), dpi=150)\n",
    "        data = pd.DataFrame(np.hstack([XX[:, i].reshape(-1, 1), pdep.reshape(-1, 1), confi]),\n",
    "                            columns=[feat, \"Mean Impact\", \"low\", \"high\"])\n",
    "        data[\"low\"] = np.abs(data[\"low\"] - data[\"Mean Impact\"])\n",
    "        data[\"high\"] = np.abs(data[\"high\"] - data[\"Mean Impact\"])\n",
    "        agg = data.groupby(feat).mean()\n",
    "\n",
    "        impact_plot = plt.bar([i for i in range(len(agg))],\n",
    "                              agg[\"Mean Impact\"],\n",
    "                              yerr=agg[[\"low\", \"high\"]].values.transpose(),\n",
    "                              color=\"#9370DB\",\n",
    "                              capsize=7)\n",
    "\n",
    "        plt.title(feat, fontsize=15)\n",
    "        plt.xticks([i for i in range(len(list(mapping.keys())))])\n",
    "        ax.set_xticklabels(list(mapping.values()), rotation=90)\n",
    "        plt.hlines(0.0, -1, max_cat, linestyles=\"dashed\")\n",
    "        plt.ylabel(\"Score\", fontsize=15)\n",
    "\n",
    "        ax.xaxis.set_tick_params(labelsize=12)\n",
    "        ax.yaxis.set_tick_params(labelsize=12)\n",
    "        xmin, xmax, ymin, ymax = plt.axis()\n",
    "        plt.ylim([ymin, ymax])\n",
    "        plt.legend(fontsize=15)\n",
    "        plt.savefig(\"../images/{}_feature_impact_cat_{}.eps\".format(PREFIX, feat), format=\"eps\")\n",
    "\n",
    "        plt.show()\n",
    "        plt.clf()\n",
    "#         except:\n",
    "#             print(\"No plot for {}\".format(feat))\n",
    "plt.show()"
   ]
  },
  {
   "cell_type": "code",
   "execution_count": null,
   "metadata": {
    "ExecuteTime": {
     "end_time": "2021-11-28T20:43:26.767735Z",
     "start_time": "2021-11-28T20:43:20.301352Z"
    }
   },
   "outputs": [],
   "source": [
    "for i, feat in enumerate(features):\n",
    "    if feat in columns_to_label_encode:\n",
    "        print(feat)\n",
    "        mapping = encoder_mappings[feat]\n",
    "        max_cat = np.max(list(mapping.keys()))\n",
    "        if max_cat > 100:\n",
    "            continue\n",
    "        XX = np.copy(X_test)\n",
    "        XX[:, i] = np.random.randint(0, max_cat, size=X_test.shape[0])\n",
    "        XX[:, 1] = np.where(X_test.values[:, 1].astype(int) >= 329, 328, X_test.values[:, 1].astype(int))\n",
    "        XX[:, 5] = np.where(X_test.values[:, 5].astype(int) >= 2445, 2444, X_test.values[:, 5].astype(int))\n",
    "\n",
    "        ### Challenger\n",
    "        pdep, confi = gam_challenger.partial_dependence(i, X=XX, width=.95)\n",
    "        fig, ax = plt.subplots(figsize=(10, 5), dpi=150)\n",
    "        data = pd.DataFrame(np.hstack([XX[:, i].reshape(-1, 1), pdep.reshape(-1, 1), confi]),\n",
    "                            columns=[feat, \"Mean Impact\", \"low\", \"high\"])\n",
    "        data[\"low\"] = np.abs(data[\"low\"] - data[\"Mean Impact\"])\n",
    "        data[\"high\"] = np.abs(data[\"high\"] - data[\"Mean Impact\"])\n",
    "        data[\"model\"] = \"TRF\"\n",
    "        agg = data.groupby(feat).mean()\n",
    "\n",
    "\n",
    "        ### Benchmark\n",
    "        pdep, confi = gam_benchmark.partial_dependence(i, X=XX, width=.95)\n",
    "        data_benchmark = pd.DataFrame(np.hstack([XX[:, i].reshape(-1, 1), pdep.reshape(-1, 1), confi]),\n",
    "                            columns=[feat, \"Mean Impact\", \"low\", \"high\"])\n",
    "        data_benchmark[\"low\"] = np.abs(data_benchmark[\"low\"] - data_benchmark[\"Mean Impact\"])\n",
    "        data_benchmark[\"high\"] = np.abs(data_benchmark[\"high\"] - data_benchmark[\"Mean Impact\"])\n",
    "        data_benchmark[\"model\"] = \"RF\"\n",
    "        \n",
    "        data = pd.concat([data, data_benchmark])\n",
    "        agg = data.groupby(feat).mean()\n",
    "        \n",
    "        sns.barplot(data=data, x=feat, y=\"Mean Impact\", hue=\"model\")\n",
    "\n",
    "\n",
    "        plt.xticks([i for i in range(len(list(mapping.keys())))])\n",
    "        ax.set_xticklabels(list(mapping.values()), rotation=90)\n",
    "        plt.hlines(0.0, -1, max_cat, linestyles=\"dashed\")\n",
    "        plt.ylabel(\"Score\", fontsize=15)\n",
    "        \n",
    "        ax.xaxis.set_tick_params(labelsize=12)\n",
    "        ax.yaxis.set_tick_params(labelsize=12)\n",
    "        xmin, xmax, ymin, ymax = plt.axis()\n",
    "        plt.ylim([ymin, ymax])\n",
    "        plt.legend(fontsize=15)\n",
    "        plt.xlabel(feat, fontsize=15)\n",
    "        plt.savefig(\"../images/{}_feature_impact_cat_comparison_{}.eps\".format(PREFIX, feat), format=\"eps\")\n",
    "        \n",
    "        plt.show()\n",
    "        plt.clf()"
   ]
  },
  {
   "cell_type": "markdown",
   "metadata": {},
   "source": [
    "## Minimum samples by period effect"
   ]
  },
  {
   "cell_type": "code",
   "execution_count": null,
   "metadata": {
    "ExecuteTime": {
     "end_time": "2021-11-28T20:43:26.772280Z",
     "start_time": "2021-11-28T20:43:26.769605Z"
    }
   },
   "outputs": [],
   "source": [
    "target = TARGET\n",
    "min_sample_periods_values = [1, 5, 10, 20, 50, 100, 250, 500]"
   ]
  },
  {
   "cell_type": "code",
   "execution_count": null,
   "metadata": {
    "ExecuteTime": {
     "end_time": "2021-11-28T20:46:10.166604Z",
     "start_time": "2021-11-28T20:43:26.774420Z"
    }
   },
   "outputs": [],
   "source": [
    "min_sample_knob = {}\n",
    "min_sample_knob[\"challenger\"] = {\"unseen_performance\": [], \"train_performance\": [],\n",
    "                                \"test_performance\": [], \"unseen_performance_by_period\": []}\n",
    "unseen_performance = []\n",
    "train_performance = []\n",
    "test_performance = []\n",
    "unseen_performance_by_period = []\n",
    "\n",
    "challenger_params = challenger_opt_param.copy()\n",
    "challenger_params.pop(\"min_sample_periods\")\n",
    "for min_sample_periods in min_sample_periods_values:\n",
    "    model_split_time = TimeForestClassifier(time_column=TIME_COLUMN,\n",
    "                                        min_sample_periods=min_sample_periods,\n",
    "                                        multi=True,\n",
    "                                        **challenger_params)\n",
    "    \n",
    "    model_split_time.fit(train[features + [TIME_COLUMN]], train[target])\n",
    "    out_of_time[\"time_split_prediction\"] = model_split_time.predict_proba(out_of_time[features])[:, 1]\n",
    "    \n",
    "    performance = metrics.roc_auc_score(out_of_time[target], out_of_time[\"time_split_prediction\"])\n",
    "    min_sample_knob[\"challenger\"][\"unseen_performance\"].append(performance)\n",
    "    min_sample_knob[\"challenger\"][\"unseen_performance_by_period\"].append(out_of_time.groupby(TIME_COLUMN).apply(lambda x: roc_auc_score(x[target], x[\"time_split_prediction\"])))\n",
    "\n",
    "    train[\"time_split_prediction\"] = model_split_time.predict(train[features])\n",
    "    min_sample_knob[\"challenger\"][\"train_performance\"].append(metrics.roc_auc_score(train[target], train[\"time_split_prediction\"]))\n",
    "    \n",
    "    test[\"time_split_prediction\"] = model_split_time.predict(test[features])\n",
    "    min_sample_knob[\"challenger\"][\"test_performance\"].append(metrics.roc_auc_score(test[target], test[\"time_split_prediction\"]))"
   ]
  },
  {
   "cell_type": "code",
   "execution_count": null,
   "metadata": {
    "ExecuteTime": {
     "end_time": "2021-11-28T20:46:10.600106Z",
     "start_time": "2021-11-28T20:46:10.169074Z"
    }
   },
   "outputs": [],
   "source": [
    "fig, ax = plt.subplots()\n",
    "plt.plot(min_sample_periods_values, min_sample_knob[\"challenger\"][\"train_performance\"], label=\"Train\")\n",
    "plt.plot(min_sample_periods_values, min_sample_knob[\"challenger\"][\"test_performance\"], label=\"Test\", \n",
    "         color=\"magenta\",\n",
    "         linestyle=\"dotted\")\n",
    "plt.plot(min_sample_periods_values, min_sample_knob[\"challenger\"][\"unseen_performance\"], label=\"Holdout\", \n",
    "                                                         linestyle=\"dashed\",\n",
    "                                                         color=\"green\")\n",
    "\n",
    "#plt.title(\"Holdout AUC by minimum examples by period parameter\", fontsize=15)\n",
    "ax.xaxis.set_tick_params(labelsize=12)\n",
    "ax.yaxis.set_tick_params(labelsize=12)\n",
    "xmin, xmax, ymin, ymax = plt.axis()\n",
    "plt.ylim([ymin, ymax])\n",
    "plt.legend(fontsize=15)\n",
    "plt.ylabel(\"AUC\", fontsize=15)\n",
    "plt.xlabel(\"Minimum examples by period\", fontsize=15)\n",
    "plt.savefig(\"../images/{}_test_min_example_by_period_train_and_holdout_whole.eps\".format(PREFIX), format=\"eps\")\n",
    "plt.show()"
   ]
  },
  {
   "cell_type": "code",
   "execution_count": null,
   "metadata": {
    "ExecuteTime": {
     "end_time": "2021-11-28T20:46:11.407511Z",
     "start_time": "2021-11-28T20:46:10.603524Z"
    }
   },
   "outputs": [],
   "source": [
    "fig, ax = plt.subplots()\n",
    "\n",
    "greens = plt.get_cmap(\"Greens\")\n",
    "gradient = np.linspace(.1, 0.9, len(min_sample_periods_values))\n",
    "for i, experiment in enumerate(min_sample_knob[\"challenger\"][\"unseen_performance_by_period\"]):\n",
    "    experiment.plot(label=min_sample_periods_values[i], color=greens(gradient[i]))\n",
    "\n",
    "out_of_time.groupby(TIME_COLUMN).apply(lambda x: roc_auc_score(x[target], x[\"benchmark_prediction\"])).plot(label=\"Optimal RF benchmark\", \n",
    "                                                                                                 color=\"red\", linestyle=\"dashed\", ax=ax)\n",
    "ax.xaxis.set_tick_params(labelsize=12)\n",
    "ax.yaxis.set_tick_params(labelsize=12)\n",
    "plt.legend(bbox_to_anchor=(1.05, 1.0), fontsize=12, title=\"Minimum examples by period\")\n",
    "plt.ylabel(\"AUC\", fontsize=15)\n",
    "plt.xlabel(\"Year\", fontsize=15)\n",
    "\n",
    "x_labels = np.sort(out_of_time[TIME_COLUMN].unique())\n",
    "plt.xticks(x_labels)\n",
    "\n",
    "plt.savefig(\"../images/{}_holdout_dif_min_samples.eps\".format(PREFIX), format=\"eps\", bbox_inches = \"tight\")\n",
    "plt.show()"
   ]
  },
  {
   "cell_type": "code",
   "execution_count": null,
   "metadata": {
    "ExecuteTime": {
     "end_time": "2021-11-28T20:49:32.878967Z",
     "start_time": "2021-11-28T20:46:11.410514Z"
    }
   },
   "outputs": [],
   "source": [
    "min_sample_knob[\"benchmark\"] = {\"unseen_performance\": [], \"train_performance\": [],\n",
    "                                \"test_performance\": [], \"unseen_performance_by_period\": []}\n",
    "\n",
    "bench_params = benchmark_opt_param.copy()\n",
    "bench_params.pop(\"min_sample_periods\")\n",
    "\n",
    "training_segments = train[TIME_COLUMN].nunique()\n",
    "for min_sample_periods in min_sample_periods_values:\n",
    "\n",
    "    model = TimeForestClassifier(time_column=DUMMY_TIME_COLUMN,\n",
    "                                       multi=True, \n",
    "                                       min_sample_periods=training_segments * min_sample_periods,\n",
    "                                       **bench_params)\n",
    "    \n",
    "    \n",
    "    model.fit(train[features + [DUMMY_TIME_COLUMN]],\n",
    "              train[TARGET])\n",
    "     \n",
    "    out_of_time[\"time_split_prediction\"] = model.predict_proba(out_of_time[features])[:, 1]\n",
    "    \n",
    "    performance = metrics.roc_auc_score(out_of_time[target], out_of_time[\"time_split_prediction\"])\n",
    "    min_sample_knob[\"benchmark\"][\"unseen_performance\"].append(performance)\n",
    "    min_sample_knob[\"benchmark\"][\"unseen_performance_by_period\"].append(out_of_time.groupby(TIME_COLUMN).apply(lambda x: roc_auc_score(x[target], x[\"time_split_prediction\"])))\n",
    "\n",
    "    train[\"time_split_prediction\"] = model.predict(train[features])\n",
    "    min_sample_knob[\"benchmark\"][\"train_performance\"].append(metrics.roc_auc_score(train[target], train[\"time_split_prediction\"]))\n",
    "    \n",
    "    test[\"time_split_prediction\"] = model.predict(test[features])\n",
    "    min_sample_knob[\"benchmark\"][\"test_performance\"].append(metrics.roc_auc_score(test[target], test[\"time_split_prediction\"]))"
   ]
  },
  {
   "cell_type": "code",
   "execution_count": null,
   "metadata": {
    "ExecuteTime": {
     "end_time": "2021-11-28T20:49:33.756678Z",
     "start_time": "2021-11-28T20:49:32.881809Z"
    }
   },
   "outputs": [],
   "source": [
    "fig, ax = plt.subplots()\n",
    "\n",
    "blues = plt.get_cmap(\"Blues\")\n",
    "for i, experiment in enumerate(min_sample_knob[\"benchmark\"][\"unseen_performance_by_period\"]):\n",
    "    experiment.plot(label=min_sample_periods_values[i], color=blues(gradient[i]))\n",
    "\n",
    "out_of_time.groupby(TIME_COLUMN).apply(lambda x: roc_auc_score(x[target], x[\"benchmark_prediction\"])).plot(label=\"Optimal RF benchmark\", \n",
    "                                                                                                 color=\"red\", linestyle=\"dashed\", ax=ax)\n",
    "\n",
    "ax.xaxis.set_tick_params(labelsize=12)\n",
    "ax.yaxis.set_tick_params(labelsize=12)\n",
    "plt.legend(bbox_to_anchor=(1.05, 1.0), fontsize=12, title=\"Minimum examples by period\")\n",
    "plt.ylabel(\"AUC\", fontsize=15)\n",
    "plt.xlabel(\"Year\", fontsize=15)\n",
    "\n",
    "x_labels = np.sort(out_of_time[TIME_COLUMN].unique())\n",
    "plt.xticks(x_labels)\n",
    "\n",
    "plt.savefig(\"../images/{}_holdout_dif_min_samples_benchmark.eps\".format(PREFIX), format=\"eps\", bbox_inches = \"tight\")\n",
    "plt.show()"
   ]
  },
  {
   "cell_type": "code",
   "execution_count": null,
   "metadata": {
    "ExecuteTime": {
     "end_time": "2021-11-28T20:49:34.735633Z",
     "start_time": "2021-11-28T20:49:33.761181Z"
    }
   },
   "outputs": [],
   "source": [
    "fig, ax = plt.subplots()\n",
    "for i, experiment in enumerate(min_sample_knob[\"challenger\"][\"unseen_performance_by_period\"]):\n",
    "    experiment.plot(label=min_sample_periods_values[i], color=greens(gradient[i]))\n",
    "    \n",
    "for i, experiment in enumerate(min_sample_knob[\"benchmark\"][\"unseen_performance_by_period\"]):\n",
    "    experiment.plot(label=min_sample_periods_values[i], color=blues(gradient[i]))    \n",
    "\n",
    "ax.xaxis.set_tick_params(labelsize=12)\n",
    "ax.yaxis.set_tick_params(labelsize=12)\n",
    "plt.legend(bbox_to_anchor=(1.05, 1.0), fontsize=12, title=\"Minimum examples by period\")\n",
    "plt.ylabel(\"AUC\", fontsize=15)\n",
    "plt.xlabel(\"Year\", fontsize=15)\n",
    "\n",
    "x_labels = np.sort(out_of_time[TIME_COLUMN].unique())\n",
    "plt.xticks(x_labels)\n",
    "\n",
    "plt.savefig(\"../images/{}_holdout_dif_min_samples_benchmark_challenger.eps\".format(PREFIX), format=\"eps\", bbox_inches = \"tight\")\n",
    "plt.show()"
   ]
  },
  {
   "cell_type": "code",
   "execution_count": null,
   "metadata": {
    "ExecuteTime": {
     "end_time": "2021-11-28T20:49:35.245237Z",
     "start_time": "2021-11-28T20:49:34.739969Z"
    }
   },
   "outputs": [],
   "source": [
    "fig, ax = plt.subplots()\n",
    "plt.plot(min_sample_periods_values, min_sample_knob[\"challenger\"][\"train_performance\"], label=\"TRF Train\",\n",
    "        color=\"#4c72b0\", linestyle=\"dashed\")\n",
    "plt.plot(min_sample_periods_values, min_sample_knob[\"challenger\"][\"test_performance\"], label=\"TRF Test\", \n",
    "         color=\"magenta\",\n",
    "         linestyle=\"dashed\")\n",
    "plt.plot(min_sample_periods_values, min_sample_knob[\"challenger\"][\"unseen_performance\"], label=\"TRF Holdout\", \n",
    "                                                         linestyle=\"dashed\",\n",
    "                                                         color=\"green\")\n",
    "\n",
    "plt.plot(min_sample_periods_values, min_sample_knob[\"benchmark\"][\"train_performance\"], label=\"RF Train\",\n",
    "        color=\"#4c72b0\")\n",
    "plt.plot(min_sample_periods_values, min_sample_knob[\"benchmark\"][\"test_performance\"], label=\"RF Test\", \n",
    "         color=\"magenta\")\n",
    "plt.plot(min_sample_periods_values, min_sample_knob[\"benchmark\"][\"unseen_performance\"], label=\"RF Holdout\", \n",
    "                                                         color=\"green\")\n",
    "\n",
    "#plt.title(\"Holdout AUC by minimum examples by period parameter\", fontsize=15)\n",
    "ax.xaxis.set_tick_params(labelsize=12)\n",
    "ax.yaxis.set_tick_params(labelsize=12)\n",
    "xmin, xmax, ymin, ymax = plt.axis()\n",
    "plt.ylim([ymin, ymax])\n",
    "plt.legend(fontsize=15)\n",
    "plt.ylabel(\"AUC\", fontsize=15)\n",
    "plt.xlabel(\"Minimum examples by period\", fontsize=15)\n",
    "plt.savefig(\"../images/{}_test_min_example_by_period_train_and_holdout_whole_bench_challenger.eps\".format(PREFIX), format=\"eps\")\n",
    "plt.show()"
   ]
  },
  {
   "cell_type": "code",
   "execution_count": null,
   "metadata": {
    "ExecuteTime": {
     "end_time": "2021-11-28T20:49:35.586068Z",
     "start_time": "2021-11-28T20:49:35.249021Z"
    }
   },
   "outputs": [],
   "source": [
    "fig, ax = plt.subplots()\n",
    "\n",
    "plt.plot(min_sample_periods_values, min_sample_knob[\"challenger\"][\"unseen_performance\"], label=\"TRF Holdout\", \n",
    "                                                         linestyle=\"dashed\",\n",
    "                                                         color=\"green\")\n",
    "\n",
    "plt.plot(min_sample_periods_values, min_sample_knob[\"benchmark\"][\"unseen_performance\"], label=\"RF Holdout\", \n",
    "                                                         color=\"green\")\n",
    "\n",
    "#plt.title(\"Holdout AUC by minimum examples by period parameter\", fontsize=15)\n",
    "ax.xaxis.set_tick_params(labelsize=12)\n",
    "ax.yaxis.set_tick_params(labelsize=12)\n",
    "xmin, xmax, ymin, ymax = plt.axis()\n",
    "plt.ylim([ymin, ymax])\n",
    "plt.legend(fontsize=15)\n",
    "plt.ylabel(\"AUC\", fontsize=15)\n",
    "plt.xlabel(\"Minimum examples by period\", fontsize=15)\n",
    "plt.savefig(\"../images/{}_holdout_min_example_by_period_train_and_holdout_whole_bench_challenger.eps\".format(PREFIX), format=\"eps\")\n",
    "plt.show()"
   ]
  },
  {
   "cell_type": "markdown",
   "metadata": {},
   "source": [
    "## Domain classifier"
   ]
  },
  {
   "cell_type": "code",
   "execution_count": null,
   "metadata": {
    "ExecuteTime": {
     "end_time": "2021-11-28T20:49:35.597790Z",
     "start_time": "2021-11-28T20:49:35.589833Z"
    }
   },
   "outputs": [],
   "source": [
    "train[\"domain\"] = 1\n",
    "test[\"domain\"] = 1\n",
    "out_of_time[\"domain\"] = 0"
   ]
  },
  {
   "cell_type": "code",
   "execution_count": null,
   "metadata": {
    "ExecuteTime": {
     "end_time": "2021-11-28T20:49:35.682921Z",
     "start_time": "2021-11-28T20:49:35.602140Z"
    }
   },
   "outputs": [],
   "source": [
    "domain_data = pd.concat([train, test, out_of_time])"
   ]
  },
  {
   "cell_type": "code",
   "execution_count": null,
   "metadata": {
    "ExecuteTime": {
     "end_time": "2021-11-28T20:49:35.765029Z",
     "start_time": "2021-11-28T20:49:35.686136Z"
    }
   },
   "outputs": [],
   "source": [
    "train_domain, test_domain = train_test_split(domain_data, \n",
    "                               test_size=0.2,\n",
    "                               random_state=42)"
   ]
  },
  {
   "cell_type": "code",
   "execution_count": null,
   "metadata": {
    "ExecuteTime": {
     "end_time": "2021-11-28T20:53:19.956424Z",
     "start_time": "2021-11-28T20:49:35.768086Z"
    }
   },
   "outputs": [],
   "source": [
    "clf2 = setup(train_domain[features + [\"domain\"]], target=\"domain\",\n",
    "             session_id=124, \n",
    "             log_experiment=False, \n",
    "             experiment_name=\"{}_domain\".format(PREFIX),\n",
    "             silent=True)\n",
    "\n",
    "rf = create_model('rf')\n",
    "tuned_domain_rf = tune_model(rf,\n",
    "                             optimize=\"AUC\",\n",
    "                             fold=5,\n",
    "                             n_iter=50)"
   ]
  },
  {
   "cell_type": "code",
   "execution_count": null,
   "metadata": {
    "ExecuteTime": {
     "end_time": "2021-11-28T20:53:19.963192Z",
     "start_time": "2021-11-28T20:53:19.958925Z"
    }
   },
   "outputs": [],
   "source": [
    "domain_model = tuned_domain_rf"
   ]
  },
  {
   "cell_type": "code",
   "execution_count": null,
   "metadata": {
    "ExecuteTime": {
     "end_time": "2021-11-28T20:53:21.529939Z",
     "start_time": "2021-11-28T20:53:19.967511Z"
    }
   },
   "outputs": [],
   "source": [
    "domain_model.fit(train_domain[features], train_domain[\"domain\"])"
   ]
  },
  {
   "cell_type": "code",
   "execution_count": null,
   "metadata": {
    "ExecuteTime": {
     "end_time": "2021-11-28T20:53:21.646923Z",
     "start_time": "2021-11-28T20:53:21.533781Z"
    }
   },
   "outputs": [],
   "source": [
    "test_domain[\"pred_domain\"] = domain_model.predict_proba(test_domain[features])[:, 1]"
   ]
  },
  {
   "cell_type": "code",
   "execution_count": null,
   "metadata": {
    "ExecuteTime": {
     "end_time": "2021-11-28T20:53:21.661638Z",
     "start_time": "2021-11-28T20:53:21.649229Z"
    }
   },
   "outputs": [],
   "source": [
    "roc_auc_score(test_domain[\"domain\"], test_domain[\"pred_domain\"])"
   ]
  },
  {
   "cell_type": "markdown",
   "metadata": {},
   "source": [
    "## Other optimization design for the RF"
   ]
  },
  {
   "cell_type": "code",
   "execution_count": null,
   "metadata": {
    "ExecuteTime": {
     "end_time": "2021-11-28T20:53:21.674323Z",
     "start_time": "2021-11-28T20:53:21.665156Z"
    }
   },
   "outputs": [],
   "source": [
    "last_time_segment_in_train = np.max(in_time[TIME_COLUMN].unique())\n",
    "last_time_segment_in_train"
   ]
  },
  {
   "cell_type": "code",
   "execution_count": null,
   "metadata": {
    "ExecuteTime": {
     "end_time": "2021-11-28T20:53:21.679733Z",
     "start_time": "2021-11-28T20:53:21.676918Z"
    }
   },
   "outputs": [],
   "source": [
    "posfix = str(last_time_segment_in_train)"
   ]
  },
  {
   "cell_type": "code",
   "execution_count": null,
   "metadata": {
    "ExecuteTime": {
     "end_time": "2021-11-28T20:53:21.723319Z",
     "start_time": "2021-11-28T20:53:21.682291Z"
    }
   },
   "outputs": [],
   "source": [
    "new_train = in_time[in_time[\"Year\"] < last_time_segment_in_train]\n",
    "new_validation = in_time[in_time[\"Year\"] == last_time_segment_in_train]"
   ]
  },
  {
   "cell_type": "code",
   "execution_count": null,
   "metadata": {
    "ExecuteTime": {
     "end_time": "2021-11-28T20:54:24.437170Z",
     "start_time": "2021-11-28T20:53:21.725880Z"
    }
   },
   "outputs": [],
   "source": [
    "clf1 = setup(new_train[features + [TARGET]], target=TARGET,\n",
    "             test_data=new_validation,\n",
    "             session_id=44,\n",
    "             log_experiment=False,\n",
    "             experiment_name=\"{}_opt1\".format(PREFIX),\n",
    "             silent=True)\n",
    "\n",
    "rf = create_model('rf')\n",
    "tuned_rf = tune_model(rf,\n",
    "                      optimize=\"AUC\",\n",
    "                      n_iter=25)"
   ]
  },
  {
   "cell_type": "code",
   "execution_count": null,
   "metadata": {
    "ExecuteTime": {
     "end_time": "2021-11-28T20:54:24.444886Z",
     "start_time": "2021-11-28T20:54:24.439562Z"
    }
   },
   "outputs": [],
   "source": [
    "tuned_rf"
   ]
  },
  {
   "cell_type": "code",
   "execution_count": null,
   "metadata": {
    "ExecuteTime": {
     "end_time": "2021-11-28T20:54:25.561109Z",
     "start_time": "2021-11-28T20:54:24.447566Z"
    }
   },
   "outputs": [],
   "source": [
    "benchmark_model = tuned_rf\n",
    "benchmark_model.fit(train[features], train[TARGET])\n",
    "\n",
    "train[\"benchmark_prediction_opt_{}\".format(posfix)] = benchmark_model.predict_proba(train[features])[:, 1]\n",
    "test[\"benchmark_prediction_opt_{}\".format(posfix)] = benchmark_model.predict_proba(test[features])[:, 1]\n",
    "out_of_time[\"benchmark_prediction_opt_{}\".format(posfix)] = benchmark_model.predict_proba(out_of_time[features])[:, 1]"
   ]
  },
  {
   "cell_type": "code",
   "execution_count": null,
   "metadata": {
    "ExecuteTime": {
     "end_time": "2021-11-28T20:54:25.587587Z",
     "start_time": "2021-11-28T20:54:25.563254Z"
    }
   },
   "outputs": [],
   "source": [
    "new_validation, add_to_train = train_test_split(new_validation, test_size=0.5)\n",
    "\n",
    "new_train = pd.concat([new_train, add_to_train])"
   ]
  },
  {
   "cell_type": "code",
   "execution_count": null,
   "metadata": {
    "ExecuteTime": {
     "end_time": "2021-11-28T20:57:43.547813Z",
     "start_time": "2021-11-28T20:54:25.590022Z"
    }
   },
   "outputs": [],
   "source": [
    "clf1 = setup(new_train[features + [TARGET]], target=TARGET,\n",
    "             test_data=new_validation,\n",
    "             session_id=22,\n",
    "             log_experiment=False,\n",
    "             experiment_name=\"{}_opt2\".format(PREFIX),\n",
    "             silent=True)\n",
    "\n",
    "rf = create_model('rf')\n",
    "tuned_rf = tune_model(rf,\n",
    "                     optimize=\"AUC\",\n",
    "                     n_iter=50)"
   ]
  },
  {
   "cell_type": "code",
   "execution_count": null,
   "metadata": {
    "ExecuteTime": {
     "end_time": "2021-11-28T20:57:44.540943Z",
     "start_time": "2021-11-28T20:57:43.551555Z"
    }
   },
   "outputs": [],
   "source": [
    "benchmark_model = tuned_rf\n",
    "benchmark_model.fit(train[features], train[TARGET])\n",
    "\n",
    "train[\"benchmark_prediction_opt_half_{}\".format(posfix)] = benchmark_model.predict_proba(train[features])[:, 1]\n",
    "test[\"benchmark_prediction_opt_half_{}\".format(posfix)] = benchmark_model.predict_proba(test[features])[:, 1]\n",
    "out_of_time[\"benchmark_prediction_opt_half_{}\".format(posfix)] = benchmark_model.predict_proba(out_of_time[features])[:, 1]"
   ]
  },
  {
   "cell_type": "code",
   "execution_count": null,
   "metadata": {
    "ExecuteTime": {
     "end_time": "2021-11-28T20:57:45.837571Z",
     "start_time": "2021-11-28T20:57:44.544331Z"
    }
   },
   "outputs": [],
   "source": [
    "fig, ax = plt.subplots()\n",
    "pd.concat([test, out_of_time]).groupby(TIME_COLUMN).apply(lambda x: roc_auc_score(x[TARGET], x[\"challenger_prediction\"])).plot(label=\"Time Robust Forest\", \n",
    "                                                                                                      linestyle=\"dashed\",\n",
    "                                                                                                      color=\"green\", ax=ax)\n",
    "\n",
    "pd.concat([test, out_of_time]).groupby(TIME_COLUMN).apply(lambda x: roc_auc_score(x[TARGET], x[\"benchmark_prediction_opt_half_{}\".format(posfix)])).plot(label=\"RF: Half {} in validation\".format(posfix), \n",
    "                                                                                                      #linestyle=\"dashed\",\n",
    "                                                                                                      color=\"purple\", ax=ax)\n",
    "pd.concat([test, out_of_time]).groupby(TIME_COLUMN).apply(lambda x: roc_auc_score(x[TARGET], x[\"benchmark_prediction\"])).plot(label=\"RF: K-fold in the in-time\", ax=ax)\n",
    "pd.concat([test, out_of_time]).groupby(TIME_COLUMN).apply(lambda x: roc_auc_score(x[TARGET], x[\"benchmark_prediction_opt_{}\".format(posfix)])).plot(label=\"RF: Full {} in validation\".format(posfix), ax=ax)\n",
    "\n",
    "ax.xaxis.set_tick_params(labelsize=12)\n",
    "ax.yaxis.set_tick_params(labelsize=12)\n",
    "\n",
    "xmin, xmax, ymin, ymax = plt.axis()\n",
    "plt.vlines(training_end_year + 1, ymin, ymax, linestyle=\"dotted\", color=\"red\", label=\"Holdout start\")\n",
    "plt.ylim([ymin, ymax])\n",
    "plt.legend(fontsize=15, bbox_to_anchor=(1.0, 1.0))\n",
    "plt.ylabel(\"AUC\", fontsize=15)\n",
    "plt.xlabel(\"Year\", fontsize=15)\n",
    "plt.savefig(\"../images/{}_performance_proof.eps\".format(PREFIX), format=\"eps\", bbox_inches = \"tight\")\n",
    "plt.show()\n"
   ]
  },
  {
   "cell_type": "code",
   "execution_count": null,
   "metadata": {},
   "outputs": [],
   "source": []
  },
  {
   "cell_type": "code",
   "execution_count": null,
   "metadata": {},
   "outputs": [],
   "source": []
  },
  {
   "cell_type": "code",
   "execution_count": null,
   "metadata": {},
   "outputs": [],
   "source": []
  }
 ],
 "metadata": {
  "hide_input": false,
  "kernelspec": {
   "display_name": "Python [conda env:.conda-msc]",
   "language": "python",
   "name": "conda-env-.conda-msc-py"
  },
  "language_info": {
   "codemirror_mode": {
    "name": "ipython",
    "version": 3
   },
   "file_extension": ".py",
   "mimetype": "text/x-python",
   "name": "python",
   "nbconvert_exporter": "python",
   "pygments_lexer": "ipython3",
   "version": "3.6.3"
  },
  "toc": {
   "base_numbering": 1,
   "nav_menu": {},
   "number_sections": true,
   "sideBar": true,
   "skip_h1_title": true,
   "title_cell": "Index",
   "title_sidebar": "Contents",
   "toc_cell": true,
   "toc_position": {},
   "toc_section_display": true,
   "toc_window_display": true
  }
 },
 "nbformat": 4,
 "nbformat_minor": 5
}
